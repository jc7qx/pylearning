{
 "cells": [
  {
   "cell_type": "code",
   "execution_count": 4,
   "metadata": {
    "collapsed": true
   },
   "outputs": [],
   "source": [
    "import pandas as pd\n",
    "import numpy as np\n",
    "import matplotlib.pyplot as plt\n",
    "import seaborn as sns\n",
    "import math\n",
    "%matplotlib inline\n",
    "sns.set()"
   ]
  },
  {
   "cell_type": "markdown",
   "metadata": {},
   "source": [
    "## 讀入crime type資料"
   ]
  },
  {
   "cell_type": "code",
   "execution_count": 26,
   "metadata": {
    "collapsed": true
   },
   "outputs": [],
   "source": [
    "df1 = pd.read_csv(\"/Users/CSIEK503/Desktop/crimeType.csv\")"
   ]
  },
  {
   "cell_type": "markdown",
   "metadata": {},
   "source": [
    "crime type資料包含二個欄位，crime_ID及crime_type03，應該是犯罪人ID亂碼化及犯罪類型。資料檔有2各欄位，631199筆資料。"
   ]
  },
  {
   "cell_type": "code",
   "execution_count": 27,
   "metadata": {},
   "outputs": [
    {
     "data": {
      "text/html": [
       "<div>\n",
       "<style>\n",
       "    .dataframe thead tr:only-child th {\n",
       "        text-align: right;\n",
       "    }\n",
       "\n",
       "    .dataframe thead th {\n",
       "        text-align: left;\n",
       "    }\n",
       "\n",
       "    .dataframe tbody tr th {\n",
       "        vertical-align: top;\n",
       "    }\n",
       "</style>\n",
       "<table border=\"1\" class=\"dataframe\">\n",
       "  <thead>\n",
       "    <tr style=\"text-align: right;\">\n",
       "      <th></th>\n",
       "      <th>crime_ID</th>\n",
       "      <th>crime_type03</th>\n",
       "    </tr>\n",
       "  </thead>\n",
       "  <tbody>\n",
       "    <tr>\n",
       "      <th>0</th>\n",
       "      <td>FFFFFFFFBA677FC9</td>\n",
       "      <td>13</td>\n",
       "    </tr>\n",
       "    <tr>\n",
       "      <th>1</th>\n",
       "      <td>FFFFFFFFD8DB4141</td>\n",
       "      <td>13</td>\n",
       "    </tr>\n",
       "    <tr>\n",
       "      <th>2</th>\n",
       "      <td>FFFFFFFFDB51030D</td>\n",
       "      <td>14</td>\n",
       "    </tr>\n",
       "    <tr>\n",
       "      <th>3</th>\n",
       "      <td>FFFFFFFFA4AD8487</td>\n",
       "      <td>14</td>\n",
       "    </tr>\n",
       "    <tr>\n",
       "      <th>4</th>\n",
       "      <td>FFFFFFFFD7183C0D</td>\n",
       "      <td>13</td>\n",
       "    </tr>\n",
       "  </tbody>\n",
       "</table>\n",
       "</div>"
      ],
      "text/plain": [
       "           crime_ID  crime_type03\n",
       "0  FFFFFFFFBA677FC9            13\n",
       "1  FFFFFFFFD8DB4141            13\n",
       "2  FFFFFFFFDB51030D            14\n",
       "3  FFFFFFFFA4AD8487            14\n",
       "4  FFFFFFFFD7183C0D            13"
      ]
     },
     "execution_count": 27,
     "metadata": {},
     "output_type": "execute_result"
    }
   ],
   "source": [
    "df1.head()"
   ]
  },
  {
   "cell_type": "code",
   "execution_count": 28,
   "metadata": {},
   "outputs": [
    {
     "data": {
      "text/plain": [
       "(631199, 2)"
      ]
     },
     "execution_count": 28,
     "metadata": {},
     "output_type": "execute_result"
    }
   ],
   "source": [
    "df1.shape"
   ]
  },
  {
   "cell_type": "markdown",
   "metadata": {},
   "source": [
    "犯罪類型共有10類，1, 2, 3, 5, 8, 9, 10, 11, 13, 14，詳細對應項目待查。每一種犯罪類型的統計次數，如下表"
   ]
  },
  {
   "cell_type": "code",
   "execution_count": 35,
   "metadata": {
    "collapsed": true
   },
   "outputs": [],
   "source": [
    "tt = df1.groupby('crime_type03') #依據crime_type03欄位分類\n",
    "tc = tt.size() #統計每一種犯罪的次數"
   ]
  },
  {
   "cell_type": "code",
   "execution_count": 36,
   "metadata": {},
   "outputs": [
    {
     "data": {
      "text/plain": [
       "Int64Index([1, 2, 3, 5, 8, 9, 10, 11, 13, 14], dtype='int64', name='crime_type03')"
      ]
     },
     "execution_count": 36,
     "metadata": {},
     "output_type": "execute_result"
    }
   ],
   "source": [
    "tc.index #讀取犯罪類型"
   ]
  },
  {
   "cell_type": "code",
   "execution_count": 76,
   "metadata": {},
   "outputs": [
    {
     "data": {
      "text/html": [
       "<div>\n",
       "<style>\n",
       "    .dataframe thead tr:only-child th {\n",
       "        text-align: right;\n",
       "    }\n",
       "\n",
       "    .dataframe thead th {\n",
       "        text-align: left;\n",
       "    }\n",
       "\n",
       "    .dataframe tbody tr th {\n",
       "        vertical-align: top;\n",
       "    }\n",
       "</style>\n",
       "<table border=\"1\" class=\"dataframe\">\n",
       "  <thead>\n",
       "    <tr style=\"text-align: right;\">\n",
       "      <th>crimetype</th>\n",
       "      <th>1</th>\n",
       "      <th>2</th>\n",
       "      <th>3</th>\n",
       "      <th>5</th>\n",
       "      <th>8</th>\n",
       "      <th>9</th>\n",
       "      <th>10</th>\n",
       "      <th>11</th>\n",
       "      <th>13</th>\n",
       "      <th>14</th>\n",
       "    </tr>\n",
       "  </thead>\n",
       "  <tbody>\n",
       "    <tr>\n",
       "      <th>counts</th>\n",
       "      <td>7935</td>\n",
       "      <td>7653</td>\n",
       "      <td>6186</td>\n",
       "      <td>4695</td>\n",
       "      <td>183975</td>\n",
       "      <td>20765</td>\n",
       "      <td>35633</td>\n",
       "      <td>38846</td>\n",
       "      <td>211895</td>\n",
       "      <td>113616</td>\n",
       "    </tr>\n",
       "  </tbody>\n",
       "</table>\n",
       "</div>"
      ],
      "text/plain": [
       "crimetype    1     2     3     5       8      9      10     11      13      14\n",
       "counts     7935  7653  6186  4695  183975  20765  35633  38846  211895  113616"
      ]
     },
     "execution_count": 76,
     "metadata": {},
     "output_type": "execute_result"
    }
   ],
   "source": [
    "#製作犯罪類型與次數統計表\n",
    "ctab_dict = {\"crimetype\":tc.index,\"counts\":tc}\n",
    "ctab_df = pd.DataFrame(ctab_dict)\n",
    "ctab_df.index=ctab_df[\"crimetype\"]\n",
    "del ctab_df[\"crimetype\"]\n",
    "ctab_df.transpose()"
   ]
  },
  {
   "cell_type": "markdown",
   "metadata": {},
   "source": [
    "### 繪製犯罪類型與次數條狀圖"
   ]
  },
  {
   "cell_type": "code",
   "execution_count": 81,
   "metadata": {},
   "outputs": [
    {
     "data": {
      "text/plain": [
       "<matplotlib.axes._subplots.AxesSubplot at 0x11fc39828>"
      ]
     },
     "execution_count": 81,
     "metadata": {},
     "output_type": "execute_result"
    },
    {
     "data": {
      "image/png": "[encoded data removed]",
      "text/plain": [
       "<matplotlib.figure.Figure at 0x11fc1ffd0>"
      ]
     },
     "metadata": {},
     "output_type": "display_data"
    }
   ],
   "source": [
    "ctab_df.plot.bar()"
   ]
  },
  {
   "cell_type": "markdown",
   "metadata": {},
   "source": [
    "#### 撰寫程式重新整理資料，顯示犯罪ID，犯罪次數，及犯罪類型。\n",
    "例如\n",
    "\n",
    "\"FFFFFFFFA4AD8487\",1,['14']\n",
    "\n",
    "\"FFFFFFFFB9873025\",3,['14', '14', '14']\n",
    "\n",
    "\"4592FB68\",5,['13', '13', '14', '13', '13']\n",
    "\n",
    "其中\"4592FB68\"犯次為5次，5次犯罪中，犯罪類型包含13及14。\n",
    "\n",
    "原始檔案共有63萬多筆資料，執行此類分析相當耗費時間。執行為結果儲存於crimeout1.csv檔案。"
   ]
  },
  {
   "cell_type": "code",
   "execution_count": 87,
   "metadata": {
    "collapsed": true
   },
   "outputs": [],
   "source": [
    "df2 = pd.read_csv(\"data/crimeout1.csv\", header=None)"
   ]
  },
  {
   "cell_type": "code",
   "execution_count": 88,
   "metadata": {
    "collapsed": true
   },
   "outputs": [],
   "source": [
    "df2.columns=[\"crime_ID\", \"counts\", \"crime_Type\"]"
   ]
  },
  {
   "cell_type": "code",
   "execution_count": 89,
   "metadata": {},
   "outputs": [
    {
     "data": {
      "text/html": [
       "<div>\n",
       "<style>\n",
       "    .dataframe thead tr:only-child th {\n",
       "        text-align: right;\n",
       "    }\n",
       "\n",
       "    .dataframe thead th {\n",
       "        text-align: left;\n",
       "    }\n",
       "\n",
       "    .dataframe tbody tr th {\n",
       "        vertical-align: top;\n",
       "    }\n",
       "</style>\n",
       "<table border=\"1\" class=\"dataframe\">\n",
       "  <thead>\n",
       "    <tr style=\"text-align: right;\">\n",
       "      <th></th>\n",
       "      <th>crime_ID</th>\n",
       "      <th>counts</th>\n",
       "      <th>crime_Type</th>\n",
       "    </tr>\n",
       "  </thead>\n",
       "  <tbody>\n",
       "    <tr>\n",
       "      <th>0</th>\n",
       "      <td>FFFFFFFFBA677FC9</td>\n",
       "      <td>1</td>\n",
       "      <td>['13']</td>\n",
       "    </tr>\n",
       "    <tr>\n",
       "      <th>1</th>\n",
       "      <td>FFFFFFFFD8DB4141</td>\n",
       "      <td>1</td>\n",
       "      <td>['13']</td>\n",
       "    </tr>\n",
       "    <tr>\n",
       "      <th>2</th>\n",
       "      <td>FFFFFFFFDB51030D</td>\n",
       "      <td>1</td>\n",
       "      <td>['14']</td>\n",
       "    </tr>\n",
       "    <tr>\n",
       "      <th>3</th>\n",
       "      <td>FFFFFFFFA4AD8487</td>\n",
       "      <td>1</td>\n",
       "      <td>['14']</td>\n",
       "    </tr>\n",
       "    <tr>\n",
       "      <th>4</th>\n",
       "      <td>FFFFFFFFD7183C0D</td>\n",
       "      <td>1</td>\n",
       "      <td>['13']</td>\n",
       "    </tr>\n",
       "  </tbody>\n",
       "</table>\n",
       "</div>"
      ],
      "text/plain": [
       "           crime_ID  counts crime_Type\n",
       "0  FFFFFFFFBA677FC9       1     ['13']\n",
       "1  FFFFFFFFD8DB4141       1     ['13']\n",
       "2  FFFFFFFFDB51030D       1     ['14']\n",
       "3  FFFFFFFFA4AD8487       1     ['14']\n",
       "4  FFFFFFFFD7183C0D       1     ['13']"
      ]
     },
     "execution_count": 89,
     "metadata": {},
     "output_type": "execute_result"
    }
   ],
   "source": [
    "df2.head(5)"
   ]
  },
  {
   "cell_type": "code",
   "execution_count": 11,
   "metadata": {
    "collapsed": true
   },
   "outputs": [],
   "source": [
    "cc = df2.groupby('counts') #依據犯罪次數欄位分類"
   ]
  },
  {
   "cell_type": "code",
   "execution_count": 16,
   "metadata": {},
   "outputs": [
    {
     "data": {
      "text/plain": [
       "counts\n",
       "1      414386\n",
       "2       40917\n",
       "3       12827\n",
       "4        5379\n",
       "5        2612\n",
       "6        1600\n",
       "7         934\n",
       "8         678\n",
       "9         401\n",
       "10        350\n",
       "11        377\n",
       "12        264\n",
       "13        174\n",
       "14        140\n",
       "15         83\n",
       "16        124\n",
       "17         77\n",
       "18         85\n",
       "19         75\n",
       "20         95\n",
       "21         29\n",
       "22         38\n",
       "23         41\n",
       "24         27\n",
       "25         12\n",
       "26         17\n",
       "27         14\n",
       "28         23\n",
       "29         32\n",
       "30         14\n",
       "        ...  \n",
       "41          4\n",
       "42          2\n",
       "43          3\n",
       "44          5\n",
       "45          1\n",
       "46          2\n",
       "47          3\n",
       "48          4\n",
       "49          1\n",
       "51          2\n",
       "52          3\n",
       "55          2\n",
       "59          2\n",
       "60          2\n",
       "61          1\n",
       "64          1\n",
       "66          1\n",
       "67          1\n",
       "74          1\n",
       "76          1\n",
       "77          1\n",
       "78          2\n",
       "81          1\n",
       "82          4\n",
       "88          3\n",
       "107         2\n",
       "144         1\n",
       "156         1\n",
       "223         1\n",
       "232         1\n",
       "Length: 70, dtype: int64"
      ]
     },
     "execution_count": 16,
     "metadata": {},
     "output_type": "execute_result"
    }
   ],
   "source": [
    "cc.size()"
   ]
  },
  {
   "cell_type": "markdown",
   "metadata": {},
   "source": [
    "#### 犯次與人數統計表"
   ]
  },
  {
   "cell_type": "code",
   "execution_count": 141,
   "metadata": {},
   "outputs": [
    {
     "data": {
      "text/html": [
       "<div>\n",
       "<style>\n",
       "    .dataframe thead tr:only-child th {\n",
       "        text-align: right;\n",
       "    }\n",
       "\n",
       "    .dataframe thead th {\n",
       "        text-align: left;\n",
       "    }\n",
       "\n",
       "    .dataframe tbody tr th {\n",
       "        vertical-align: top;\n",
       "    }\n",
       "</style>\n",
       "<table border=\"1\" class=\"dataframe\">\n",
       "  <thead>\n",
       "    <tr style=\"text-align: right;\">\n",
       "      <th>counts</th>\n",
       "      <th>1</th>\n",
       "      <th>2</th>\n",
       "      <th>3</th>\n",
       "      <th>4</th>\n",
       "      <th>5</th>\n",
       "      <th>&gt;6</th>\n",
       "    </tr>\n",
       "  </thead>\n",
       "  <tbody>\n",
       "    <tr>\n",
       "      <th>numOfPeople</th>\n",
       "      <td>414386</td>\n",
       "      <td>40917</td>\n",
       "      <td>12827</td>\n",
       "      <td>5379</td>\n",
       "      <td>2612</td>\n",
       "      <td>3291</td>\n",
       "    </tr>\n",
       "  </tbody>\n",
       "</table>\n",
       "</div>"
      ],
      "text/plain": [
       "counts            1      2      3     4     5    >6\n",
       "numOfPeople  414386  40917  12827  5379  2612  3291"
      ]
     },
     "execution_count": 141,
     "metadata": {},
     "output_type": "execute_result"
    }
   ],
   "source": [
    "count = cc.size()\n",
    "cgt5 = count[7:70].sum()\n",
    "dfy = list(count[0:5].values)\n",
    "dfy.append(cgt5)\n",
    "countDF = pd.DataFrame({\"numOfPeople\":dfy, \"counts\":[1,2,3,4,5,\">6\"]})\n",
    "countDF.index=countDF[\"counts\"]\n",
    "del countDF[\"counts\"]\n",
    "countDF.transpose()"
   ]
  },
  {
   "cell_type": "code",
   "execution_count": 143,
   "metadata": {},
   "outputs": [
    {
     "data": {
      "text/plain": [
       "<matplotlib.axes._subplots.AxesSubplot at 0x119e1fac8>"
      ]
     },
     "execution_count": 143,
     "metadata": {},
     "output_type": "execute_result"
    },
    {
     "data": {
      "image/png": "[encoded data removed]",
      "text/plain": [
       "<matplotlib.figure.Figure at 0x119e25518>"
      ]
     },
     "metadata": {},
     "output_type": "display_data"
    }
   ],
   "source": [
    "countDF.plot(kind=\"bar\") #繪製條狀圖"
   ]
  },
  {
   "cell_type": "code",
   "execution_count": 144,
   "metadata": {},
   "outputs": [
    {
     "data": {
      "text/html": [
       "<div>\n",
       "<style>\n",
       "    .dataframe thead tr:only-child th {\n",
       "        text-align: right;\n",
       "    }\n",
       "\n",
       "    .dataframe thead th {\n",
       "        text-align: left;\n",
       "    }\n",
       "\n",
       "    .dataframe tbody tr th {\n",
       "        vertical-align: top;\n",
       "    }\n",
       "</style>\n",
       "<table border=\"1\" class=\"dataframe\">\n",
       "  <thead>\n",
       "    <tr style=\"text-align: right;\">\n",
       "      <th></th>\n",
       "      <th>crime_ID</th>\n",
       "      <th>counts</th>\n",
       "      <th>crime_Type</th>\n",
       "    </tr>\n",
       "  </thead>\n",
       "  <tbody>\n",
       "    <tr>\n",
       "      <th>82</th>\n",
       "      <td>5F74BB87</td>\n",
       "      <td>3</td>\n",
       "      <td>['8', '8', '8']</td>\n",
       "    </tr>\n",
       "    <tr>\n",
       "      <th>105</th>\n",
       "      <td>FFFFFFFFA8D5DE31</td>\n",
       "      <td>3</td>\n",
       "      <td>['8', '8', '8']</td>\n",
       "    </tr>\n",
       "    <tr>\n",
       "      <th>106</th>\n",
       "      <td>FFFFFFFFA8D5DE50</td>\n",
       "      <td>3</td>\n",
       "      <td>['8', '8', '8']</td>\n",
       "    </tr>\n",
       "    <tr>\n",
       "      <th>107</th>\n",
       "      <td>FFFFFFFFA8D5DE6F</td>\n",
       "      <td>3</td>\n",
       "      <td>['8', '8', '8']</td>\n",
       "    </tr>\n",
       "    <tr>\n",
       "      <th>110</th>\n",
       "      <td>FFFFFFFFC6520D56</td>\n",
       "      <td>3</td>\n",
       "      <td>['8', '8', '8']</td>\n",
       "    </tr>\n",
       "    <tr>\n",
       "      <th>114</th>\n",
       "      <td>FFFFFFFFC66EB59D</td>\n",
       "      <td>3</td>\n",
       "      <td>['8', '8', '8']</td>\n",
       "    </tr>\n",
       "    <tr>\n",
       "      <th>156</th>\n",
       "      <td>FFFFFFFFF066B165</td>\n",
       "      <td>3</td>\n",
       "      <td>['8', '8', '8']</td>\n",
       "    </tr>\n",
       "    <tr>\n",
       "      <th>189</th>\n",
       "      <td>FFFFFFFFF437ECE4</td>\n",
       "      <td>3</td>\n",
       "      <td>['13', '13', '13']</td>\n",
       "    </tr>\n",
       "    <tr>\n",
       "      <th>196</th>\n",
       "      <td>1AF80F42</td>\n",
       "      <td>3</td>\n",
       "      <td>['13', '13', '13']</td>\n",
       "    </tr>\n",
       "    <tr>\n",
       "      <th>208</th>\n",
       "      <td>1D83C2B1</td>\n",
       "      <td>3</td>\n",
       "      <td>['14', '14', '14']</td>\n",
       "    </tr>\n",
       "    <tr>\n",
       "      <th>234</th>\n",
       "      <td>41C70BC7</td>\n",
       "      <td>3</td>\n",
       "      <td>['14', '14', '14']</td>\n",
       "    </tr>\n",
       "    <tr>\n",
       "      <th>268</th>\n",
       "      <td>FFFFFFFFF6E4E90D</td>\n",
       "      <td>3</td>\n",
       "      <td>['13', '13', '13']</td>\n",
       "    </tr>\n",
       "    <tr>\n",
       "      <th>279</th>\n",
       "      <td>74A463C6</td>\n",
       "      <td>3</td>\n",
       "      <td>['8', '8', '8']</td>\n",
       "    </tr>\n",
       "    <tr>\n",
       "      <th>282</th>\n",
       "      <td>FFFFFFFFB894FD0E</td>\n",
       "      <td>3</td>\n",
       "      <td>['11', '11', '11']</td>\n",
       "    </tr>\n",
       "    <tr>\n",
       "      <th>302</th>\n",
       "      <td>7.09E+221</td>\n",
       "      <td>3</td>\n",
       "      <td>['5', '5', '5']</td>\n",
       "    </tr>\n",
       "    <tr>\n",
       "      <th>306</th>\n",
       "      <td>FFFFFFFFFF5D3798</td>\n",
       "      <td>3</td>\n",
       "      <td>['14', '14', '14']</td>\n",
       "    </tr>\n",
       "    <tr>\n",
       "      <th>312</th>\n",
       "      <td>FFFFFFFF91BED477</td>\n",
       "      <td>3</td>\n",
       "      <td>['10', '10', '10']</td>\n",
       "    </tr>\n",
       "    <tr>\n",
       "      <th>318</th>\n",
       "      <td>1EC1990</td>\n",
       "      <td>3</td>\n",
       "      <td>['14', '14', '14']</td>\n",
       "    </tr>\n",
       "    <tr>\n",
       "      <th>323</th>\n",
       "      <td>FFFFFFFFB9873025</td>\n",
       "      <td>3</td>\n",
       "      <td>['14', '14', '14']</td>\n",
       "    </tr>\n",
       "    <tr>\n",
       "      <th>333</th>\n",
       "      <td>FFFFFFFFD69B5385</td>\n",
       "      <td>3</td>\n",
       "      <td>['13', '13', '13']</td>\n",
       "    </tr>\n",
       "    <tr>\n",
       "      <th>354</th>\n",
       "      <td>FFFFFFFFB517C853</td>\n",
       "      <td>3</td>\n",
       "      <td>['3', '3', '3']</td>\n",
       "    </tr>\n",
       "    <tr>\n",
       "      <th>396</th>\n",
       "      <td>4A84A5D5</td>\n",
       "      <td>3</td>\n",
       "      <td>['14', '14', '14']</td>\n",
       "    </tr>\n",
       "    <tr>\n",
       "      <th>427</th>\n",
       "      <td>362CA2BC</td>\n",
       "      <td>3</td>\n",
       "      <td>['13', '14', '14']</td>\n",
       "    </tr>\n",
       "    <tr>\n",
       "      <th>475</th>\n",
       "      <td>33332717</td>\n",
       "      <td>3</td>\n",
       "      <td>['9', '9', '9']</td>\n",
       "    </tr>\n",
       "    <tr>\n",
       "      <th>476</th>\n",
       "      <td>6236F50A</td>\n",
       "      <td>3</td>\n",
       "      <td>['9', '9', '9']</td>\n",
       "    </tr>\n",
       "    <tr>\n",
       "      <th>479</th>\n",
       "      <td>7D541FAD</td>\n",
       "      <td>3</td>\n",
       "      <td>['11', '11', '11']</td>\n",
       "    </tr>\n",
       "    <tr>\n",
       "      <th>480</th>\n",
       "      <td>52FE3DE9</td>\n",
       "      <td>3</td>\n",
       "      <td>['13', '13', '13']</td>\n",
       "    </tr>\n",
       "    <tr>\n",
       "      <th>481</th>\n",
       "      <td>FFFFFFFFCC56259C</td>\n",
       "      <td>3</td>\n",
       "      <td>['14', '14', '14']</td>\n",
       "    </tr>\n",
       "    <tr>\n",
       "      <th>515</th>\n",
       "      <td>FFFFFFFFA54CF6D1</td>\n",
       "      <td>3</td>\n",
       "      <td>['13', '13', '13']</td>\n",
       "    </tr>\n",
       "    <tr>\n",
       "      <th>531</th>\n",
       "      <td>3FDF3005</td>\n",
       "      <td>3</td>\n",
       "      <td>['14', '14', '14']</td>\n",
       "    </tr>\n",
       "    <tr>\n",
       "      <th>...</th>\n",
       "      <td>...</td>\n",
       "      <td>...</td>\n",
       "      <td>...</td>\n",
       "    </tr>\n",
       "    <tr>\n",
       "      <th>455387</th>\n",
       "      <td>FFFFFFFFB61F378B</td>\n",
       "      <td>3</td>\n",
       "      <td>['8', '8', '8']</td>\n",
       "    </tr>\n",
       "    <tr>\n",
       "      <th>456203</th>\n",
       "      <td>FFFFFFFFDF1B5F2D</td>\n",
       "      <td>3</td>\n",
       "      <td>['9', '9', '9']</td>\n",
       "    </tr>\n",
       "    <tr>\n",
       "      <th>457360</th>\n",
       "      <td>FFFFFFFF9D54B6E6</td>\n",
       "      <td>3</td>\n",
       "      <td>['8', '8', '8']</td>\n",
       "    </tr>\n",
       "    <tr>\n",
       "      <th>457456</th>\n",
       "      <td>FFFFFFFF8D33C812</td>\n",
       "      <td>3</td>\n",
       "      <td>['13', '13', '13']</td>\n",
       "    </tr>\n",
       "    <tr>\n",
       "      <th>457474</th>\n",
       "      <td>CA26D26</td>\n",
       "      <td>3</td>\n",
       "      <td>['2', '2', '2']</td>\n",
       "    </tr>\n",
       "    <tr>\n",
       "      <th>457665</th>\n",
       "      <td>6CD35B23</td>\n",
       "      <td>3</td>\n",
       "      <td>['8', '8', '8']</td>\n",
       "    </tr>\n",
       "    <tr>\n",
       "      <th>457934</th>\n",
       "      <td>33398446</td>\n",
       "      <td>3</td>\n",
       "      <td>['13', '13', '13']</td>\n",
       "    </tr>\n",
       "    <tr>\n",
       "      <th>457972</th>\n",
       "      <td>FFFFFFFFC9795869</td>\n",
       "      <td>3</td>\n",
       "      <td>['11', '11', '11']</td>\n",
       "    </tr>\n",
       "    <tr>\n",
       "      <th>457978</th>\n",
       "      <td>41066F65</td>\n",
       "      <td>3</td>\n",
       "      <td>['8', '8', '8']</td>\n",
       "    </tr>\n",
       "    <tr>\n",
       "      <th>458042</th>\n",
       "      <td>FFFFFFFFFF491DFD</td>\n",
       "      <td>3</td>\n",
       "      <td>['8', '8', '8']</td>\n",
       "    </tr>\n",
       "    <tr>\n",
       "      <th>458473</th>\n",
       "      <td>7B6F3893</td>\n",
       "      <td>3</td>\n",
       "      <td>['8', '8', '8']</td>\n",
       "    </tr>\n",
       "    <tr>\n",
       "      <th>459953</th>\n",
       "      <td>FFFFFFFF81F07FDB</td>\n",
       "      <td>3</td>\n",
       "      <td>['8', '8', '8']</td>\n",
       "    </tr>\n",
       "    <tr>\n",
       "      <th>460088</th>\n",
       "      <td>320197A3</td>\n",
       "      <td>3</td>\n",
       "      <td>['10', '10', '10']</td>\n",
       "    </tr>\n",
       "    <tr>\n",
       "      <th>460690</th>\n",
       "      <td>393C0485</td>\n",
       "      <td>3</td>\n",
       "      <td>['11', '11', '11']</td>\n",
       "    </tr>\n",
       "    <tr>\n",
       "      <th>461449</th>\n",
       "      <td>732510AA</td>\n",
       "      <td>3</td>\n",
       "      <td>['8', '8', '8']</td>\n",
       "    </tr>\n",
       "    <tr>\n",
       "      <th>461553</th>\n",
       "      <td>1D47358C</td>\n",
       "      <td>3</td>\n",
       "      <td>['1', '1', '1']</td>\n",
       "    </tr>\n",
       "    <tr>\n",
       "      <th>461557</th>\n",
       "      <td>FFFFFFFFA403C5F9</td>\n",
       "      <td>3</td>\n",
       "      <td>['8', '8', '8']</td>\n",
       "    </tr>\n",
       "    <tr>\n",
       "      <th>462243</th>\n",
       "      <td>FFFFFFFFFA41CE71</td>\n",
       "      <td>3</td>\n",
       "      <td>['8', '8', '8']</td>\n",
       "    </tr>\n",
       "    <tr>\n",
       "      <th>462568</th>\n",
       "      <td>6942C331</td>\n",
       "      <td>3</td>\n",
       "      <td>['8', '8', '8']</td>\n",
       "    </tr>\n",
       "    <tr>\n",
       "      <th>463239</th>\n",
       "      <td>5F7F5497</td>\n",
       "      <td>3</td>\n",
       "      <td>['13', '14', '13']</td>\n",
       "    </tr>\n",
       "    <tr>\n",
       "      <th>464872</th>\n",
       "      <td>1.13E+47</td>\n",
       "      <td>3</td>\n",
       "      <td>['13', '13', '13']</td>\n",
       "    </tr>\n",
       "    <tr>\n",
       "      <th>465820</th>\n",
       "      <td>FFFFFFFFA5F1006C</td>\n",
       "      <td>3</td>\n",
       "      <td>['3', '3', '3']</td>\n",
       "    </tr>\n",
       "    <tr>\n",
       "      <th>467095</th>\n",
       "      <td>DEFEC12</td>\n",
       "      <td>3</td>\n",
       "      <td>['1', '1', '1']</td>\n",
       "    </tr>\n",
       "    <tr>\n",
       "      <th>467844</th>\n",
       "      <td>226C0384</td>\n",
       "      <td>3</td>\n",
       "      <td>['11', '11', '11']</td>\n",
       "    </tr>\n",
       "    <tr>\n",
       "      <th>467865</th>\n",
       "      <td>494E8682</td>\n",
       "      <td>3</td>\n",
       "      <td>['11', '11', '11']</td>\n",
       "    </tr>\n",
       "    <tr>\n",
       "      <th>467953</th>\n",
       "      <td>47523264</td>\n",
       "      <td>3</td>\n",
       "      <td>['10', '10', '10']</td>\n",
       "    </tr>\n",
       "    <tr>\n",
       "      <th>468221</th>\n",
       "      <td>151D569B</td>\n",
       "      <td>3</td>\n",
       "      <td>['8', '8', '8']</td>\n",
       "    </tr>\n",
       "    <tr>\n",
       "      <th>472379</th>\n",
       "      <td>FFFFFFFFAE736304</td>\n",
       "      <td>3</td>\n",
       "      <td>['8', '8', '8']</td>\n",
       "    </tr>\n",
       "    <tr>\n",
       "      <th>473542</th>\n",
       "      <td>2EB7C983</td>\n",
       "      <td>3</td>\n",
       "      <td>['8', '8', '8']</td>\n",
       "    </tr>\n",
       "    <tr>\n",
       "      <th>478511</th>\n",
       "      <td>4047855C</td>\n",
       "      <td>3</td>\n",
       "      <td>['8', '8', '8']</td>\n",
       "    </tr>\n",
       "  </tbody>\n",
       "</table>\n",
       "<p>12827 rows × 3 columns</p>\n",
       "</div>"
      ],
      "text/plain": [
       "                crime_ID  counts          crime_Type\n",
       "82              5F74BB87       3     ['8', '8', '8']\n",
       "105     FFFFFFFFA8D5DE31       3     ['8', '8', '8']\n",
       "106     FFFFFFFFA8D5DE50       3     ['8', '8', '8']\n",
       "107     FFFFFFFFA8D5DE6F       3     ['8', '8', '8']\n",
       "110     FFFFFFFFC6520D56       3     ['8', '8', '8']\n",
       "114     FFFFFFFFC66EB59D       3     ['8', '8', '8']\n",
       "156     FFFFFFFFF066B165       3     ['8', '8', '8']\n",
       "189     FFFFFFFFF437ECE4       3  ['13', '13', '13']\n",
       "196             1AF80F42       3  ['13', '13', '13']\n",
       "208             1D83C2B1       3  ['14', '14', '14']\n",
       "234             41C70BC7       3  ['14', '14', '14']\n",
       "268     FFFFFFFFF6E4E90D       3  ['13', '13', '13']\n",
       "279             74A463C6       3     ['8', '8', '8']\n",
       "282     FFFFFFFFB894FD0E       3  ['11', '11', '11']\n",
       "302            7.09E+221       3     ['5', '5', '5']\n",
       "306     FFFFFFFFFF5D3798       3  ['14', '14', '14']\n",
       "312     FFFFFFFF91BED477       3  ['10', '10', '10']\n",
       "318              1EC1990       3  ['14', '14', '14']\n",
       "323     FFFFFFFFB9873025       3  ['14', '14', '14']\n",
       "333     FFFFFFFFD69B5385       3  ['13', '13', '13']\n",
       "354     FFFFFFFFB517C853       3     ['3', '3', '3']\n",
       "396             4A84A5D5       3  ['14', '14', '14']\n",
       "427             362CA2BC       3  ['13', '14', '14']\n",
       "475             33332717       3     ['9', '9', '9']\n",
       "476             6236F50A       3     ['9', '9', '9']\n",
       "479             7D541FAD       3  ['11', '11', '11']\n",
       "480             52FE3DE9       3  ['13', '13', '13']\n",
       "481     FFFFFFFFCC56259C       3  ['14', '14', '14']\n",
       "515     FFFFFFFFA54CF6D1       3  ['13', '13', '13']\n",
       "531             3FDF3005       3  ['14', '14', '14']\n",
       "...                  ...     ...                 ...\n",
       "455387  FFFFFFFFB61F378B       3     ['8', '8', '8']\n",
       "456203  FFFFFFFFDF1B5F2D       3     ['9', '9', '9']\n",
       "457360  FFFFFFFF9D54B6E6       3     ['8', '8', '8']\n",
       "457456  FFFFFFFF8D33C812       3  ['13', '13', '13']\n",
       "457474           CA26D26       3     ['2', '2', '2']\n",
       "457665          6CD35B23       3     ['8', '8', '8']\n",
       "457934          33398446       3  ['13', '13', '13']\n",
       "457972  FFFFFFFFC9795869       3  ['11', '11', '11']\n",
       "457978          41066F65       3     ['8', '8', '8']\n",
       "458042  FFFFFFFFFF491DFD       3     ['8', '8', '8']\n",
       "458473          7B6F3893       3     ['8', '8', '8']\n",
       "459953  FFFFFFFF81F07FDB       3     ['8', '8', '8']\n",
       "460088          320197A3       3  ['10', '10', '10']\n",
       "460690          393C0485       3  ['11', '11', '11']\n",
       "461449          732510AA       3     ['8', '8', '8']\n",
       "461553          1D47358C       3     ['1', '1', '1']\n",
       "461557  FFFFFFFFA403C5F9       3     ['8', '8', '8']\n",
       "462243  FFFFFFFFFA41CE71       3     ['8', '8', '8']\n",
       "462568          6942C331       3     ['8', '8', '8']\n",
       "463239          5F7F5497       3  ['13', '14', '13']\n",
       "464872          1.13E+47       3  ['13', '13', '13']\n",
       "465820  FFFFFFFFA5F1006C       3     ['3', '3', '3']\n",
       "467095           DEFEC12       3     ['1', '1', '1']\n",
       "467844          226C0384       3  ['11', '11', '11']\n",
       "467865          494E8682       3  ['11', '11', '11']\n",
       "467953          47523264       3  ['10', '10', '10']\n",
       "468221          151D569B       3     ['8', '8', '8']\n",
       "472379  FFFFFFFFAE736304       3     ['8', '8', '8']\n",
       "473542          2EB7C983       3     ['8', '8', '8']\n",
       "478511          4047855C       3     ['8', '8', '8']\n",
       "\n",
       "[12827 rows x 3 columns]"
      ]
     },
     "execution_count": 144,
     "metadata": {},
     "output_type": "execute_result"
    }
   ],
   "source": [
    "df2[df2['counts']==3] #列出犯次3所有資料"
   ]
  },
  {
   "cell_type": "markdown",
   "metadata": {},
   "source": [
    "## 讀入犯罪日期資料"
   ]
  },
  {
   "cell_type": "code",
   "execution_count": 74,
   "metadata": {
    "collapsed": true
   },
   "outputs": [],
   "source": [
    "from dateutil import parser"
   ]
  },
  {
   "cell_type": "code",
   "execution_count": 5,
   "metadata": {},
   "outputs": [],
   "source": [
    "crimedate_df = pd.read_csv(\"data/occurDate.csv\")"
   ]
  },
  {
   "cell_type": "code",
   "execution_count": 6,
   "metadata": {},
   "outputs": [
    {
     "name": "stdout",
     "output_type": "stream",
     "text": [
      "<class 'pandas.core.frame.DataFrame'>\n",
      "RangeIndex: 650552 entries, 0 to 650551\n",
      "Data columns (total 3 columns):\n",
      "id           650552 non-null object\n",
      "crime_ID     650552 non-null object\n",
      "occurDate    650552 non-null int64\n",
      "dtypes: int64(1), object(2)\n",
      "memory usage: 14.9+ MB\n"
     ]
    }
   ],
   "source": [
    "crimedate_df.info()"
   ]
  },
  {
   "cell_type": "code",
   "execution_count": 7,
   "metadata": {},
   "outputs": [],
   "source": [
    "crimedate_df[\"date\"]=crimedate_df[\"occurDate\"].astype(str)"
   ]
  },
  {
   "cell_type": "code",
   "execution_count": 8,
   "metadata": {
    "collapsed": true
   },
   "outputs": [],
   "source": [
    "crimedate_df[\"year\"]=crimedate_df[\"occurDate\"]//10000\n",
    "crimedate_df[\"month\"]=(crimedate_df[\"occurDate\"]%10000)//100\n",
    "crimedate_df[\"day\"]=crimedate_df[\"occurDate\"]%100"
   ]
  },
  {
   "cell_type": "code",
   "execution_count": 9,
   "metadata": {},
   "outputs": [
    {
     "data": {
      "text/html": [
       "<div>\n",
       "<style>\n",
       "    .dataframe thead tr:only-child th {\n",
       "        text-align: right;\n",
       "    }\n",
       "\n",
       "    .dataframe thead th {\n",
       "        text-align: left;\n",
       "    }\n",
       "\n",
       "    .dataframe tbody tr th {\n",
       "        vertical-align: top;\n",
       "    }\n",
       "</style>\n",
       "<table border=\"1\" class=\"dataframe\">\n",
       "  <thead>\n",
       "    <tr style=\"text-align: right;\">\n",
       "      <th></th>\n",
       "      <th>id</th>\n",
       "      <th>crime_ID</th>\n",
       "      <th>occurDate</th>\n",
       "      <th>date</th>\n",
       "      <th>year</th>\n",
       "      <th>month</th>\n",
       "      <th>day</th>\n",
       "    </tr>\n",
       "  </thead>\n",
       "  <tbody>\n",
       "    <tr>\n",
       "      <th>0</th>\n",
       "      <td>00001c9f78ac719e20b4a9fbd9364c03</td>\n",
       "      <td>FFFFFFFFBA677FC9</td>\n",
       "      <td>20111020</td>\n",
       "      <td>20111020</td>\n",
       "      <td>2011</td>\n",
       "      <td>10</td>\n",
       "      <td>20</td>\n",
       "    </tr>\n",
       "    <tr>\n",
       "      <th>1</th>\n",
       "      <td>00001c9f78ac719e20b4a9fbd9364c03</td>\n",
       "      <td>FFFFFFFFD8DB4141</td>\n",
       "      <td>20120421</td>\n",
       "      <td>20120421</td>\n",
       "      <td>2012</td>\n",
       "      <td>4</td>\n",
       "      <td>21</td>\n",
       "    </tr>\n",
       "    <tr>\n",
       "      <th>2</th>\n",
       "      <td>000023aaefc5b81b3cd0b0f238f2f235</td>\n",
       "      <td>FFFFFFFFB526830A</td>\n",
       "      <td>20100312</td>\n",
       "      <td>20100312</td>\n",
       "      <td>2010</td>\n",
       "      <td>3</td>\n",
       "      <td>12</td>\n",
       "    </tr>\n",
       "    <tr>\n",
       "      <th>3</th>\n",
       "      <td>00004c2de7c6f4110fc3b0b6676df130</td>\n",
       "      <td>75703FB4</td>\n",
       "      <td>20100208</td>\n",
       "      <td>20100208</td>\n",
       "      <td>2010</td>\n",
       "      <td>2</td>\n",
       "      <td>8</td>\n",
       "    </tr>\n",
       "    <tr>\n",
       "      <th>4</th>\n",
       "      <td>0000ab48b06e0bb2cd59f1268fbbebb6</td>\n",
       "      <td>FFFFFFFFDB51030D</td>\n",
       "      <td>20130129</td>\n",
       "      <td>20130129</td>\n",
       "      <td>2013</td>\n",
       "      <td>1</td>\n",
       "      <td>29</td>\n",
       "    </tr>\n",
       "  </tbody>\n",
       "</table>\n",
       "</div>"
      ],
      "text/plain": [
       "                                 id          crime_ID  occurDate      date  \\\n",
       "0  00001c9f78ac719e20b4a9fbd9364c03  FFFFFFFFBA677FC9   20111020  20111020   \n",
       "1  00001c9f78ac719e20b4a9fbd9364c03  FFFFFFFFD8DB4141   20120421  20120421   \n",
       "2  000023aaefc5b81b3cd0b0f238f2f235  FFFFFFFFB526830A   20100312  20100312   \n",
       "3  00004c2de7c6f4110fc3b0b6676df130          75703FB4   20100208  20100208   \n",
       "4  0000ab48b06e0bb2cd59f1268fbbebb6  FFFFFFFFDB51030D   20130129  20130129   \n",
       "\n",
       "   year  month  day  \n",
       "0  2011     10   20  \n",
       "1  2012      4   21  \n",
       "2  2010      3   12  \n",
       "3  2010      2    8  \n",
       "4  2013      1   29  "
      ]
     },
     "execution_count": 9,
     "metadata": {},
     "output_type": "execute_result"
    }
   ],
   "source": [
    "crimedate_df.head()"
   ]
  },
  {
   "cell_type": "code",
   "execution_count": 10,
   "metadata": {},
   "outputs": [],
   "source": [
    "crimedate_df[\"date1\"]=pd.to_datetime(crimedate_df[\"date\"],format='%Y%m%d', errors=\"coerce\")"
   ]
  },
  {
   "cell_type": "code",
   "execution_count": 11,
   "metadata": {},
   "outputs": [
    {
     "data": {
      "text/html": [
       "<div>\n",
       "<style>\n",
       "    .dataframe thead tr:only-child th {\n",
       "        text-align: right;\n",
       "    }\n",
       "\n",
       "    .dataframe thead th {\n",
       "        text-align: left;\n",
       "    }\n",
       "\n",
       "    .dataframe tbody tr th {\n",
       "        vertical-align: top;\n",
       "    }\n",
       "</style>\n",
       "<table border=\"1\" class=\"dataframe\">\n",
       "  <thead>\n",
       "    <tr style=\"text-align: right;\">\n",
       "      <th></th>\n",
       "      <th>id</th>\n",
       "      <th>crime_ID</th>\n",
       "      <th>occurDate</th>\n",
       "      <th>date</th>\n",
       "      <th>year</th>\n",
       "      <th>month</th>\n",
       "      <th>day</th>\n",
       "      <th>date1</th>\n",
       "    </tr>\n",
       "  </thead>\n",
       "  <tbody>\n",
       "    <tr>\n",
       "      <th>0</th>\n",
       "      <td>00001c9f78ac719e20b4a9fbd9364c03</td>\n",
       "      <td>FFFFFFFFBA677FC9</td>\n",
       "      <td>20111020</td>\n",
       "      <td>20111020</td>\n",
       "      <td>2011</td>\n",
       "      <td>10</td>\n",
       "      <td>20</td>\n",
       "      <td>2011-10-20</td>\n",
       "    </tr>\n",
       "    <tr>\n",
       "      <th>1</th>\n",
       "      <td>00001c9f78ac719e20b4a9fbd9364c03</td>\n",
       "      <td>FFFFFFFFD8DB4141</td>\n",
       "      <td>20120421</td>\n",
       "      <td>20120421</td>\n",
       "      <td>2012</td>\n",
       "      <td>4</td>\n",
       "      <td>21</td>\n",
       "      <td>2012-04-21</td>\n",
       "    </tr>\n",
       "    <tr>\n",
       "      <th>2</th>\n",
       "      <td>000023aaefc5b81b3cd0b0f238f2f235</td>\n",
       "      <td>FFFFFFFFB526830A</td>\n",
       "      <td>20100312</td>\n",
       "      <td>20100312</td>\n",
       "      <td>2010</td>\n",
       "      <td>3</td>\n",
       "      <td>12</td>\n",
       "      <td>2010-03-12</td>\n",
       "    </tr>\n",
       "    <tr>\n",
       "      <th>3</th>\n",
       "      <td>00004c2de7c6f4110fc3b0b6676df130</td>\n",
       "      <td>75703FB4</td>\n",
       "      <td>20100208</td>\n",
       "      <td>20100208</td>\n",
       "      <td>2010</td>\n",
       "      <td>2</td>\n",
       "      <td>8</td>\n",
       "      <td>2010-02-08</td>\n",
       "    </tr>\n",
       "    <tr>\n",
       "      <th>4</th>\n",
       "      <td>0000ab48b06e0bb2cd59f1268fbbebb6</td>\n",
       "      <td>FFFFFFFFDB51030D</td>\n",
       "      <td>20130129</td>\n",
       "      <td>20130129</td>\n",
       "      <td>2013</td>\n",
       "      <td>1</td>\n",
       "      <td>29</td>\n",
       "      <td>2013-01-29</td>\n",
       "    </tr>\n",
       "  </tbody>\n",
       "</table>\n",
       "</div>"
      ],
      "text/plain": [
       "                                 id          crime_ID  occurDate      date  \\\n",
       "0  00001c9f78ac719e20b4a9fbd9364c03  FFFFFFFFBA677FC9   20111020  20111020   \n",
       "1  00001c9f78ac719e20b4a9fbd9364c03  FFFFFFFFD8DB4141   20120421  20120421   \n",
       "2  000023aaefc5b81b3cd0b0f238f2f235  FFFFFFFFB526830A   20100312  20100312   \n",
       "3  00004c2de7c6f4110fc3b0b6676df130          75703FB4   20100208  20100208   \n",
       "4  0000ab48b06e0bb2cd59f1268fbbebb6  FFFFFFFFDB51030D   20130129  20130129   \n",
       "\n",
       "   year  month  day      date1  \n",
       "0  2011     10   20 2011-10-20  \n",
       "1  2012      4   21 2012-04-21  \n",
       "2  2010      3   12 2010-03-12  \n",
       "3  2010      2    8 2010-02-08  \n",
       "4  2013      1   29 2013-01-29  "
      ]
     },
     "execution_count": 11,
     "metadata": {},
     "output_type": "execute_result"
    }
   ],
   "source": [
    "crimedate_df.head()"
   ]
  },
  {
   "cell_type": "code",
   "execution_count": 12,
   "metadata": {},
   "outputs": [],
   "source": [
    "dd = crimedate_df.groupby(\"date1\")"
   ]
  },
  {
   "cell_type": "code",
   "execution_count": 71,
   "metadata": {
    "collapsed": true
   },
   "outputs": [],
   "source": [
    "from dateutil import parser"
   ]
  },
  {
   "cell_type": "code",
   "execution_count": 13,
   "metadata": {},
   "outputs": [],
   "source": [
    "df1=dd.size()"
   ]
  },
  {
   "cell_type": "code",
   "execution_count": 59,
   "metadata": {},
   "outputs": [
    {
     "data": {
      "text/plain": [
       "<matplotlib.text.Text at 0x123643898>"
      ]
     },
     "execution_count": 59,
     "metadata": {},
     "output_type": "execute_result"
    },
    {
     "data": {
      "image/png": "[encoded data removed]",
      "text/plain": [
       "<matplotlib.figure.Figure at 0x12343a6d8>"
      ]
     },
     "metadata": {},
     "output_type": "display_data"
    }
   ],
   "source": [
    "df1.plot()\n",
    "df1.resample(\"BA\").mean().plot(style='r:')\n",
    "plt.legend(['Day','Year'], loc='upper right')\n",
    "plt.ylabel('Number of Crimes')\n",
    "plt.xlabel('Date')"
   ]
  },
  {
   "cell_type": "code",
   "execution_count": 65,
   "metadata": {},
   "outputs": [
    {
     "data": {
      "text/plain": [
       "<matplotlib.axes._subplots.AxesSubplot at 0x123dea1d0>"
      ]
     },
     "execution_count": 65,
     "metadata": {},
     "output_type": "execute_result"
    },
    {
     "data": {
      "image/png": "[encoded data removed]",
      "text/plain": [
       "<matplotlib.figure.Figure at 0x1231308d0>"
      ]
     },
     "metadata": {},
     "output_type": "display_data"
    }
   ],
   "source": [
    "df1_mm = df1.resample(\"W\").mean()\n",
    "df1_mm[\"2010\":\"2015\"].plot(style='gp-')"
   ]
  },
  {
   "cell_type": "code",
   "execution_count": null,
   "metadata": {
    "collapsed": true
   },
   "outputs": [],
   "source": []
  }
 ],
 "metadata": {
  "kernelspec": {
   "display_name": "Python 3",
   "language": "python",
   "name": "python3"
  },
  "language_info": {
   "codemirror_mode": {
    "name": "ipython",
    "version": 3
   },
   "file_extension": ".py",
   "mimetype": "text/x-python",
   "name": "python",
   "nbconvert_exporter": "python",
   "pygments_lexer": "ipython3",
   "version": "3.6.1"
  }
 },
 "nbformat": 4,
 "nbformat_minor": 2
}
