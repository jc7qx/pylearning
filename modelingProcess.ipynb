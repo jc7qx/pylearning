{
 "cells": [
  {
   "cell_type": "markdown",
   "metadata": {},
   "source": [
    "## 機器學習\n",
    "由資料建立模型，data driven modeling"
   ]
  },
  {
   "cell_type": "markdown",
   "metadata": {},
   "source": [
    "* 機器學習是關於從資料來建立數學模型，以了解資料特性\n",
    "* 學習的意義在於由可調整的參數來模擬、觀察數據資料\n",
    "* 如果建立的模型適合(fit)過去的資料(訓練資料)，模型可用來預測及了解新資料\n",
    "* 對問題的深入了解是進行機器學習的首要工作"
   ]
  },
  {
   "cell_type": "markdown",
   "metadata": {},
   "source": [
    "## 機器學習問題分類\n",
    "### * 監督式學習 (supervised learning)\n",
    "   - 找出屬性與類別間的關係\n",
    "   - 分類分析、迴歸分析\n",
    "     + 如果類別變數為「類別」則為分類樹\n",
    "     + 如果類別變數為「連續」則為回歸\n",
    "   \n",
    "### * 非監督式學習 (unsupervised learning)\n",
    "   - 由資料特性自然分群\n",
    "     + 找出獨特特性的群\n",
    "   - 分群演算法、降低維度\n",
    "     + 找出簡潔的資料表示"
   ]
  },
  {
   "cell_type": "markdown",
   "metadata": {},
   "source": [
    "## 監督式機器學習方法\n",
    "* 分類樹 \n",
    "* 迴歸分析"
   ]
  },
  {
   "cell_type": "markdown",
   "metadata": {},
   "source": [
    "## 監督式機器學習方法\n",
    "* K-means\n",
    "* 降低維度"
   ]
  },
  {
   "cell_type": "markdown",
   "metadata": {},
   "source": [
    "## classification問題\n",
    "classification 問題是在input（屬性資料項)與output(分類標籤)之間建立一個預測模型，根據此一模型可以幫助決策者，面對新一筆資料(屬性特性資料組成)，預測是屬於哪一個類別。例如，可以蒐集電子郵件，分析每一封電子郵件特性，然後預測此一郵件是否為「垃圾郵件」(spam email)。"
   ]
  },
  {
   "cell_type": "markdown",
   "metadata": {},
   "source": [
    "## regression問題\n",
    "regression問題是在input(屬性資料項)與output(連續性變數)之間建立一個預測模型，根據此一模型可以預測output值。例如，根據房屋特性，建立預測模型，以便根據要買房子特性預測房價。"
   ]
  },
  {
   "cell_type": "markdown",
   "metadata": {},
   "source": [
    "## clustering問題\n",
    "clustering問題是根據資料的特性將資料做自然分群。每一群中的資料具有相關的相似性(similarity)。"
   ]
  },
  {
   "cell_type": "markdown",
   "metadata": {},
   "source": [
    "## Scikit Learning\n",
    "* Scikit learing (sklearn)是一個實作機器學習方法論的Python程式庫。\n",
    "* sklearn是一個簡潔、一致、流暢的API，據擁有完整且有用的使用文件。"
   ]
  },
  {
   "cell_type": "markdown",
   "metadata": {},
   "source": [
    "## sklearn的資料表示\n",
    "* 以資料表的形式，每一列(row)代表一筆資料，每一行(column)代表一個屬性\n",
    "* 特徵矩陣 X[n_sample][n_feature]\n",
    "  - n_sample: 資料比數\n",
    "  - n_feature: 屬性欄位數\n",
    "* 目標陣列 y[n_sample]\n",
    "  - y 的內容可以是連續的或離散的"
   ]
  },
  {
   "cell_type": "code",
   "execution_count": 3,
   "metadata": {},
   "outputs": [
    {
     "data": {
      "text/html": [
       "<div>\n",
       "<style>\n",
       "    .dataframe thead tr:only-child th {\n",
       "        text-align: right;\n",
       "    }\n",
       "\n",
       "    .dataframe thead th {\n",
       "        text-align: left;\n",
       "    }\n",
       "\n",
       "    .dataframe tbody tr th {\n",
       "        vertical-align: top;\n",
       "    }\n",
       "</style>\n",
       "<table border=\"1\" class=\"dataframe\">\n",
       "  <thead>\n",
       "    <tr style=\"text-align: right;\">\n",
       "      <th></th>\n",
       "      <th>sepal_length</th>\n",
       "      <th>sepal_width</th>\n",
       "      <th>petal_length</th>\n",
       "      <th>petal_width</th>\n",
       "      <th>species</th>\n",
       "    </tr>\n",
       "  </thead>\n",
       "  <tbody>\n",
       "    <tr>\n",
       "      <th>0</th>\n",
       "      <td>5.1</td>\n",
       "      <td>3.5</td>\n",
       "      <td>1.4</td>\n",
       "      <td>0.2</td>\n",
       "      <td>setosa</td>\n",
       "    </tr>\n",
       "    <tr>\n",
       "      <th>1</th>\n",
       "      <td>4.9</td>\n",
       "      <td>3.0</td>\n",
       "      <td>1.4</td>\n",
       "      <td>0.2</td>\n",
       "      <td>setosa</td>\n",
       "    </tr>\n",
       "    <tr>\n",
       "      <th>2</th>\n",
       "      <td>4.7</td>\n",
       "      <td>3.2</td>\n",
       "      <td>1.3</td>\n",
       "      <td>0.2</td>\n",
       "      <td>setosa</td>\n",
       "    </tr>\n",
       "    <tr>\n",
       "      <th>3</th>\n",
       "      <td>4.6</td>\n",
       "      <td>3.1</td>\n",
       "      <td>1.5</td>\n",
       "      <td>0.2</td>\n",
       "      <td>setosa</td>\n",
       "    </tr>\n",
       "    <tr>\n",
       "      <th>4</th>\n",
       "      <td>5.0</td>\n",
       "      <td>3.6</td>\n",
       "      <td>1.4</td>\n",
       "      <td>0.2</td>\n",
       "      <td>setosa</td>\n",
       "    </tr>\n",
       "  </tbody>\n",
       "</table>\n",
       "</div>"
      ],
      "text/plain": [
       "   sepal_length  sepal_width  petal_length  petal_width species\n",
       "0           5.1          3.5           1.4          0.2  setosa\n",
       "1           4.9          3.0           1.4          0.2  setosa\n",
       "2           4.7          3.2           1.3          0.2  setosa\n",
       "3           4.6          3.1           1.5          0.2  setosa\n",
       "4           5.0          3.6           1.4          0.2  setosa"
      ]
     },
     "execution_count": 3,
     "metadata": {},
     "output_type": "execute_result"
    }
   ],
   "source": [
    "import seaborn as sns\n",
    "iris = sns.load_dataset('iris')\n",
    "iris.head()"
   ]
  },
  {
   "cell_type": "code",
   "execution_count": 5,
   "metadata": {},
   "outputs": [
    {
     "data": {
      "text/plain": [
       "(150, 4)"
      ]
     },
     "execution_count": 5,
     "metadata": {},
     "output_type": "execute_result"
    }
   ],
   "source": [
    "X_iris = iris.drop('species', axis=1)\n",
    "X_iris.shape"
   ]
  },
  {
   "cell_type": "code",
   "execution_count": 6,
   "metadata": {},
   "outputs": [
    {
     "data": {
      "text/plain": [
       "(150,)"
      ]
     },
     "execution_count": 6,
     "metadata": {},
     "output_type": "execute_result"
    }
   ],
   "source": [
    "y_iris = iris['species']\n",
    "y_iris.shape"
   ]
  },
  {
   "cell_type": "markdown",
   "metadata": {},
   "source": [
    "## supervised learning: Linear Regression\n",
    "找出特徵值矩陣(feature matrix)與目標陣列(target array)之間的關係"
   ]
  },
  {
   "cell_type": "code",
   "execution_count": 21,
   "metadata": {},
   "outputs": [
    {
     "data": {
      "text/plain": [
       "<matplotlib.collections.PathCollection at 0x1a1d79a0b8>"
      ]
     },
     "execution_count": 21,
     "metadata": {},
     "output_type": "execute_result"
    },
    {
     "data": {
      "image/png": "[encoded data removed]",
      "text/plain": [
       "<matplotlib.figure.Figure at 0x1a1d73a080>"
      ]
     },
     "metadata": {},
     "output_type": "display_data"
    }
   ],
   "source": [
    "%matplotlib inline\n",
    "import matplotlib.pyplot as plt\n",
    "import numpy as np\n",
    "\n",
    "rng = np.random.RandomState(42)\n",
    "x = 10 * rng.rand(50)\n",
    "y = 2 * x - 1 + rng.randn(50)\n",
    "plt.scatter(X, y)"
   ]
  },
  {
   "cell_type": "code",
   "execution_count": 22,
   "metadata": {
    "collapsed": true
   },
   "outputs": [],
   "source": [
    "from sklearn.linear_model import LinearRegression"
   ]
  },
  {
   "cell_type": "code",
   "execution_count": 23,
   "metadata": {},
   "outputs": [
    {
     "data": {
      "text/plain": [
       "LinearRegression(copy_X=True, fit_intercept=True, n_jobs=1, normalize=False)"
      ]
     },
     "execution_count": 23,
     "metadata": {},
     "output_type": "execute_result"
    }
   ],
   "source": [
    "model = LinearRegression(fit_intercept=True)\n",
    "model"
   ]
  },
  {
   "cell_type": "code",
   "execution_count": 24,
   "metadata": {},
   "outputs": [
    {
     "data": {
      "text/plain": [
       "(50, 1)"
      ]
     },
     "execution_count": 24,
     "metadata": {},
     "output_type": "execute_result"
    }
   ],
   "source": [
    "X = x[:, np.newaxis]\n",
    "X.shape"
   ]
  },
  {
   "cell_type": "code",
   "execution_count": 25,
   "metadata": {},
   "outputs": [
    {
     "data": {
      "text/plain": [
       "LinearRegression(copy_X=True, fit_intercept=True, n_jobs=1, normalize=False)"
      ]
     },
     "execution_count": 25,
     "metadata": {},
     "output_type": "execute_result"
    }
   ],
   "source": [
    "model.fit(X, y)"
   ]
  },
  {
   "cell_type": "code",
   "execution_count": 26,
   "metadata": {},
   "outputs": [
    {
     "data": {
      "text/plain": [
       "array([ 1.9776566])"
      ]
     },
     "execution_count": 26,
     "metadata": {},
     "output_type": "execute_result"
    }
   ],
   "source": [
    "model.coef_"
   ]
  },
  {
   "cell_type": "code",
   "execution_count": 27,
   "metadata": {},
   "outputs": [
    {
     "data": {
      "text/plain": [
       "-0.90331072553111635"
      ]
     },
     "execution_count": 27,
     "metadata": {},
     "output_type": "execute_result"
    }
   ],
   "source": [
    "model.intercept_"
   ]
  },
  {
   "cell_type": "code",
   "execution_count": 29,
   "metadata": {},
   "outputs": [],
   "source": [
    "xfit = np.linspace(-1, 11)"
   ]
  },
  {
   "cell_type": "code",
   "execution_count": 30,
   "metadata": {
    "collapsed": true
   },
   "outputs": [],
   "source": [
    "Xfit = xfit[:, np.newaxis]\n",
    "yfit = model.predict(Xfit)"
   ]
  },
  {
   "cell_type": "code",
   "execution_count": 33,
   "metadata": {},
   "outputs": [
    {
     "data": {
      "text/plain": [
       "[<matplotlib.lines.Line2D at 0x1a1d733390>]"
      ]
     },
     "execution_count": 33,
     "metadata": {},
     "output_type": "execute_result"
    },
    {
     "data": {
      "image/png": "[encoded data removed]",
      "text/plain": [
       "<matplotlib.figure.Figure at 0x1a1ce5fa90>"
      ]
     },
     "metadata": {},
     "output_type": "display_data"
    }
   ],
   "source": [
    "plt.scatter(X, y)\n",
    "plt.plot(xfit, yfit, c='red')"
   ]
  },
  {
   "cell_type": "markdown",
   "metadata": {},
   "source": [
    "## Hyperparameters and Model Validation"
   ]
  },
  {
   "cell_type": "markdown",
   "metadata": {},
   "source": [
    "1. 選擇模型(linear regression, neural net, SVM...)\n",
    "2. 決定模型參數\n",
    "3. 利用訓練資料集(training data set)建立模型(找出模型需要的參數) - fit the model\n",
    "4. 利用測試資料集(test data set)驗證模型 - good fit to the data\n",
    "   - 比較預測值(模型產生)及實際值(測試資料集提供)\n",
    "5. 使用模型預測新資料案例"
   ]
  },
  {
   "cell_type": "markdown",
   "metadata": {},
   "source": [
    "## cross validation\n",
    "將資料分成n份，使用其中一份作為測試資料集，另外n-1份作為訓練資料集，針對每一份資料執行模型建立與模型驗證，累計平均每一次過程的驗證效能參數，藉此找出較佳的模型參數。"
   ]
  },
  {
   "cell_type": "markdown",
   "metadata": {},
   "source": [
    "## model underfit\n",
    "所建立的模型複雜度不足以解釋資料的特徵性，因此產生高的偏差值。"
   ]
  },
  {
   "cell_type": "markdown",
   "metadata": {},
   "source": [
    "## model overfit\n",
    "所建立的模型複雜度足以解釋訓練資料的特徵性，可以精確地描述訓練資料。太注重訓練資料的模型複雜度而忽略測試資料(新資料)的雜訊，以致於產生較高的變異性。"
   ]
  },
  {
   "cell_type": "code",
   "execution_count": 36,
   "metadata": {},
   "outputs": [
    {
     "data": {
      "text/plain": [
       "<matplotlib.text.Text at 0x1a1e9382e8>"
      ]
     },
     "execution_count": 36,
     "metadata": {},
     "output_type": "execute_result"
    },
    {
     "data": {
      "image/png": "[encoded data removed]",
      "text/plain": [
       "<matplotlib.figure.Figure at 0x10c074d68>"
      ]
     },
     "metadata": {},
     "output_type": "display_data"
    }
   ],
   "source": [
    "import numpy as np\n",
    "\n",
    "def make_data(N=30, err=0.8, rseed=1):\n",
    "    # randomly sample the data\n",
    "    rng = np.random.RandomState(rseed)\n",
    "    X = rng.rand(N, 1) ** 2\n",
    "    y = 10 - 1. / (X.ravel() + 0.1)\n",
    "    if err > 0:\n",
    "        y += err * rng.randn(N)\n",
    "    return X, y\n",
    "\n",
    "from sklearn.preprocessing import PolynomialFeatures\n",
    "from sklearn.linear_model import LinearRegression\n",
    "from sklearn.pipeline import make_pipeline\n",
    "\n",
    "def PolynomialRegression(degree=2, **kwargs):\n",
    "    return make_pipeline(PolynomialFeatures(degree),\n",
    "                         LinearRegression(**kwargs))\n",
    "X, y = make_data()\n",
    "xfit = np.linspace(-0.1, 1.0, 1000)[:, None]\n",
    "model1 = PolynomialRegression(1).fit(X, y)\n",
    "model20 = PolynomialRegression(20).fit(X, y)\n",
    "\n",
    "fig, ax = plt.subplots(1, 2, figsize=(16, 6))\n",
    "fig.subplots_adjust(left=0.0625, right=0.95, wspace=0.1)\n",
    "\n",
    "ax[0].scatter(X.ravel(), y, s=40)\n",
    "ax[0].plot(xfit.ravel(), model1.predict(xfit), color='gray')\n",
    "ax[0].axis([-0.1, 1.0, -2, 14])\n",
    "ax[0].set_title('High-bias model: Underfits the data', size=14)\n",
    "\n",
    "ax[1].scatter(X.ravel(), y, s=40)\n",
    "ax[1].plot(xfit.ravel(), model20.predict(xfit), color='gray')\n",
    "ax[1].axis([-0.1, 1.0, -2, 14])\n",
    "ax[1].set_title('High-variance model: Overfits the data', size=14)\n",
    "\n",
    "#fig.savefig('figures/05.03-bias-variance.png')"
   ]
  },
  {
   "cell_type": "code",
   "execution_count": 37,
   "metadata": {},
   "outputs": [
    {
     "data": {
      "text/plain": [
       "<matplotlib.text.Text at 0x1a1ee186d8>"
      ]
     },
     "execution_count": 37,
     "metadata": {},
     "output_type": "execute_result"
    },
    {
     "data": {
      "image/png": "[encoded data removed]",
      "text/plain": [
       "<matplotlib.figure.Figure at 0x1a1dc4e908>"
      ]
     },
     "metadata": {},
     "output_type": "display_data"
    }
   ],
   "source": [
    "fig, ax = plt.subplots(1, 2, figsize=(16, 6))\n",
    "fig.subplots_adjust(left=0.0625, right=0.95, wspace=0.1)\n",
    "\n",
    "X2, y2 = make_data(10, rseed=42)\n",
    "\n",
    "ax[0].scatter(X.ravel(), y, s=40, c='blue')\n",
    "ax[0].plot(xfit.ravel(), model1.predict(xfit), color='gray')\n",
    "ax[0].axis([-0.1, 1.0, -2, 14])\n",
    "ax[0].set_title('High-bias model: Underfits the data', size=14)\n",
    "ax[0].scatter(X2.ravel(), y2, s=40, c='red')\n",
    "ax[0].text(0.02, 0.98, \"training score: $R^2$ = {0:.2f}\".format(model1.score(X, y)),\n",
    "           ha='left', va='top', transform=ax[0].transAxes, size=14, color='blue')\n",
    "ax[0].text(0.02, 0.91, \"validation score: $R^2$ = {0:.2f}\".format(model1.score(X2, y2)),\n",
    "           ha='left', va='top', transform=ax[0].transAxes, size=14, color='red')\n",
    "\n",
    "ax[1].scatter(X.ravel(), y, s=40, c='blue')\n",
    "ax[1].plot(xfit.ravel(), model20.predict(xfit), color='gray')\n",
    "ax[1].axis([-0.1, 1.0, -2, 14])\n",
    "ax[1].set_title('High-variance model: Overfits the data', size=14)\n",
    "ax[1].scatter(X2.ravel(), y2, s=40, c='red')\n",
    "ax[1].text(0.02, 0.98, \"training score: $R^2$ = {0:.2g}\".format(model20.score(X, y)),\n",
    "           ha='left', va='top', transform=ax[1].transAxes, size=14, color='blue')\n",
    "ax[1].text(0.02, 0.91, \"validation score: $R^2$ = {0:.2g}\".format(model20.score(X2, y2)),\n",
    "           ha='left', va='top', transform=ax[1].transAxes, size=14, color='red')\n",
    "\n",
    "#fig.savefig('figures/05.03-bias-variance-2.png')"
   ]
  },
  {
   "cell_type": "markdown",
   "metadata": {},
   "source": [
    "## Coefficient of Determination $R^2$\n",
    "預測值是否逼近目標值的平均"
   ]
  },
  {
   "cell_type": "markdown",
   "metadata": {},
   "source": [
    "* $R^2$ = 1, yes\n",
    "* $R^2$ = 0, 使用平均值較佳"
   ]
  },
  {
   "cell_type": "code",
   "execution_count": null,
   "metadata": {
    "collapsed": true
   },
   "outputs": [],
   "source": []
  }
 ],
 "metadata": {
  "kernelspec": {
   "display_name": "Python 3",
   "language": "python",
   "name": "python3"
  },
  "language_info": {
   "codemirror_mode": {
    "name": "ipython",
    "version": 3
   },
   "file_extension": ".py",
   "mimetype": "text/x-python",
   "name": "python",
   "nbconvert_exporter": "python",
   "pygments_lexer": "ipython3",
   "version": "3.6.2"
  }
 },
 "nbformat": 4,
 "nbformat_minor": 2
}
