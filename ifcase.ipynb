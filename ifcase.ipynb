{
 "cells": [
  {
   "cell_type": "markdown",
   "metadata": {},
   "source": [
    "## 選擇結構"
   ]
  },
  {
   "cell_type": "markdown",
   "metadata": {},
   "source": [
    "### 簡單if結構\n",
    "\n",
    "```python\n",
    "if (condition):\n",
    "    code block\n",
    "```"
   ]
  },
  {
   "cell_type": "code",
   "execution_count": 1,
   "metadata": {},
   "outputs": [
    {
     "name": "stdout",
     "output_type": "stream",
     "text": [
      "80.0\n"
     ]
    }
   ],
   "source": [
    "price = 100\n",
    "discount = 0.8\n",
    "has_coupound = True\n",
    "if (has_coupound):\n",
    "    price = price * discount\n",
    "print(price)"
   ]
  },
  {
   "cell_type": "markdown",
   "metadata": {},
   "source": [
    "### 雙向if結構\n",
    "\n",
    "```python\n",
    "if (condition):\n",
    "    code block1\n",
    "else:\n",
    "    code block2\n",
    "```"
   ]
  },
  {
   "cell_type": "code",
   "execution_count": 2,
   "metadata": {},
   "outputs": [
    {
     "name": "stdout",
     "output_type": "stream",
     "text": [
      "n is zero or even!\n"
     ]
    }
   ],
   "source": [
    "n = 0\n",
    "if (n%2==1): #n除2的餘數若是1，n為奇數\n",
    "    print(\"n is odd number!\")\n",
    "else:\n",
    "    print(\"n is zero or even!\")\n"
   ]
  },
  {
   "cell_type": "markdown",
   "metadata": {},
   "source": [
    "### 鏈狀if結構\n",
    "\n",
    "```python\n",
    "if (condition 1):\n",
    "    code block1\n",
    "elif (condition 2):\n",
    "    code block2\n",
    "# ...\n",
    "elif (condition n):\n",
    "    code blockn\n",
    "else:\n",
    "    code others\n",
    "```"
   ]
  },
  {
   "cell_type": "code",
   "execution_count": 3,
   "metadata": {},
   "outputs": [
    {
     "name": "stdout",
     "output_type": "stream",
     "text": [
      "100 is even\n"
     ]
    }
   ],
   "source": [
    "n = 100\n",
    "\n",
    "if (n%2 != 0):\n",
    "    print(\"{} is odd\".format(n))\n",
    "elif (n==0):\n",
    "    print(\"{} is zero\".format(n))\n",
    "else:\n",
    "    print(\"{} is even\".format(n))"
   ]
  },
  {
   "cell_type": "markdown",
   "metadata": {},
   "source": [
    "### 巢狀if結構"
   ]
  },
  {
   "cell_type": "markdown",
   "metadata": {
    "collapsed": true
   },
   "source": [
    "```python\n",
    "if (condtion1):\n",
    "    if (condition2):\n",
    "        code block\n",
    "    else:\n",
    "        code blcok\n",
    "else:\n",
    "    code block\n",
    "    \n",
    "```"
   ]
  },
  {
   "cell_type": "code",
   "execution_count": null,
   "metadata": {
    "collapsed": true
   },
   "outputs": [],
   "source": [
    "n = 0\n",
    "\n",
    "if (n%==0):\n",
    "    if (n==0):\n",
    "        print(\"{} is zero\".format(n))\n",
    "    else:\n",
    "        print(\"{} is even\".format(n))\n",
    "else:\n",
    "    print(\"{} is odd\".format(n))"
   ]
  },
  {
   "cell_type": "markdown",
   "metadata": {},
   "source": [
    "### 範例：計算BMI，並給予分類建議\n",
    "$$ BMI = \\frac{wt}{ht^2}$$\n",
    "體重(wt)單位：公斤，身高(ht)單位：公尺\n",
    "\n",
    "| 體重分類 | BMI數值範圍 |\n",
    "| :-------: | :----------: |\n",
    "| 體重過輕  | BMI < 18.5 |\n",
    "| 正常範圍  | 18.5 <= BMI < 24|\n",
    "| 過重     | 24 <= BMI < 27|\n",
    "| 輕度肥胖 | 27 <= BMI < 30 |\n",
    "| 中度肥胖 | 30 <= BMI < 35|\n",
    "|重動肥胖  | BMI >= 35|"
   ]
  },
  {
   "cell_type": "code",
   "execution_count": 5,
   "metadata": {},
   "outputs": [
    {
     "name": "stdout",
     "output_type": "stream",
     "text": [
      "輸入體重(公斤) ： 70\n",
      "輸入身高(公分) ： 164\n",
      "BMI = 26.03\n",
      "過重\n"
     ]
    }
   ],
   "source": [
    "wt = float(input(\"輸入體重(公斤) ： \"))\n",
    "ht = float(input(\"輸入身高(公分) ： \"))\n",
    "ht = ht/100\n",
    "BMI = wt/(ht**2)\n",
    "#print(\"BMI = {0:.2f}\".format(bmi))\n",
    "print(\"BMI = %.2f\" % bmi)\n",
    "\n",
    "if (BMI < 18.5):\n",
    "    print(\"體重過輕\")\n",
    "elif (BMI >= 18.5 and BMI < 24):\n",
    "    print(\"正常\")\n",
    "elif (BMI >= 24 and BMI < 27):    \n",
    "    print(\"過重\")\n",
    "elif (BMI >= 27 and BMI < 30):    \n",
    "    print(\"輕度肥胖\")\n",
    "elif (BMI >= 30 and BMI < 35):    \n",
    "    print(\"中度肥胖\")\n",
    "else:\n",
    "    print(\"重度肥胖\")"
   ]
  },
  {
   "cell_type": "code",
   "execution_count": null,
   "metadata": {
    "collapsed": true
   },
   "outputs": [],
   "source": []
  },
  {
   "cell_type": "code",
   "execution_count": null,
   "metadata": {
    "collapsed": true
   },
   "outputs": [],
   "source": []
  }
 ],
 "metadata": {
  "kernelspec": {
   "display_name": "Python 3",
   "language": "python",
   "name": "python3"
  },
  "language_info": {
   "codemirror_mode": {
    "name": "ipython",
    "version": 3
   },
   "file_extension": ".py",
   "mimetype": "text/x-python",
   "name": "python",
   "nbconvert_exporter": "python",
   "pygments_lexer": "ipython3",
   "version": "3.6.2"
  }
 },
 "nbformat": 4,
 "nbformat_minor": 2
}
