{
 "cells": [
  {
   "cell_type": "markdown",
   "metadata": {},
   "source": [
    "## 決策樹\n",
    "\n",
    "![決策樹](./pic/decision_tree_2.png)\n",
    "\n",
    "1. Root Node: It represents entire population or sample and this further gets divided into two or more homogeneous sets.\n",
    "2. Splitting: It is a process of dividing a node into two or more sub-nodes.\n",
    "3. Decision Node: When a sub-node splits into further sub-nodes, then it is called decision node.\n",
    "4. Leaf/ Terminal Node: Nodes do not split is called Leaf or Terminal node.\n",
    "5. Pruning: When we remove sub-nodes of a decision node, this process is called pruning. You can say opposite process of splitting.\n",
    "6. Branch / Sub-Tree: A sub section of entire tree is called branch or sub-tree.\n",
    "7. Parent and Child Node: A node, which is divided into sub-nodes is called parent node of sub-nodes where as sub-nodes are the child of parent node."
   ]
  },
  {
   "cell_type": "markdown",
   "metadata": {},
   "source": [
    "## 分類樹與回歸樹間的主要異同\n",
    "\n",
    "* 回歸樹(Regression trees)用於因變數為連續性的，分類樹(Classification trees)用於因變數為類別性。\n",
    "* 以回歸樹為例，經由訓練資料得到的結果(在葉節點)為區域中的觀測平均值。\n",
    "* 以分類樹為例，經由訓練資料得到的結果為葉節點的值為落在決策區域所決定。\n",
    "* 兩者都將自變數分割成獨立/不重疊的預測區域。\n",
    "* 兩者都採用「top-down greedy」方法，又稱為「遞迴二元分割」(recursive binary splitting)。\n",
    "* 分割程序一直到使用者定義的停止條件後才停止。\n",
    "* 在二種方法中，分割程序經由停止條件達到完全長成的樹，但這些完全長成樹可能造成Overfit資料，對未知資料的預測能力差。因此，可使用修剪樹(tree pruning)技術來解決overfitting問題。"
   ]
  },
  {
   "cell_type": "markdown",
   "metadata": {},
   "source": [
    "## 3.決策樹如何決定從哪裡分割？\n",
    "\n",
    "決策樹的分割決定深深影響決策樹的準確度，對分類與回歸數而言，決策準則不同。決策樹使用多項演算法將一個節點分割成二或更多的子節點。分割的準則將增加子節點的同質性。換言之，針對目標變數，節點的純度增加。決策樹針對所有可能的變數，選擇分割以形成最純的子節點。演算法根據目標變數決定，以下是最重要的四種分割演算法：\n",
    "\n"
   ]
  },
  {
   "cell_type": "markdown",
   "metadata": {},
   "source": [
    "### Gini Index\n",
    "Gini指數主要是在一個母體中隨機選取二個物件，他們必須是相同類型，及如果母體是純的，則其機率為1。\n",
    "\n",
    "1. Gini Index可用於類別目標變數(categorical target variable)，如「成功」或「失敗」。\n",
    "2. Gini Index僅執行二元分割(Binary splits)。\n",
    "3. Gini Index值越高，純度越高。\n",
    "4. CART (分類與回歸樹) 使用Gini方法論來執行二元分割\n",
    "\n",
    "對一個分割計算Gini的步驟\n",
    "\n",
    "1. 計算每一個子樹(sub-nodes)的Gini，$p^2+q^2$，(p = 1-q)，p, q是「成功」與「失敗」的機率。\n",
    "2. 對每一個分割節點計算權重Gini分數。"
   ]
  },
  {
   "cell_type": "markdown",
   "metadata": {},
   "source": [
    "## 案例：\n",
    "展示以上的計算範例，依據目標變數(是否玩蟋蟀)來分類學生。下圖說明依據二個屬性，性別及班級，來分割資料。使用Gini Index來找出分割點。(較高的同質子樹)\n"
   ]
  },
  {
   "cell_type": "markdown",
   "metadata": {},
   "source": [
    "![example tree](./pic/Decision_Tree_Algorithm1.png)"
   ]
  },
  {
   "cell_type": "markdown",
   "metadata": {},
   "source": [
    "### 依性別分割"
   ]
  },
  {
   "cell_type": "code",
   "execution_count": 21,
   "metadata": {
    "collapsed": true
   },
   "outputs": [],
   "source": [
    "# for Female node\n",
    "gini_femail = 0.2*0.2 + 0.8*0.8\n",
    "# for male node\n",
    "gini_male = 0.65*0.65 + 0.35*0.35\n",
    "# weighted gini index\n",
    "gini_gender = (10/30)*gini_femail + (20/30)*gini_male"
   ]
  },
  {
   "cell_type": "code",
   "execution_count": 22,
   "metadata": {},
   "outputs": [
    {
     "data": {
      "text/plain": [
       "0.5900000000000001"
      ]
     },
     "execution_count": 22,
     "metadata": {},
     "output_type": "execute_result"
    }
   ],
   "source": [
    "gini_gender"
   ]
  },
  {
   "cell_type": "markdown",
   "metadata": {},
   "source": [
    "### 依班級分割"
   ]
  },
  {
   "cell_type": "code",
   "execution_count": 23,
   "metadata": {
    "collapsed": true
   },
   "outputs": [],
   "source": [
    "# for class IX\n",
    "gini_ix = 0.43*0.43 + 0.57*0.57\n",
    "# for class X\n",
    "gini_x = 0.56*0.56 + 0.44*0.44\n",
    "# weighted gini index\n",
    "gini_class = (14/30)*gini_ix + (16/30)*gini_x"
   ]
  },
  {
   "cell_type": "code",
   "execution_count": 24,
   "metadata": {},
   "outputs": [
    {
     "data": {
      "text/plain": [
       "0.5084133333333334"
      ]
     },
     "execution_count": 24,
     "metadata": {},
     "output_type": "execute_result"
    }
   ],
   "source": [
    "gini_class"
   ]
  },
  {
   "cell_type": "markdown",
   "metadata": {},
   "source": [
    "依據Gini Index的計算，應該依性別來分割。"
   ]
  },
  {
   "cell_type": "markdown",
   "metadata": {},
   "source": [
    "## Chi-Square\n",
    "\n",
    "另一種演算法是依據父節點與子節點間的統計的顯著性。計算目標變數的觀察與期望頻率的標準差的平方和。\n",
    "\n",
    "1. 可用於類別目標變數，「成功」或「失敗」。\n",
    "2. 可執行二個或更多分割\n",
    "3. Chi-Square值越高，表示父節點與子節點間的統計顯著性越大\n",
    "\n",
    "### 每個節點的Chi-Square計算\n",
    "\n",
    "1. Chi-Square = $\\sqrt\\frac{(Actual-Expected)^2}{Expected}$\n",
    "\n",
    "2. 建立的樹稱為 CHAID樹 (Chi-square Automatic Interaction Detector)\n"
   ]
  },
  {
   "cell_type": "markdown",
   "metadata": {
    "collapsed": true
   },
   "source": [
    "### 依性別分割\n",
    "\n",
    "1. 針對女性，共有10為學生，2位玩蟋蟀，8位不玩。\n",
    "2. 計算玩蟋蟀與不玩蟋蟀的學生期望值，共30位學生，15位學生玩蟋蟀，期望值為0.5。故10位女生中應有5位玩蟋蟀。\n",
    "3. 計算差值，「玩蟋蟀」($2-5=-3$)，「不玩蟋蟀」($8-5=3$)\n",
    "4. 計算Chi-Square\n",
    "\n",
    "** 同樣過程計算男性玩蟋蟀的Chi-Square，獲得以下結果"
   ]
  },
  {
   "cell_type": "markdown",
   "metadata": {},
   "source": [
    "性別 | 玩蟋蟀 | 不玩蟋蟀 | 總人數 | 玩蟋蟀期望值 | 不玩蟋蟀期望值 | 玩蟋蟀差值 | 不玩蟋蟀差值\n",
    "----|-------|---------|-------|------------|--------------|----------|-----------\n",
    "女   | 2    |    8    |   10  |    5       |      5       |     -3   |    3    \n",
    "男   | 13   |    7    |   20  |    10      |      10      |     3    |    -3 "
   ]
  },
  {
   "cell_type": "code",
   "execution_count": 18,
   "metadata": {},
   "outputs": [
    {
     "data": {
      "text/plain": [
       "4.5806481691007752"
      ]
     },
     "execution_count": 18,
     "metadata": {},
     "output_type": "execute_result"
    }
   ],
   "source": [
    "# Chi-Square value\n",
    "import numpy as np\n",
    "np.sqrt((2-5)**2/5)+np.sqrt((8-5)**2/5)+np.sqrt((13-10)**2/10)+np.sqrt((7-10)**2/10)"
   ]
  },
  {
   "cell_type": "markdown",
   "metadata": {},
   "source": [
    "### 依班級分割"
   ]
  },
  {
   "cell_type": "markdown",
   "metadata": {},
   "source": [
    "性別 | 玩蟋蟀 | 不玩蟋蟀 | 總人數 | 玩蟋蟀期望值 | 不玩蟋蟀期望值 | 玩蟋蟀差值 | 不玩蟋蟀差值\n",
    "----|-------|---------|-------|------------|--------------|----------|-----------\n",
    "IX   | 6    |    8    |   14  |   7       |      7       |     -1   |    1    \n",
    "X   | 9   |    7    |   16  |    8      |      8      |     1    |    -1 "
   ]
  },
  {
   "cell_type": "code",
   "execution_count": 15,
   "metadata": {},
   "outputs": [
    {
     "data": {
      "text/plain": [
       "1.4630357272050019"
      ]
     },
     "execution_count": 15,
     "metadata": {},
     "output_type": "execute_result"
    }
   ],
   "source": [
    "# Chi-Square value\n",
    "np.sqrt((6-7)**2/7)+np.sqrt((8-7)**2/7)+np.sqrt((9-8)**2/8)+np.sqrt((7-8)**2/8)"
   ]
  },
  {
   "cell_type": "markdown",
   "metadata": {},
   "source": [
    "### 結論\n",
    "\n",
    "|    |玩蟋蟀|不玩蟋蟀|總和  |\n",
    "|--- |-----|-------|--- |\n",
    "|性別|     |      | 4.58|\n",
    "|班級|     |      |1.46 |"
   ]
  },
  {
   "cell_type": "markdown",
   "metadata": {},
   "source": [
    "## Information Gain"
   ]
  },
  {
   "cell_type": "markdown",
   "metadata": {},
   "source": [
    "以下A圖較B圖（較C圖）需要更多的資訊去描述，C可稱最純，B其次，C最不純。可以推論出不純的資料需要較多的資訊來描述它。\n",
    "\n",
    "![information gain](./pic/Information_Gain_Decision_Tree2.png)\n",
    "\n",
    "資訊理論中使用 Entropy 來描述系統的非組織的程度。如果系統的組成非常同質，則 $Entropy = 0$，如果系統不同組成各佔一半，則 $Entropy = 1$。"
   ]
  },
  {
   "cell_type": "markdown",
   "metadata": {},
   "source": [
    "Entropy 公式：\n",
    "\n",
    "$$ -p*log_2p-q*log_2q $$\n",
    "* p, q 代表「成功」與「失敗」的機率\n",
    "* $Entropy$可用來分割類別，$Entropy$越低，越可分割成一類。"
   ]
  },
  {
   "cell_type": "markdown",
   "metadata": {},
   "source": [
    "### 依 $Entropy$ 執行分割\n",
    "\n",
    "1. 計算父節點 $Entropy_{parent}$\n",
    "2. 計算每一個可能的分割節點 $Entropy_{node}$\n",
    "3. 選取最小 $Entropy$ 的節點進行分割"
   ]
  },
  {
   "cell_type": "markdown",
   "metadata": {},
   "source": [
    "#### 學生玩蟋蟀案例"
   ]
  },
  {
   "cell_type": "code",
   "execution_count": 3,
   "metadata": {},
   "outputs": [
    {
     "data": {
      "text/plain": [
       "1.0"
      ]
     },
     "execution_count": 3,
     "metadata": {},
     "output_type": "execute_result"
    }
   ],
   "source": [
    "import numpy as np\n",
    "# Entropy for parent node \n",
    "-(15/30)*np.log2(15/30)-(15/30)*np.log2(15/30) \n",
    "# result 1 shows that it is a impure node."
   ]
  },
  {
   "cell_type": "code",
   "execution_count": 5,
   "metadata": {},
   "outputs": [
    {
     "data": {
      "text/plain": [
       "0.72192809488736231"
      ]
     },
     "execution_count": 5,
     "metadata": {},
     "output_type": "execute_result"
    }
   ],
   "source": [
    "# Entropy for Female node \n",
    "-(2/10)* np.log2(2/10) - (8/10)*np.log2(8/10) "
   ]
  },
  {
   "cell_type": "code",
   "execution_count": 6,
   "metadata": {},
   "outputs": [
    {
     "data": {
      "text/plain": [
       "0.93406805537549098"
      ]
     },
     "execution_count": 6,
     "metadata": {},
     "output_type": "execute_result"
    }
   ],
   "source": [
    "# for male node\n",
    "-(13/20)*np.log2(13/20) - (7/20)*np.log2(7/20)"
   ]
  },
  {
   "cell_type": "code",
   "execution_count": 7,
   "metadata": {},
   "outputs": [
    {
     "data": {
      "text/plain": [
       "0.86"
      ]
     },
     "execution_count": 7,
     "metadata": {},
     "output_type": "execute_result"
    }
   ],
   "source": [
    "# Entropy for split Gender = Weighted entropy of sub-nodes \n",
    "(10/30)*0.72 + (20/30)*0.93"
   ]
  },
  {
   "cell_type": "code",
   "execution_count": 8,
   "metadata": {},
   "outputs": [
    {
     "data": {
      "text/plain": [
       "0.98522813603425152"
      ]
     },
     "execution_count": 8,
     "metadata": {},
     "output_type": "execute_result"
    }
   ],
   "source": [
    "# Entropy for Class IX node, \n",
    "-(6/14) * np.log2(6/14) - (8/14) * np.log2(8/14) "
   ]
  },
  {
   "cell_type": "code",
   "execution_count": 9,
   "metadata": {},
   "outputs": [
    {
     "data": {
      "text/plain": [
       "0.98869940828849745"
      ]
     },
     "execution_count": 9,
     "metadata": {},
     "output_type": "execute_result"
    }
   ],
   "source": [
    "#for Class X node,  \n",
    "-(9/16)* np.log2(9/16) - (7/16)* np.log2(7/16)"
   ]
  },
  {
   "cell_type": "code",
   "execution_count": 11,
   "metadata": {},
   "outputs": [
    {
     "data": {
      "text/plain": [
       "0.9853333333333334"
      ]
     },
     "execution_count": 11,
     "metadata": {},
     "output_type": "execute_result"
    }
   ],
   "source": [
    "#Entropy for split Class \n",
    "(14/30)*0.98 + (16/30)*0.99"
   ]
  },
  {
   "cell_type": "markdown",
   "metadata": {},
   "source": [
    "### $$information-gain = 1-Entropy$$"
   ]
  },
  {
   "cell_type": "markdown",
   "metadata": {},
   "source": [
    "## Reduction in Variance\n",
    "\n",
    "降低變異量可以用來針對連續性變數來執行分割。較低的變異量可作為分割資料的準則。\n",
    "$$variance = \\sum_{i=1}^{n}\\frac{({x_i-\\overline X})^2}{n}$$\n",
    "* $\\overline X = \\frac{\\sum_{i=1}^{n}x_i}{n}$，$\\overline X$ 表示 $x_i$ 平均值\n",
    "* $x_i$ 是觀察值，n 為資料數\n",
    "\n",
    "### 計算變異量的步驟：\n",
    "* 計算每個節點的變異量\n",
    "* 計算分割決定的所有變異量的權重平均"
   ]
  },
  {
   "cell_type": "markdown",
   "metadata": {},
   "source": [
    "### 計算範例"
   ]
  },
  {
   "cell_type": "markdown",
   "metadata": {},
   "source": [
    "## 防止 overfit 問題\n",
    "\n",
    "* 設定 tree size 限制\n",
    "* 修剪樹 (tree pruning)"
   ]
  },
  {
   "cell_type": "markdown",
   "metadata": {},
   "source": [
    "### 重要參數\n",
    "* Minimum samples for a node split /分割節點的最少資料量\n",
    "  * 考慮分割節點的資料量\n",
    "  * 資料量的限制值越高，不容易建立較複雜模式\n",
    "  * 太高的值造成unferfitting\n",
    "* Minimum samples for a terminal node (leaf)/葉節點的最少資料量\n",
    "  * 設定葉節點的最少資料量限制\n",
    "  * 用來控制 overfitting 問題\n",
    "  * 較小值可用來處理 imbalanced 類別問題\n",
    "* Maximum depth of tree (vertical depth)/樹的最大深度\n",
    "  * 樹的最大深度\n",
    "  * 較大的深度造成複雜度高模型\n",
    "  * 可利用 cross-validation來調整樹的深度\n",
    "* Maximum number of terminal nodes/葉節點最大數量\n",
    "* Maximum features to consider for split/分割的最大屬性數量\n",
    "  * 屬性的數量，可以由隨機選取屬性\n",
    "  * $\\sqrt{屬性數量}$可作為一個參考值，$30-40$%的屬性總數量為宜。\n",
    "  * 較高的值可能造成 overfitting問題。"
   ]
  },
  {
   "cell_type": "markdown",
   "metadata": {},
   "source": [
    "## 修剪樹(tree pruning)\n",
    "\n",
    "### 簡單的運作概念\n",
    "\n",
    "1. 建立一個較大深度的樹\n",
    "2. 與上一層比較，獲得較差結果\n",
    "3. 決定捨棄葉節點"
   ]
  },
  {
   "cell_type": "markdown",
   "metadata": {},
   "source": [
    "## 運用sklearn進行分類數"
   ]
  },
  {
   "cell_type": "code",
   "execution_count": 1,
   "metadata": {
    "collapsed": true
   },
   "outputs": [],
   "source": [
    "from sklearn.datasets import load_iris\n",
    "from sklearn import tree"
   ]
  },
  {
   "cell_type": "code",
   "execution_count": 2,
   "metadata": {
    "collapsed": true
   },
   "outputs": [],
   "source": [
    "iris = load_iris()"
   ]
  },
  {
   "cell_type": "code",
   "execution_count": 3,
   "metadata": {},
   "outputs": [
    {
     "data": {
      "text/plain": [
       "array([[ 5.1,  3.5,  1.4,  0.2],\n",
       "       [ 4.9,  3. ,  1.4,  0.2],\n",
       "       [ 4.7,  3.2,  1.3,  0.2],\n",
       "       [ 4.6,  3.1,  1.5,  0.2],\n",
       "       [ 5. ,  3.6,  1.4,  0.2],\n",
       "       [ 5.4,  3.9,  1.7,  0.4],\n",
       "       [ 4.6,  3.4,  1.4,  0.3],\n",
       "       [ 5. ,  3.4,  1.5,  0.2],\n",
       "       [ 4.4,  2.9,  1.4,  0.2],\n",
       "       [ 4.9,  3.1,  1.5,  0.1],\n",
       "       [ 5.4,  3.7,  1.5,  0.2],\n",
       "       [ 4.8,  3.4,  1.6,  0.2],\n",
       "       [ 4.8,  3. ,  1.4,  0.1],\n",
       "       [ 4.3,  3. ,  1.1,  0.1],\n",
       "       [ 5.8,  4. ,  1.2,  0.2],\n",
       "       [ 5.7,  4.4,  1.5,  0.4],\n",
       "       [ 5.4,  3.9,  1.3,  0.4],\n",
       "       [ 5.1,  3.5,  1.4,  0.3],\n",
       "       [ 5.7,  3.8,  1.7,  0.3],\n",
       "       [ 5.1,  3.8,  1.5,  0.3],\n",
       "       [ 5.4,  3.4,  1.7,  0.2],\n",
       "       [ 5.1,  3.7,  1.5,  0.4],\n",
       "       [ 4.6,  3.6,  1. ,  0.2],\n",
       "       [ 5.1,  3.3,  1.7,  0.5],\n",
       "       [ 4.8,  3.4,  1.9,  0.2],\n",
       "       [ 5. ,  3. ,  1.6,  0.2],\n",
       "       [ 5. ,  3.4,  1.6,  0.4],\n",
       "       [ 5.2,  3.5,  1.5,  0.2],\n",
       "       [ 5.2,  3.4,  1.4,  0.2],\n",
       "       [ 4.7,  3.2,  1.6,  0.2],\n",
       "       [ 4.8,  3.1,  1.6,  0.2],\n",
       "       [ 5.4,  3.4,  1.5,  0.4],\n",
       "       [ 5.2,  4.1,  1.5,  0.1],\n",
       "       [ 5.5,  4.2,  1.4,  0.2],\n",
       "       [ 4.9,  3.1,  1.5,  0.1],\n",
       "       [ 5. ,  3.2,  1.2,  0.2],\n",
       "       [ 5.5,  3.5,  1.3,  0.2],\n",
       "       [ 4.9,  3.1,  1.5,  0.1],\n",
       "       [ 4.4,  3. ,  1.3,  0.2],\n",
       "       [ 5.1,  3.4,  1.5,  0.2],\n",
       "       [ 5. ,  3.5,  1.3,  0.3],\n",
       "       [ 4.5,  2.3,  1.3,  0.3],\n",
       "       [ 4.4,  3.2,  1.3,  0.2],\n",
       "       [ 5. ,  3.5,  1.6,  0.6],\n",
       "       [ 5.1,  3.8,  1.9,  0.4],\n",
       "       [ 4.8,  3. ,  1.4,  0.3],\n",
       "       [ 5.1,  3.8,  1.6,  0.2],\n",
       "       [ 4.6,  3.2,  1.4,  0.2],\n",
       "       [ 5.3,  3.7,  1.5,  0.2],\n",
       "       [ 5. ,  3.3,  1.4,  0.2],\n",
       "       [ 7. ,  3.2,  4.7,  1.4],\n",
       "       [ 6.4,  3.2,  4.5,  1.5],\n",
       "       [ 6.9,  3.1,  4.9,  1.5],\n",
       "       [ 5.5,  2.3,  4. ,  1.3],\n",
       "       [ 6.5,  2.8,  4.6,  1.5],\n",
       "       [ 5.7,  2.8,  4.5,  1.3],\n",
       "       [ 6.3,  3.3,  4.7,  1.6],\n",
       "       [ 4.9,  2.4,  3.3,  1. ],\n",
       "       [ 6.6,  2.9,  4.6,  1.3],\n",
       "       [ 5.2,  2.7,  3.9,  1.4],\n",
       "       [ 5. ,  2. ,  3.5,  1. ],\n",
       "       [ 5.9,  3. ,  4.2,  1.5],\n",
       "       [ 6. ,  2.2,  4. ,  1. ],\n",
       "       [ 6.1,  2.9,  4.7,  1.4],\n",
       "       [ 5.6,  2.9,  3.6,  1.3],\n",
       "       [ 6.7,  3.1,  4.4,  1.4],\n",
       "       [ 5.6,  3. ,  4.5,  1.5],\n",
       "       [ 5.8,  2.7,  4.1,  1. ],\n",
       "       [ 6.2,  2.2,  4.5,  1.5],\n",
       "       [ 5.6,  2.5,  3.9,  1.1],\n",
       "       [ 5.9,  3.2,  4.8,  1.8],\n",
       "       [ 6.1,  2.8,  4. ,  1.3],\n",
       "       [ 6.3,  2.5,  4.9,  1.5],\n",
       "       [ 6.1,  2.8,  4.7,  1.2],\n",
       "       [ 6.4,  2.9,  4.3,  1.3],\n",
       "       [ 6.6,  3. ,  4.4,  1.4],\n",
       "       [ 6.8,  2.8,  4.8,  1.4],\n",
       "       [ 6.7,  3. ,  5. ,  1.7],\n",
       "       [ 6. ,  2.9,  4.5,  1.5],\n",
       "       [ 5.7,  2.6,  3.5,  1. ],\n",
       "       [ 5.5,  2.4,  3.8,  1.1],\n",
       "       [ 5.5,  2.4,  3.7,  1. ],\n",
       "       [ 5.8,  2.7,  3.9,  1.2],\n",
       "       [ 6. ,  2.7,  5.1,  1.6],\n",
       "       [ 5.4,  3. ,  4.5,  1.5],\n",
       "       [ 6. ,  3.4,  4.5,  1.6],\n",
       "       [ 6.7,  3.1,  4.7,  1.5],\n",
       "       [ 6.3,  2.3,  4.4,  1.3],\n",
       "       [ 5.6,  3. ,  4.1,  1.3],\n",
       "       [ 5.5,  2.5,  4. ,  1.3],\n",
       "       [ 5.5,  2.6,  4.4,  1.2],\n",
       "       [ 6.1,  3. ,  4.6,  1.4],\n",
       "       [ 5.8,  2.6,  4. ,  1.2],\n",
       "       [ 5. ,  2.3,  3.3,  1. ],\n",
       "       [ 5.6,  2.7,  4.2,  1.3],\n",
       "       [ 5.7,  3. ,  4.2,  1.2],\n",
       "       [ 5.7,  2.9,  4.2,  1.3],\n",
       "       [ 6.2,  2.9,  4.3,  1.3],\n",
       "       [ 5.1,  2.5,  3. ,  1.1],\n",
       "       [ 5.7,  2.8,  4.1,  1.3],\n",
       "       [ 6.3,  3.3,  6. ,  2.5],\n",
       "       [ 5.8,  2.7,  5.1,  1.9],\n",
       "       [ 7.1,  3. ,  5.9,  2.1],\n",
       "       [ 6.3,  2.9,  5.6,  1.8],\n",
       "       [ 6.5,  3. ,  5.8,  2.2],\n",
       "       [ 7.6,  3. ,  6.6,  2.1],\n",
       "       [ 4.9,  2.5,  4.5,  1.7],\n",
       "       [ 7.3,  2.9,  6.3,  1.8],\n",
       "       [ 6.7,  2.5,  5.8,  1.8],\n",
       "       [ 7.2,  3.6,  6.1,  2.5],\n",
       "       [ 6.5,  3.2,  5.1,  2. ],\n",
       "       [ 6.4,  2.7,  5.3,  1.9],\n",
       "       [ 6.8,  3. ,  5.5,  2.1],\n",
       "       [ 5.7,  2.5,  5. ,  2. ],\n",
       "       [ 5.8,  2.8,  5.1,  2.4],\n",
       "       [ 6.4,  3.2,  5.3,  2.3],\n",
       "       [ 6.5,  3. ,  5.5,  1.8],\n",
       "       [ 7.7,  3.8,  6.7,  2.2],\n",
       "       [ 7.7,  2.6,  6.9,  2.3],\n",
       "       [ 6. ,  2.2,  5. ,  1.5],\n",
       "       [ 6.9,  3.2,  5.7,  2.3],\n",
       "       [ 5.6,  2.8,  4.9,  2. ],\n",
       "       [ 7.7,  2.8,  6.7,  2. ],\n",
       "       [ 6.3,  2.7,  4.9,  1.8],\n",
       "       [ 6.7,  3.3,  5.7,  2.1],\n",
       "       [ 7.2,  3.2,  6. ,  1.8],\n",
       "       [ 6.2,  2.8,  4.8,  1.8],\n",
       "       [ 6.1,  3. ,  4.9,  1.8],\n",
       "       [ 6.4,  2.8,  5.6,  2.1],\n",
       "       [ 7.2,  3. ,  5.8,  1.6],\n",
       "       [ 7.4,  2.8,  6.1,  1.9],\n",
       "       [ 7.9,  3.8,  6.4,  2. ],\n",
       "       [ 6.4,  2.8,  5.6,  2.2],\n",
       "       [ 6.3,  2.8,  5.1,  1.5],\n",
       "       [ 6.1,  2.6,  5.6,  1.4],\n",
       "       [ 7.7,  3. ,  6.1,  2.3],\n",
       "       [ 6.3,  3.4,  5.6,  2.4],\n",
       "       [ 6.4,  3.1,  5.5,  1.8],\n",
       "       [ 6. ,  3. ,  4.8,  1.8],\n",
       "       [ 6.9,  3.1,  5.4,  2.1],\n",
       "       [ 6.7,  3.1,  5.6,  2.4],\n",
       "       [ 6.9,  3.1,  5.1,  2.3],\n",
       "       [ 5.8,  2.7,  5.1,  1.9],\n",
       "       [ 6.8,  3.2,  5.9,  2.3],\n",
       "       [ 6.7,  3.3,  5.7,  2.5],\n",
       "       [ 6.7,  3. ,  5.2,  2.3],\n",
       "       [ 6.3,  2.5,  5. ,  1.9],\n",
       "       [ 6.5,  3. ,  5.2,  2. ],\n",
       "       [ 6.2,  3.4,  5.4,  2.3],\n",
       "       [ 5.9,  3. ,  5.1,  1.8]])"
      ]
     },
     "execution_count": 3,
     "metadata": {},
     "output_type": "execute_result"
    }
   ],
   "source": [
    "iris.data"
   ]
  },
  {
   "cell_type": "code",
   "execution_count": 4,
   "metadata": {},
   "outputs": [
    {
     "data": {
      "text/plain": [
       "array([0, 0, 0, 0, 0, 0, 0, 0, 0, 0, 0, 0, 0, 0, 0, 0, 0, 0, 0, 0, 0, 0, 0,\n",
       "       0, 0, 0, 0, 0, 0, 0, 0, 0, 0, 0, 0, 0, 0, 0, 0, 0, 0, 0, 0, 0, 0, 0,\n",
       "       0, 0, 0, 0, 1, 1, 1, 1, 1, 1, 1, 1, 1, 1, 1, 1, 1, 1, 1, 1, 1, 1, 1,\n",
       "       1, 1, 1, 1, 1, 1, 1, 1, 1, 1, 1, 1, 1, 1, 1, 1, 1, 1, 1, 1, 1, 1, 1,\n",
       "       1, 1, 1, 1, 1, 1, 1, 1, 2, 2, 2, 2, 2, 2, 2, 2, 2, 2, 2, 2, 2, 2, 2,\n",
       "       2, 2, 2, 2, 2, 2, 2, 2, 2, 2, 2, 2, 2, 2, 2, 2, 2, 2, 2, 2, 2, 2, 2,\n",
       "       2, 2, 2, 2, 2, 2, 2, 2, 2, 2, 2, 2])"
      ]
     },
     "execution_count": 4,
     "metadata": {},
     "output_type": "execute_result"
    }
   ],
   "source": [
    "iris.target"
   ]
  },
  {
   "cell_type": "code",
   "execution_count": 5,
   "metadata": {
    "collapsed": true
   },
   "outputs": [],
   "source": [
    "clf = tree.DecisionTreeClassifier()\n",
    "clf = clf.fit(iris.data, iris.target)"
   ]
  },
  {
   "cell_type": "code",
   "execution_count": 8,
   "metadata": {},
   "outputs": [
    {
     "name": "stdout",
     "output_type": "stream",
     "text": [
      "DecisionTreeClassifier(class_weight=None, criterion='gini', max_depth=None,\n",
      "            max_features=None, max_leaf_nodes=None,\n",
      "            min_impurity_split=1e-07, min_samples_leaf=1,\n",
      "            min_samples_split=2, min_weight_fraction_leaf=0.0,\n",
      "            presort=False, random_state=None, splitter='best')\n"
     ]
    }
   ],
   "source": [
    "print(clf)"
   ]
  },
  {
   "cell_type": "code",
   "execution_count": 9,
   "metadata": {},
   "outputs": [
    {
     "data": {
      "text/plain": [
       "'iris.pdf'"
      ]
     },
     "execution_count": 9,
     "metadata": {},
     "output_type": "execute_result"
    }
   ],
   "source": [
    "import graphviz \n",
    "dot_data = tree.export_graphviz(clf, out_file=None)\n",
    "graph = graphviz.Source(dot_data) \n",
    "graph.render(\"iris\")"
   ]
  },
  {
   "cell_type": "code",
   "execution_count": 10,
   "metadata": {},
   "outputs": [
    {
     "data": {
      "image/svg+xml": [
       "<?xml version=\"1.0\" encoding=\"UTF-8\" standalone=\"no\"?>\n",
       "<!DOCTYPE svg PUBLIC \"-//W3C//DTD SVG 1.1//EN\"\n",
       " \"http://www.w3.org/Graphics/SVG/1.1/DTD/svg11.dtd\">\n",
       "<!-- Generated by graphviz version 2.38.0 (20140413.2041)\n",
       " -->\n",
       "<!-- Title: Tree Pages: 1 -->\n",
       "<svg width=\"872pt\" height=\"642pt\"\n",
       " viewBox=\"0.00 0.00 871.83 642.00\" xmlns=\"http://www.w3.org/2000/svg\" xmlns:xlink=\"http://www.w3.org/1999/xlink\">\n",
       "<g id=\"graph0\" class=\"graph\" transform=\"scale(1 1) rotate(0) translate(4 638)\">\n",
       "<title>Tree</title>\n",
       "<polygon fill=\"white\" stroke=\"none\" points=\"-4,4 -4,-638 867.831,-638 867.831,4 -4,4\"/>\n",
       "<!-- 0 -->\n",
       "<g id=\"node1\" class=\"node\"><title>0</title>\n",
       "<path fill=\"none\" stroke=\"black\" d=\"M519.609,-634C519.609,-634 394.146,-634 394.146,-634 388.146,-634 382.146,-628 382.146,-622 382.146,-622 382.146,-568 382.146,-568 382.146,-562 388.146,-556 394.146,-556 394.146,-556 519.609,-556 519.609,-556 525.609,-556 531.609,-562 531.609,-568 531.609,-568 531.609,-622 531.609,-622 531.609,-628 525.609,-634 519.609,-634\"/>\n",
       "<text text-anchor=\"start\" x=\"390.012\" y=\"-618.8\" font-family=\"Helvetica,sans-Serif\" font-size=\"14.00\">petal width (cm) ≤ 0.8</text>\n",
       "<text text-anchor=\"start\" x=\"416.593\" y=\"-604.8\" font-family=\"Helvetica,sans-Serif\" font-size=\"14.00\">gini = 0.6667</text>\n",
       "<text text-anchor=\"start\" x=\"411.155\" y=\"-590.8\" font-family=\"Helvetica,sans-Serif\" font-size=\"14.00\">samples = 150</text>\n",
       "<text text-anchor=\"start\" x=\"397.138\" y=\"-576.8\" font-family=\"Helvetica,sans-Serif\" font-size=\"14.00\">value = [50, 50, 50]</text>\n",
       "<text text-anchor=\"start\" x=\"412.328\" y=\"-562.8\" font-family=\"Helvetica,sans-Serif\" font-size=\"14.00\">class = setosa</text>\n",
       "</g>\n",
       "<!-- 1 -->\n",
       "<g id=\"node2\" class=\"node\"><title>1</title>\n",
       "<path fill=\"#e58139\" stroke=\"black\" d=\"M426.784,-513C426.784,-513 330.971,-513 330.971,-513 324.971,-513 318.971,-507 318.971,-501 318.971,-501 318.971,-461 318.971,-461 318.971,-455 324.971,-449 330.971,-449 330.971,-449 426.784,-449 426.784,-449 432.784,-449 438.784,-455 438.784,-461 438.784,-461 438.784,-501 438.784,-501 438.784,-507 432.784,-513 426.784,-513\"/>\n",
       "<text text-anchor=\"start\" x=\"350.272\" y=\"-497.8\" font-family=\"Helvetica,sans-Serif\" font-size=\"14.00\">gini = 0.0</text>\n",
       "<text text-anchor=\"start\" x=\"337.048\" y=\"-483.8\" font-family=\"Helvetica,sans-Serif\" font-size=\"14.00\">samples = 50</text>\n",
       "<text text-anchor=\"start\" x=\"326.924\" y=\"-469.8\" font-family=\"Helvetica,sans-Serif\" font-size=\"14.00\">value = [50, 0, 0]</text>\n",
       "<text text-anchor=\"start\" x=\"334.328\" y=\"-455.8\" font-family=\"Helvetica,sans-Serif\" font-size=\"14.00\">class = setosa</text>\n",
       "</g>\n",
       "<!-- 0&#45;&gt;1 -->\n",
       "<g id=\"edge1\" class=\"edge\"><title>0&#45;&gt;1</title>\n",
       "<path fill=\"none\" stroke=\"black\" d=\"M430.252,-555.769C422.515,-544.66 414.053,-532.509 406.27,-521.333\"/>\n",
       "<polygon fill=\"black\" stroke=\"black\" points=\"409.061,-519.216 400.474,-513.01 403.317,-523.216 409.061,-519.216\"/>\n",
       "<text text-anchor=\"middle\" x=\"396.07\" y=\"-533.419\" font-family=\"Helvetica,sans-Serif\" font-size=\"14.00\">True</text>\n",
       "</g>\n",
       "<!-- 2 -->\n",
       "<g id=\"node3\" class=\"node\"><title>2</title>\n",
       "<path fill=\"none\" stroke=\"black\" d=\"M602.396,-520C602.396,-520 469.359,-520 469.359,-520 463.359,-520 457.359,-514 457.359,-508 457.359,-508 457.359,-454 457.359,-454 457.359,-448 463.359,-442 469.359,-442 469.359,-442 602.396,-442 602.396,-442 608.396,-442 614.396,-448 614.396,-454 614.396,-454 614.396,-508 614.396,-508 614.396,-514 608.396,-520 602.396,-520\"/>\n",
       "<text text-anchor=\"start\" x=\"465.119\" y=\"-504.8\" font-family=\"Helvetica,sans-Serif\" font-size=\"14.00\">petal width (cm) ≤ 1.75</text>\n",
       "<text text-anchor=\"start\" x=\"507.272\" y=\"-490.8\" font-family=\"Helvetica,sans-Serif\" font-size=\"14.00\">gini = 0.5</text>\n",
       "<text text-anchor=\"start\" x=\"490.155\" y=\"-476.8\" font-family=\"Helvetica,sans-Serif\" font-size=\"14.00\">samples = 100</text>\n",
       "<text text-anchor=\"start\" x=\"480.031\" y=\"-462.8\" font-family=\"Helvetica,sans-Serif\" font-size=\"14.00\">value = [0, 50, 50]</text>\n",
       "<text text-anchor=\"start\" x=\"482\" y=\"-448.8\" font-family=\"Helvetica,sans-Serif\" font-size=\"14.00\">class = versicolor</text>\n",
       "</g>\n",
       "<!-- 0&#45;&gt;2 -->\n",
       "<g id=\"edge2\" class=\"edge\"><title>0&#45;&gt;2</title>\n",
       "<path fill=\"none\" stroke=\"black\" d=\"M483.844,-555.769C490.072,-546.939 496.765,-537.451 503.207,-528.318\"/>\n",
       "<polygon fill=\"black\" stroke=\"black\" points=\"506.129,-530.248 509.033,-520.058 500.409,-526.213 506.129,-530.248\"/>\n",
       "<text text-anchor=\"middle\" x=\"513.289\" y=\"-540.494\" font-family=\"Helvetica,sans-Serif\" font-size=\"14.00\">False</text>\n",
       "</g>\n",
       "<!-- 3 -->\n",
       "<g id=\"node4\" class=\"node\"><title>3</title>\n",
       "<path fill=\"#39e581\" fill-opacity=\"0.898039\" stroke=\"black\" d=\"M491.357,-406C491.357,-406 352.398,-406 352.398,-406 346.398,-406 340.398,-400 340.398,-394 340.398,-394 340.398,-340 340.398,-340 340.398,-334 346.398,-328 352.398,-328 352.398,-328 491.357,-328 491.357,-328 497.357,-328 503.357,-334 503.357,-340 503.357,-340 503.357,-394 503.357,-394 503.357,-400 497.357,-406 491.357,-406\"/>\n",
       "<text text-anchor=\"start\" x=\"348.388\" y=\"-390.8\" font-family=\"Helvetica,sans-Serif\" font-size=\"14.00\">petal length (cm) ≤ 4.95</text>\n",
       "<text text-anchor=\"start\" x=\"385.486\" y=\"-376.8\" font-family=\"Helvetica,sans-Serif\" font-size=\"14.00\">gini = 0.168</text>\n",
       "<text text-anchor=\"start\" x=\"380.048\" y=\"-362.8\" font-family=\"Helvetica,sans-Serif\" font-size=\"14.00\">samples = 54</text>\n",
       "<text text-anchor=\"start\" x=\"369.924\" y=\"-348.8\" font-family=\"Helvetica,sans-Serif\" font-size=\"14.00\">value = [0, 49, 5]</text>\n",
       "<text text-anchor=\"start\" x=\"368\" y=\"-334.8\" font-family=\"Helvetica,sans-Serif\" font-size=\"14.00\">class = versicolor</text>\n",
       "</g>\n",
       "<!-- 2&#45;&gt;3 -->\n",
       "<g id=\"edge3\" class=\"edge\"><title>2&#45;&gt;3</title>\n",
       "<path fill=\"none\" stroke=\"black\" d=\"M496.964,-441.769C487.609,-432.579 477.529,-422.676 467.886,-413.201\"/>\n",
       "<polygon fill=\"black\" stroke=\"black\" points=\"470.202,-410.57 460.616,-406.058 465.296,-415.563 470.202,-410.57\"/>\n",
       "</g>\n",
       "<!-- 12 -->\n",
       "<g id=\"node13\" class=\"node\"><title>12</title>\n",
       "<path fill=\"#8139e5\" fill-opacity=\"0.976471\" stroke=\"black\" d=\"M719.357,-406C719.357,-406 580.398,-406 580.398,-406 574.398,-406 568.398,-400 568.398,-394 568.398,-394 568.398,-340 568.398,-340 568.398,-334 574.398,-328 580.398,-328 580.398,-328 719.357,-328 719.357,-328 725.357,-328 731.357,-334 731.357,-340 731.357,-340 731.357,-394 731.357,-394 731.357,-400 725.357,-406 719.357,-406\"/>\n",
       "<text text-anchor=\"start\" x=\"576.388\" y=\"-390.8\" font-family=\"Helvetica,sans-Serif\" font-size=\"14.00\">petal length (cm) ≤ 4.85</text>\n",
       "<text text-anchor=\"start\" x=\"609.593\" y=\"-376.8\" font-family=\"Helvetica,sans-Serif\" font-size=\"14.00\">gini = 0.0425</text>\n",
       "<text text-anchor=\"start\" x=\"608.048\" y=\"-362.8\" font-family=\"Helvetica,sans-Serif\" font-size=\"14.00\">samples = 46</text>\n",
       "<text text-anchor=\"start\" x=\"597.924\" y=\"-348.8\" font-family=\"Helvetica,sans-Serif\" font-size=\"14.00\">value = [0, 1, 45]</text>\n",
       "<text text-anchor=\"start\" x=\"600.276\" y=\"-334.8\" font-family=\"Helvetica,sans-Serif\" font-size=\"14.00\">class = virginica</text>\n",
       "</g>\n",
       "<!-- 2&#45;&gt;12 -->\n",
       "<g id=\"edge12\" class=\"edge\"><title>2&#45;&gt;12</title>\n",
       "<path fill=\"none\" stroke=\"black\" d=\"M574.791,-441.769C584.146,-432.579 594.226,-422.676 603.869,-413.201\"/>\n",
       "<polygon fill=\"black\" stroke=\"black\" points=\"606.459,-415.563 611.139,-406.058 601.553,-410.57 606.459,-415.563\"/>\n",
       "</g>\n",
       "<!-- 4 -->\n",
       "<g id=\"node5\" class=\"node\"><title>4</title>\n",
       "<path fill=\"#39e581\" fill-opacity=\"0.980392\" stroke=\"black\" d=\"M265.396,-292C265.396,-292 132.359,-292 132.359,-292 126.359,-292 120.359,-286 120.359,-280 120.359,-280 120.359,-226 120.359,-226 120.359,-220 126.359,-214 132.359,-214 132.359,-214 265.396,-214 265.396,-214 271.396,-214 277.396,-220 277.396,-226 277.396,-226 277.396,-280 277.396,-280 277.396,-286 271.396,-292 265.396,-292\"/>\n",
       "<text text-anchor=\"start\" x=\"128.119\" y=\"-276.8\" font-family=\"Helvetica,sans-Serif\" font-size=\"14.00\">petal width (cm) ≤ 1.65</text>\n",
       "<text text-anchor=\"start\" x=\"158.593\" y=\"-262.8\" font-family=\"Helvetica,sans-Serif\" font-size=\"14.00\">gini = 0.0408</text>\n",
       "<text text-anchor=\"start\" x=\"157.048\" y=\"-248.8\" font-family=\"Helvetica,sans-Serif\" font-size=\"14.00\">samples = 48</text>\n",
       "<text text-anchor=\"start\" x=\"146.924\" y=\"-234.8\" font-family=\"Helvetica,sans-Serif\" font-size=\"14.00\">value = [0, 47, 1]</text>\n",
       "<text text-anchor=\"start\" x=\"145\" y=\"-220.8\" font-family=\"Helvetica,sans-Serif\" font-size=\"14.00\">class = versicolor</text>\n",
       "</g>\n",
       "<!-- 3&#45;&gt;4 -->\n",
       "<g id=\"edge4\" class=\"edge\"><title>3&#45;&gt;4</title>\n",
       "<path fill=\"none\" stroke=\"black\" d=\"M346.069,-327.926C326.051,-317.872 304.317,-306.956 283.849,-296.676\"/>\n",
       "<polygon fill=\"black\" stroke=\"black\" points=\"285.362,-293.52 274.855,-292.159 282.221,-299.775 285.362,-293.52\"/>\n",
       "</g>\n",
       "<!-- 7 -->\n",
       "<g id=\"node8\" class=\"node\"><title>7</title>\n",
       "<path fill=\"#8139e5\" fill-opacity=\"0.498039\" stroke=\"black\" d=\"M488.396,-292C488.396,-292 355.359,-292 355.359,-292 349.359,-292 343.359,-286 343.359,-280 343.359,-280 343.359,-226 343.359,-226 343.359,-220 349.359,-214 355.359,-214 355.359,-214 488.396,-214 488.396,-214 494.396,-214 500.396,-220 500.396,-226 500.396,-226 500.396,-280 500.396,-280 500.396,-286 494.396,-292 488.396,-292\"/>\n",
       "<text text-anchor=\"start\" x=\"351.119\" y=\"-276.8\" font-family=\"Helvetica,sans-Serif\" font-size=\"14.00\">petal width (cm) ≤ 1.55</text>\n",
       "<text text-anchor=\"start\" x=\"381.593\" y=\"-262.8\" font-family=\"Helvetica,sans-Serif\" font-size=\"14.00\">gini = 0.4444</text>\n",
       "<text text-anchor=\"start\" x=\"383.941\" y=\"-248.8\" font-family=\"Helvetica,sans-Serif\" font-size=\"14.00\">samples = 6</text>\n",
       "<text text-anchor=\"start\" x=\"373.817\" y=\"-234.8\" font-family=\"Helvetica,sans-Serif\" font-size=\"14.00\">value = [0, 2, 4]</text>\n",
       "<text text-anchor=\"start\" x=\"372.276\" y=\"-220.8\" font-family=\"Helvetica,sans-Serif\" font-size=\"14.00\">class = virginica</text>\n",
       "</g>\n",
       "<!-- 3&#45;&gt;7 -->\n",
       "<g id=\"edge7\" class=\"edge\"><title>3&#45;&gt;7</title>\n",
       "<path fill=\"none\" stroke=\"black\" d=\"M421.877,-327.769C421.877,-319.57 421.877,-310.803 421.877,-302.28\"/>\n",
       "<polygon fill=\"black\" stroke=\"black\" points=\"425.378,-302.058 421.877,-292.058 418.378,-302.059 425.378,-302.058\"/>\n",
       "</g>\n",
       "<!-- 5 -->\n",
       "<g id=\"node6\" class=\"node\"><title>5</title>\n",
       "<path fill=\"#39e581\" stroke=\"black\" d=\"M111.633,-171C111.633,-171 12.1223,-171 12.1223,-171 6.12232,-171 0.122316,-165 0.122316,-159 0.122316,-159 0.122316,-119 0.122316,-119 0.122316,-113 6.12232,-107 12.1223,-107 12.1223,-107 111.633,-107 111.633,-107 117.633,-107 123.633,-113 123.633,-119 123.633,-119 123.633,-159 123.633,-159 123.633,-165 117.633,-171 111.633,-171\"/>\n",
       "<text text-anchor=\"start\" x=\"33.2725\" y=\"-155.8\" font-family=\"Helvetica,sans-Serif\" font-size=\"14.00\">gini = 0.0</text>\n",
       "<text text-anchor=\"start\" x=\"20.0483\" y=\"-141.8\" font-family=\"Helvetica,sans-Serif\" font-size=\"14.00\">samples = 47</text>\n",
       "<text text-anchor=\"start\" x=\"9.92432\" y=\"-127.8\" font-family=\"Helvetica,sans-Serif\" font-size=\"14.00\">value = [0, 47, 0]</text>\n",
       "<text text-anchor=\"start\" x=\"8\" y=\"-113.8\" font-family=\"Helvetica,sans-Serif\" font-size=\"14.00\">class = versicolor</text>\n",
       "</g>\n",
       "<!-- 4&#45;&gt;5 -->\n",
       "<g id=\"edge5\" class=\"edge\"><title>4&#45;&gt;5</title>\n",
       "<path fill=\"none\" stroke=\"black\" d=\"M152.113,-213.769C137.724,-202.006 121.908,-189.076 107.591,-177.371\"/>\n",
       "<polygon fill=\"black\" stroke=\"black\" points=\"109.767,-174.63 99.8094,-171.01 105.336,-180.049 109.767,-174.63\"/>\n",
       "</g>\n",
       "<!-- 6 -->\n",
       "<g id=\"node7\" class=\"node\"><title>6</title>\n",
       "<path fill=\"#8139e5\" stroke=\"black\" d=\"M244.581,-171C244.581,-171 153.174,-171 153.174,-171 147.174,-171 141.174,-165 141.174,-159 141.174,-159 141.174,-119 141.174,-119 141.174,-113 147.174,-107 153.174,-107 153.174,-107 244.581,-107 244.581,-107 250.581,-107 256.581,-113 256.581,-119 256.581,-119 256.581,-159 256.581,-159 256.581,-165 250.581,-171 244.581,-171\"/>\n",
       "<text text-anchor=\"start\" x=\"170.272\" y=\"-155.8\" font-family=\"Helvetica,sans-Serif\" font-size=\"14.00\">gini = 0.0</text>\n",
       "<text text-anchor=\"start\" x=\"160.941\" y=\"-141.8\" font-family=\"Helvetica,sans-Serif\" font-size=\"14.00\">samples = 1</text>\n",
       "<text text-anchor=\"start\" x=\"150.817\" y=\"-127.8\" font-family=\"Helvetica,sans-Serif\" font-size=\"14.00\">value = [0, 0, 1]</text>\n",
       "<text text-anchor=\"start\" x=\"149.276\" y=\"-113.8\" font-family=\"Helvetica,sans-Serif\" font-size=\"14.00\">class = virginica</text>\n",
       "</g>\n",
       "<!-- 4&#45;&gt;6 -->\n",
       "<g id=\"edge6\" class=\"edge\"><title>4&#45;&gt;6</title>\n",
       "<path fill=\"none\" stroke=\"black\" d=\"M198.877,-213.769C198.877,-203.313 198.877,-191.935 198.877,-181.315\"/>\n",
       "<polygon fill=\"black\" stroke=\"black\" points=\"202.378,-181.01 198.877,-171.01 195.378,-181.01 202.378,-181.01\"/>\n",
       "</g>\n",
       "<!-- 8 -->\n",
       "<g id=\"node9\" class=\"node\"><title>8</title>\n",
       "<path fill=\"#8139e5\" stroke=\"black\" d=\"M377.581,-171C377.581,-171 286.174,-171 286.174,-171 280.174,-171 274.174,-165 274.174,-159 274.174,-159 274.174,-119 274.174,-119 274.174,-113 280.174,-107 286.174,-107 286.174,-107 377.581,-107 377.581,-107 383.581,-107 389.581,-113 389.581,-119 389.581,-119 389.581,-159 389.581,-159 389.581,-165 383.581,-171 377.581,-171\"/>\n",
       "<text text-anchor=\"start\" x=\"303.272\" y=\"-155.8\" font-family=\"Helvetica,sans-Serif\" font-size=\"14.00\">gini = 0.0</text>\n",
       "<text text-anchor=\"start\" x=\"293.941\" y=\"-141.8\" font-family=\"Helvetica,sans-Serif\" font-size=\"14.00\">samples = 3</text>\n",
       "<text text-anchor=\"start\" x=\"283.817\" y=\"-127.8\" font-family=\"Helvetica,sans-Serif\" font-size=\"14.00\">value = [0, 0, 3]</text>\n",
       "<text text-anchor=\"start\" x=\"282.276\" y=\"-113.8\" font-family=\"Helvetica,sans-Serif\" font-size=\"14.00\">class = virginica</text>\n",
       "</g>\n",
       "<!-- 7&#45;&gt;8 -->\n",
       "<g id=\"edge8\" class=\"edge\"><title>7&#45;&gt;8</title>\n",
       "<path fill=\"none\" stroke=\"black\" d=\"M391.156,-213.769C382.141,-202.551 372.274,-190.271 363.22,-179.005\"/>\n",
       "<polygon fill=\"black\" stroke=\"black\" points=\"365.788,-176.613 356.796,-171.01 360.332,-180.998 365.788,-176.613\"/>\n",
       "</g>\n",
       "<!-- 9 -->\n",
       "<g id=\"node10\" class=\"node\"><title>9</title>\n",
       "<path fill=\"#39e581\" fill-opacity=\"0.498039\" stroke=\"black\" d=\"M561.967,-178C561.967,-178 419.788,-178 419.788,-178 413.788,-178 407.788,-172 407.788,-166 407.788,-166 407.788,-112 407.788,-112 407.788,-106 413.788,-100 419.788,-100 419.788,-100 561.967,-100 561.967,-100 567.967,-100 573.967,-106 573.967,-112 573.967,-112 573.967,-166 573.967,-166 573.967,-172 567.967,-178 561.967,-178\"/>\n",
       "<text text-anchor=\"start\" x=\"415.833\" y=\"-162.8\" font-family=\"Helvetica,sans-Serif\" font-size=\"14.00\">sepal length (cm) ≤ 6.95</text>\n",
       "<text text-anchor=\"start\" x=\"450.593\" y=\"-148.8\" font-family=\"Helvetica,sans-Serif\" font-size=\"14.00\">gini = 0.4444</text>\n",
       "<text text-anchor=\"start\" x=\"452.941\" y=\"-134.8\" font-family=\"Helvetica,sans-Serif\" font-size=\"14.00\">samples = 3</text>\n",
       "<text text-anchor=\"start\" x=\"442.817\" y=\"-120.8\" font-family=\"Helvetica,sans-Serif\" font-size=\"14.00\">value = [0, 2, 1]</text>\n",
       "<text text-anchor=\"start\" x=\"437\" y=\"-106.8\" font-family=\"Helvetica,sans-Serif\" font-size=\"14.00\">class = versicolor</text>\n",
       "</g>\n",
       "<!-- 7&#45;&gt;9 -->\n",
       "<g id=\"edge9\" class=\"edge\"><title>7&#45;&gt;9</title>\n",
       "<path fill=\"none\" stroke=\"black\" d=\"M445.43,-213.769C450.815,-205.029 456.596,-195.645 462.17,-186.597\"/>\n",
       "<polygon fill=\"black\" stroke=\"black\" points=\"465.165,-188.408 467.431,-178.058 459.206,-184.737 465.165,-188.408\"/>\n",
       "</g>\n",
       "<!-- 10 -->\n",
       "<g id=\"node11\" class=\"node\"><title>10</title>\n",
       "<path fill=\"#39e581\" stroke=\"black\" d=\"M471.633,-64C471.633,-64 372.122,-64 372.122,-64 366.122,-64 360.122,-58 360.122,-52 360.122,-52 360.122,-12 360.122,-12 360.122,-6 366.122,-0 372.122,-0 372.122,-0 471.633,-0 471.633,-0 477.633,-0 483.633,-6 483.633,-12 483.633,-12 483.633,-52 483.633,-52 483.633,-58 477.633,-64 471.633,-64\"/>\n",
       "<text text-anchor=\"start\" x=\"393.272\" y=\"-48.8\" font-family=\"Helvetica,sans-Serif\" font-size=\"14.00\">gini = 0.0</text>\n",
       "<text text-anchor=\"start\" x=\"383.941\" y=\"-34.8\" font-family=\"Helvetica,sans-Serif\" font-size=\"14.00\">samples = 2</text>\n",
       "<text text-anchor=\"start\" x=\"373.817\" y=\"-20.8\" font-family=\"Helvetica,sans-Serif\" font-size=\"14.00\">value = [0, 2, 0]</text>\n",
       "<text text-anchor=\"start\" x=\"368\" y=\"-6.8\" font-family=\"Helvetica,sans-Serif\" font-size=\"14.00\">class = versicolor</text>\n",
       "</g>\n",
       "<!-- 9&#45;&gt;10 -->\n",
       "<g id=\"edge10\" class=\"edge\"><title>9&#45;&gt;10</title>\n",
       "<path fill=\"none\" stroke=\"black\" d=\"M465.772,-99.7956C459.932,-90.9084 453.703,-81.4296 447.827,-72.4883\"/>\n",
       "<polygon fill=\"black\" stroke=\"black\" points=\"450.743,-70.5521 442.326,-64.1172 444.893,-74.3964 450.743,-70.5521\"/>\n",
       "</g>\n",
       "<!-- 11 -->\n",
       "<g id=\"node12\" class=\"node\"><title>11</title>\n",
       "<path fill=\"#8139e5\" stroke=\"black\" d=\"M604.581,-64C604.581,-64 513.174,-64 513.174,-64 507.174,-64 501.174,-58 501.174,-52 501.174,-52 501.174,-12 501.174,-12 501.174,-6 507.174,-0 513.174,-0 513.174,-0 604.581,-0 604.581,-0 610.581,-0 616.581,-6 616.581,-12 616.581,-12 616.581,-52 616.581,-52 616.581,-58 610.581,-64 604.581,-64\"/>\n",
       "<text text-anchor=\"start\" x=\"530.272\" y=\"-48.8\" font-family=\"Helvetica,sans-Serif\" font-size=\"14.00\">gini = 0.0</text>\n",
       "<text text-anchor=\"start\" x=\"520.941\" y=\"-34.8\" font-family=\"Helvetica,sans-Serif\" font-size=\"14.00\">samples = 1</text>\n",
       "<text text-anchor=\"start\" x=\"510.817\" y=\"-20.8\" font-family=\"Helvetica,sans-Serif\" font-size=\"14.00\">value = [0, 0, 1]</text>\n",
       "<text text-anchor=\"start\" x=\"509.276\" y=\"-6.8\" font-family=\"Helvetica,sans-Serif\" font-size=\"14.00\">class = virginica</text>\n",
       "</g>\n",
       "<!-- 9&#45;&gt;11 -->\n",
       "<g id=\"edge11\" class=\"edge\"><title>9&#45;&gt;11</title>\n",
       "<path fill=\"none\" stroke=\"black\" d=\"M515.619,-99.7956C521.316,-91 527.387,-81.625 533.125,-72.765\"/>\n",
       "<polygon fill=\"black\" stroke=\"black\" points=\"536.227,-74.4133 538.725,-64.1172 530.352,-70.6082 536.227,-74.4133\"/>\n",
       "</g>\n",
       "<!-- 13 -->\n",
       "<g id=\"node14\" class=\"node\"><title>13</title>\n",
       "<path fill=\"#8139e5\" fill-opacity=\"0.498039\" stroke=\"black\" d=\"M714.219,-292C714.219,-292 585.536,-292 585.536,-292 579.536,-292 573.536,-286 573.536,-280 573.536,-280 573.536,-226 573.536,-226 573.536,-220 579.536,-214 585.536,-214 585.536,-214 714.219,-214 714.219,-214 720.219,-214 726.219,-220 726.219,-226 726.219,-226 726.219,-280 726.219,-280 726.219,-286 720.219,-292 714.219,-292\"/>\n",
       "<text text-anchor=\"start\" x=\"581.457\" y=\"-276.8\" font-family=\"Helvetica,sans-Serif\" font-size=\"14.00\">sepal width (cm) ≤ 3.1</text>\n",
       "<text text-anchor=\"start\" x=\"609.593\" y=\"-262.8\" font-family=\"Helvetica,sans-Serif\" font-size=\"14.00\">gini = 0.4444</text>\n",
       "<text text-anchor=\"start\" x=\"611.941\" y=\"-248.8\" font-family=\"Helvetica,sans-Serif\" font-size=\"14.00\">samples = 3</text>\n",
       "<text text-anchor=\"start\" x=\"601.817\" y=\"-234.8\" font-family=\"Helvetica,sans-Serif\" font-size=\"14.00\">value = [0, 1, 2]</text>\n",
       "<text text-anchor=\"start\" x=\"600.276\" y=\"-220.8\" font-family=\"Helvetica,sans-Serif\" font-size=\"14.00\">class = virginica</text>\n",
       "</g>\n",
       "<!-- 12&#45;&gt;13 -->\n",
       "<g id=\"edge13\" class=\"edge\"><title>12&#45;&gt;13</title>\n",
       "<path fill=\"none\" stroke=\"black\" d=\"M649.877,-327.769C649.877,-319.57 649.877,-310.803 649.877,-302.28\"/>\n",
       "<polygon fill=\"black\" stroke=\"black\" points=\"653.378,-302.058 649.877,-292.058 646.378,-302.059 653.378,-302.058\"/>\n",
       "</g>\n",
       "<!-- 16 -->\n",
       "<g id=\"node17\" class=\"node\"><title>16</title>\n",
       "<path fill=\"#8139e5\" stroke=\"black\" d=\"M851.784,-285C851.784,-285 755.971,-285 755.971,-285 749.971,-285 743.971,-279 743.971,-273 743.971,-273 743.971,-233 743.971,-233 743.971,-227 749.971,-221 755.971,-221 755.971,-221 851.784,-221 851.784,-221 857.784,-221 863.784,-227 863.784,-233 863.784,-233 863.784,-273 863.784,-273 863.784,-279 857.784,-285 851.784,-285\"/>\n",
       "<text text-anchor=\"start\" x=\"775.272\" y=\"-269.8\" font-family=\"Helvetica,sans-Serif\" font-size=\"14.00\">gini = 0.0</text>\n",
       "<text text-anchor=\"start\" x=\"762.048\" y=\"-255.8\" font-family=\"Helvetica,sans-Serif\" font-size=\"14.00\">samples = 43</text>\n",
       "<text text-anchor=\"start\" x=\"751.924\" y=\"-241.8\" font-family=\"Helvetica,sans-Serif\" font-size=\"14.00\">value = [0, 0, 43]</text>\n",
       "<text text-anchor=\"start\" x=\"754.276\" y=\"-227.8\" font-family=\"Helvetica,sans-Serif\" font-size=\"14.00\">class = virginica</text>\n",
       "</g>\n",
       "<!-- 12&#45;&gt;16 -->\n",
       "<g id=\"edge16\" class=\"edge\"><title>12&#45;&gt;16</title>\n",
       "<path fill=\"none\" stroke=\"black\" d=\"M702.445,-327.769C718.769,-315.897 736.727,-302.837 752.938,-291.047\"/>\n",
       "<polygon fill=\"black\" stroke=\"black\" points=\"755.21,-293.722 761.239,-285.01 751.093,-288.061 755.21,-293.722\"/>\n",
       "</g>\n",
       "<!-- 14 -->\n",
       "<g id=\"node15\" class=\"node\"><title>14</title>\n",
       "<path fill=\"#8139e5\" stroke=\"black\" d=\"M695.581,-171C695.581,-171 604.174,-171 604.174,-171 598.174,-171 592.174,-165 592.174,-159 592.174,-159 592.174,-119 592.174,-119 592.174,-113 598.174,-107 604.174,-107 604.174,-107 695.581,-107 695.581,-107 701.581,-107 707.581,-113 707.581,-119 707.581,-119 707.581,-159 707.581,-159 707.581,-165 701.581,-171 695.581,-171\"/>\n",
       "<text text-anchor=\"start\" x=\"621.272\" y=\"-155.8\" font-family=\"Helvetica,sans-Serif\" font-size=\"14.00\">gini = 0.0</text>\n",
       "<text text-anchor=\"start\" x=\"611.941\" y=\"-141.8\" font-family=\"Helvetica,sans-Serif\" font-size=\"14.00\">samples = 2</text>\n",
       "<text text-anchor=\"start\" x=\"601.817\" y=\"-127.8\" font-family=\"Helvetica,sans-Serif\" font-size=\"14.00\">value = [0, 0, 2]</text>\n",
       "<text text-anchor=\"start\" x=\"600.276\" y=\"-113.8\" font-family=\"Helvetica,sans-Serif\" font-size=\"14.00\">class = virginica</text>\n",
       "</g>\n",
       "<!-- 13&#45;&gt;14 -->\n",
       "<g id=\"edge14\" class=\"edge\"><title>13&#45;&gt;14</title>\n",
       "<path fill=\"none\" stroke=\"black\" d=\"M649.877,-213.769C649.877,-203.313 649.877,-191.935 649.877,-181.315\"/>\n",
       "<polygon fill=\"black\" stroke=\"black\" points=\"653.378,-181.01 649.877,-171.01 646.378,-181.01 653.378,-181.01\"/>\n",
       "</g>\n",
       "<!-- 15 -->\n",
       "<g id=\"node16\" class=\"node\"><title>15</title>\n",
       "<path fill=\"#39e581\" stroke=\"black\" d=\"M836.633,-171C836.633,-171 737.122,-171 737.122,-171 731.122,-171 725.122,-165 725.122,-159 725.122,-159 725.122,-119 725.122,-119 725.122,-113 731.122,-107 737.122,-107 737.122,-107 836.633,-107 836.633,-107 842.633,-107 848.633,-113 848.633,-119 848.633,-119 848.633,-159 848.633,-159 848.633,-165 842.633,-171 836.633,-171\"/>\n",
       "<text text-anchor=\"start\" x=\"758.272\" y=\"-155.8\" font-family=\"Helvetica,sans-Serif\" font-size=\"14.00\">gini = 0.0</text>\n",
       "<text text-anchor=\"start\" x=\"748.941\" y=\"-141.8\" font-family=\"Helvetica,sans-Serif\" font-size=\"14.00\">samples = 1</text>\n",
       "<text text-anchor=\"start\" x=\"738.817\" y=\"-127.8\" font-family=\"Helvetica,sans-Serif\" font-size=\"14.00\">value = [0, 1, 0]</text>\n",
       "<text text-anchor=\"start\" x=\"733\" y=\"-113.8\" font-family=\"Helvetica,sans-Serif\" font-size=\"14.00\">class = versicolor</text>\n",
       "</g>\n",
       "<!-- 13&#45;&gt;15 -->\n",
       "<g id=\"edge15\" class=\"edge\"><title>13&#45;&gt;15</title>\n",
       "<path fill=\"none\" stroke=\"black\" d=\"M696.642,-213.769C711.031,-202.006 726.847,-189.076 741.164,-177.371\"/>\n",
       "<polygon fill=\"black\" stroke=\"black\" points=\"743.419,-180.049 748.946,-171.01 738.988,-174.63 743.419,-180.049\"/>\n",
       "</g>\n",
       "</g>\n",
       "</svg>\n"
      ],
      "text/plain": [
       "<graphviz.files.Source at 0x1187d12b0>"
      ]
     },
     "execution_count": 10,
     "metadata": {},
     "output_type": "execute_result"
    }
   ],
   "source": [
    "dot_data = tree.export_graphviz(clf, out_file=None, \n",
    "                         feature_names=iris.feature_names,  \n",
    "                         class_names=iris.target_names,  \n",
    "                         filled=True, rounded=True,  \n",
    "                         special_characters=True)  \n",
    "graph = graphviz.Source(dot_data)  \n",
    "graph"
   ]
  },
  {
   "cell_type": "code",
   "execution_count": 11,
   "metadata": {},
   "outputs": [
    {
     "data": {
      "text/plain": [
       "array([0])"
      ]
     },
     "execution_count": 11,
     "metadata": {},
     "output_type": "execute_result"
    }
   ],
   "source": [
    "clf.predict(iris.data[:1, :])"
   ]
  },
  {
   "cell_type": "code",
   "execution_count": 12,
   "metadata": {},
   "outputs": [
    {
     "data": {
      "text/plain": [
       "array([[ 1.,  0.,  0.]])"
      ]
     },
     "execution_count": 12,
     "metadata": {},
     "output_type": "execute_result"
    }
   ],
   "source": [
    "clf.predict_proba(iris.data[:1, :])"
   ]
  },
  {
   "cell_type": "code",
   "execution_count": null,
   "metadata": {
    "collapsed": true
   },
   "outputs": [],
   "source": []
  }
 ],
 "metadata": {
  "kernelspec": {
   "display_name": "Python 3",
   "language": "python",
   "name": "python3"
  },
  "language_info": {
   "codemirror_mode": {
    "name": "ipython",
    "version": 3
   },
   "file_extension": ".py",
   "mimetype": "text/x-python",
   "name": "python",
   "nbconvert_exporter": "python",
   "pygments_lexer": "ipython3",
   "version": "3.6.1"
  }
 },
 "nbformat": 4,
 "nbformat_minor": 2
}
