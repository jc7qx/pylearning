{
 "cells": [
  {
   "cell_type": "markdown",
   "metadata": {
    "slideshow": {
     "slide_type": "slide"
    }
   },
   "source": [
    "# DataFrame and Series"
   ]
  },
  {
   "cell_type": "code",
   "execution_count": 24,
   "metadata": {
    "collapsed": true,
    "slideshow": {
     "slide_type": "-"
    }
   },
   "outputs": [],
   "source": [
    "import pandas as pd"
   ]
  },
  {
   "cell_type": "markdown",
   "metadata": {},
   "source": [
    "## Pandas DataFrame"
   ]
  },
  {
   "cell_type": "code",
   "execution_count": 29,
   "metadata": {
    "collapsed": true
   },
   "outputs": [],
   "source": [
    "#讀取csv檔案，以第0欄位作為row的參考\n",
    "AAPL = pd.read_csv(\"data/aapldata.csv\", index_col=0) "
   ]
  },
  {
   "cell_type": "code",
   "execution_count": 30,
   "metadata": {},
   "outputs": [
    {
     "data": {
      "text/html": [
       "<div>\n",
       "<style>\n",
       "    .dataframe thead tr:only-child th {\n",
       "        text-align: right;\n",
       "    }\n",
       "\n",
       "    .dataframe thead th {\n",
       "        text-align: left;\n",
       "    }\n",
       "\n",
       "    .dataframe tbody tr th {\n",
       "        vertical-align: top;\n",
       "    }\n",
       "</style>\n",
       "<table border=\"1\" class=\"dataframe\">\n",
       "  <thead>\n",
       "    <tr style=\"text-align: right;\">\n",
       "      <th></th>\n",
       "      <th>open</th>\n",
       "      <th>high</th>\n",
       "      <th>low</th>\n",
       "      <th>close</th>\n",
       "      <th>volume</th>\n",
       "    </tr>\n",
       "    <tr>\n",
       "      <th>date</th>\n",
       "      <th></th>\n",
       "      <th></th>\n",
       "      <th></th>\n",
       "      <th></th>\n",
       "      <th></th>\n",
       "    </tr>\n",
       "  </thead>\n",
       "  <tbody>\n",
       "    <tr>\n",
       "      <th>2018/3/20</th>\n",
       "      <td>175.24</td>\n",
       "      <td>176.80</td>\n",
       "      <td>174.9400</td>\n",
       "      <td>175.24</td>\n",
       "      <td>19620520</td>\n",
       "    </tr>\n",
       "    <tr>\n",
       "      <th>2018/3/19</th>\n",
       "      <td>177.32</td>\n",
       "      <td>177.47</td>\n",
       "      <td>173.6600</td>\n",
       "      <td>175.30</td>\n",
       "      <td>32931110</td>\n",
       "    </tr>\n",
       "    <tr>\n",
       "      <th>2018/3/16</th>\n",
       "      <td>178.65</td>\n",
       "      <td>179.12</td>\n",
       "      <td>177.6200</td>\n",
       "      <td>178.02</td>\n",
       "      <td>38313330</td>\n",
       "    </tr>\n",
       "    <tr>\n",
       "      <th>2018/3/15</th>\n",
       "      <td>178.50</td>\n",
       "      <td>180.24</td>\n",
       "      <td>178.0701</td>\n",
       "      <td>178.65</td>\n",
       "      <td>22676520</td>\n",
       "    </tr>\n",
       "    <tr>\n",
       "      <th>2018/3/14</th>\n",
       "      <td>180.32</td>\n",
       "      <td>180.52</td>\n",
       "      <td>177.8100</td>\n",
       "      <td>178.44</td>\n",
       "      <td>29334630</td>\n",
       "    </tr>\n",
       "  </tbody>\n",
       "</table>\n",
       "</div>"
      ],
      "text/plain": [
       "             open    high       low   close    volume\n",
       "date                                                 \n",
       "2018/3/20  175.24  176.80  174.9400  175.24  19620520\n",
       "2018/3/19  177.32  177.47  173.6600  175.30  32931110\n",
       "2018/3/16  178.65  179.12  177.6200  178.02  38313330\n",
       "2018/3/15  178.50  180.24  178.0701  178.65  22676520\n",
       "2018/3/14  180.32  180.52  177.8100  178.44  29334630"
      ]
     },
     "execution_count": 30,
     "metadata": {},
     "output_type": "execute_result"
    }
   ],
   "source": [
    "AAPL.head()"
   ]
  },
  {
   "cell_type": "code",
   "execution_count": 31,
   "metadata": {},
   "outputs": [
    {
     "data": {
      "text/plain": [
       "pandas.core.frame.DataFrame"
      ]
     },
     "execution_count": 31,
     "metadata": {},
     "output_type": "execute_result"
    }
   ],
   "source": [
    "type(AAPL) #AAPL是一種「資料框」形式"
   ]
  },
  {
   "cell_type": "code",
   "execution_count": 32,
   "metadata": {},
   "outputs": [
    {
     "data": {
      "text/plain": [
       "(377, 5)"
      ]
     },
     "execution_count": 32,
     "metadata": {},
     "output_type": "execute_result"
    }
   ],
   "source": [
    "AAPL.shape #AAPL dimension"
   ]
  },
  {
   "cell_type": "markdown",
   "metadata": {},
   "source": [
    "## index and columns"
   ]
  },
  {
   "cell_type": "code",
   "execution_count": 33,
   "metadata": {},
   "outputs": [
    {
     "data": {
      "text/plain": [
       "Index(['open', 'high', 'low', 'close', 'volume'], dtype='object')"
      ]
     },
     "execution_count": 33,
     "metadata": {},
     "output_type": "execute_result"
    }
   ],
   "source": [
    "AAPL.columns #欄的參考指標"
   ]
  },
  {
   "cell_type": "code",
   "execution_count": 34,
   "metadata": {},
   "outputs": [
    {
     "data": {
      "text/plain": [
       "pandas.core.indexes.base.Index"
      ]
     },
     "execution_count": 34,
     "metadata": {},
     "output_type": "execute_result"
    }
   ],
   "source": [
    "type(AAPL.columns)"
   ]
  },
  {
   "cell_type": "code",
   "execution_count": 35,
   "metadata": {},
   "outputs": [
    {
     "data": {
      "text/plain": [
       "Index(['2018/3/20', '2018/3/19', '2018/3/16', '2018/3/15', '2018/3/14',\n",
       "       '2018/3/13', '2018/3/12', '2018/3/9', '2018/3/8', '2018/3/7',\n",
       "       ...\n",
       "       '2016/10/3', '2016/9/30', '2016/9/29', '2016/9/28', '2016/9/27',\n",
       "       '2016/9/26', '2016/9/23', '2016/9/22', '2016/9/21', '2016/9/20'],\n",
       "      dtype='object', name='date', length=377)"
      ]
     },
     "execution_count": 35,
     "metadata": {},
     "output_type": "execute_result"
    }
   ],
   "source": [
    "AAPL.index #列的參考指標"
   ]
  },
  {
   "cell_type": "code",
   "execution_count": 36,
   "metadata": {},
   "outputs": [
    {
     "data": {
      "text/plain": [
       "pandas.core.indexes.base.Index"
      ]
     },
     "execution_count": 36,
     "metadata": {},
     "output_type": "execute_result"
    }
   ],
   "source": [
    "type(AAPL.index)"
   ]
  },
  {
   "cell_type": "code",
   "execution_count": 37,
   "metadata": {},
   "outputs": [
    {
     "name": "stdout",
     "output_type": "stream",
     "text": [
      "               open     high       low   close    volume\n",
      "date                                                    \n",
      "2018/3/20   175.240  176.800  174.9400  175.24  19620520\n",
      "2018/3/19   177.320  177.470  173.6600  175.30  32931110\n",
      "2018/3/16   178.650  179.120  177.6200  178.02  38313330\n",
      "2018/3/15   178.500  180.240  178.0701  178.65  22676520\n",
      "2018/3/14   180.320  180.520  177.8100  178.44  29334630\n",
      "2018/3/13   182.590  183.500  179.2400  179.97  31464170\n",
      "2018/3/12   180.290  182.390  180.2100  181.72  32191070\n",
      "2018/3/9    177.960  180.000  177.3900  179.98  32130360\n",
      "2018/3/8    175.480  177.120  175.0700  176.94  24518850\n",
      "2018/3/7    174.940  175.850  174.2700  175.03  31686450\n",
      "2018/3/6    177.910  178.250  176.1300  176.67  23273160\n",
      "2018/3/5    175.210  177.740  174.5200  176.82  27825140\n",
      "2018/3/2    172.800  176.300  172.4500  176.21  38426060\n",
      "2018/3/1    178.540  179.775  172.6600  175.00  48706170\n",
      "2018/2/28   179.260  180.615  178.0500  178.12  37568080\n",
      "2018/2/27   179.100  180.480  178.1600  178.39  38885510\n",
      "2018/2/26   176.350  179.390  176.2100  178.97  37353670\n",
      "2018/2/23   173.670  175.650  173.5400  175.50  33772050\n",
      "2018/2/22   171.800  173.950  171.7100  172.50  30953760\n",
      "2018/2/21   172.830  174.120  171.0100  171.07  37378070\n",
      "2018/2/20   172.050  174.260  171.4200  171.85  33690660\n",
      "2018/2/16   172.360  174.820  171.7700  172.43  40113790\n",
      "2018/2/15   169.790  173.090  169.0000  172.99  50908540\n",
      "2018/2/14   163.045  167.540  162.8800  167.37  40382890\n",
      "2018/2/13   161.950  164.750  161.6500  164.34  32483310\n",
      "2018/2/12   158.500  163.890  157.5100  162.71  60774900\n",
      "2018/2/9    157.070  157.890  150.2400  156.41  70583530\n",
      "2018/2/8    160.290  161.000  155.0300  155.15  54145930\n",
      "2018/2/7    163.085  163.400  159.0685  159.54  51467440\n",
      "2018/2/6    154.830  163.720  154.0000  163.03  68171940\n",
      "...             ...      ...       ...     ...       ...\n",
      "2016/10/31  113.650  114.230  113.2000  113.54  26378910\n",
      "2016/10/28  113.870  115.210  113.4500  113.72  36792100\n",
      "2016/10/27  115.390  115.860  114.1000  114.48  31396130\n",
      "2016/10/26  114.310  115.700  113.3100  115.59  66028640\n",
      "2016/10/25  117.950  118.360  117.3100  118.25  46820600\n",
      "2016/10/24  117.100  117.740  117.0000  117.65  23492650\n",
      "2016/10/21  116.810  116.910  116.2800  116.60  22527690\n",
      "2016/10/20  116.860  117.380  116.3300  117.06  24100150\n",
      "2016/10/19  117.250  117.760  113.8000  117.12  19977160\n",
      "2016/10/18  118.180  118.210  117.4500  117.47  24308210\n",
      "2016/10/17  117.330  117.840  116.7800  117.55  23583810\n",
      "2016/10/14  117.880  118.170  117.1300  117.63  35626020\n",
      "2016/10/13  116.790  117.440  115.7200  116.98  35041820\n",
      "2016/10/12  117.350  117.980  116.7500  117.34  37512930\n",
      "2016/10/11  117.700  118.690  116.2000  116.30  63963010\n",
      "2016/10/10  115.020  116.750  114.7200  116.05  36087910\n",
      "2016/10/7   114.310  114.560  113.5100  114.06  24336440\n",
      "2016/10/6   113.700  114.340  113.1300  113.89  28508710\n",
      "2016/10/5   113.400  113.660  112.6900  113.05  21400410\n",
      "2016/10/4   113.060  114.310  112.6300  113.00  29707270\n",
      "2016/10/3   112.710  113.050  112.2800  112.52  21634520\n",
      "2016/9/30   112.460  113.370  111.8000  113.05  36340670\n",
      "2016/9/29   113.160  113.800  111.8000  112.18  35850010\n",
      "2016/9/28   113.690  114.640  113.4300  113.95  29608390\n",
      "2016/9/27   113.000  113.180  112.3400  113.09  24587490\n",
      "2016/9/26   111.640  113.390  111.5500  112.88  29800240\n",
      "2016/9/23   114.420  114.790  111.5500  112.71  52411070\n",
      "2016/9/22   114.350  114.940  114.0000  114.62  31048170\n",
      "2016/9/21   113.850  113.989  112.4410  113.55  35951900\n",
      "2016/9/20   113.050  114.120  112.5100  113.57  34494150\n",
      "\n",
      "[377 rows x 5 columns]\n"
     ]
    }
   ],
   "source": [
    "print(AAPL)"
   ]
  },
  {
   "cell_type": "markdown",
   "metadata": {},
   "source": [
    "## slicing (分割資料)"
   ]
  },
  {
   "cell_type": "markdown",
   "metadata": {},
   "source": [
    "### iloc()"
   ]
  },
  {
   "cell_type": "code",
   "execution_count": 38,
   "metadata": {},
   "outputs": [
    {
     "data": {
      "text/html": [
       "<div>\n",
       "<style>\n",
       "    .dataframe thead tr:only-child th {\n",
       "        text-align: right;\n",
       "    }\n",
       "\n",
       "    .dataframe thead th {\n",
       "        text-align: left;\n",
       "    }\n",
       "\n",
       "    .dataframe tbody tr th {\n",
       "        vertical-align: top;\n",
       "    }\n",
       "</style>\n",
       "<table border=\"1\" class=\"dataframe\">\n",
       "  <thead>\n",
       "    <tr style=\"text-align: right;\">\n",
       "      <th></th>\n",
       "      <th>open</th>\n",
       "      <th>high</th>\n",
       "      <th>low</th>\n",
       "      <th>close</th>\n",
       "      <th>volume</th>\n",
       "    </tr>\n",
       "    <tr>\n",
       "      <th>date</th>\n",
       "      <th></th>\n",
       "      <th></th>\n",
       "      <th></th>\n",
       "      <th></th>\n",
       "      <th></th>\n",
       "    </tr>\n",
       "  </thead>\n",
       "  <tbody>\n",
       "    <tr>\n",
       "      <th>2018/3/20</th>\n",
       "      <td>175.24</td>\n",
       "      <td>176.80</td>\n",
       "      <td>174.9400</td>\n",
       "      <td>175.24</td>\n",
       "      <td>19620520</td>\n",
       "    </tr>\n",
       "    <tr>\n",
       "      <th>2018/3/19</th>\n",
       "      <td>177.32</td>\n",
       "      <td>177.47</td>\n",
       "      <td>173.6600</td>\n",
       "      <td>175.30</td>\n",
       "      <td>32931110</td>\n",
       "    </tr>\n",
       "    <tr>\n",
       "      <th>2018/3/16</th>\n",
       "      <td>178.65</td>\n",
       "      <td>179.12</td>\n",
       "      <td>177.6200</td>\n",
       "      <td>178.02</td>\n",
       "      <td>38313330</td>\n",
       "    </tr>\n",
       "    <tr>\n",
       "      <th>2018/3/15</th>\n",
       "      <td>178.50</td>\n",
       "      <td>180.24</td>\n",
       "      <td>178.0701</td>\n",
       "      <td>178.65</td>\n",
       "      <td>22676520</td>\n",
       "    </tr>\n",
       "    <tr>\n",
       "      <th>2018/3/14</th>\n",
       "      <td>180.32</td>\n",
       "      <td>180.52</td>\n",
       "      <td>177.8100</td>\n",
       "      <td>178.44</td>\n",
       "      <td>29334630</td>\n",
       "    </tr>\n",
       "  </tbody>\n",
       "</table>\n",
       "</div>"
      ],
      "text/plain": [
       "             open    high       low   close    volume\n",
       "date                                                 \n",
       "2018/3/20  175.24  176.80  174.9400  175.24  19620520\n",
       "2018/3/19  177.32  177.47  173.6600  175.30  32931110\n",
       "2018/3/16  178.65  179.12  177.6200  178.02  38313330\n",
       "2018/3/15  178.50  180.24  178.0701  178.65  22676520\n",
       "2018/3/14  180.32  180.52  177.8100  178.44  29334630"
      ]
     },
     "execution_count": 38,
     "metadata": {},
     "output_type": "execute_result"
    }
   ],
   "source": [
    "AAPL.iloc[:5, :]"
   ]
  },
  {
   "cell_type": "code",
   "execution_count": 39,
   "metadata": {},
   "outputs": [
    {
     "data": {
      "text/html": [
       "<div>\n",
       "<style>\n",
       "    .dataframe thead tr:only-child th {\n",
       "        text-align: right;\n",
       "    }\n",
       "\n",
       "    .dataframe thead th {\n",
       "        text-align: left;\n",
       "    }\n",
       "\n",
       "    .dataframe tbody tr th {\n",
       "        vertical-align: top;\n",
       "    }\n",
       "</style>\n",
       "<table border=\"1\" class=\"dataframe\">\n",
       "  <thead>\n",
       "    <tr style=\"text-align: right;\">\n",
       "      <th></th>\n",
       "      <th>open</th>\n",
       "      <th>high</th>\n",
       "      <th>low</th>\n",
       "      <th>close</th>\n",
       "      <th>volume</th>\n",
       "    </tr>\n",
       "    <tr>\n",
       "      <th>date</th>\n",
       "      <th></th>\n",
       "      <th></th>\n",
       "      <th></th>\n",
       "      <th></th>\n",
       "      <th></th>\n",
       "    </tr>\n",
       "  </thead>\n",
       "  <tbody>\n",
       "    <tr>\n",
       "      <th>2016/9/26</th>\n",
       "      <td>111.64</td>\n",
       "      <td>113.390</td>\n",
       "      <td>111.550</td>\n",
       "      <td>112.88</td>\n",
       "      <td>29800240</td>\n",
       "    </tr>\n",
       "    <tr>\n",
       "      <th>2016/9/23</th>\n",
       "      <td>114.42</td>\n",
       "      <td>114.790</td>\n",
       "      <td>111.550</td>\n",
       "      <td>112.71</td>\n",
       "      <td>52411070</td>\n",
       "    </tr>\n",
       "    <tr>\n",
       "      <th>2016/9/22</th>\n",
       "      <td>114.35</td>\n",
       "      <td>114.940</td>\n",
       "      <td>114.000</td>\n",
       "      <td>114.62</td>\n",
       "      <td>31048170</td>\n",
       "    </tr>\n",
       "    <tr>\n",
       "      <th>2016/9/21</th>\n",
       "      <td>113.85</td>\n",
       "      <td>113.989</td>\n",
       "      <td>112.441</td>\n",
       "      <td>113.55</td>\n",
       "      <td>35951900</td>\n",
       "    </tr>\n",
       "    <tr>\n",
       "      <th>2016/9/20</th>\n",
       "      <td>113.05</td>\n",
       "      <td>114.120</td>\n",
       "      <td>112.510</td>\n",
       "      <td>113.57</td>\n",
       "      <td>34494150</td>\n",
       "    </tr>\n",
       "  </tbody>\n",
       "</table>\n",
       "</div>"
      ],
      "text/plain": [
       "             open     high      low   close    volume\n",
       "date                                                 \n",
       "2016/9/26  111.64  113.390  111.550  112.88  29800240\n",
       "2016/9/23  114.42  114.790  111.550  112.71  52411070\n",
       "2016/9/22  114.35  114.940  114.000  114.62  31048170\n",
       "2016/9/21  113.85  113.989  112.441  113.55  35951900\n",
       "2016/9/20  113.05  114.120  112.510  113.57  34494150"
      ]
     },
     "execution_count": 39,
     "metadata": {},
     "output_type": "execute_result"
    }
   ],
   "source": [
    "AAPL.iloc[-5:, :]"
   ]
  },
  {
   "cell_type": "markdown",
   "metadata": {},
   "source": [
    "## head()"
   ]
  },
  {
   "cell_type": "code",
   "execution_count": 40,
   "metadata": {},
   "outputs": [
    {
     "data": {
      "text/html": [
       "<div>\n",
       "<style>\n",
       "    .dataframe thead tr:only-child th {\n",
       "        text-align: right;\n",
       "    }\n",
       "\n",
       "    .dataframe thead th {\n",
       "        text-align: left;\n",
       "    }\n",
       "\n",
       "    .dataframe tbody tr th {\n",
       "        vertical-align: top;\n",
       "    }\n",
       "</style>\n",
       "<table border=\"1\" class=\"dataframe\">\n",
       "  <thead>\n",
       "    <tr style=\"text-align: right;\">\n",
       "      <th></th>\n",
       "      <th>open</th>\n",
       "      <th>high</th>\n",
       "      <th>low</th>\n",
       "      <th>close</th>\n",
       "      <th>volume</th>\n",
       "    </tr>\n",
       "    <tr>\n",
       "      <th>date</th>\n",
       "      <th></th>\n",
       "      <th></th>\n",
       "      <th></th>\n",
       "      <th></th>\n",
       "      <th></th>\n",
       "    </tr>\n",
       "  </thead>\n",
       "  <tbody>\n",
       "    <tr>\n",
       "      <th>2018/3/20</th>\n",
       "      <td>175.24</td>\n",
       "      <td>176.80</td>\n",
       "      <td>174.9400</td>\n",
       "      <td>175.24</td>\n",
       "      <td>19620520</td>\n",
       "    </tr>\n",
       "    <tr>\n",
       "      <th>2018/3/19</th>\n",
       "      <td>177.32</td>\n",
       "      <td>177.47</td>\n",
       "      <td>173.6600</td>\n",
       "      <td>175.30</td>\n",
       "      <td>32931110</td>\n",
       "    </tr>\n",
       "    <tr>\n",
       "      <th>2018/3/16</th>\n",
       "      <td>178.65</td>\n",
       "      <td>179.12</td>\n",
       "      <td>177.6200</td>\n",
       "      <td>178.02</td>\n",
       "      <td>38313330</td>\n",
       "    </tr>\n",
       "    <tr>\n",
       "      <th>2018/3/15</th>\n",
       "      <td>178.50</td>\n",
       "      <td>180.24</td>\n",
       "      <td>178.0701</td>\n",
       "      <td>178.65</td>\n",
       "      <td>22676520</td>\n",
       "    </tr>\n",
       "    <tr>\n",
       "      <th>2018/3/14</th>\n",
       "      <td>180.32</td>\n",
       "      <td>180.52</td>\n",
       "      <td>177.8100</td>\n",
       "      <td>178.44</td>\n",
       "      <td>29334630</td>\n",
       "    </tr>\n",
       "  </tbody>\n",
       "</table>\n",
       "</div>"
      ],
      "text/plain": [
       "             open    high       low   close    volume\n",
       "date                                                 \n",
       "2018/3/20  175.24  176.80  174.9400  175.24  19620520\n",
       "2018/3/19  177.32  177.47  173.6600  175.30  32931110\n",
       "2018/3/16  178.65  179.12  177.6200  178.02  38313330\n",
       "2018/3/15  178.50  180.24  178.0701  178.65  22676520\n",
       "2018/3/14  180.32  180.52  177.8100  178.44  29334630"
      ]
     },
     "execution_count": 40,
     "metadata": {},
     "output_type": "execute_result"
    }
   ],
   "source": [
    "AAPL.head()"
   ]
  },
  {
   "cell_type": "code",
   "execution_count": 41,
   "metadata": {},
   "outputs": [
    {
     "data": {
      "text/html": [
       "<div>\n",
       "<style>\n",
       "    .dataframe thead tr:only-child th {\n",
       "        text-align: right;\n",
       "    }\n",
       "\n",
       "    .dataframe thead th {\n",
       "        text-align: left;\n",
       "    }\n",
       "\n",
       "    .dataframe tbody tr th {\n",
       "        vertical-align: top;\n",
       "    }\n",
       "</style>\n",
       "<table border=\"1\" class=\"dataframe\">\n",
       "  <thead>\n",
       "    <tr style=\"text-align: right;\">\n",
       "      <th></th>\n",
       "      <th>open</th>\n",
       "      <th>high</th>\n",
       "      <th>low</th>\n",
       "      <th>close</th>\n",
       "      <th>volume</th>\n",
       "    </tr>\n",
       "    <tr>\n",
       "      <th>date</th>\n",
       "      <th></th>\n",
       "      <th></th>\n",
       "      <th></th>\n",
       "      <th></th>\n",
       "      <th></th>\n",
       "    </tr>\n",
       "  </thead>\n",
       "  <tbody>\n",
       "    <tr>\n",
       "      <th>2018/3/20</th>\n",
       "      <td>175.24</td>\n",
       "      <td>176.80</td>\n",
       "      <td>174.94</td>\n",
       "      <td>175.24</td>\n",
       "      <td>19620520</td>\n",
       "    </tr>\n",
       "    <tr>\n",
       "      <th>2018/3/19</th>\n",
       "      <td>177.32</td>\n",
       "      <td>177.47</td>\n",
       "      <td>173.66</td>\n",
       "      <td>175.30</td>\n",
       "      <td>32931110</td>\n",
       "    </tr>\n",
       "  </tbody>\n",
       "</table>\n",
       "</div>"
      ],
      "text/plain": [
       "             open    high     low   close    volume\n",
       "date                                               \n",
       "2018/3/20  175.24  176.80  174.94  175.24  19620520\n",
       "2018/3/19  177.32  177.47  173.66  175.30  32931110"
      ]
     },
     "execution_count": 41,
     "metadata": {},
     "output_type": "execute_result"
    }
   ],
   "source": [
    "AAPL.head(2)"
   ]
  },
  {
   "cell_type": "markdown",
   "metadata": {},
   "source": [
    "## tail()"
   ]
  },
  {
   "cell_type": "code",
   "execution_count": 42,
   "metadata": {},
   "outputs": [
    {
     "data": {
      "text/html": [
       "<div>\n",
       "<style>\n",
       "    .dataframe thead tr:only-child th {\n",
       "        text-align: right;\n",
       "    }\n",
       "\n",
       "    .dataframe thead th {\n",
       "        text-align: left;\n",
       "    }\n",
       "\n",
       "    .dataframe tbody tr th {\n",
       "        vertical-align: top;\n",
       "    }\n",
       "</style>\n",
       "<table border=\"1\" class=\"dataframe\">\n",
       "  <thead>\n",
       "    <tr style=\"text-align: right;\">\n",
       "      <th></th>\n",
       "      <th>open</th>\n",
       "      <th>high</th>\n",
       "      <th>low</th>\n",
       "      <th>close</th>\n",
       "      <th>volume</th>\n",
       "    </tr>\n",
       "    <tr>\n",
       "      <th>date</th>\n",
       "      <th></th>\n",
       "      <th></th>\n",
       "      <th></th>\n",
       "      <th></th>\n",
       "      <th></th>\n",
       "    </tr>\n",
       "  </thead>\n",
       "  <tbody>\n",
       "    <tr>\n",
       "      <th>2016/9/26</th>\n",
       "      <td>111.64</td>\n",
       "      <td>113.390</td>\n",
       "      <td>111.550</td>\n",
       "      <td>112.88</td>\n",
       "      <td>29800240</td>\n",
       "    </tr>\n",
       "    <tr>\n",
       "      <th>2016/9/23</th>\n",
       "      <td>114.42</td>\n",
       "      <td>114.790</td>\n",
       "      <td>111.550</td>\n",
       "      <td>112.71</td>\n",
       "      <td>52411070</td>\n",
       "    </tr>\n",
       "    <tr>\n",
       "      <th>2016/9/22</th>\n",
       "      <td>114.35</td>\n",
       "      <td>114.940</td>\n",
       "      <td>114.000</td>\n",
       "      <td>114.62</td>\n",
       "      <td>31048170</td>\n",
       "    </tr>\n",
       "    <tr>\n",
       "      <th>2016/9/21</th>\n",
       "      <td>113.85</td>\n",
       "      <td>113.989</td>\n",
       "      <td>112.441</td>\n",
       "      <td>113.55</td>\n",
       "      <td>35951900</td>\n",
       "    </tr>\n",
       "    <tr>\n",
       "      <th>2016/9/20</th>\n",
       "      <td>113.05</td>\n",
       "      <td>114.120</td>\n",
       "      <td>112.510</td>\n",
       "      <td>113.57</td>\n",
       "      <td>34494150</td>\n",
       "    </tr>\n",
       "  </tbody>\n",
       "</table>\n",
       "</div>"
      ],
      "text/plain": [
       "             open     high      low   close    volume\n",
       "date                                                 \n",
       "2016/9/26  111.64  113.390  111.550  112.88  29800240\n",
       "2016/9/23  114.42  114.790  111.550  112.71  52411070\n",
       "2016/9/22  114.35  114.940  114.000  114.62  31048170\n",
       "2016/9/21  113.85  113.989  112.441  113.55  35951900\n",
       "2016/9/20  113.05  114.120  112.510  113.57  34494150"
      ]
     },
     "execution_count": 42,
     "metadata": {},
     "output_type": "execute_result"
    }
   ],
   "source": [
    "AAPL.tail()"
   ]
  },
  {
   "cell_type": "code",
   "execution_count": 43,
   "metadata": {},
   "outputs": [
    {
     "data": {
      "text/html": [
       "<div>\n",
       "<style>\n",
       "    .dataframe thead tr:only-child th {\n",
       "        text-align: right;\n",
       "    }\n",
       "\n",
       "    .dataframe thead th {\n",
       "        text-align: left;\n",
       "    }\n",
       "\n",
       "    .dataframe tbody tr th {\n",
       "        vertical-align: top;\n",
       "    }\n",
       "</style>\n",
       "<table border=\"1\" class=\"dataframe\">\n",
       "  <thead>\n",
       "    <tr style=\"text-align: right;\">\n",
       "      <th></th>\n",
       "      <th>open</th>\n",
       "      <th>high</th>\n",
       "      <th>low</th>\n",
       "      <th>close</th>\n",
       "      <th>volume</th>\n",
       "    </tr>\n",
       "    <tr>\n",
       "      <th>date</th>\n",
       "      <th></th>\n",
       "      <th></th>\n",
       "      <th></th>\n",
       "      <th></th>\n",
       "      <th></th>\n",
       "    </tr>\n",
       "  </thead>\n",
       "  <tbody>\n",
       "    <tr>\n",
       "      <th>2016/9/22</th>\n",
       "      <td>114.35</td>\n",
       "      <td>114.940</td>\n",
       "      <td>114.000</td>\n",
       "      <td>114.62</td>\n",
       "      <td>31048170</td>\n",
       "    </tr>\n",
       "    <tr>\n",
       "      <th>2016/9/21</th>\n",
       "      <td>113.85</td>\n",
       "      <td>113.989</td>\n",
       "      <td>112.441</td>\n",
       "      <td>113.55</td>\n",
       "      <td>35951900</td>\n",
       "    </tr>\n",
       "    <tr>\n",
       "      <th>2016/9/20</th>\n",
       "      <td>113.05</td>\n",
       "      <td>114.120</td>\n",
       "      <td>112.510</td>\n",
       "      <td>113.57</td>\n",
       "      <td>34494150</td>\n",
       "    </tr>\n",
       "  </tbody>\n",
       "</table>\n",
       "</div>"
      ],
      "text/plain": [
       "             open     high      low   close    volume\n",
       "date                                                 \n",
       "2016/9/22  114.35  114.940  114.000  114.62  31048170\n",
       "2016/9/21  113.85  113.989  112.441  113.55  35951900\n",
       "2016/9/20  113.05  114.120  112.510  113.57  34494150"
      ]
     },
     "execution_count": 43,
     "metadata": {},
     "output_type": "execute_result"
    }
   ],
   "source": [
    "AAPL.tail(3)"
   ]
  },
  {
   "cell_type": "markdown",
   "metadata": {},
   "source": [
    "## info()"
   ]
  },
  {
   "cell_type": "code",
   "execution_count": 44,
   "metadata": {},
   "outputs": [
    {
     "name": "stdout",
     "output_type": "stream",
     "text": [
      "<class 'pandas.core.frame.DataFrame'>\n",
      "Index: 377 entries, 2018/3/20 to 2016/9/20\n",
      "Data columns (total 5 columns):\n",
      "open      377 non-null float64\n",
      "high      377 non-null float64\n",
      "low       377 non-null float64\n",
      "close     377 non-null float64\n",
      "volume    377 non-null int64\n",
      "dtypes: float64(4), int64(1)\n",
      "memory usage: 17.7+ KB\n"
     ]
    }
   ],
   "source": [
    "AAPL.info()"
   ]
  },
  {
   "cell_type": "markdown",
   "metadata": {},
   "source": [
    "## broadcasting"
   ]
  },
  {
   "cell_type": "code",
   "execution_count": 49,
   "metadata": {},
   "outputs": [
    {
     "data": {
      "text/html": [
       "<div>\n",
       "<style>\n",
       "    .dataframe thead tr:only-child th {\n",
       "        text-align: right;\n",
       "    }\n",
       "\n",
       "    .dataframe thead th {\n",
       "        text-align: left;\n",
       "    }\n",
       "\n",
       "    .dataframe tbody tr th {\n",
       "        vertical-align: top;\n",
       "    }\n",
       "</style>\n",
       "<table border=\"1\" class=\"dataframe\">\n",
       "  <thead>\n",
       "    <tr style=\"text-align: right;\">\n",
       "      <th></th>\n",
       "      <th>open</th>\n",
       "      <th>high</th>\n",
       "      <th>low</th>\n",
       "      <th>close</th>\n",
       "      <th>volume</th>\n",
       "    </tr>\n",
       "    <tr>\n",
       "      <th>date</th>\n",
       "      <th></th>\n",
       "      <th></th>\n",
       "      <th></th>\n",
       "      <th></th>\n",
       "      <th></th>\n",
       "    </tr>\n",
       "  </thead>\n",
       "  <tbody>\n",
       "    <tr>\n",
       "      <th>2018/3/20</th>\n",
       "      <td>175.24</td>\n",
       "      <td>176.80</td>\n",
       "      <td>NaN</td>\n",
       "      <td>175.24</td>\n",
       "      <td>NaN</td>\n",
       "    </tr>\n",
       "    <tr>\n",
       "      <th>2018/3/19</th>\n",
       "      <td>177.32</td>\n",
       "      <td>177.47</td>\n",
       "      <td>173.66</td>\n",
       "      <td>175.30</td>\n",
       "      <td>32931110.0</td>\n",
       "    </tr>\n",
       "    <tr>\n",
       "      <th>2018/3/16</th>\n",
       "      <td>178.65</td>\n",
       "      <td>179.12</td>\n",
       "      <td>177.62</td>\n",
       "      <td>178.02</td>\n",
       "      <td>38313330.0</td>\n",
       "    </tr>\n",
       "    <tr>\n",
       "      <th>2018/3/15</th>\n",
       "      <td>178.50</td>\n",
       "      <td>180.24</td>\n",
       "      <td>NaN</td>\n",
       "      <td>178.65</td>\n",
       "      <td>NaN</td>\n",
       "    </tr>\n",
       "    <tr>\n",
       "      <th>2018/3/14</th>\n",
       "      <td>180.32</td>\n",
       "      <td>180.52</td>\n",
       "      <td>177.81</td>\n",
       "      <td>178.44</td>\n",
       "      <td>29334630.0</td>\n",
       "    </tr>\n",
       "    <tr>\n",
       "      <th>2018/3/13</th>\n",
       "      <td>182.59</td>\n",
       "      <td>183.50</td>\n",
       "      <td>179.24</td>\n",
       "      <td>179.97</td>\n",
       "      <td>31464170.0</td>\n",
       "    </tr>\n",
       "    <tr>\n",
       "      <th>2018/3/12</th>\n",
       "      <td>180.29</td>\n",
       "      <td>182.39</td>\n",
       "      <td>NaN</td>\n",
       "      <td>181.72</td>\n",
       "      <td>NaN</td>\n",
       "    </tr>\n",
       "    <tr>\n",
       "      <th>2018/3/9</th>\n",
       "      <td>177.96</td>\n",
       "      <td>180.00</td>\n",
       "      <td>177.39</td>\n",
       "      <td>179.98</td>\n",
       "      <td>32130360.0</td>\n",
       "    </tr>\n",
       "    <tr>\n",
       "      <th>2018/3/8</th>\n",
       "      <td>175.48</td>\n",
       "      <td>177.12</td>\n",
       "      <td>175.07</td>\n",
       "      <td>176.94</td>\n",
       "      <td>24518850.0</td>\n",
       "    </tr>\n",
       "    <tr>\n",
       "      <th>2018/3/7</th>\n",
       "      <td>174.94</td>\n",
       "      <td>175.85</td>\n",
       "      <td>NaN</td>\n",
       "      <td>175.03</td>\n",
       "      <td>NaN</td>\n",
       "    </tr>\n",
       "  </tbody>\n",
       "</table>\n",
       "</div>"
      ],
      "text/plain": [
       "             open    high     low   close      volume\n",
       "date                                                 \n",
       "2018/3/20  175.24  176.80     NaN  175.24         NaN\n",
       "2018/3/19  177.32  177.47  173.66  175.30  32931110.0\n",
       "2018/3/16  178.65  179.12  177.62  178.02  38313330.0\n",
       "2018/3/15  178.50  180.24     NaN  178.65         NaN\n",
       "2018/3/14  180.32  180.52  177.81  178.44  29334630.0\n",
       "2018/3/13  182.59  183.50  179.24  179.97  31464170.0\n",
       "2018/3/12  180.29  182.39     NaN  181.72         NaN\n",
       "2018/3/9   177.96  180.00  177.39  179.98  32130360.0\n",
       "2018/3/8   175.48  177.12  175.07  176.94  24518850.0\n",
       "2018/3/7   174.94  175.85     NaN  175.03         NaN"
      ]
     },
     "execution_count": 49,
     "metadata": {},
     "output_type": "execute_result"
    }
   ],
   "source": [
    "import numpy as np\n",
    "AAPL.iloc[::3, 2]=np.nan\n",
    "AAPL.head(10)"
   ]
  },
  {
   "cell_type": "code",
   "execution_count": 50,
   "metadata": {},
   "outputs": [
    {
     "name": "stdout",
     "output_type": "stream",
     "text": [
      "<class 'pandas.core.frame.DataFrame'>\n",
      "Index: 377 entries, 2018/3/20 to 2016/9/20\n",
      "Data columns (total 5 columns):\n",
      "open      377 non-null float64\n",
      "high      377 non-null float64\n",
      "low       251 non-null float64\n",
      "close     377 non-null float64\n",
      "volume    251 non-null float64\n",
      "dtypes: float64(5)\n",
      "memory usage: 17.7+ KB\n"
     ]
    }
   ],
   "source": [
    "AAPL.info()"
   ]
  },
  {
   "cell_type": "code",
   "execution_count": 51,
   "metadata": {
    "collapsed": true
   },
   "outputs": [],
   "source": [
    "low = AAPL[\"low\"]"
   ]
  },
  {
   "cell_type": "code",
   "execution_count": 52,
   "metadata": {},
   "outputs": [
    {
     "data": {
      "text/plain": [
       "pandas.core.series.Series"
      ]
     },
     "execution_count": 52,
     "metadata": {},
     "output_type": "execute_result"
    }
   ],
   "source": [
    "type(low)"
   ]
  },
  {
   "cell_type": "code",
   "execution_count": 55,
   "metadata": {},
   "outputs": [
    {
     "data": {
      "text/plain": [
       "date\n",
       "2018/3/20       NaN\n",
       "2018/3/19    173.66\n",
       "2018/3/16    177.62\n",
       "2018/3/15       NaN\n",
       "2018/3/14    177.81\n",
       "Name: low, dtype: float64"
      ]
     },
     "execution_count": 55,
     "metadata": {},
     "output_type": "execute_result"
    }
   ],
   "source": [
    "low.head()"
   ]
  },
  {
   "cell_type": "markdown",
   "metadata": {},
   "source": [
    "## series"
   ]
  },
  {
   "cell_type": "code",
   "execution_count": 56,
   "metadata": {
    "collapsed": true
   },
   "outputs": [],
   "source": [
    "lows = low.values"
   ]
  },
  {
   "cell_type": "code",
   "execution_count": 57,
   "metadata": {},
   "outputs": [
    {
     "data": {
      "text/plain": [
       "numpy.ndarray"
      ]
     },
     "execution_count": 57,
     "metadata": {},
     "output_type": "execute_result"
    }
   ],
   "source": [
    "type(lows)"
   ]
  },
  {
   "cell_type": "code",
   "execution_count": null,
   "metadata": {
    "collapsed": true
   },
   "outputs": [],
   "source": []
  }
 ],
 "metadata": {
  "kernelspec": {
   "display_name": "Python 3",
   "language": "python",
   "name": "python3"
  },
  "language_info": {
   "codemirror_mode": {
    "name": "ipython",
    "version": 3
   },
   "file_extension": ".py",
   "mimetype": "text/x-python",
   "name": "python",
   "nbconvert_exporter": "python",
   "pygments_lexer": "ipython3",
   "version": "3.6.1"
  }
 },
 "nbformat": 4,
 "nbformat_minor": 2
}
