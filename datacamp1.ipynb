{
 "cells": [
  {
   "cell_type": "markdown",
   "metadata": {
    "slideshow": {
     "slide_type": "slide"
    }
   },
   "source": [
    "# DataFrame and Series"
   ]
  },
  {
   "cell_type": "code",
   "execution_count": 63,
   "metadata": {
    "collapsed": true,
    "slideshow": {
     "slide_type": "-"
    }
   },
   "outputs": [],
   "source": [
    "import pandas as pd"
   ]
  },
  {
   "cell_type": "markdown",
   "metadata": {},
   "source": [
    "## Pandas DataFrame"
   ]
  },
  {
   "cell_type": "code",
   "execution_count": 64,
   "metadata": {},
   "outputs": [],
   "source": [
    "AAPL = pd.read_csv(\"data/aapldata.csv\", index_col=0) #讀取csv檔案"
   ]
  },
  {
   "cell_type": "code",
   "execution_count": 65,
   "metadata": {},
   "outputs": [
    {
     "data": {
      "text/html": [
       "<div>\n",
       "<style>\n",
       "    .dataframe thead tr:only-child th {\n",
       "        text-align: right;\n",
       "    }\n",
       "\n",
       "    .dataframe thead th {\n",
       "        text-align: left;\n",
       "    }\n",
       "\n",
       "    .dataframe tbody tr th {\n",
       "        vertical-align: top;\n",
       "    }\n",
       "</style>\n",
       "<table border=\"1\" class=\"dataframe\">\n",
       "  <thead>\n",
       "    <tr style=\"text-align: right;\">\n",
       "      <th></th>\n",
       "      <th>open</th>\n",
       "      <th>high</th>\n",
       "      <th>low</th>\n",
       "      <th>close</th>\n",
       "      <th>volume</th>\n",
       "    </tr>\n",
       "    <tr>\n",
       "      <th>date</th>\n",
       "      <th></th>\n",
       "      <th></th>\n",
       "      <th></th>\n",
       "      <th></th>\n",
       "      <th></th>\n",
       "    </tr>\n",
       "  </thead>\n",
       "  <tbody>\n",
       "    <tr>\n",
       "      <th>2018/3/20</th>\n",
       "      <td>175.24</td>\n",
       "      <td>176.80</td>\n",
       "      <td>174.9400</td>\n",
       "      <td>175.24</td>\n",
       "      <td>19620520</td>\n",
       "    </tr>\n",
       "    <tr>\n",
       "      <th>2018/3/19</th>\n",
       "      <td>177.32</td>\n",
       "      <td>177.47</td>\n",
       "      <td>173.6600</td>\n",
       "      <td>175.30</td>\n",
       "      <td>32931110</td>\n",
       "    </tr>\n",
       "    <tr>\n",
       "      <th>2018/3/16</th>\n",
       "      <td>178.65</td>\n",
       "      <td>179.12</td>\n",
       "      <td>177.6200</td>\n",
       "      <td>178.02</td>\n",
       "      <td>38313330</td>\n",
       "    </tr>\n",
       "    <tr>\n",
       "      <th>2018/3/15</th>\n",
       "      <td>178.50</td>\n",
       "      <td>180.24</td>\n",
       "      <td>178.0701</td>\n",
       "      <td>178.65</td>\n",
       "      <td>22676520</td>\n",
       "    </tr>\n",
       "    <tr>\n",
       "      <th>2018/3/14</th>\n",
       "      <td>180.32</td>\n",
       "      <td>180.52</td>\n",
       "      <td>177.8100</td>\n",
       "      <td>178.44</td>\n",
       "      <td>29334630</td>\n",
       "    </tr>\n",
       "  </tbody>\n",
       "</table>\n",
       "</div>"
      ],
      "text/plain": [
       "             open    high       low   close    volume\n",
       "date                                                 \n",
       "2018/3/20  175.24  176.80  174.9400  175.24  19620520\n",
       "2018/3/19  177.32  177.47  173.6600  175.30  32931110\n",
       "2018/3/16  178.65  179.12  177.6200  178.02  38313330\n",
       "2018/3/15  178.50  180.24  178.0701  178.65  22676520\n",
       "2018/3/14  180.32  180.52  177.8100  178.44  29334630"
      ]
     },
     "execution_count": 65,
     "metadata": {},
     "output_type": "execute_result"
    }
   ],
   "source": [
    "AAPL.head()"
   ]
  },
  {
   "cell_type": "code",
   "execution_count": 66,
   "metadata": {},
   "outputs": [
    {
     "data": {
      "text/plain": [
       "pandas.core.frame.DataFrame"
      ]
     },
     "execution_count": 66,
     "metadata": {},
     "output_type": "execute_result"
    }
   ],
   "source": [
    "type(AAPL)"
   ]
  },
  {
   "cell_type": "code",
   "execution_count": 67,
   "metadata": {},
   "outputs": [
    {
     "data": {
      "text/plain": [
       "(377, 5)"
      ]
     },
     "execution_count": 67,
     "metadata": {},
     "output_type": "execute_result"
    }
   ],
   "source": [
    "AAPL.shape"
   ]
  },
  {
   "cell_type": "markdown",
   "metadata": {},
   "source": [
    "## index and columns"
   ]
  },
  {
   "cell_type": "code",
   "execution_count": 68,
   "metadata": {},
   "outputs": [
    {
     "data": {
      "text/plain": [
       "Index(['open', 'high', 'low', 'close', 'volume'], dtype='object')"
      ]
     },
     "execution_count": 68,
     "metadata": {},
     "output_type": "execute_result"
    }
   ],
   "source": [
    "AAPL.columns"
   ]
  },
  {
   "cell_type": "code",
   "execution_count": 69,
   "metadata": {},
   "outputs": [
    {
     "data": {
      "text/plain": [
       "pandas.core.indexes.base.Index"
      ]
     },
     "execution_count": 69,
     "metadata": {},
     "output_type": "execute_result"
    }
   ],
   "source": [
    "type(AAPL.columns)"
   ]
  },
  {
   "cell_type": "code",
   "execution_count": 70,
   "metadata": {},
   "outputs": [
    {
     "data": {
      "text/plain": [
       "Index(['2018/3/20', '2018/3/19', '2018/3/16', '2018/3/15', '2018/3/14',\n",
       "       '2018/3/13', '2018/3/12', '2018/3/9', '2018/3/8', '2018/3/7',\n",
       "       ...\n",
       "       '2016/10/3', '2016/9/30', '2016/9/29', '2016/9/28', '2016/9/27',\n",
       "       '2016/9/26', '2016/9/23', '2016/9/22', '2016/9/21', '2016/9/20'],\n",
       "      dtype='object', name='date', length=377)"
      ]
     },
     "execution_count": 70,
     "metadata": {},
     "output_type": "execute_result"
    }
   ],
   "source": [
    "AAPL.index"
   ]
  },
  {
   "cell_type": "code",
   "execution_count": 71,
   "metadata": {},
   "outputs": [
    {
     "data": {
      "text/plain": [
       "pandas.core.indexes.base.Index"
      ]
     },
     "execution_count": 71,
     "metadata": {},
     "output_type": "execute_result"
    }
   ],
   "source": [
    "type(AAPL.index)"
   ]
  },
  {
   "cell_type": "markdown",
   "metadata": {},
   "source": [
    "## slicing"
   ]
  },
  {
   "cell_type": "code",
   "execution_count": 72,
   "metadata": {},
   "outputs": [
    {
     "data": {
      "text/html": [
       "<div>\n",
       "<style>\n",
       "    .dataframe thead tr:only-child th {\n",
       "        text-align: right;\n",
       "    }\n",
       "\n",
       "    .dataframe thead th {\n",
       "        text-align: left;\n",
       "    }\n",
       "\n",
       "    .dataframe tbody tr th {\n",
       "        vertical-align: top;\n",
       "    }\n",
       "</style>\n",
       "<table border=\"1\" class=\"dataframe\">\n",
       "  <thead>\n",
       "    <tr style=\"text-align: right;\">\n",
       "      <th></th>\n",
       "      <th>open</th>\n",
       "      <th>high</th>\n",
       "      <th>low</th>\n",
       "      <th>close</th>\n",
       "      <th>volume</th>\n",
       "    </tr>\n",
       "    <tr>\n",
       "      <th>date</th>\n",
       "      <th></th>\n",
       "      <th></th>\n",
       "      <th></th>\n",
       "      <th></th>\n",
       "      <th></th>\n",
       "    </tr>\n",
       "  </thead>\n",
       "  <tbody>\n",
       "    <tr>\n",
       "      <th>2018/3/20</th>\n",
       "      <td>175.24</td>\n",
       "      <td>176.80</td>\n",
       "      <td>174.9400</td>\n",
       "      <td>175.24</td>\n",
       "      <td>19620520</td>\n",
       "    </tr>\n",
       "    <tr>\n",
       "      <th>2018/3/19</th>\n",
       "      <td>177.32</td>\n",
       "      <td>177.47</td>\n",
       "      <td>173.6600</td>\n",
       "      <td>175.30</td>\n",
       "      <td>32931110</td>\n",
       "    </tr>\n",
       "    <tr>\n",
       "      <th>2018/3/16</th>\n",
       "      <td>178.65</td>\n",
       "      <td>179.12</td>\n",
       "      <td>177.6200</td>\n",
       "      <td>178.02</td>\n",
       "      <td>38313330</td>\n",
       "    </tr>\n",
       "    <tr>\n",
       "      <th>2018/3/15</th>\n",
       "      <td>178.50</td>\n",
       "      <td>180.24</td>\n",
       "      <td>178.0701</td>\n",
       "      <td>178.65</td>\n",
       "      <td>22676520</td>\n",
       "    </tr>\n",
       "    <tr>\n",
       "      <th>2018/3/14</th>\n",
       "      <td>180.32</td>\n",
       "      <td>180.52</td>\n",
       "      <td>177.8100</td>\n",
       "      <td>178.44</td>\n",
       "      <td>29334630</td>\n",
       "    </tr>\n",
       "  </tbody>\n",
       "</table>\n",
       "</div>"
      ],
      "text/plain": [
       "             open    high       low   close    volume\n",
       "date                                                 \n",
       "2018/3/20  175.24  176.80  174.9400  175.24  19620520\n",
       "2018/3/19  177.32  177.47  173.6600  175.30  32931110\n",
       "2018/3/16  178.65  179.12  177.6200  178.02  38313330\n",
       "2018/3/15  178.50  180.24  178.0701  178.65  22676520\n",
       "2018/3/14  180.32  180.52  177.8100  178.44  29334630"
      ]
     },
     "execution_count": 72,
     "metadata": {},
     "output_type": "execute_result"
    }
   ],
   "source": [
    "AAPL.iloc[:5, :]"
   ]
  },
  {
   "cell_type": "code",
   "execution_count": 73,
   "metadata": {},
   "outputs": [
    {
     "data": {
      "text/html": [
       "<div>\n",
       "<style>\n",
       "    .dataframe thead tr:only-child th {\n",
       "        text-align: right;\n",
       "    }\n",
       "\n",
       "    .dataframe thead th {\n",
       "        text-align: left;\n",
       "    }\n",
       "\n",
       "    .dataframe tbody tr th {\n",
       "        vertical-align: top;\n",
       "    }\n",
       "</style>\n",
       "<table border=\"1\" class=\"dataframe\">\n",
       "  <thead>\n",
       "    <tr style=\"text-align: right;\">\n",
       "      <th></th>\n",
       "      <th>open</th>\n",
       "      <th>high</th>\n",
       "      <th>low</th>\n",
       "      <th>close</th>\n",
       "      <th>volume</th>\n",
       "    </tr>\n",
       "    <tr>\n",
       "      <th>date</th>\n",
       "      <th></th>\n",
       "      <th></th>\n",
       "      <th></th>\n",
       "      <th></th>\n",
       "      <th></th>\n",
       "    </tr>\n",
       "  </thead>\n",
       "  <tbody>\n",
       "    <tr>\n",
       "      <th>2016/9/26</th>\n",
       "      <td>111.64</td>\n",
       "      <td>113.390</td>\n",
       "      <td>111.550</td>\n",
       "      <td>112.88</td>\n",
       "      <td>29800240</td>\n",
       "    </tr>\n",
       "    <tr>\n",
       "      <th>2016/9/23</th>\n",
       "      <td>114.42</td>\n",
       "      <td>114.790</td>\n",
       "      <td>111.550</td>\n",
       "      <td>112.71</td>\n",
       "      <td>52411070</td>\n",
       "    </tr>\n",
       "    <tr>\n",
       "      <th>2016/9/22</th>\n",
       "      <td>114.35</td>\n",
       "      <td>114.940</td>\n",
       "      <td>114.000</td>\n",
       "      <td>114.62</td>\n",
       "      <td>31048170</td>\n",
       "    </tr>\n",
       "    <tr>\n",
       "      <th>2016/9/21</th>\n",
       "      <td>113.85</td>\n",
       "      <td>113.989</td>\n",
       "      <td>112.441</td>\n",
       "      <td>113.55</td>\n",
       "      <td>35951900</td>\n",
       "    </tr>\n",
       "    <tr>\n",
       "      <th>2016/9/20</th>\n",
       "      <td>113.05</td>\n",
       "      <td>114.120</td>\n",
       "      <td>112.510</td>\n",
       "      <td>113.57</td>\n",
       "      <td>34494150</td>\n",
       "    </tr>\n",
       "  </tbody>\n",
       "</table>\n",
       "</div>"
      ],
      "text/plain": [
       "             open     high      low   close    volume\n",
       "date                                                 \n",
       "2016/9/26  111.64  113.390  111.550  112.88  29800240\n",
       "2016/9/23  114.42  114.790  111.550  112.71  52411070\n",
       "2016/9/22  114.35  114.940  114.000  114.62  31048170\n",
       "2016/9/21  113.85  113.989  112.441  113.55  35951900\n",
       "2016/9/20  113.05  114.120  112.510  113.57  34494150"
      ]
     },
     "execution_count": 73,
     "metadata": {},
     "output_type": "execute_result"
    }
   ],
   "source": [
    "AAPL.iloc[-5:, :]"
   ]
  },
  {
   "cell_type": "markdown",
   "metadata": {},
   "source": [
    "## head()"
   ]
  },
  {
   "cell_type": "code",
   "execution_count": 74,
   "metadata": {},
   "outputs": [
    {
     "data": {
      "text/html": [
       "<div>\n",
       "<style>\n",
       "    .dataframe thead tr:only-child th {\n",
       "        text-align: right;\n",
       "    }\n",
       "\n",
       "    .dataframe thead th {\n",
       "        text-align: left;\n",
       "    }\n",
       "\n",
       "    .dataframe tbody tr th {\n",
       "        vertical-align: top;\n",
       "    }\n",
       "</style>\n",
       "<table border=\"1\" class=\"dataframe\">\n",
       "  <thead>\n",
       "    <tr style=\"text-align: right;\">\n",
       "      <th></th>\n",
       "      <th>open</th>\n",
       "      <th>high</th>\n",
       "      <th>low</th>\n",
       "      <th>close</th>\n",
       "      <th>volume</th>\n",
       "    </tr>\n",
       "    <tr>\n",
       "      <th>date</th>\n",
       "      <th></th>\n",
       "      <th></th>\n",
       "      <th></th>\n",
       "      <th></th>\n",
       "      <th></th>\n",
       "    </tr>\n",
       "  </thead>\n",
       "  <tbody>\n",
       "    <tr>\n",
       "      <th>2018/3/20</th>\n",
       "      <td>175.24</td>\n",
       "      <td>176.80</td>\n",
       "      <td>174.9400</td>\n",
       "      <td>175.24</td>\n",
       "      <td>19620520</td>\n",
       "    </tr>\n",
       "    <tr>\n",
       "      <th>2018/3/19</th>\n",
       "      <td>177.32</td>\n",
       "      <td>177.47</td>\n",
       "      <td>173.6600</td>\n",
       "      <td>175.30</td>\n",
       "      <td>32931110</td>\n",
       "    </tr>\n",
       "    <tr>\n",
       "      <th>2018/3/16</th>\n",
       "      <td>178.65</td>\n",
       "      <td>179.12</td>\n",
       "      <td>177.6200</td>\n",
       "      <td>178.02</td>\n",
       "      <td>38313330</td>\n",
       "    </tr>\n",
       "    <tr>\n",
       "      <th>2018/3/15</th>\n",
       "      <td>178.50</td>\n",
       "      <td>180.24</td>\n",
       "      <td>178.0701</td>\n",
       "      <td>178.65</td>\n",
       "      <td>22676520</td>\n",
       "    </tr>\n",
       "    <tr>\n",
       "      <th>2018/3/14</th>\n",
       "      <td>180.32</td>\n",
       "      <td>180.52</td>\n",
       "      <td>177.8100</td>\n",
       "      <td>178.44</td>\n",
       "      <td>29334630</td>\n",
       "    </tr>\n",
       "  </tbody>\n",
       "</table>\n",
       "</div>"
      ],
      "text/plain": [
       "             open    high       low   close    volume\n",
       "date                                                 \n",
       "2018/3/20  175.24  176.80  174.9400  175.24  19620520\n",
       "2018/3/19  177.32  177.47  173.6600  175.30  32931110\n",
       "2018/3/16  178.65  179.12  177.6200  178.02  38313330\n",
       "2018/3/15  178.50  180.24  178.0701  178.65  22676520\n",
       "2018/3/14  180.32  180.52  177.8100  178.44  29334630"
      ]
     },
     "execution_count": 74,
     "metadata": {},
     "output_type": "execute_result"
    }
   ],
   "source": [
    "AAPL.head()"
   ]
  },
  {
   "cell_type": "code",
   "execution_count": 75,
   "metadata": {},
   "outputs": [
    {
     "data": {
      "text/html": [
       "<div>\n",
       "<style>\n",
       "    .dataframe thead tr:only-child th {\n",
       "        text-align: right;\n",
       "    }\n",
       "\n",
       "    .dataframe thead th {\n",
       "        text-align: left;\n",
       "    }\n",
       "\n",
       "    .dataframe tbody tr th {\n",
       "        vertical-align: top;\n",
       "    }\n",
       "</style>\n",
       "<table border=\"1\" class=\"dataframe\">\n",
       "  <thead>\n",
       "    <tr style=\"text-align: right;\">\n",
       "      <th></th>\n",
       "      <th>open</th>\n",
       "      <th>high</th>\n",
       "      <th>low</th>\n",
       "      <th>close</th>\n",
       "      <th>volume</th>\n",
       "    </tr>\n",
       "    <tr>\n",
       "      <th>date</th>\n",
       "      <th></th>\n",
       "      <th></th>\n",
       "      <th></th>\n",
       "      <th></th>\n",
       "      <th></th>\n",
       "    </tr>\n",
       "  </thead>\n",
       "  <tbody>\n",
       "    <tr>\n",
       "      <th>2018/3/20</th>\n",
       "      <td>175.24</td>\n",
       "      <td>176.80</td>\n",
       "      <td>174.94</td>\n",
       "      <td>175.24</td>\n",
       "      <td>19620520</td>\n",
       "    </tr>\n",
       "    <tr>\n",
       "      <th>2018/3/19</th>\n",
       "      <td>177.32</td>\n",
       "      <td>177.47</td>\n",
       "      <td>173.66</td>\n",
       "      <td>175.30</td>\n",
       "      <td>32931110</td>\n",
       "    </tr>\n",
       "  </tbody>\n",
       "</table>\n",
       "</div>"
      ],
      "text/plain": [
       "             open    high     low   close    volume\n",
       "date                                               \n",
       "2018/3/20  175.24  176.80  174.94  175.24  19620520\n",
       "2018/3/19  177.32  177.47  173.66  175.30  32931110"
      ]
     },
     "execution_count": 75,
     "metadata": {},
     "output_type": "execute_result"
    }
   ],
   "source": [
    "AAPL.head(2)"
   ]
  },
  {
   "cell_type": "markdown",
   "metadata": {},
   "source": [
    "## tail()"
   ]
  },
  {
   "cell_type": "code",
   "execution_count": 76,
   "metadata": {},
   "outputs": [
    {
     "data": {
      "text/html": [
       "<div>\n",
       "<style>\n",
       "    .dataframe thead tr:only-child th {\n",
       "        text-align: right;\n",
       "    }\n",
       "\n",
       "    .dataframe thead th {\n",
       "        text-align: left;\n",
       "    }\n",
       "\n",
       "    .dataframe tbody tr th {\n",
       "        vertical-align: top;\n",
       "    }\n",
       "</style>\n",
       "<table border=\"1\" class=\"dataframe\">\n",
       "  <thead>\n",
       "    <tr style=\"text-align: right;\">\n",
       "      <th></th>\n",
       "      <th>open</th>\n",
       "      <th>high</th>\n",
       "      <th>low</th>\n",
       "      <th>close</th>\n",
       "      <th>volume</th>\n",
       "    </tr>\n",
       "    <tr>\n",
       "      <th>date</th>\n",
       "      <th></th>\n",
       "      <th></th>\n",
       "      <th></th>\n",
       "      <th></th>\n",
       "      <th></th>\n",
       "    </tr>\n",
       "  </thead>\n",
       "  <tbody>\n",
       "    <tr>\n",
       "      <th>2016/9/26</th>\n",
       "      <td>111.64</td>\n",
       "      <td>113.390</td>\n",
       "      <td>111.550</td>\n",
       "      <td>112.88</td>\n",
       "      <td>29800240</td>\n",
       "    </tr>\n",
       "    <tr>\n",
       "      <th>2016/9/23</th>\n",
       "      <td>114.42</td>\n",
       "      <td>114.790</td>\n",
       "      <td>111.550</td>\n",
       "      <td>112.71</td>\n",
       "      <td>52411070</td>\n",
       "    </tr>\n",
       "    <tr>\n",
       "      <th>2016/9/22</th>\n",
       "      <td>114.35</td>\n",
       "      <td>114.940</td>\n",
       "      <td>114.000</td>\n",
       "      <td>114.62</td>\n",
       "      <td>31048170</td>\n",
       "    </tr>\n",
       "    <tr>\n",
       "      <th>2016/9/21</th>\n",
       "      <td>113.85</td>\n",
       "      <td>113.989</td>\n",
       "      <td>112.441</td>\n",
       "      <td>113.55</td>\n",
       "      <td>35951900</td>\n",
       "    </tr>\n",
       "    <tr>\n",
       "      <th>2016/9/20</th>\n",
       "      <td>113.05</td>\n",
       "      <td>114.120</td>\n",
       "      <td>112.510</td>\n",
       "      <td>113.57</td>\n",
       "      <td>34494150</td>\n",
       "    </tr>\n",
       "  </tbody>\n",
       "</table>\n",
       "</div>"
      ],
      "text/plain": [
       "             open     high      low   close    volume\n",
       "date                                                 \n",
       "2016/9/26  111.64  113.390  111.550  112.88  29800240\n",
       "2016/9/23  114.42  114.790  111.550  112.71  52411070\n",
       "2016/9/22  114.35  114.940  114.000  114.62  31048170\n",
       "2016/9/21  113.85  113.989  112.441  113.55  35951900\n",
       "2016/9/20  113.05  114.120  112.510  113.57  34494150"
      ]
     },
     "execution_count": 76,
     "metadata": {},
     "output_type": "execute_result"
    }
   ],
   "source": [
    "AAPL.tail()"
   ]
  },
  {
   "cell_type": "code",
   "execution_count": 77,
   "metadata": {},
   "outputs": [
    {
     "data": {
      "text/html": [
       "<div>\n",
       "<style>\n",
       "    .dataframe thead tr:only-child th {\n",
       "        text-align: right;\n",
       "    }\n",
       "\n",
       "    .dataframe thead th {\n",
       "        text-align: left;\n",
       "    }\n",
       "\n",
       "    .dataframe tbody tr th {\n",
       "        vertical-align: top;\n",
       "    }\n",
       "</style>\n",
       "<table border=\"1\" class=\"dataframe\">\n",
       "  <thead>\n",
       "    <tr style=\"text-align: right;\">\n",
       "      <th></th>\n",
       "      <th>open</th>\n",
       "      <th>high</th>\n",
       "      <th>low</th>\n",
       "      <th>close</th>\n",
       "      <th>volume</th>\n",
       "    </tr>\n",
       "    <tr>\n",
       "      <th>date</th>\n",
       "      <th></th>\n",
       "      <th></th>\n",
       "      <th></th>\n",
       "      <th></th>\n",
       "      <th></th>\n",
       "    </tr>\n",
       "  </thead>\n",
       "  <tbody>\n",
       "    <tr>\n",
       "      <th>2016/9/22</th>\n",
       "      <td>114.35</td>\n",
       "      <td>114.940</td>\n",
       "      <td>114.000</td>\n",
       "      <td>114.62</td>\n",
       "      <td>31048170</td>\n",
       "    </tr>\n",
       "    <tr>\n",
       "      <th>2016/9/21</th>\n",
       "      <td>113.85</td>\n",
       "      <td>113.989</td>\n",
       "      <td>112.441</td>\n",
       "      <td>113.55</td>\n",
       "      <td>35951900</td>\n",
       "    </tr>\n",
       "    <tr>\n",
       "      <th>2016/9/20</th>\n",
       "      <td>113.05</td>\n",
       "      <td>114.120</td>\n",
       "      <td>112.510</td>\n",
       "      <td>113.57</td>\n",
       "      <td>34494150</td>\n",
       "    </tr>\n",
       "  </tbody>\n",
       "</table>\n",
       "</div>"
      ],
      "text/plain": [
       "             open     high      low   close    volume\n",
       "date                                                 \n",
       "2016/9/22  114.35  114.940  114.000  114.62  31048170\n",
       "2016/9/21  113.85  113.989  112.441  113.55  35951900\n",
       "2016/9/20  113.05  114.120  112.510  113.57  34494150"
      ]
     },
     "execution_count": 77,
     "metadata": {},
     "output_type": "execute_result"
    }
   ],
   "source": [
    "AAPL.tail(3)"
   ]
  },
  {
   "cell_type": "markdown",
   "metadata": {},
   "source": [
    "## info()"
   ]
  },
  {
   "cell_type": "code",
   "execution_count": 78,
   "metadata": {},
   "outputs": [
    {
     "name": "stdout",
     "output_type": "stream",
     "text": [
      "<class 'pandas.core.frame.DataFrame'>\n",
      "Index: 377 entries, 2018/3/20 to 2016/9/20\n",
      "Data columns (total 5 columns):\n",
      "open      377 non-null float64\n",
      "high      377 non-null float64\n",
      "low       377 non-null float64\n",
      "close     377 non-null float64\n",
      "volume    377 non-null int64\n",
      "dtypes: float64(4), int64(1)\n",
      "memory usage: 17.7+ KB\n"
     ]
    }
   ],
   "source": [
    "AAPL.info()"
   ]
  },
  {
   "cell_type": "markdown",
   "metadata": {},
   "source": [
    "## brocasting"
   ]
  },
  {
   "cell_type": "code",
   "execution_count": 79,
   "metadata": {},
   "outputs": [
    {
     "data": {
      "text/html": [
       "<div>\n",
       "<style>\n",
       "    .dataframe thead tr:only-child th {\n",
       "        text-align: right;\n",
       "    }\n",
       "\n",
       "    .dataframe thead th {\n",
       "        text-align: left;\n",
       "    }\n",
       "\n",
       "    .dataframe tbody tr th {\n",
       "        vertical-align: top;\n",
       "    }\n",
       "</style>\n",
       "<table border=\"1\" class=\"dataframe\">\n",
       "  <thead>\n",
       "    <tr style=\"text-align: right;\">\n",
       "      <th></th>\n",
       "      <th>open</th>\n",
       "      <th>high</th>\n",
       "      <th>low</th>\n",
       "      <th>close</th>\n",
       "      <th>volume</th>\n",
       "    </tr>\n",
       "    <tr>\n",
       "      <th>date</th>\n",
       "      <th></th>\n",
       "      <th></th>\n",
       "      <th></th>\n",
       "      <th></th>\n",
       "      <th></th>\n",
       "    </tr>\n",
       "  </thead>\n",
       "  <tbody>\n",
       "    <tr>\n",
       "      <th>2018/3/20</th>\n",
       "      <td>175.24</td>\n",
       "      <td>176.80</td>\n",
       "      <td>174.9400</td>\n",
       "      <td>175.24</td>\n",
       "      <td>NaN</td>\n",
       "    </tr>\n",
       "    <tr>\n",
       "      <th>2018/3/19</th>\n",
       "      <td>177.32</td>\n",
       "      <td>177.47</td>\n",
       "      <td>173.6600</td>\n",
       "      <td>175.30</td>\n",
       "      <td>32931110.0</td>\n",
       "    </tr>\n",
       "    <tr>\n",
       "      <th>2018/3/16</th>\n",
       "      <td>178.65</td>\n",
       "      <td>179.12</td>\n",
       "      <td>177.6200</td>\n",
       "      <td>178.02</td>\n",
       "      <td>38313330.0</td>\n",
       "    </tr>\n",
       "    <tr>\n",
       "      <th>2018/3/15</th>\n",
       "      <td>178.50</td>\n",
       "      <td>180.24</td>\n",
       "      <td>178.0701</td>\n",
       "      <td>178.65</td>\n",
       "      <td>NaN</td>\n",
       "    </tr>\n",
       "    <tr>\n",
       "      <th>2018/3/14</th>\n",
       "      <td>180.32</td>\n",
       "      <td>180.52</td>\n",
       "      <td>177.8100</td>\n",
       "      <td>178.44</td>\n",
       "      <td>29334630.0</td>\n",
       "    </tr>\n",
       "    <tr>\n",
       "      <th>2018/3/13</th>\n",
       "      <td>182.59</td>\n",
       "      <td>183.50</td>\n",
       "      <td>179.2400</td>\n",
       "      <td>179.97</td>\n",
       "      <td>31464170.0</td>\n",
       "    </tr>\n",
       "  </tbody>\n",
       "</table>\n",
       "</div>"
      ],
      "text/plain": [
       "             open    high       low   close      volume\n",
       "date                                                   \n",
       "2018/3/20  175.24  176.80  174.9400  175.24         NaN\n",
       "2018/3/19  177.32  177.47  173.6600  175.30  32931110.0\n",
       "2018/3/16  178.65  179.12  177.6200  178.02  38313330.0\n",
       "2018/3/15  178.50  180.24  178.0701  178.65         NaN\n",
       "2018/3/14  180.32  180.52  177.8100  178.44  29334630.0\n",
       "2018/3/13  182.59  183.50  179.2400  179.97  31464170.0"
      ]
     },
     "execution_count": 79,
     "metadata": {},
     "output_type": "execute_result"
    }
   ],
   "source": [
    "import numpy as np\n",
    "AAPL.iloc[::3, -1]=np.nan\n",
    "AAPL.head(6)"
   ]
  },
  {
   "cell_type": "code",
   "execution_count": 80,
   "metadata": {},
   "outputs": [
    {
     "name": "stdout",
     "output_type": "stream",
     "text": [
      "<class 'pandas.core.frame.DataFrame'>\n",
      "Index: 377 entries, 2018/3/20 to 2016/9/20\n",
      "Data columns (total 5 columns):\n",
      "open      377 non-null float64\n",
      "high      377 non-null float64\n",
      "low       377 non-null float64\n",
      "close     377 non-null float64\n",
      "volume    251 non-null float64\n",
      "dtypes: float64(5)\n",
      "memory usage: 17.7+ KB\n"
     ]
    }
   ],
   "source": [
    "AAPL.info()"
   ]
  },
  {
   "cell_type": "code",
   "execution_count": 81,
   "metadata": {
    "collapsed": true
   },
   "outputs": [],
   "source": [
    "low = AAPL[\"low\"]"
   ]
  },
  {
   "cell_type": "code",
   "execution_count": 82,
   "metadata": {},
   "outputs": [
    {
     "data": {
      "text/plain": [
       "pandas.core.series.Series"
      ]
     },
     "execution_count": 82,
     "metadata": {},
     "output_type": "execute_result"
    }
   ],
   "source": [
    "type(low)"
   ]
  },
  {
   "cell_type": "code",
   "execution_count": 83,
   "metadata": {},
   "outputs": [
    {
     "data": {
      "text/plain": [
       "date\n",
       "2018/3/20    174.9400\n",
       "2018/3/19    173.6600\n",
       "2018/3/16    177.6200\n",
       "2018/3/15    178.0701\n",
       "2018/3/14    177.8100\n",
       "Name: low, dtype: float64"
      ]
     },
     "execution_count": 83,
     "metadata": {},
     "output_type": "execute_result"
    }
   ],
   "source": [
    "low.head()"
   ]
  },
  {
   "cell_type": "markdown",
   "metadata": {},
   "source": [
    "## series"
   ]
  },
  {
   "cell_type": "code",
   "execution_count": 84,
   "metadata": {
    "collapsed": true
   },
   "outputs": [],
   "source": [
    "lows = low.values"
   ]
  },
  {
   "cell_type": "code",
   "execution_count": 85,
   "metadata": {},
   "outputs": [
    {
     "data": {
      "text/plain": [
       "numpy.ndarray"
      ]
     },
     "execution_count": 85,
     "metadata": {},
     "output_type": "execute_result"
    }
   ],
   "source": [
    "type(lows)"
   ]
  }
 ],
 "metadata": {
  "celltoolbar": "Slideshow",
  "kernelspec": {
   "display_name": "Python 3",
   "language": "python",
   "name": "python3"
  },
  "language_info": {
   "codemirror_mode": {
    "name": "ipython",
    "version": 3
   },
   "file_extension": ".py",
   "mimetype": "text/x-python",
   "name": "python",
   "nbconvert_exporter": "python",
   "pygments_lexer": "ipython3",
   "version": "3.6.2"
  }
 },
 "nbformat": 4,
 "nbformat_minor": 2
}
