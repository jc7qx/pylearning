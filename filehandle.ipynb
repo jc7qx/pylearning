{
 "cells": [
  {
   "cell_type": "markdown",
   "metadata": {},
   "source": [
    "# 文件檔案處理"
   ]
  },
  {
   "cell_type": "markdown",
   "metadata": {},
   "source": [
    "### 開啟檔案"
   ]
  },
  {
   "cell_type": "code",
   "execution_count": 39,
   "metadata": {
    "collapsed": true
   },
   "outputs": [],
   "source": [
    "fp = open(\"hack.txt\", \"r\") # fp 檔案變數，\"r\"唯讀模式"
   ]
  },
  {
   "cell_type": "code",
   "execution_count": 40,
   "metadata": {},
   "outputs": [
    {
     "data": {
      "text/plain": [
       "<_io.TextIOWrapper name='hack.txt' mode='r' encoding='UTF-8'>"
      ]
     },
     "execution_count": 40,
     "metadata": {},
     "output_type": "execute_result"
    }
   ],
   "source": [
    "fp"
   ]
  },
  {
   "cell_type": "markdown",
   "metadata": {},
   "source": [
    "### 讀取檔案內容"
   ]
  },
  {
   "cell_type": "code",
   "execution_count": 41,
   "metadata": {},
   "outputs": [],
   "source": [
    "f100 = fp.read(100) # 讀取 100 Bytes"
   ]
  },
  {
   "cell_type": "code",
   "execution_count": 42,
   "metadata": {},
   "outputs": [
    {
     "data": {
      "text/plain": [
       "'AS TENSIONS WITH North Korea escalate into a full-on cold war, a cold cyberwar is playing out in tan'"
      ]
     },
     "execution_count": 42,
     "metadata": {},
     "output_type": "execute_result"
    }
   ],
   "source": [
    "f100"
   ]
  },
  {
   "cell_type": "code",
   "execution_count": 43,
   "metadata": {
    "collapsed": true
   },
   "outputs": [],
   "source": [
    "fall = fp.read() # 讀取目前位置開始，一直到結尾，所有內容"
   ]
  },
  {
   "cell_type": "code",
   "execution_count": 44,
   "metadata": {},
   "outputs": [
    {
     "data": {
      "text/plain": [
       "\"dem: Beneath the very public nuclear standoff, both the US and North Korea have privately ramped up their digital aggression, the Kim regime's hackers rampaging through networks around the globe and the US answering with its own attacks on the systems used by those hackers.\\nBut despite the US government's dominating powers in the digital realm, security experts and former intelligence officials believe that battlefield favors North Korea. US hackers can take bites out of the edges of North Korea's infrastructure. But getting to its core—and anywhere close to disrupting or even delaying its nuclear capabilities—will be extremely difficult, they say, if not impossible.\\n\\nLast week, The Washington Post reported that US Cyber Command had hit computers used by North Korea's Reconnaissance General Bureau (or RGB) and taken them offline at least temporarily, one element in a new, no-holds-barred directive to use all available tools to curtail the rogue state's aggression. And in fact, security analysts say that what little of the Hermit Kingdom's operations do connect to the internet are likely as vulnerable to US hacking operations as those of other adversaries, if not more so.\\nBut even that successful RGB strike appears to have been a denial of service attack—in which junk traffic overwhelms a system—rather than a penetrating breach of North Korea's computers. And the vast majority of North Korea's overall infrastructure still remains disconnected, vastly reducing any footholds for hackers—and making the prospect of compromising its locked-down and air-gapped nuclear weapons systems all the more daunting.\""
      ]
     },
     "execution_count": 44,
     "metadata": {},
     "output_type": "execute_result"
    }
   ],
   "source": [
    "fall"
   ]
  },
  {
   "cell_type": "markdown",
   "metadata": {},
   "source": [
    "### 檔案指標目前位置"
   ]
  },
  {
   "cell_type": "code",
   "execution_count": 45,
   "metadata": {},
   "outputs": [
    {
     "data": {
      "text/plain": [
       "1736"
      ]
     },
     "execution_count": 45,
     "metadata": {},
     "output_type": "execute_result"
    }
   ],
   "source": [
    "fp.tell()"
   ]
  },
  {
   "cell_type": "markdown",
   "metadata": {},
   "source": [
    "### 移動文件讀取指標到指定位置"
   ]
  },
  {
   "cell_type": "code",
   "execution_count": 46,
   "metadata": {},
   "outputs": [
    {
     "data": {
      "text/plain": [
       "0"
      ]
     },
     "execution_count": 46,
     "metadata": {},
     "output_type": "execute_result"
    }
   ],
   "source": [
    "fp.seek(0,0) # 到檔案起始位置"
   ]
  },
  {
   "cell_type": "markdown",
   "metadata": {},
   "source": [
    "### 讀取一行"
   ]
  },
  {
   "cell_type": "code",
   "execution_count": 47,
   "metadata": {
    "collapsed": true
   },
   "outputs": [],
   "source": [
    "line = fp.readline()"
   ]
  },
  {
   "cell_type": "code",
   "execution_count": 48,
   "metadata": {},
   "outputs": [
    {
     "data": {
      "text/plain": [
       "\"AS TENSIONS WITH North Korea escalate into a full-on cold war, a cold cyberwar is playing out in tandem: Beneath the very public nuclear standoff, both the US and North Korea have privately ramped up their digital aggression, the Kim regime's hackers rampaging through networks around the globe and the US answering with its own attacks on the systems used by those hackers.\\n\""
      ]
     },
     "execution_count": 48,
     "metadata": {},
     "output_type": "execute_result"
    }
   ],
   "source": [
    "line"
   ]
  },
  {
   "cell_type": "markdown",
   "metadata": {},
   "source": [
    "### 一行一行讀取全部"
   ]
  },
  {
   "cell_type": "code",
   "execution_count": 49,
   "metadata": {
    "collapsed": true
   },
   "outputs": [],
   "source": [
    "lines = fp.readlines() #讀進來的文字，以行為單位儲存於List"
   ]
  },
  {
   "cell_type": "code",
   "execution_count": 50,
   "metadata": {},
   "outputs": [
    {
     "data": {
      "text/plain": [
       "[\"But despite the US government's dominating powers in the digital realm, security experts and former intelligence officials believe that battlefield favors North Korea. US hackers can take bites out of the edges of North Korea's infrastructure. But getting to its core—and anywhere close to disrupting or even delaying its nuclear capabilities—will be extremely difficult, they say, if not impossible.\\n\",\n",
       " '\\n',\n",
       " \"Last week, The Washington Post reported that US Cyber Command had hit computers used by North Korea's Reconnaissance General Bureau (or RGB) and taken them offline at least temporarily, one element in a new, no-holds-barred directive to use all available tools to curtail the rogue state's aggression. And in fact, security analysts say that what little of the Hermit Kingdom's operations do connect to the internet are likely as vulnerable to US hacking operations as those of other adversaries, if not more so.\\n\",\n",
       " \"But even that successful RGB strike appears to have been a denial of service attack—in which junk traffic overwhelms a system—rather than a penetrating breach of North Korea's computers. And the vast majority of North Korea's overall infrastructure still remains disconnected, vastly reducing any footholds for hackers—and making the prospect of compromising its locked-down and air-gapped nuclear weapons systems all the more daunting.\"]"
      ]
     },
     "execution_count": 50,
     "metadata": {},
     "output_type": "execute_result"
    }
   ],
   "source": [
    "lines"
   ]
  },
  {
   "cell_type": "code",
   "execution_count": 51,
   "metadata": {},
   "outputs": [
    {
     "name": "stdout",
     "output_type": "stream",
     "text": [
      "Line:1\n",
      "But despite the US government's dominating powers in the digital realm, security experts and former intelligence officials believe that battlefield favors North Korea. US hackers can take bites out of the edges of North Korea's infrastructure. But getting to its core—and anywhere close to disrupting or even delaying its nuclear capabilities—will be extremely difficult, they say, if not impossible.\n",
      "\n",
      "Line:2\n",
      "\n",
      "\n",
      "Line:3\n",
      "Last week, The Washington Post reported that US Cyber Command had hit computers used by North Korea's Reconnaissance General Bureau (or RGB) and taken them offline at least temporarily, one element in a new, no-holds-barred directive to use all available tools to curtail the rogue state's aggression. And in fact, security analysts say that what little of the Hermit Kingdom's operations do connect to the internet are likely as vulnerable to US hacking operations as those of other adversaries, if not more so.\n",
      "\n",
      "Line:4\n",
      "But even that successful RGB strike appears to have been a denial of service attack—in which junk traffic overwhelms a system—rather than a penetrating breach of North Korea's computers. And the vast majority of North Korea's overall infrastructure still remains disconnected, vastly reducing any footholds for hackers—and making the prospect of compromising its locked-down and air-gapped nuclear weapons systems all the more daunting.\n"
     ]
    }
   ],
   "source": [
    "lno = 1\n",
    "for l in lines:\n",
    "    print(\"Line:{}\\n{}\".format(lno, l))\n",
    "    lno += 1"
   ]
  },
  {
   "cell_type": "markdown",
   "metadata": {},
   "source": [
    "### 關閉檔案"
   ]
  },
  {
   "cell_type": "code",
   "execution_count": 36,
   "metadata": {
    "collapsed": true
   },
   "outputs": [],
   "source": [
    "fp.close()"
   ]
  },
  {
   "cell_type": "markdown",
   "metadata": {},
   "source": [
    "# 作業#2"
   ]
  },
  {
   "cell_type": "markdown",
   "metadata": {},
   "source": [
    "## 請分析上述文字檔，找出共有多少英文單字？每個單字出現頻率？ (Hint: 使用 string, list, dictionary, file...)"
   ]
  },
  {
   "cell_type": "code",
   "execution_count": null,
   "metadata": {
    "collapsed": true
   },
   "outputs": [],
   "source": []
  }
 ],
 "metadata": {
  "kernelspec": {
   "display_name": "Python 3",
   "language": "python",
   "name": "python3"
  },
  "language_info": {
   "codemirror_mode": {
    "name": "ipython",
    "version": 3
   },
   "file_extension": ".py",
   "mimetype": "text/x-python",
   "name": "python",
   "nbconvert_exporter": "python",
   "pygments_lexer": "ipython3",
   "version": "3.6.2"
  }
 },
 "nbformat": 4,
 "nbformat_minor": 2
}
