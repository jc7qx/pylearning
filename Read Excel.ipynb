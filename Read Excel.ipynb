{
 "cells": [
  {
   "cell_type": "markdown",
   "metadata": {},
   "source": [
    "## Read Excel files"
   ]
  },
  {
   "cell_type": "code",
   "execution_count": 16,
   "metadata": {
    "collapsed": true
   },
   "outputs": [],
   "source": [
    "import openpyxl\n",
    "import pandas as pd"
   ]
  },
  {
   "cell_type": "code",
   "execution_count": 17,
   "metadata": {},
   "outputs": [
    {
     "name": "stdout",
     "output_type": "stream",
     "text": [
      "['工作表1', '工作表2', '工作表3']\n"
     ]
    }
   ],
   "source": [
    "fn = \"/Users/CSIEK503/Desktop/peter_test.xlsx\"\n",
    "wb = openpyxl.load_workbook(fn)\n",
    "allSheets = wb.get_sheet_names()\n",
    "print(allSheets)"
   ]
  },
  {
   "cell_type": "code",
   "execution_count": 18,
   "metadata": {},
   "outputs": [
    {
     "name": "stdout",
     "output_type": "stream",
     "text": [
      "<Worksheet \"工作表1\">\n"
     ]
    }
   ],
   "source": [
    "ws = wb.get_active_sheet()\n",
    "print(ws)"
   ]
  },
  {
   "cell_type": "code",
   "execution_count": 19,
   "metadata": {},
   "outputs": [
    {
     "name": "stdout",
     "output_type": "stream",
     "text": [
      "2014-04-28 00:00:00 2017-04-28 00:00:00\n"
     ]
    }
   ],
   "source": [
    "print(ws['F2'].value,ws['G2'].value)"
   ]
  },
  {
   "cell_type": "code",
   "execution_count": 45,
   "metadata": {},
   "outputs": [],
   "source": [
    "customer = [{\n",
    "    \"客戶名稱\":ws['C1'].value,\n",
    "    \"店名\":ws['D1'].value,\n",
    "    \"聯絡人\":ws['F1'].value,\n",
    "    \"聯絡電話\":ws['I1'].value,\n",
    "    \"店址\":ws['C2'].value,\n",
    "    \"保固日期1\":ws['F2'].value,\n",
    "    \"保固日期2\":ws['G2'].value,\n",
    "    \"電子郵件\":ws['I2'].value}]\n",
    "columnNames=[\"客戶名稱\",\"店名\",\"聯絡人\",\"聯絡電話\",\"店址\",\"保固日期1\",\"保固日期2\",\"電子郵件\"]\n",
    "df = pd.DataFrame(customer, columns=columnNames)"
   ]
  },
  {
   "cell_type": "code",
   "execution_count": 46,
   "metadata": {},
   "outputs": [
    {
     "data": {
      "text/html": [
       "<div>\n",
       "<style>\n",
       "    .dataframe thead tr:only-child th {\n",
       "        text-align: right;\n",
       "    }\n",
       "\n",
       "    .dataframe thead th {\n",
       "        text-align: left;\n",
       "    }\n",
       "\n",
       "    .dataframe tbody tr th {\n",
       "        vertical-align: top;\n",
       "    }\n",
       "</style>\n",
       "<table border=\"1\" class=\"dataframe\">\n",
       "  <thead>\n",
       "    <tr style=\"text-align: right;\">\n",
       "      <th></th>\n",
       "      <th>客戶名稱</th>\n",
       "      <th>店名</th>\n",
       "      <th>聯絡人</th>\n",
       "      <th>聯絡電話</th>\n",
       "      <th>店址</th>\n",
       "      <th>保固日期1</th>\n",
       "      <th>保固日期2</th>\n",
       "      <th>電子郵件</th>\n",
       "    </tr>\n",
       "  </thead>\n",
       "  <tbody>\n",
       "    <tr>\n",
       "      <th>0</th>\n",
       "      <td>快洗可得</td>\n",
       "      <td>台中高工店</td>\n",
       "      <td>吳美美</td>\n",
       "      <td>0933-849-609</td>\n",
       "      <td>台中市高工路196號</td>\n",
       "      <td>2014-04-28</td>\n",
       "      <td>2017-04-28</td>\n",
       "      <td>wmmwmm58@gmail.com</td>\n",
       "    </tr>\n",
       "  </tbody>\n",
       "</table>\n",
       "</div>"
      ],
      "text/plain": [
       "   客戶名稱      店名  聯絡人          聯絡電話          店址      保固日期1      保固日期2  \\\n",
       "0  快洗可得   台中高工店  吳美美  0933-849-609  台中市高工路196號 2014-04-28 2017-04-28   \n",
       "\n",
       "                 電子郵件  \n",
       "0  wmmwmm58@gmail.com  "
      ]
     },
     "execution_count": 46,
     "metadata": {},
     "output_type": "execute_result"
    }
   ],
   "source": [
    "df.head()"
   ]
  },
  {
   "cell_type": "code",
   "execution_count": 44,
   "metadata": {
    "collapsed": true
   },
   "outputs": [],
   "source": [
    "w = pd.ExcelWriter('/Users/CSIEK503/Desktop/jason_test.xlsx', engine='xlsxwriter')\n",
    "df.to_excel(w, sheet_name=\"工作表1\")\n",
    "w.save()"
   ]
  },
  {
   "cell_type": "code",
   "execution_count": null,
   "metadata": {
    "collapsed": true
   },
   "outputs": [],
   "source": []
  }
 ],
 "metadata": {
  "kernelspec": {
   "display_name": "Python 3",
   "language": "python",
   "name": "python3"
  },
  "language_info": {
   "codemirror_mode": {
    "name": "ipython",
    "version": 3
   },
   "file_extension": ".py",
   "mimetype": "text/x-python",
   "name": "python",
   "nbconvert_exporter": "python",
   "pygments_lexer": "ipython3",
   "version": "3.7.3"
  }
 },
 "nbformat": 4,
 "nbformat_minor": 2
}
