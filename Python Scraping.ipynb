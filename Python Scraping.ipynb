{
 "cells": [
  {
   "cell_type": "markdown",
   "metadata": {},
   "source": [
    "<center><h1>Python 爬蟲實戰</h1></center>"
   ]
  },
  {
   "cell_type": "code",
   "execution_count": 1,
   "metadata": {},
   "outputs": [
    {
     "name": "stdout",
     "output_type": "stream",
     "text": [
      "<h1>Python 爬蟲實戰</h1>\n"
     ]
    }
   ],
   "source": [
    "import requests\n",
    "from bs4 import BeautifulSoup\n",
    "response = requests.get(\"http://jimmy15923.github.io/example_page\")\n",
    "soup = BeautifulSoup(response.text, \"lxml\")\n",
    "print(soup.find(\"h1\"))"
   ]
  },
  {
   "cell_type": "markdown",
   "metadata": {},
   "source": [
    "`requests.get(...)`表示點擊網頁的URL，點擊網頁時有二種方法：GET及POST\n",
    "\n",
    "Requests的常用函數\n",
    "* response.status_code\n",
    "  - 200 ok\n",
    "  - 403 Forbidden\n",
    "  - 404 Not Found\n",
    "* response.encoding\n",
    "  - 特別要注意中文網站編碼\n",
    "* response.text\n",
    "  - 目標網頁的HTML文字"
   ]
  },
  {
   "cell_type": "code",
   "execution_count": 4,
   "metadata": {},
   "outputs": [
    {
     "data": {
      "text/plain": [
       "'<!DOCTYPE html>\\n\\n<html>\\n<head>\\n\\t<meta charset=\"UTF-8\" />\\n\\t<title>網頁名稱-python crawler</title>\\n\\t<style>\\n\\t.abc {\\n\\t\\tcolor: blue;\\n\\t\\tfont-size: 40px;\\t\\n\\t}\\n\\n\\t#i-am-id {\\n\\t\\tbackground-color: LightCyan;\\n\\t}\\n\\n\\ttable, th, td {\\n\\t\\tborder: 1px solid black;\\n\\t    border-collapse: collapse;\\n\\t}\\n\\tth, td {\\n\\t\\tpadding: 10px;\\n\\t}\\n\\t</style>\\n</head>\\n<body>\\n\\t<h1>Python 爬蟲實戰</h1>\\n\\t<h2>這是 h2 標籤的內容</h2>\\n\\t<h3>這是 h3 標籤的內容</h3>\\n\\n\\t<p title=\"i-am-title\">這是 p 標籤的內容</p>\\n\\n\\t<div> \\n\\t這是 div 標籤的內容，\\n\\t即使換行寫，網頁顯示出的文字一樣是不會換行\\n\\t</div>\\n\\n\\t<p>但如果用了 br 標籤 <br/> 就可以順利斷行了</p>\\n\\t\\n\\t<div class = \"zzz\" id = \"id1\">我是有著屬性 class=\"zzz\" 的標籤內容</div>\\n\\t<p hidden>python_crawler</p>\\n\\t<div id = \"value-of-attr\">\\n\\t我是有著屬性 id=\"value-of-attr\" 的標籤內容\\n\\t\\n\\t\\t<table id = \"i-am-id\">\\n\\t\\t  <tr>\\n\\t\\t\\t<th>標頭 1 (table-header)</th>\\n\\t\\t\\t<th>標頭 2 (table-header)</th>\\n\\t\\t\\t<th>標頭 3 (table-header)</th>\\n\\t\\t\\t<th>標頭 4 (table-header)</th>\\n\\t\\t  </tr>\\n\\t\\t  <tr>\\n\\t\\t\\t<td> 列2 欄1 </td>\\n\\t\\t\\t<td class = \"zzz\"> 列2 欄2 (我的屬性 class=\"zzz\") </td>\\n\\t\\t\\t<td> \\n\\t\\t\\t\\t<a href = \"http://www.yahoo.com.tw\">列2 欄3 (我是 a 標籤，屬性 href=網址) </a> \\n\\t\\t\\t</td>\\n\\t\\t\\t<td> \\n\\t\\t\\t\\t<a href = \"http://foundation.datasci.tw/\">列2 欄4 (資料協會) </a>  \\n\\t\\t\\t</td>\\n\\t\\t  </tr>\\n\\t\\t  <tr>\\n\\t\\t\\t<td value = \"5566\">列3 欄1 </td>\\n\\t\\t\\t<td>列3 欄2\\n\\t\\t\\t\\t<ol>\\n\\t\\t\\t\\t\\t<li class = \"zz\">我是 li 標籤 (列表)，屬性 class=\"zz\" </li>\\n\\t\\t\\t\\t\\t<li> 第二個 li 標籤 </li>\\n\\t\\t\\t\\t</ol>\\n\\t\\t\\t</td>\\n\\t\\t\\t<td>\\n\\t\\t\\t\\t<a href = \"http://foundation.datasci.tw/python-crawling-170813/\" id = \"hyperlink\"> 列3 欄3 (資料協會-python 爬蟲實戰)</a>\\n\\t\\t\\t</td>\\n\\t\\t\\t<td class = \"zzzz\">列3 欄4 (我的屬性 class=\"zzzz\")</td>\\n\\t\\t  </tr>\\n\\n\\t\\t</table>\\n\\t</div>\\n\\n\\t<p>python_crawler</p>\\n\\n</body>\\n</html>'"
      ]
     },
     "execution_count": 4,
     "metadata": {},
     "output_type": "execute_result"
    }
   ],
   "source": [
    "response.text"
   ]
  },
  {
   "cell_type": "markdown",
   "metadata": {},
   "source": [
    "## BeautifulSoup\n",
    "\n",
    "* 強大且簡單易學的 HTML 解析器\n",
    "* 將 HTML 轉變成 BeautifulSoup 物件\n",
    "* 再用 BeautifulSoup 的函數取得想要的標籤資訊\n",
    "* BeautifulSoup 可以直接找出你想要的 tags 而不需告訴他路徑"
   ]
  },
  {
   "cell_type": "code",
   "execution_count": 10,
   "metadata": {},
   "outputs": [
    {
     "name": "stdout",
     "output_type": "stream",
     "text": [
      "<h1>Python 爬蟲實戰</h1>\n",
      "<h1>Python 爬蟲實戰</h1>\n",
      "<h1>Python 爬蟲實戰</h1>\n",
      "<h1>Python 爬蟲實戰</h1>\n",
      "<h1>Python 爬蟲實戰</h1>\n"
     ]
    }
   ],
   "source": [
    "print(soup.find(\"h1\"))\n",
    "print(soup.h1)\n",
    "print(soup.html.h1)\n",
    "print(soup.body.h1)\n",
    "print(soup.html.body.h1)"
   ]
  },
  {
   "cell_type": "code",
   "execution_count": 11,
   "metadata": {},
   "outputs": [
    {
     "name": "stdout",
     "output_type": "stream",
     "text": [
      "<h1>Python 爬蟲實戰</h1>\n"
     ]
    }
   ],
   "source": [
    "print(soup.find(\"h1\"))"
   ]
  },
  {
   "cell_type": "code",
   "execution_count": 12,
   "metadata": {},
   "outputs": [
    {
     "name": "stdout",
     "output_type": "stream",
     "text": [
      "Python 爬蟲實戰\n"
     ]
    }
   ],
   "source": [
    "print(soup.find(\"h1\").text)"
   ]
  },
  {
   "cell_type": "code",
   "execution_count": 13,
   "metadata": {},
   "outputs": [
    {
     "name": "stdout",
     "output_type": "stream",
     "text": [
      "<td> 列2 欄1 </td>\n"
     ]
    }
   ],
   "source": [
    "# 找出第一個 td 的標籤\n",
    "print(soup.find(\"td\"))"
   ]
  },
  {
   "cell_type": "code",
   "execution_count": 14,
   "metadata": {},
   "outputs": [
    {
     "name": "stdout",
     "output_type": "stream",
     "text": [
      " 列2 欄1 \n"
     ]
    }
   ],
   "source": [
    "# 找出第一個 td 的標籤並印出其文字內容\n",
    "print(soup.find(\"td\").text)"
   ]
  },
  {
   "cell_type": "code",
   "execution_count": 16,
   "metadata": {},
   "outputs": [
    {
     "name": "stdout",
     "output_type": "stream",
     "text": [
      "[<td> 列2 欄1 </td>, <td class=\"zzz\"> 列2 欄2 (我的屬性 class=\"zzz\") </td>, <td>\n",
      "<a href=\"http://www.yahoo.com.tw\">列2 欄3 (我是 a 標籤，屬性 href=網址) </a>\n",
      "</td>, <td>\n",
      "<a href=\"http://foundation.datasci.tw/\">列2 欄4 (資料協會) </a>\n",
      "</td>, <td value=\"5566\">列3 欄1 </td>, <td>列3 欄2\n",
      "\t\t\t\t<ol>\n",
      "<li class=\"zz\">我是 li 標籤 (列表)，屬性 class=\"zz\" </li>\n",
      "<li> 第二個 li 標籤 </li>\n",
      "</ol>\n",
      "</td>, <td>\n",
      "<a href=\"http://foundation.datasci.tw/python-crawling-170813/\" id=\"hyperlink\"> 列3 欄3 (資料協會-python 爬蟲實戰)</a>\n",
      "</td>, <td class=\"zzzz\">列3 欄4 (我的屬性 class=\"zzzz\")</td>]\n"
     ]
    }
   ],
   "source": [
    "# 找出所有 td 的標籤\n",
    "print(soup.find_all(\"td\"))"
   ]
  },
  {
   "cell_type": "code",
   "execution_count": 17,
   "metadata": {},
   "outputs": [
    {
     "name": "stdout",
     "output_type": "stream",
     "text": [
      "[<div class=\"zzz\" id=\"id1\">我是有著屬性 class=\"zzz\" 的標籤內容</div>, <td class=\"zzz\"> 列2 欄2 (我的屬性 class=\"zzz\") </td>]\n"
     ]
    }
   ],
   "source": [
    "# 不指定標籤,但找出所有屬性 class = \"zzz\" 的標籤\n",
    "print(soup.find_all(\"\",{\"class\":\"zzz\"}))"
   ]
  },
  {
   "cell_type": "code",
   "execution_count": 18,
   "metadata": {},
   "outputs": [
    {
     "name": "stdout",
     "output_type": "stream",
     "text": [
      "<a href=\"http://www.yahoo.com.tw\">列2 欄3 (我是 a 標籤，屬性 href=網址) </a>\n"
     ]
    }
   ],
   "source": [
    "# 找出所有 td 標籤的第三個並找出其中的 a 標籤\n",
    "print(soup.find_all(\"td\")[2].find(\"a\"))"
   ]
  },
  {
   "cell_type": "code",
   "execution_count": 19,
   "metadata": {},
   "outputs": [
    {
     "name": "stdout",
     "output_type": "stream",
     "text": [
      "['python_crawler', 'python_crawler']\n"
     ]
    }
   ],
   "source": [
    "print(soup.find_all(text=\"python_crawler\"))"
   ]
  },
  {
   "cell_type": "code",
   "execution_count": 20,
   "metadata": {},
   "outputs": [
    {
     "name": "stdout",
     "output_type": "stream",
     "text": [
      "{'href': 'http://www.yahoo.com.tw'}\n"
     ]
    }
   ],
   "source": [
    "print(soup.find(\"a\").attrs)"
   ]
  },
  {
   "cell_type": "code",
   "execution_count": 21,
   "metadata": {},
   "outputs": [
    {
     "name": "stdout",
     "output_type": "stream",
     "text": [
      "http://www.yahoo.com.tw\n"
     ]
    }
   ],
   "source": [
    "print(soup.find(\"a\")[\"href\"])"
   ]
  },
  {
   "cell_type": "markdown",
   "metadata": {},
   "source": [
    "### 練習1"
   ]
  },
  {
   "cell_type": "code",
   "execution_count": 23,
   "metadata": {},
   "outputs": [
    {
     "data": {
      "text/plain": [
       "8"
      ]
     },
     "execution_count": 23,
     "metadata": {},
     "output_type": "execute_result"
    }
   ],
   "source": [
    "# 請計算範例網頁中,共含有幾個 \"td\" 的標籤 (tags)?\n",
    "len(soup.find_all(\"td\"))"
   ]
  },
  {
   "cell_type": "code",
   "execution_count": 29,
   "metadata": {},
   "outputs": [
    {
     "name": "stdout",
     "output_type": "stream",
     "text": [
      "我是有著屬性 class=\"zzz\" 的標籤內容\n"
     ]
    }
   ],
   "source": [
    "print(soup.find(\"div\", id=\"id1\").text)"
   ]
  },
  {
   "cell_type": "code",
   "execution_count": null,
   "metadata": {},
   "outputs": [],
   "source": []
  }
 ],
 "metadata": {
  "kernelspec": {
   "display_name": "Python 3",
   "language": "python",
   "name": "python3"
  },
  "language_info": {
   "codemirror_mode": {
    "name": "ipython",
    "version": 3
   },
   "file_extension": ".py",
   "mimetype": "text/x-python",
   "name": "python",
   "nbconvert_exporter": "python",
   "pygments_lexer": "ipython3",
   "version": "3.6.5"
  }
 },
 "nbformat": 4,
 "nbformat_minor": 2
}
