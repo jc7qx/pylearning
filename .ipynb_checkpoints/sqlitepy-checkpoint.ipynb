{
 "cells": [
  {
   "cell_type": "markdown",
   "metadata": {
    "slideshow": {
     "slide_type": "slide"
    }
   },
   "source": [
    "## Pyhton使用sqlite3"
   ]
  },
  {
   "cell_type": "code",
   "execution_count": 1,
   "metadata": {
    "collapsed": true,
    "slideshow": {
     "slide_type": "subslide"
    }
   },
   "outputs": [],
   "source": [
    "import sqlite3 as lite\n",
    "import sys"
   ]
  },
  {
   "cell_type": "code",
   "execution_count": 4,
   "metadata": {
    "slideshow": {
     "slide_type": "subslide"
    }
   },
   "outputs": [
    {
     "name": "stdout",
     "output_type": "stream",
     "text": [
      "Sqlite version: 3.20.1\n"
     ]
    }
   ],
   "source": [
    "con = None\n",
    "try:\n",
    "    con = lite.connect('test.db')\n",
    "    \n",
    "    cur = con.cursor()\n",
    "    cur.execute('select sqlite_version()')\n",
    "    \n",
    "    data = cur.fetchone()\n",
    "    \n",
    "    print('Sqlite version: %s' % data)\n",
    "    \n",
    "except lite.Error as e:\n",
    "    print('Error %s' % e.args[0])\n",
    "    sys.exit(1)\n",
    "    \n",
    "finally:\n",
    "    if con:\n",
    "        con.close()"
   ]
  },
  {
   "cell_type": "markdown",
   "metadata": {},
   "source": [
    "`con = sqlite3.connect('test.db')`\n",
    "\n",
    "* 開啟資料庫test.db的連結，如果開啟的資料庫不存在，則建立一個新的資料庫\n",
    "\n",
    "`cur = con.cursor`\n",
    "\n",
    "* 建立一個cursor物件\n",
    "\n",
    "`cur.execute('SQL命令')`\n",
    "\n",
    "* 執行SQL命令\n",
    "* SQL命令中可以插入變數， 以「?」來代表，例如 `cursor.execute(\"insert into people values (?, ?)\", (who, age))`\n",
    "\n",
    "`cur.execute('SELECT SQLITE_VERSION()'`\n",
    "\n",
    "* SQL命令顯示SQLITE版本\n",
    "\n",
    "`cur.fetchone()`\n",
    "\n",
    "* 獲得查詢結果的一筆資料\n",
    "\n",
    "`sqlite3.Error`\n",
    "\n",
    "* sqlite3 錯誤訊息\n",
    "\n",
    "`con.close()`\n",
    "\n",
    "* 關閉資料庫\n",
    "\n",
    "\n"
   ]
  },
  {
   "cell_type": "code",
   "execution_count": 6,
   "metadata": {},
   "outputs": [
    {
     "name": "stdout",
     "output_type": "stream",
     "text": [
      "Sqlite version: 3.20.1\n"
     ]
    }
   ],
   "source": [
    "con = None\n",
    "try:\n",
    "    con = lite.connect('test.db')\n",
    "    \n",
    "    with con:\n",
    "    \n",
    "        cur = con.cursor()\n",
    "        cur.execute('select sqlite_version()')\n",
    "    \n",
    "        data = cur.fetchone()\n",
    "    \n",
    "        print('Sqlite version: %s' % data)\n",
    "    \n",
    "except lite.Error as e:\n",
    "    print('Error %s' % e.args[0])\n",
    "    sys.exit(1)\n",
    "    \n",
    "finally:\n",
    "    if con:\n",
    "        con.close()"
   ]
  },
  {
   "cell_type": "markdown",
   "metadata": {},
   "source": [
    "### `with`\n",
    "\n",
    "* 使用 With 關鍵字，Python自動會釋放資源，也提供錯誤處理"
   ]
  },
  {
   "cell_type": "markdown",
   "metadata": {},
   "source": [
    "## C. 建立資料表及新增資料"
   ]
  },
  {
   "cell_type": "code",
   "execution_count": 3,
   "metadata": {
    "collapsed": true
   },
   "outputs": [],
   "source": [
    "con = None\n",
    "try:\n",
    "    con = lite.connect('test.db')\n",
    "    \n",
    "    with con:\n",
    "    \n",
    "        cur = con.cursor()\n",
    "        cur.execute(\"drop table if exists Cars6\")\n",
    "        cur.execute(\"CREATE TABLE Cars6(Id INT, Name TEXT, Price INT)\")\n",
    "        cur.execute(\"INSERT INTO Cars6 VALUES(1,'Audi',52642)\")\n",
    "        cur.execute(\"INSERT INTO Cars6 VALUES(2,'Mercedes',57127)\")\n",
    "        cur.execute(\"INSERT INTO Cars6 VALUES(3,'Skoda',9000)\")\n",
    "        cur.execute(\"INSERT INTO Cars6 VALUES(4,'Volvo',29000)\")\n",
    "        cur.execute(\"INSERT INTO Cars6 VALUES(5,'Bentley',350000)\")\n",
    "        cur.execute(\"INSERT INTO Cars6 VALUES(6,'Citroen',21000)\")\n",
    "        cur.execute(\"INSERT INTO Cars6 VALUES(7,'Hummer',41400)\")\n",
    "        cur.execute(\"INSERT INTO Cars6 VALUES(8,'Volkswagen',21600)\")\n",
    "    \n",
    "    \n",
    "except lite.Error as e:\n",
    "    print('Error %s' % e.args[0])\n",
    "    sys.exit(1)\n",
    "    \n",
    "finally:\n",
    "    if con:\n",
    "        con.close()"
   ]
  },
  {
   "cell_type": "markdown",
   "metadata": {},
   "source": [
    "### 利用 `executemany( )`"
   ]
  },
  {
   "cell_type": "code",
   "execution_count": 22,
   "metadata": {
    "collapsed": true
   },
   "outputs": [],
   "source": [
    "import sqlite3 as lite\n",
    "import sys\n",
    "\n",
    "cars = (\n",
    "    (1, 'Audi', 52642),\n",
    "    (2, 'Mercedes', 57127),\n",
    "    (3, 'Skoda', 9000),\n",
    "    (4, 'Volvo', 29000),\n",
    "    (5, 'Bentley', 350000),\n",
    "    (6, 'Hummer', 41400),\n",
    "    (7, 'Volkswagen', 21600),\n",
    "    (8, '速霸陸', 10000)\n",
    ")\n",
    "\n",
    "\n",
    "con = lite.connect('test.db')\n",
    "\n",
    "with con:\n",
    "    \n",
    "    cur = con.cursor()    \n",
    "    \n",
    "    cur.execute(\"DROP TABLE IF EXISTS Cars2\")\n",
    "    cur.execute(\"CREATE TABLE Cars2(Id INT, Name TEXT, Price INT)\")\n",
    "    cur.executemany(\"INSERT INTO Cars2 VALUES(?, ?, ?)\", cars)\n",
    "    "
   ]
  },
  {
   "cell_type": "markdown",
   "metadata": {},
   "source": [
    "`executemany()` 有二個參數，\n",
    "\n",
    "* 第一個參數表示所要執行的SQL命令，其中 ? 代表嵌入位置\n",
    "* 第二個參數以tuple型式表示要嵌入的參數，如cars定義。\n",
    "\n",
    "要嵌入的資料以tuple of tuples表示"
   ]
  },
  {
   "cell_type": "markdown",
   "metadata": {},
   "source": [
    "### 獲得最後一筆新增資料序號"
   ]
  },
  {
   "cell_type": "code",
   "execution_count": 24,
   "metadata": {},
   "outputs": [
    {
     "name": "stdout",
     "output_type": "stream",
     "text": [
      "The last Id of the inserted row is 4\n"
     ]
    }
   ],
   "source": [
    "import sqlite3 as lite\n",
    "import sys\n",
    "\n",
    "con = lite.connect('test.db')\n",
    "\n",
    "with con:\n",
    "    \n",
    "    cur = con.cursor()    \n",
    "    cur.execute(\"CREATE TABLE Friends(Id INTEGER PRIMARY KEY, Name TEXT);\")\n",
    "    cur.execute(\"INSERT INTO Friends(Name) VALUES ('Tom');\")\n",
    "    cur.execute(\"INSERT INTO Friends(Name) VALUES ('Rebecca');\")\n",
    "    cur.execute(\"INSERT INTO Friends(Name) VALUES ('Jim');\")\n",
    "    cur.execute(\"INSERT INTO Friends(Name) VALUES ('Robert');\")\n",
    "        \n",
    "    lid = cur.lastrowid\n",
    "    print(\"The last Id of the inserted row is %d\" % lid)"
   ]
  },
  {
   "cell_type": "markdown",
   "metadata": {},
   "source": [
    "如果資料表有定義「主鍵」(Primary Key)且為「自動新增序號」(Automatically Increament)，可以利用`leastrowid`獲得最後一筆資料的序號。"
   ]
  },
  {
   "cell_type": "markdown",
   "metadata": {},
   "source": [
    "## R.查詢資料"
   ]
  },
  {
   "cell_type": "markdown",
   "metadata": {},
   "source": [
    "### 使用 `fetchall()`"
   ]
  },
  {
   "cell_type": "code",
   "execution_count": null,
   "metadata": {
    "collapsed": true
   },
   "outputs": [],
   "source": [
    "# -*- coding: utf-8 -*-\n",
    "\n",
    "import sqlite3 as lite\n",
    "import sys\n",
    "\n",
    "\n",
    "con = lite.connect('test.db')\n",
    "\n",
    "with con:    \n",
    "    \n",
    "    cur = con.cursor()    \n",
    "    cur.execute(\"SELECT price FROM Cars\")\n",
    "\n",
    "    rows = cur.fetchall()\n",
    "\n",
    "    for row in rows:\n",
    "        print(row)"
   ]
  },
  {
   "cell_type": "markdown",
   "metadata": {},
   "source": [
    " `fetchall()` 可以獲得查詢的所有結果，每一筆結果存於一個tuple中，結果的tuple中包含所有查詢的結果。\n",
    "下列程式碼可以印出所有結果\n",
    "```python\n",
    "for row in rows:\n",
    "    print(row)\n",
    "```"
   ]
  },
  {
   "cell_type": "markdown",
   "metadata": {},
   "source": [
    "###  使用 `fetchone()`"
   ]
  },
  {
   "cell_type": "code",
   "execution_count": null,
   "metadata": {
    "collapsed": true
   },
   "outputs": [],
   "source": [
    "# -*- coding: utf-8 -*-\n",
    "\n",
    "import sqlite3 as lite\n",
    "import sys\n",
    "\n",
    "con = lite.connect('test.db')\n",
    "\n",
    "with con:\n",
    "    \n",
    "    cur = con.cursor()    \n",
    "    cur.execute(\"SELECT * FROM Cars\")\n",
    "\n",
    "    while True:\n",
    "      \n",
    "        row = cur.fetchone()\n",
    "        \n",
    "        if row == None:\n",
    "            break\n",
    "            \n",
    "        print(row[0], row[1], row[2])"
   ]
  },
  {
   "cell_type": "markdown",
   "metadata": {},
   "source": [
    "### 以下程式可以一次獲得一筆資料，如果沒有資料則跳出迴圈結束。\n",
    "```python\n",
    "while True:\n",
    "    row = cur.fetchone()\n",
    "    if row == None:\n",
    "        break\n",
    "    print(row[0], row[1], row[2])\n",
    "```"
   ]
  },
  {
   "cell_type": "markdown",
   "metadata": {},
   "source": [
    "### 使用屬性欄位"
   ]
  },
  {
   "cell_type": "code",
   "execution_count": null,
   "metadata": {
    "collapsed": true
   },
   "outputs": [],
   "source": [
    "# -*- coding: utf-8 -*-\n",
    "\n",
    "import sqlite3 as lite\n",
    "\n",
    "\n",
    "con = lite.connect('test.db')    \n",
    "\n",
    "with con:\n",
    "    \n",
    "    con.row_factory = lite.Row\n",
    "       \n",
    "    cur = con.cursor() \n",
    "    cur.execute(\"SELECT * FROM Cars\")\n",
    "\n",
    "    rows = cur.fetchall()\n",
    "\n",
    "    for row in rows:\n",
    "        print (\"%s %s\" % (row[\"Name\"],  row[\"Price\"]))"
   ]
  },
  {
   "cell_type": "markdown",
   "metadata": {},
   "source": [
    "### 查詢特定資料"
   ]
  },
  {
   "cell_type": "code",
   "execution_count": 6,
   "metadata": {},
   "outputs": [
    {
     "name": "stdout",
     "output_type": "stream",
     "text": [
      "Audi 62300\n"
     ]
    }
   ],
   "source": [
    "# -*- coding: utf-8 -*-\n",
    "\n",
    "import sqlite3 as lite\n",
    "import sys\n",
    "\n",
    "uId = 1\n",
    "\n",
    "con = lite.connect('test.db')\n",
    "\n",
    "with con:\n",
    "\n",
    "    cur = con.cursor()    \n",
    "\n",
    "    cur.execute(\"SELECT Name, Price FROM Cars WHERE Id=:Id\", \n",
    "        {\"Id\": uId})        \n",
    "    \n",
    "    row = cur.fetchone()\n",
    "    print(row[0], row[1])"
   ]
  },
  {
   "cell_type": "markdown",
   "metadata": {},
   "source": [
    "## U.更新資料"
   ]
  },
  {
   "cell_type": "code",
   "execution_count": 10,
   "metadata": {},
   "outputs": [
    {
     "name": "stdout",
     "output_type": "stream",
     "text": [
      "Number of rows updated: 5\n"
     ]
    }
   ],
   "source": [
    "# -*- coding: utf-8 -*-\n",
    "\n",
    "import sqlite3 as lite\n",
    "import sys\n",
    "\n",
    "uId = 1\n",
    "uPrice = 62300 \n",
    "\n",
    "con = lite.connect('test.db')\n",
    "\n",
    "with con:\n",
    "\n",
    "    cur = con.cursor()    \n",
    "\n",
    "    cur.execute(\"UPDATE Cars SET Price=? WHERE Id=?\", (uPrice, uId)) \n",
    "    \n",
    "    '''cur.execute(\"SELECT * FROM Cars where id = 1\")\n",
    "    data = cur.fetchall()\n",
    "    for d in data:\n",
    "        print(d)'''\n",
    "    \n",
    "    print(\"Number of rows updated: %d\" % cur.rowcount)"
   ]
  },
  {
   "cell_type": "markdown",
   "metadata": {},
   "source": [
    "### 獲得資料表資料結構資訊"
   ]
  },
  {
   "cell_type": "code",
   "execution_count": 38,
   "metadata": {},
   "outputs": [
    {
     "name": "stdout",
     "output_type": "stream",
     "text": [
      "0 Id INT\n",
      "1 Name TEXT\n",
      "2 Price INT\n"
     ]
    }
   ],
   "source": [
    "# -*- coding: utf-8 -*-\n",
    "\n",
    "import sqlite3 as lite\n",
    "import sys\n",
    "\n",
    "con = lite.connect('test.db')\n",
    "\n",
    "with con:\n",
    "    \n",
    "    cur = con.cursor()    \n",
    "    \n",
    "    cur.execute('PRAGMA table_info(Cars)')\n",
    "    \n",
    "    data = cur.fetchall()\n",
    "    \n",
    "    for d in data:\n",
    "        print (d[0], d[1], d[2])"
   ]
  },
  {
   "cell_type": "markdown",
   "metadata": {
    "collapsed": true
   },
   "source": [
    "## 刪除資料"
   ]
  },
  {
   "cell_type": "code",
   "execution_count": 12,
   "metadata": {},
   "outputs": [
    {
     "name": "stdout",
     "output_type": "stream",
     "text": [
      "0\n",
      "(1, 'Audi', 62300)\n",
      "(2, 'Mercedes', 57127)\n",
      "(3, 'Skoda', 9000)\n",
      "(4, 'Volvo', 29000)\n",
      "(5, 'Bentley', 350000)\n",
      "(7, 'Hummer', 41400)\n",
      "(8, 'Volkswagen', 21600)\n",
      "(1, 'Audi', 62300)\n",
      "(2, 'Mercedes', 57127)\n",
      "(3, 'Skoda', 9000)\n",
      "(4, 'Volvo', 29000)\n",
      "(5, 'Bentley', 350000)\n",
      "(7, 'Hummer', 41400)\n",
      "(8, 'Volkswagen', 21600)\n",
      "(1, 'Audi', 62300)\n",
      "(2, 'Mercedes', 57127)\n",
      "(3, 'Skoda', 9000)\n",
      "(4, 'Volvo', 29000)\n",
      "(5, 'Bentley', 350000)\n",
      "(7, 'Hummer', 41400)\n",
      "(8, 'Volkswagen', 21600)\n",
      "(1, 'Audi', 62300)\n",
      "(2, 'Mercedes', 57127)\n",
      "(3, 'Skoda', 9000)\n",
      "(4, 'Volvo', 29000)\n",
      "(5, 'Bentley', 350000)\n",
      "(7, 'Hummer', 41400)\n",
      "(8, 'Volkswagen', 21600)\n",
      "(1, 'Audi', 62300)\n",
      "(2, 'Mercedes', 57127)\n",
      "(3, 'Skoda', 9000)\n",
      "(4, 'Volvo', 29000)\n",
      "(5, 'Bentley', 350000)\n",
      "(7, 'Volkswagen', 21600)\n",
      "(8, 'Subaru', 10000)\n"
     ]
    }
   ],
   "source": [
    "# -*- coding: utf-8 -*-\n",
    "\n",
    "import sqlite3 as lite\n",
    "import sys\n",
    "\n",
    "con = lite.connect('test.db')\n",
    "\n",
    "with con:\n",
    "    \n",
    "    cur = con.cursor()    \n",
    "    \n",
    "    cur.execute(\"DELETE FROM Cars where id=6\")\n",
    "    print(con.total_changes)\n",
    "    \n",
    "    data = cur.execute(\"select * from Cars\") #interesting\n",
    "    for d in data:\n",
    "        print(d)"
   ]
  },
  {
   "cell_type": "code",
   "execution_count": null,
   "metadata": {
    "collapsed": true
   },
   "outputs": [],
   "source": []
  }
 ],
 "metadata": {
  "kernelspec": {
   "display_name": "Python 3",
   "language": "python",
   "name": "python3"
  },
  "language_info": {
   "codemirror_mode": {
    "name": "ipython",
    "version": 3
   },
   "file_extension": ".py",
   "mimetype": "text/x-python",
   "name": "python",
   "nbconvert_exporter": "python",
   "pygments_lexer": "ipython3",
   "version": "3.6.1"
  }
 },
 "nbformat": 4,
 "nbformat_minor": 2
}
