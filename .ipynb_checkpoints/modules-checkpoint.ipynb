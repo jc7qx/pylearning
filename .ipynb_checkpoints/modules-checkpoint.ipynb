{
 "cells": [
  {
   "cell_type": "markdown",
   "metadata": {},
   "source": [
    "## 模組(modules)"
   ]
  },
  {
   "cell_type": "markdown",
   "metadata": {},
   "source": [
    "模組又可視為套件(packages)，模組是為特殊用途而集結的屬性變數及有用函式。使用前，必須先`import`模組。例如，`math` 是有關數學運算的模組，`math.pi` 代表圓周率，是一個常數變數，`math.sqrt()`是開根據運算函數。"
   ]
  },
  {
   "cell_type": "code",
   "execution_count": 8,
   "metadata": {},
   "outputs": [
    {
     "name": "stdout",
     "output_type": "stream",
     "text": [
      "半徑25的圓，周長為157.07963267948966，面積為15.707963267948966\n"
     ]
    }
   ],
   "source": [
    "# 計算圓的周長及面積\n",
    "\n",
    "import math\n",
    "radius = 25\n",
    "peri = 2*math.pi*radius\n",
    "area = math.pi*math.sqrt(radius)\n",
    "print(\"半徑{}的圓，周長為{}，面積為{}\".format(radius, peri, area))"
   ]
  },
  {
   "cell_type": "markdown",
   "metadata": {},
   "source": [
    "### 1. 亂數模組"
   ]
  },
  {
   "cell_type": "markdown",
   "metadata": {},
   "source": [
    "使用亂數函數前，先`import random`，重要的亂數函數如下"
   ]
  },
  {
   "cell_type": "markdown",
   "metadata": {},
   "source": [
    "#### randint(1, n) 產生一個1..n之間的隨機整數"
   ]
  },
  {
   "cell_type": "code",
   "execution_count": 13,
   "metadata": {},
   "outputs": [
    {
     "data": {
      "text/plain": [
       "40"
      ]
     },
     "execution_count": 13,
     "metadata": {},
     "output_type": "execute_result"
    }
   ],
   "source": [
    "import random\n",
    "a = random.randint(1, 100)\n",
    "a"
   ]
  },
  {
   "cell_type": "markdown",
   "metadata": {},
   "source": [
    "#### random() 產生一個 0..1 之間的隨機數"
   ]
  },
  {
   "cell_type": "code",
   "execution_count": 15,
   "metadata": {},
   "outputs": [
    {
     "data": {
      "text/plain": [
       "0.8170671215641379"
      ]
     },
     "execution_count": 15,
     "metadata": {},
     "output_type": "execute_result"
    }
   ],
   "source": [
    "from random import random\n",
    "a = random()\n",
    "a"
   ]
  },
  {
   "cell_type": "markdown",
   "metadata": {},
   "source": [
    "#### shuffle([ ]) 模擬洗牌"
   ]
  },
  {
   "cell_type": "code",
   "execution_count": 22,
   "metadata": {},
   "outputs": [
    {
     "data": {
      "text/plain": [
       "[2, 4, 5, 3, 6, 7, 1]"
      ]
     },
     "execution_count": 22,
     "metadata": {},
     "output_type": "execute_result"
    }
   ],
   "source": [
    "from random import shuffle\n",
    "a = [1, 2, 3, 4, 5, 6, 7]\n",
    "shuffle(a)\n",
    "a"
   ]
  },
  {
   "cell_type": "markdown",
   "metadata": {},
   "source": [
    "#### choice([…]) 從 […]的物件中隨機取出一個物件"
   ]
  },
  {
   "cell_type": "code",
   "execution_count": 30,
   "metadata": {},
   "outputs": [
    {
     "data": {
      "text/plain": [
       "7"
      ]
     },
     "execution_count": 30,
     "metadata": {},
     "output_type": "execute_result"
    }
   ],
   "source": [
    "from random import choice\n",
    "a = [1, 2, 3, 4, 5, 6, 7]\n",
    "b = choice(a)\n",
    "b"
   ]
  },
  {
   "cell_type": "markdown",
   "metadata": {},
   "source": [
    "### 2. 時間模組\n",
    "時間間隔(Time intervals)是一個以秒為單位的時間單位(tick)，特別是根據12:00am, January 1, 1970為基礎所計算出的秒數。 Python提供時間模組(time)包括許多有用的與時間相關的函數。實用time模組，須先`import time`。"
   ]
  },
  {
   "cell_type": "markdown",
   "metadata": {},
   "source": [
    "#### 目前時間"
   ]
  },
  {
   "cell_type": "markdown",
   "metadata": {},
   "source": [
    "* `import time`\n",
    "* `time.time()` 獲得自`12:00am, January 1, 1970`起至今的時間間隔。\n",
    "* `time.localtime(time.time())`將`time.time()`轉換為時間結構。\n",
    "* `time.asctime(time.localtime(time.time()))`將時間轉換為 `'Wed Oct  4 18:11:13 2017'`格式"
   ]
  },
  {
   "cell_type": "code",
   "execution_count": 7,
   "metadata": {},
   "outputs": [
    {
     "data": {
      "text/plain": [
       "1507111826.176966"
      ]
     },
     "execution_count": 7,
     "metadata": {},
     "output_type": "execute_result"
    }
   ],
   "source": [
    "import time\n",
    "time.time()"
   ]
  },
  {
   "cell_type": "code",
   "execution_count": 12,
   "metadata": {},
   "outputs": [
    {
     "data": {
      "text/plain": [
       "time.struct_time(tm_year=2017, tm_mon=10, tm_mday=4, tm_hour=18, tm_min=31, tm_sec=38, tm_wday=2, tm_yday=277, tm_isdst=0)"
      ]
     },
     "execution_count": 12,
     "metadata": {},
     "output_type": "execute_result"
    }
   ],
   "source": [
    "time.localtime(time.time())"
   ]
  },
  {
   "cell_type": "code",
   "execution_count": 9,
   "metadata": {},
   "outputs": [
    {
     "data": {
      "text/plain": [
       "'Wed Oct  4 18:11:13 2017'"
      ]
     },
     "execution_count": 9,
     "metadata": {},
     "output_type": "execute_result"
    }
   ],
   "source": [
    "time.asctime(time.localtime(time.time()))"
   ]
  },
  {
   "cell_type": "markdown",
   "metadata": {},
   "source": [
    "#### 測量時間"
   ]
  },
  {
   "cell_type": "markdown",
   "metadata": {},
   "source": [
    "* `time.time()` 獲得自12:00am, January 1, 1970(epoch)起至今的時間間隔\n",
    "* `time.clock()`  表示CPU運行時間"
   ]
  },
  {
   "cell_type": "code",
   "execution_count": 1,
   "metadata": {},
   "outputs": [
    {
     "name": "stdout",
     "output_type": "stream",
     "text": [
      "0.16357994079589844\n"
     ]
    }
   ],
   "source": [
    "import time\n",
    "t1 = time.time()\n",
    "sum = 0\n",
    "for i in range(1000000):\n",
    "    sum = sum + i\n",
    "t2 = time.time()\n",
    "print(t2-t1)"
   ]
  },
  {
   "cell_type": "code",
   "execution_count": 2,
   "metadata": {},
   "outputs": [
    {
     "name": "stdout",
     "output_type": "stream",
     "text": [
      "0.16876399999999991\n"
     ]
    }
   ],
   "source": [
    "import time\n",
    "t1 = time.clock()\n",
    "sum = 0\n",
    "for i in range(1000000):\n",
    "    sum = sum + i\n",
    "t2 = time.clock()\n",
    "print(t2-t1)"
   ]
  },
  {
   "cell_type": "markdown",
   "metadata": {},
   "source": [
    "### 3.  日曆模組"
   ]
  },
  {
   "cell_type": "code",
   "execution_count": 10,
   "metadata": {},
   "outputs": [
    {
     "name": "stdout",
     "output_type": "stream",
     "text": [
      "1\n"
     ]
    }
   ],
   "source": [
    "import calendar\n",
    "print(calendar.weekday(2017,10,10))"
   ]
  },
  {
   "cell_type": "markdown",
   "metadata": {},
   "source": [
    "### 3. 系統模組"
   ]
  },
  {
   "cell_type": "markdown",
   "metadata": {},
   "source": [
    "#### sys.exit()"
   ]
  },
  {
   "cell_type": "markdown",
   "metadata": {},
   "source": [
    "1. sys.exit(n) 退出程序引发SystemExit异常, 可以捕获异常执行些清理工作. n默认值为0, 表示正常退出. 其他都是非正常退出. 还可以sys.exit(\"sorry, goodbye!\"); 一般主程序中使用此退出.\n",
    "2. os._exit(n), 直接退出, 不抛异常, 不执行相关清理工作. 常用在子进程的退出.\n",
    "3. exit()/quit(), 跑出SystemExit异常. 一般在交互式shell中退出时使用.\n",
    "\n",
    "資料來源：作者：知乎用户，链接：https://www.zhihu.com/question/21187839/answer/46228505"
   ]
  },
  {
   "cell_type": "markdown",
   "metadata": {},
   "source": [
    "#### sys.argv[ ]"
   ]
  },
  {
   "cell_type": "markdown",
   "metadata": {},
   "source": [
    "用於執行python程式時可傳入外部參數，argv[0] 代表程式，argv[n]表示第n個傳入的參數。"
   ]
  },
  {
   "cell_type": "code",
   "execution_count": null,
   "metadata": {},
   "outputs": [],
   "source": [
    "import sys\n",
    "for i in sys.argv:\n",
    "    print(i)"
   ]
  },
  {
   "cell_type": "markdown",
   "metadata": {},
   "source": [
    "### 4. OS模組"
   ]
  },
  {
   "cell_type": "markdown",
   "metadata": {},
   "source": [
    "* import os\n",
    "* `os.getcwd()` 目前資料夾\n",
    "* `os.path.exists(file)` file是否在目前資料夾下？\n",
    "* `os.path.isdir(dirname)` 檢查dirname是否為一資料夾？ \n",
    "* `os.listdir(dirname)` 列出dirname的檔案\n",
    "* `os.chdir(path)` 改變路徑\n",
    "* `os.path.join(dirname, filename)` 結合資料夾及檔案成為一路徑"
   ]
  },
  {
   "cell_type": "code",
   "execution_count": 28,
   "metadata": {},
   "outputs": [
    {
     "data": {
      "text/plain": [
       "'/Users/mac/pylearning'"
      ]
     },
     "execution_count": 28,
     "metadata": {},
     "output_type": "execute_result"
    }
   ],
   "source": [
    "import os\n",
    "os.getcwd()"
   ]
  },
  {
   "cell_type": "markdown",
   "metadata": {},
   "source": [
    "### 5. 檔案處理"
   ]
  },
  {
   "cell_type": "code",
   "execution_count": null,
   "metadata": {
    "collapsed": true
   },
   "outputs": [],
   "source": []
  },
  {
   "cell_type": "code",
   "execution_count": null,
   "metadata": {
    "collapsed": true
   },
   "outputs": [],
   "source": []
  }
 ],
 "metadata": {
  "kernelspec": {
   "display_name": "Python 3",
   "language": "python",
   "name": "python3"
  },
  "language_info": {
   "codemirror_mode": {
    "name": "ipython",
    "version": 3
   },
   "file_extension": ".py",
   "mimetype": "text/x-python",
   "name": "python",
   "nbconvert_exporter": "python",
   "pygments_lexer": "ipython3",
   "version": "3.6.2"
  }
 },
 "nbformat": 4,
 "nbformat_minor": 2
}
