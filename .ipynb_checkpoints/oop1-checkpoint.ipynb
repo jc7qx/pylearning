{
 "cells": [
  {
   "cell_type": "markdown",
   "metadata": {},
   "source": [
    "## OOP in Python"
   ]
  },
  {
   "cell_type": "code",
   "execution_count": null,
   "metadata": {},
   "outputs": [],
   "source": [
    "x = 42\n",
    "print(type(x))"
   ]
  },
  {
   "cell_type": "code",
   "execution_count": null,
   "metadata": {},
   "outputs": [],
   "source": [
    "l1 = list(range(10))\n",
    "print(l1)\n",
    "print(type(l1))"
   ]
  },
  {
   "cell_type": "code",
   "execution_count": null,
   "metadata": {},
   "outputs": [],
   "source": [
    "def f(x):\n",
    "    return x**2\n",
    "print(type(f))"
   ]
  },
  {
   "cell_type": "markdown",
   "metadata": {},
   "source": [
    "## 最簡單物件"
   ]
  },
  {
   "cell_type": "code",
   "execution_count": null,
   "metadata": {},
   "outputs": [],
   "source": [
    "class Person:\n",
    "    pass\n",
    "\n",
    "x = Person()\n",
    "y = Person()\n",
    "z = y\n",
    "print(x)\n",
    "print(y)\n",
    "print(y == z)\n",
    "print(y == x)"
   ]
  },
  {
   "cell_type": "markdown",
   "metadata": {},
   "source": [
    "## 物件屬性"
   ]
  },
  {
   "cell_type": "code",
   "execution_count": null,
   "metadata": {},
   "outputs": [],
   "source": [
    "x.name = 'Jason'\n",
    "x.birthday = '1990/12/22'\n",
    "y.name = 'Jimmy'\n",
    "y.birthday = '1955/3/4'\n",
    "print(x.name)\n",
    "print(y.birthday)"
   ]
  },
  {
   "cell_type": "code",
   "execution_count": null,
   "metadata": {},
   "outputs": [],
   "source": [
    "# x.__dict__ 儲存 x 物件的屬性的字典\n",
    "x.__dict__"
   ]
  },
  {
   "cell_type": "code",
   "execution_count": null,
   "metadata": {},
   "outputs": [],
   "source": [
    "z = Person()\n",
    "Person.kind = \"Yellow\"\n",
    "z.kind"
   ]
  },
  {
   "cell_type": "code",
   "execution_count": null,
   "metadata": {},
   "outputs": [],
   "source": [
    "z.kind = \"White\"\n",
    "Person.kind"
   ]
  },
  {
   "cell_type": "code",
   "execution_count": null,
   "metadata": {},
   "outputs": [],
   "source": [
    "p = Person()\n",
    "p.kind = \"Black\"\n",
    "Person.kind = \"Red\"\n",
    "p.kind"
   ]
  },
  {
   "cell_type": "code",
   "execution_count": null,
   "metadata": {},
   "outputs": [],
   "source": [
    "z.kind"
   ]
  },
  {
   "cell_type": "code",
   "execution_count": null,
   "metadata": {},
   "outputs": [],
   "source": [
    "z.__dict__"
   ]
  },
  {
   "cell_type": "code",
   "execution_count": null,
   "metadata": {},
   "outputs": [],
   "source": [
    "p.__dict__"
   ]
  },
  {
   "cell_type": "code",
   "execution_count": null,
   "metadata": {},
   "outputs": [],
   "source": [
    "Person.__dict__"
   ]
  },
  {
   "cell_type": "code",
   "execution_count": null,
   "metadata": {},
   "outputs": [],
   "source": [
    "z.phone"
   ]
  },
  {
   "cell_type": "markdown",
   "metadata": {},
   "source": [
    "## 方法"
   ]
  },
  {
   "cell_type": "code",
   "execution_count": null,
   "metadata": {},
   "outputs": [],
   "source": [
    "def hi(obj):\n",
    "    print(\"Hi, I am \"+obj.name+\"!\")\n",
    "    \n",
    "hi(x)"
   ]
  },
  {
   "cell_type": "code",
   "execution_count": null,
   "metadata": {},
   "outputs": [],
   "source": [
    "class Person:\n",
    "    say_hi = hi //類別方法\n",
    "    \n",
    "p1 = Person()\n",
    "p1.name = \"Maxwell\"\n",
    "Person.say_hi(p1)"
   ]
  },
  {
   "cell_type": "markdown",
   "metadata": {},
   "source": [
    "* ### 將方法定義在類別內\n",
    "* ### 預置第一個方法呼叫參數 self 指向類別產生的物件"
   ]
  },
  {
   "cell_type": "markdown",
   "metadata": {},
   "source": [
    "## 建構子函式(__init__)"
   ]
  },
  {
   "cell_type": "markdown",
   "metadata": {},
   "source": [
    "### 建構子函式用於產生物件時，設定物件的屬性"
   ]
  },
  {
   "cell_type": "code",
   "execution_count": null,
   "metadata": {},
   "outputs": [],
   "source": [
    "class Person:\n",
    "    \n",
    "    def __init__(self):\n",
    "        print(\"啟動__init__函式 -- 一個人誕生了!!!\")\n",
    "               \n",
    "x = Person()\n"
   ]
  },
  {
   "cell_type": "code",
   "execution_count": null,
   "metadata": {},
   "outputs": [],
   "source": [
    "class Person:\n",
    "    \n",
    "    def __init__(self, name=None):\n",
    "        self.name = name #物件屬性\n",
    "        \n",
    "    def say_hi(self):\n",
    "        if self.name:\n",
    "            print(\"嗨, 我是\"+self.name)\n",
    "        else:\n",
    "            print(\"我還沒取名字 XD\")\n",
    "        \n",
    "x = Person()\n",
    "x.say_hi()\n",
    "y = Person('林志玲')\n",
    "y.say_hi()"
   ]
  },
  {
   "cell_type": "markdown",
   "metadata": {},
   "source": [
    "## Data Abstract = Data Encapsulation + Data Hiding\n",
    "## (資料抽象化 = 資料封裝 + 資料隱藏)"
   ]
  },
  {
   "cell_type": "code",
   "execution_count": null,
   "metadata": {},
   "outputs": [],
   "source": [
    "class Person:\n",
    "    \n",
    "    def __init__(self, name=None):\n",
    "        self.name = name #物件屬性\n",
    "        \n",
    "    def say_hi(self):\n",
    "        if self.name:\n",
    "            print(\"嗨, 我是\"+self.name)\n",
    "        else:\n",
    "            print(\"我還沒取名字 XD\")\n",
    "            \n",
    "    def set_name(self, name):\n",
    "        self.name = name\n",
    "        \n",
    "    def get_name(self):\n",
    "        return self.name\n",
    "    \n",
    "x = Person()\n",
    "x.say_hi()\n",
    "x.set_name('劉德華')\n",
    "y = Person('林志玲')\n",
    "y.say_hi()\n",
    "x.say_hi()\n",
    "print(\"我的名字是\"+y.get_name())"
   ]
  },
  {
   "cell_type": "markdown",
   "metadata": {},
   "source": [
    "## 公共、保護、私有屬性"
   ]
  },
  {
   "cell_type": "markdown",
   "metadata": {},
   "source": [
    "\n",
    "| 屬姓名     | 類型         |   意義         |\n",
    "| :----------: | :------------: | :------------- |\n",
    "|name       | Public      |自由使用         |\n",
    "|_name      | Protected   | 子類別中可用     |\n",
    "| __name    | Private     | 只能在類別內用   |\n"
   ]
  },
  {
   "cell_type": "code",
   "execution_count": null,
   "metadata": {},
   "outputs": [],
   "source": [
    "class A:\n",
    "    \n",
    "    def __init__(self):\n",
    "        self.__priv = \"I am private.\"\n",
    "        self._prot = \"I am protected.\"\n",
    "        self.publ = \"I am public.\"\n",
    "        \n",
    "x = A()\n",
    "print(x.publ)\n",
    "print(x.publ + \"and my value can be changed.\")\n",
    "print(x._prot)\n",
    "print(x.__priv)"
   ]
  },
  {
   "cell_type": "code",
   "execution_count": null,
   "metadata": {},
   "outputs": [],
   "source": [
    "class Person:\n",
    "    \n",
    "    def __init__(self, name=None, bd = None):\n",
    "        self.__name = name #物件屬性\n",
    "        self.__birthday = bd\n",
    "        \n",
    "    def say_hi(self):\n",
    "        if self.__name:\n",
    "            print(\"嗨, 我是\"+self.name)\n",
    "        else:\n",
    "            print(\"我還沒取名字 XD\")\n",
    "            \n",
    "    def set_name(self, name):\n",
    "        self.__name = name\n",
    "        \n",
    "    def set_birthday(self, bd):\n",
    "        self.__birthday = bd\n",
    "        \n",
    "    def get_name(self):\n",
    "        return self.__name\n",
    "    \n",
    "    def get_birthday(self):\n",
    "        return self.__birthday\n",
    "    \n",
    "x = Person(\"劉德華\")\n",
    "#print(x.__name)\n",
    "print(x.get_name())"
   ]
  },
  {
   "cell_type": "markdown",
   "metadata": {},
   "source": [
    "## 刪除物件函式  \\__del__"
   ]
  },
  {
   "cell_type": "code",
   "execution_count": 58,
   "metadata": {},
   "outputs": [
    {
     "name": "stdout",
     "output_type": "stream",
     "text": [
      "Jason has been created!\n",
      " Person has been destroyed\n",
      "Mark has been created!\n",
      " Person has been destroyed\n"
     ]
    }
   ],
   "source": [
    "class Person():\n",
    "    \n",
    "    def __init__(self, name):\n",
    "        self.__name = name\n",
    "        print(self.__name + \" has been created!\")\n",
    "        \n",
    "    def __del__(self):\n",
    "        print (\" Person has been destroyed\")\n",
    "\n",
    "if __name__ == \"__main__\":\n",
    "    p1 = Person('Jason')\n",
    "    p2 = Person('Mark')"
   ]
  },
  {
   "cell_type": "markdown",
   "metadata": {},
   "source": [
    "## 類別屬性"
   ]
  },
  {
   "cell_type": "markdown",
   "metadata": {},
   "source": [
    "* ### 類別屬性屬於類別\n",
    "* ### 可以和物件分享"
   ]
  },
  {
   "cell_type": "code",
   "execution_count": 59,
   "metadata": {},
   "outputs": [
    {
     "name": "stdout",
     "output_type": "stream",
     "text": [
      "我是類別屬性\n",
      "我是類別屬性\n",
      "我是類別屬性\n"
     ]
    }
   ],
   "source": [
    "class A():\n",
    "    a = \"我是類別屬性\"\n",
    "    \n",
    "x = A()\n",
    "y = A()\n",
    "print(x.a)\n",
    "print(y.a)\n",
    "print(A.a)"
   ]
  },
  {
   "cell_type": "code",
   "execution_count": 60,
   "metadata": {},
   "outputs": [
    {
     "name": "stdout",
     "output_type": "stream",
     "text": [
      "我是新的x屬性\n",
      "我是類別屬性\n",
      "我是類別屬性\n"
     ]
    }
   ],
   "source": [
    "x.a = \"我是新的x屬性\"\n",
    "print(x.a)\n",
    "print(y.a)\n",
    "print(A.a)"
   ]
  },
  {
   "cell_type": "code",
   "execution_count": 61,
   "metadata": {},
   "outputs": [
    {
     "name": "stdout",
     "output_type": "stream",
     "text": [
      "我是新的x屬性\n",
      "我是新的類別屬性\n",
      "我是新的類別屬性\n"
     ]
    }
   ],
   "source": [
    "A.a = \"我是新的類別屬性\"\n",
    "print(x.a)\n",
    "print(y.a)\n",
    "print(A.a)"
   ]
  },
  {
   "cell_type": "code",
   "execution_count": 62,
   "metadata": {},
   "outputs": [
    {
     "data": {
      "text/plain": [
       "{'a': '我是新的x屬性'}"
      ]
     },
     "execution_count": 62,
     "metadata": {},
     "output_type": "execute_result"
    }
   ],
   "source": [
    "x.__dict__"
   ]
  },
  {
   "cell_type": "code",
   "execution_count": 63,
   "metadata": {},
   "outputs": [
    {
     "data": {
      "text/plain": [
       "{}"
      ]
     },
     "execution_count": 63,
     "metadata": {},
     "output_type": "execute_result"
    }
   ],
   "source": [
    "y.__dict__"
   ]
  },
  {
   "cell_type": "code",
   "execution_count": 64,
   "metadata": {},
   "outputs": [
    {
     "data": {
      "text/plain": [
       "mappingproxy({'__dict__': <attribute '__dict__' of 'A' objects>,\n",
       "              '__doc__': None,\n",
       "              '__module__': '__main__',\n",
       "              '__weakref__': <attribute '__weakref__' of 'A' objects>,\n",
       "              'a': '我是新的類別屬性'})"
      ]
     },
     "execution_count": 64,
     "metadata": {},
     "output_type": "execute_result"
    }
   ],
   "source": [
    "A.__dict__"
   ]
  },
  {
   "cell_type": "code",
   "execution_count": 80,
   "metadata": {},
   "outputs": [
    {
     "name": "stdout",
     "output_type": "stream",
     "text": [
      "# of instances: 0\n",
      "# of instances: 1\n",
      "# of instances: 1\n"
     ]
    }
   ],
   "source": [
    "class Person():\n",
    "    \n",
    "    counter = 0\n",
    "    \n",
    "    def __init__(self):\n",
    "        Person.counter += 1\n",
    "        \n",
    "    def __del__(self):\n",
    "        Person.counter -= 1\n",
    "        \n",
    "if __name__ == \"__main__\":\n",
    "    x = Person()\n",
    "    print(\"# of instances: \"+str(Person.counter))\n",
    "    y = Person()\n",
    "    print(\"# of instances: \"+str(Person.counter))\n",
    "    z = Person()\n",
    "    print(\"# of instances: \"+str(Person.counter))\n",
    "    #del(y)\n",
    "    #print(\"# of instances: \"+str(Person.counter))"
   ]
  },
  {
   "cell_type": "markdown",
   "metadata": {},
   "source": [
    "## 靜態方法"
   ]
  },
  {
   "cell_type": "code",
   "execution_count": 82,
   "metadata": {},
   "outputs": [
    {
     "ename": "AttributeError",
     "evalue": "type object 'Person' has no attribute 'counter'",
     "output_type": "error",
     "traceback": [
      "\u001b[0;31m---------------------------------------------------------------------------\u001b[0m",
      "\u001b[0;31mAttributeError\u001b[0m                            Traceback (most recent call last)",
      "\u001b[0;32m<ipython-input-82-41ab123d068c>\u001b[0m in \u001b[0;36m<module>\u001b[0;34m()\u001b[0m\n\u001b[1;32m      9\u001b[0m         \u001b[0;32mreturn\u001b[0m \u001b[0mPerson\u001b[0m\u001b[0;34m.\u001b[0m\u001b[0m__counter\u001b[0m\u001b[0;34m\u001b[0m\u001b[0m\n\u001b[1;32m     10\u001b[0m \u001b[0;34m\u001b[0m\u001b[0m\n\u001b[0;32m---> 11\u001b[0;31m \u001b[0mp1\u001b[0m \u001b[0;34m=\u001b[0m \u001b[0mPerson\u001b[0m\u001b[0;34m(\u001b[0m\u001b[0;34m)\u001b[0m\u001b[0;34m\u001b[0m\u001b[0m\n\u001b[0m\u001b[1;32m     12\u001b[0m \u001b[0mprint\u001b[0m\u001b[0;34m(\u001b[0m\u001b[0mp1\u001b[0m\u001b[0;34m.\u001b[0m\u001b[0mPersonNum\u001b[0m\u001b[0;34m(\u001b[0m\u001b[0;34m)\u001b[0m\u001b[0;34m)\u001b[0m\u001b[0;34m\u001b[0m\u001b[0m\n",
      "\u001b[0;32m<ipython-input-82-41ab123d068c>\u001b[0m in \u001b[0;36m__init__\u001b[0;34m(self)\u001b[0m\n\u001b[1;32m      4\u001b[0m \u001b[0;34m\u001b[0m\u001b[0m\n\u001b[1;32m      5\u001b[0m     \u001b[0;32mdef\u001b[0m \u001b[0m__init__\u001b[0m\u001b[0;34m(\u001b[0m\u001b[0mself\u001b[0m\u001b[0;34m)\u001b[0m\u001b[0;34m:\u001b[0m\u001b[0;34m\u001b[0m\u001b[0m\n\u001b[0;32m----> 6\u001b[0;31m         \u001b[0mPerson\u001b[0m\u001b[0;34m.\u001b[0m\u001b[0mcounter\u001b[0m \u001b[0;34m+=\u001b[0m \u001b[0;36m1\u001b[0m\u001b[0;34m\u001b[0m\u001b[0m\n\u001b[0m\u001b[1;32m      7\u001b[0m \u001b[0;34m\u001b[0m\u001b[0m\n\u001b[1;32m      8\u001b[0m     \u001b[0;32mdef\u001b[0m \u001b[0mPersonNum\u001b[0m\u001b[0;34m(\u001b[0m\u001b[0;34m)\u001b[0m\u001b[0;34m:\u001b[0m\u001b[0;34m\u001b[0m\u001b[0m\n",
      "\u001b[0;31mAttributeError\u001b[0m: type object 'Person' has no attribute 'counter'"
     ]
    }
   ],
   "source": [
    "class Person():\n",
    "    \n",
    "    __counter = 0\n",
    "    \n",
    "    def __init__(self):\n",
    "        Person.__counter += 1\n",
    "        \n",
    "    def PersonNum():\n",
    "        return Person.__counter\n",
    "    \n",
    "p1 = Person()\n",
    "print(p1.PersonNum())"
   ]
  },
  {
   "cell_type": "code",
   "execution_count": null,
   "metadata": {
    "collapsed": true
   },
   "outputs": [],
   "source": []
  }
 ],
 "metadata": {
  "kernelspec": {
   "display_name": "Python 3",
   "language": "python",
   "name": "python3"
  },
  "language_info": {
   "codemirror_mode": {
    "name": "ipython",
    "version": 3
   },
   "file_extension": ".py",
   "mimetype": "text/x-python",
   "name": "python",
   "nbconvert_exporter": "python",
   "pygments_lexer": "ipython3",
   "version": "3.6.2"
  }
 },
 "nbformat": 4,
 "nbformat_minor": 2
}
