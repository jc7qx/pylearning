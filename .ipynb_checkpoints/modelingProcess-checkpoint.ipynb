{
 "cells": [
  {
   "cell_type": "markdown",
   "metadata": {},
   "source": [
    "## 機器學習\n",
    "由資料建立模型，data driven modeling"
   ]
  },
  {
   "cell_type": "markdown",
   "metadata": {},
   "source": [
    "* 機器學習是關於從資料來建立數學模型，以了解資料特性\n",
    "* 學習的意義在於由可調整的參數來模擬、觀察數據資料\n",
    "* 如果建立的模型適合(fit)過去的資料(訓練資料)，模型可用來預測及了解新資料\n",
    "* 對問題的深入了解是進行機器學習的首要工作"
   ]
  },
  {
   "cell_type": "markdown",
   "metadata": {},
   "source": [
    "## 機器學習問題分類\n",
    "### * 監督式學習 (supervised learning)\n",
    "   - 找出屬性與類別間的關係\n",
    "   - 分類分析、迴歸分析\n",
    "     + 如果類別變數為「類別」則為分類樹\n",
    "     + 如果類別變數為「連續」則為回歸\n",
    "   \n",
    "### * 非監督式學習 (unsupervised learning)\n",
    "   - 由資料特性自然分群\n",
    "     + 找出獨特特性的群\n",
    "   - 分群演算法、降低維度\n",
    "     + 找出簡潔的資料表示"
   ]
  },
  {
   "cell_type": "markdown",
   "metadata": {},
   "source": [
    "## 監督式機器學習方法\n",
    "* 分類樹 \n",
    "* 迴歸分析"
   ]
  },
  {
   "cell_type": "markdown",
   "metadata": {},
   "source": [
    "## 監督式機器學習方法\n",
    "* K-means\n",
    "* 降低維度"
   ]
  },
  {
   "cell_type": "markdown",
   "metadata": {},
   "source": [
    "## classification問題\n",
    "classification 問題是在input（屬性資料項)與output(分類標籤)之間建立一個預測模型，根據此一模型可以幫助決策者，面對新一筆資料(屬性特性資料組成)，預測是屬於哪一個類別。例如，可以蒐集電子郵件，分析每一封電子郵件特性，然後預測此一郵件是否為「垃圾郵件」(spam email)。"
   ]
  },
  {
   "cell_type": "markdown",
   "metadata": {},
   "source": [
    "## regression問題\n",
    "regression問題是在input(屬性資料項)與output(連續性變數)之間建立一個預測模型，根據此一模型可以預測output值。例如，根據房屋特性，建立預測模型，以便根據要買房子特性預測房價。"
   ]
  },
  {
   "cell_type": "markdown",
   "metadata": {},
   "source": [
    "## clustering問題\n",
    "clustering問題是根據資料的特性將資料做自然分群。每一群中的資料具有相關的相似性(similarity)。"
   ]
  },
  {
   "cell_type": "markdown",
   "metadata": {},
   "source": [
    "## Scikit Learning\n",
    "* Scikit learing (sklearn)是一個實作機器學習方法論的Python程式庫。\n",
    "* sklearn是一個簡潔、一致、流暢的API，據擁有完整且有用的使用文件。"
   ]
  },
  {
   "cell_type": "markdown",
   "metadata": {},
   "source": [
    "## sklearn的資料表示\n",
    "* 以資料表的形式，每一列(row)代表一筆資料，每一行(column)代表一個屬性\n",
    "* 特徵矩陣 X[n_sample][n_feature]\n",
    "  - n_sample: 資料比數\n",
    "  - n_feature: 屬性欄位數\n",
    "* 目標陣列 y[n_sample]\n",
    "  - y 的內容可以是連續的或離散的"
   ]
  },
  {
   "cell_type": "markdown",
   "metadata": {},
   "source": [
    "## Hyperparameters and Model Validation"
   ]
  },
  {
   "cell_type": "markdown",
   "metadata": {},
   "source": [
    "1. 選擇模型(linear regression, neural net, SVM...)\n",
    "2. 決定模型參數\n",
    "3. 利用訓練資料集(training data set)建立模型(找出模型需要的參數) - fit the model\n",
    "4. 利用測試資料集(test data set)驗證模型 - good fit to the data\n",
    "   - 比較預測值(模型產生)及實際值(測試資料集提供)\n",
    "5. 使用模型預測新資料案例"
   ]
  },
  {
   "cell_type": "markdown",
   "metadata": {},
   "source": [
    "## cross validation\n",
    "將資料分成n份，使用其中一份作為測試資料集，另外n-1份作為訓練資料集，針對每一份資料執行模型建立與模型驗證，累計平均每一次過程的驗證效能參數，藉此找出較佳的模型參數。"
   ]
  },
  {
   "cell_type": "markdown",
   "metadata": {},
   "source": [
    "## model underfit\n",
    "所建立的模型複雜度不足以解釋資料的特徵性，因此產生高的偏差值。"
   ]
  },
  {
   "cell_type": "markdown",
   "metadata": {},
   "source": [
    "## model overfit\n",
    "所建立的模型複雜度足以解釋訓練資料的特徵性，可以精確地描述訓練資料。太注重訓練資料的模型複雜度而忽略測試資料(新資料)的雜訊，以致於產生較高的變異性。"
   ]
  },
  {
   "cell_type": "markdown",
   "metadata": {},
   "source": [
    "## Coefficient of Determination $R^2$\n",
    "預測值是否逼近目標值的平均"
   ]
  },
  {
   "cell_type": "markdown",
   "metadata": {},
   "source": [
    "* $R^2$ = 1, yes\n",
    "* $R^2$ = 0, 使用平均值較佳"
   ]
  },
  {
   "cell_type": "code",
   "execution_count": null,
   "metadata": {
    "collapsed": true
   },
   "outputs": [],
   "source": []
  }
 ],
 "metadata": {
  "kernelspec": {
   "display_name": "Python 3",
   "language": "python",
   "name": "python3"
  },
  "language_info": {
   "codemirror_mode": {
    "name": "ipython",
    "version": 3
   },
   "file_extension": ".py",
   "mimetype": "text/x-python",
   "name": "python",
   "nbconvert_exporter": "python",
   "pygments_lexer": "ipython3",
   "version": "3.6.2"
  }
 },
 "nbformat": 4,
 "nbformat_minor": 2
}
