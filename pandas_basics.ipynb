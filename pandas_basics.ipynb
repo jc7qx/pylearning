{
  "nbformat": 4,
  "nbformat_minor": 0,
  "metadata": {
    "colab": {
      "name": "pandas basics",
      "provenance": [],
      "collapsed_sections": [],
      "authorship_tag": "ABX9TyM7L3uVPqKkq5XlPSqGou1F",
      "include_colab_link": true
    },
    "kernelspec": {
      "name": "python3",
      "display_name": "Python 3"
    },
    "language_info": {
      "name": "python"
    }
  },
  "cells": [
    {
      "cell_type": "markdown",
      "metadata": {
        "id": "view-in-github",
        "colab_type": "text"
      },
      "source": [
        "<a href=\"https://colab.research.google.com/github/jc7qx/pylearning/blob/master/pandas_basics.ipynb\" target=\"_parent\"><img src=\"https://colab.research.google.com/assets/colab-badge.svg\" alt=\"Open In Colab\"/></a>"
      ]
    },
    {
      "cell_type": "markdown",
      "metadata": {
        "id": "t1k6Tg-ReiZS"
      },
      "source": [
        "# 資料處理\n",
        "\n",
        "在這個文件中我們使用Pandas執行資料處理與分析。Pandas是一個Python套件，主要用於資料分析與處理。如果你還沒有安裝pandas套件，可以到[pandas官方網頁](https://pandas.pydata.org/)下載。如果你使用anaconda執行環境，它已包括pandas，可以直接使用。以下課程主要參考Datacamp教學網站有關pandas的課程內容。包含以下主題\n",
        "* pandas基礎\n",
        "* 資料導入\n",
        "* 資料清理\n",
        "* 資料處理"
      ]
    },
    {
      "cell_type": "markdown",
      "metadata": {
        "id": "xeT9Hg-jiIFt"
      },
      "source": [
        "## pandas基礎"
      ]
    },
    {
      "cell_type": "code",
      "metadata": {
        "id": "pfSzzb2PegPO"
      },
      "source": [
        "import pandas"
      ],
      "execution_count": null,
      "outputs": []
    },
    {
      "cell_type": "markdown",
      "metadata": {
        "id": "f2J6n3TFi48f"
      },
      "source": [
        "使用pandas所提供的功能前先利用 **import pandas** 將pandas模組導入"
      ]
    },
    {
      "cell_type": "code",
      "metadata": {
        "id": "C2w0q_9_iZl5"
      },
      "source": [
        ""
      ],
      "execution_count": null,
      "outputs": []
    },
    {
      "cell_type": "markdown",
      "metadata": {
        "id": "4Zo-5kt8i0BQ"
      },
      "source": [
        ""
      ]
    },
    {
      "cell_type": "code",
      "metadata": {
        "id": "OBthsH55iwwR"
      },
      "source": [
        ""
      ],
      "execution_count": null,
      "outputs": []
    }
  ]
}