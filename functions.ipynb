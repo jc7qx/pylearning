{
 "cells": [
  {
   "cell_type": "markdown",
   "metadata": {
    "slideshow": {
     "slide_type": "slide"
    }
   },
   "source": [
    "## 使用者自定函數"
   ]
  },
  {
   "cell_type": "markdown",
   "metadata": {
    "slideshow": {
     "slide_type": "slide"
    }
   },
   "source": [
    "### 1. 何謂函數？"
   ]
  },
  {
   "cell_type": "markdown",
   "metadata": {
    "slideshow": {
     "slide_type": "slide"
    }
   },
   "source": [
    "* 在程式設計時，有一些特定的程式碼將會重複的被執行，這些程式碼可以分別出來，設計一個可重覆使用的機制，我們稱它為副程式或函式。一般而言，函數可以分為(1)副程式(Subroutine)是一段執行某些任務的程式碼，沒有回傳值，僅負責執行某一特定工作。(2)函式(Function)，如同數學函數一樣 y = f(x)，具有輸入参數(x)及輸出結果(y)。\n",
    "* 副程式或函式的功用可使程式模組化(將複雜的問題分為需多小的問題解決)，以及可再使用。\n",
    "* 一般高階程式語言會提供一些內建函數及函數庫，也提供使用者建立自己所需的函數機制。"
   ]
  },
  {
   "cell_type": "markdown",
   "metadata": {
    "slideshow": {
     "slide_type": "slide"
    }
   },
   "source": [
    "### 2. Python函數定義"
   ]
  },
  {
   "cell_type": "markdown",
   "metadata": {
    "slideshow": {
     "slide_type": "subslide"
    }
   },
   "source": [
    "Python定義函數的語法如下：\n",
    "```python\n",
    "def funtionName(p1, p2, ...):\n",
    "    code block\n",
    "    [return value]\n",
    "```"
   ]
  },
  {
   "cell_type": "markdown",
   "metadata": {
    "slideshow": {
     "slide_type": "subslide"
    }
   },
   "source": [
    "- 使用 `def` 關鍵字定義函數\n",
    "- 函數名稱應符合函數功能\n",
    "- p1, p2, ...定義傳入函數的參數\n",
    "- 小括號後一定要接 `:`\n",
    "- 如果函數有回傳值，須用 `return` 關鍵字傳回"
   ]
  },
  {
   "cell_type": "code",
   "execution_count": 1,
   "metadata": {},
   "outputs": [
    {
     "name": "stdout",
     "output_type": "stream",
     "text": [
      "我愛2017\n",
      "我愛2017\n",
      "我愛2017\n",
      "我愛2017\n",
      "我愛2017\n"
     ]
    }
   ],
   "source": [
    "# 副程式範例\n",
    "def Love2017():\n",
    "    for i in range(5):\n",
    "        print(\"我愛2017\")\n",
    "Love2017()"
   ]
  },
  {
   "cell_type": "markdown",
   "metadata": {},
   "source": [
    "### 3. 函數參數"
   ]
  },
  {
   "cell_type": "markdown",
   "metadata": {},
   "source": [
    "* 執行函數所需的参數(Arguments)必須放在小括號內，如有一個以上的参數可用分號「，」隔開。\n",
    "* 函數定義的參數稱為「形式參數」，呼叫函數時，傳入的實際參數值，稱為「實際參數」。\n",
    "* 参數變數是區域變數，在函數外部，此便數沒有作用，執行函數時，傳入的参數個數必須與函數定義的参數個數一致。\n",
    "* 定義函數時，可以設定参數預設值。"
   ]
  },
  {
   "cell_type": "code",
   "execution_count": 4,
   "metadata": {},
   "outputs": [
    {
     "name": "stdout",
     "output_type": "stream",
     "text": [
      "33  +  55  =  88\n"
     ]
    }
   ],
   "source": [
    "# 將兩數相加\n",
    "def sumTwo(n1, n2): #定義函數 sumTwo，有2個輸入參數(形式參數)\n",
    "    xsum = n1 + n2   #將兩數相加存入區域變數sum\n",
    "    print(n1, \" + \", n2, \" = \", xsum)     #印出結果\n",
    "a = 20              \n",
    "b = 30              #a, b為實際參數\n",
    "sumTwo(33, 55)"
   ]
  },
  {
   "cell_type": "code",
   "execution_count": 7,
   "metadata": {},
   "outputs": [
    {
     "name": "stdout",
     "output_type": "stream",
     "text": [
      "99  +  55  =  154\n"
     ]
    },
    {
     "ename": "NameError",
     "evalue": "name 'n1' is not defined",
     "output_type": "error",
     "traceback": [
      "\u001b[0;31m---------------------------------------------------------------------------\u001b[0m",
      "\u001b[0;31mNameError\u001b[0m                                 Traceback (most recent call last)",
      "\u001b[0;32m<ipython-input-7-f4085e514c2d>\u001b[0m in \u001b[0;36m<module>\u001b[0;34m()\u001b[0m\n\u001b[1;32m      2\u001b[0m \u001b[0my\u001b[0m \u001b[0;34m=\u001b[0m \u001b[0;36m55\u001b[0m\u001b[0;34m\u001b[0m\u001b[0m\n\u001b[1;32m      3\u001b[0m \u001b[0msumTwo\u001b[0m\u001b[0;34m(\u001b[0m\u001b[0mx\u001b[0m\u001b[0;34m,\u001b[0m \u001b[0my\u001b[0m\u001b[0;34m)\u001b[0m\u001b[0;34m\u001b[0m\u001b[0m\n\u001b[0;32m----> 4\u001b[0;31m \u001b[0mprint\u001b[0m\u001b[0;34m(\u001b[0m\u001b[0mn1\u001b[0m\u001b[0;34m)\u001b[0m\u001b[0;34m\u001b[0m\u001b[0m\n\u001b[0m",
      "\u001b[0;31mNameError\u001b[0m: name 'n1' is not defined"
     ]
    }
   ],
   "source": [
    "x = 99\n",
    "y = 55\n",
    "sumTwo(x, y)\n",
    "print(n1)"
   ]
  },
  {
   "cell_type": "markdown",
   "metadata": {},
   "source": [
    "### 4. 函數回傳值"
   ]
  },
  {
   "cell_type": "markdown",
   "metadata": {},
   "source": [
    "python 利用「return」關鍵字，回傳函數執行結果。"
   ]
  },
  {
   "cell_type": "code",
   "execution_count": 9,
   "metadata": {},
   "outputs": [
    {
     "name": "stdout",
     "output_type": "stream",
     "text": [
      "55\n"
     ]
    }
   ],
   "source": [
    "# 將兩數相加\n",
    "def sumTwo(n1, n2): #定義函數 sumTwo，有2個輸入參數(形式參數)\n",
    "    xsum = n1 + n2  #將兩數相加存入區域變數sum\n",
    "    return xsum     #回傳函數執行結果\n",
    "a = 22              \n",
    "b = 33  \n",
    "c = sumTwo(a,b)\n",
    "print(c)"
   ]
  },
  {
   "cell_type": "markdown",
   "metadata": {},
   "source": [
    "### 5. 變數生命週期"
   ]
  },
  {
   "cell_type": "code",
   "execution_count": 10,
   "metadata": {},
   "outputs": [
    {
     "name": "stdout",
     "output_type": "stream",
     "text": [
      "in p1():j=3, k=4\n",
      "in main():j=1, k=7\n",
      "in p2():j=6, k=7\n",
      "in main():j=8, k=7\n"
     ]
    }
   ],
   "source": [
    "j, k = 1, 2\n",
    "def p1():\n",
    "    j, k = 3, 4\n",
    "    print(\"in p1():j={}, k={}\".format(j, k))\n",
    "    k = 5\n",
    "#case1\n",
    "k = 7\n",
    "p1()\n",
    "print(\"in main():j={}, k={}\".format(j, k))\n",
    "\n",
    "def p2():\n",
    "    j = 6\n",
    "    print(\"in p2():j={}, k={}\".format(j, k))\n",
    "\n",
    "\n",
    "#case2\n",
    "j = 8\n",
    "p2()\n",
    "print(\"in main():j={}, k={}\".format(j, k))"
   ]
  },
  {
   "cell_type": "markdown",
   "metadata": {},
   "source": [
    "### 6. 遞迴函式"
   ]
  },
  {
   "cell_type": "markdown",
   "metadata": {},
   "source": [
    "某些程式語言提供「遞迴函式」能力，即函式可以呼叫本身，這可以簡化程式結構。例如，計算階層數(factorial)，n! = n* (n-1)! = n*(n-1)*(n-2)*...*2*1。以下為利用python遞迴函式實作計算階層數。"
   ]
  },
  {
   "cell_type": "code",
   "execution_count": 13,
   "metadata": {},
   "outputs": [
    {
     "name": "stdout",
     "output_type": "stream",
     "text": [
      "120\n"
     ]
    }
   ],
   "source": [
    "n = 5\n",
    "p = 1\n",
    "for i in range(n, 0, -1):\n",
    "    p = p * i\n",
    "print(p)"
   ]
  },
  {
   "cell_type": "code",
   "execution_count": 20,
   "metadata": {},
   "outputs": [
    {
     "name": "stdout",
     "output_type": "stream",
     "text": [
      "93326215443944152681699238856266700490715968264381621468592963895217599993229915608941463976156518286253697920827223758251185210916864000000000000000000000000\n"
     ]
    }
   ],
   "source": [
    "def factorial(n):\n",
    "    if (n<=1):\n",
    "        return 1\n",
    "    else:\n",
    "        return n*factorial(n-1)\n",
    "print(factorial(100))"
   ]
  },
  {
   "cell_type": "markdown",
   "metadata": {},
   "source": [
    "### 7. Lambda函數"
   ]
  },
  {
   "cell_type": "markdown",
   "metadata": {},
   "source": [
    "lambda可以提供另一種定義函數的方式。\n",
    "```python\n",
    "function = lambda p1, p2, ... : Expression\n",
    "\n",
    "function(p1, p2, ...)\n",
    "```"
   ]
  },
  {
   "cell_type": "code",
   "execution_count": 20,
   "metadata": {},
   "outputs": [
    {
     "name": "stdout",
     "output_type": "stream",
     "text": [
      "34\n"
     ]
    }
   ],
   "source": [
    "z = lambda x, y: x**2 + y**2\n",
    "print(z(3, 5))"
   ]
  },
  {
   "cell_type": "markdown",
   "metadata": {},
   "source": [
    "上式 lambda 等同以下函數定義"
   ]
  },
  {
   "cell_type": "code",
   "execution_count": 21,
   "metadata": {},
   "outputs": [
    {
     "name": "stdout",
     "output_type": "stream",
     "text": [
      "34\n"
     ]
    }
   ],
   "source": [
    "def z(x, y):\n",
    "    return x**2+y**2\n",
    "print(z(3, 5))"
   ]
  },
  {
   "cell_type": "markdown",
   "metadata": {},
   "source": [
    "### 8. Apply函數"
   ]
  }
 ],
 "metadata": {
  "kernelspec": {
   "display_name": "Python 3",
   "language": "python",
   "name": "python3"
  },
  "language_info": {
   "codemirror_mode": {
    "name": "ipython",
    "version": 3
   },
   "file_extension": ".py",
   "mimetype": "text/x-python",
   "name": "python",
   "nbconvert_exporter": "python",
   "pygments_lexer": "ipython3",
   "version": "3.6.1"
  }
 },
 "nbformat": 4,
 "nbformat_minor": 2
}
