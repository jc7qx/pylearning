{
 "cells": [
  {
   "cell_type": "markdown",
   "metadata": {},
   "source": [
    "# <center>Numpy學習筆記</center>\n",
    "## 目錄\n",
    "1. [Numpy簡介](#Numpy-簡介)\n",
    "2. [Python基本資料型別](#Python基本資料型別)\n",
    "3. [Numpy數列](#Numpy數列)\n",
    "4. [定義陣列](#定義陣列)\n",
    "4. [Numpy資料型別](#Numpy資料型別)\n",
    "5. [數列資料索引與分割](#數列資料索引與分割)\n",
    "3. [特殊矩陣](#特殊矩陣)\n",
    "5. [Numpy陣列運算](#Numpy陣列運算)\n",
    "2. [numpy讀取檔案資料](#numpy讀取檔案資料)\n",
    "1. [Numpy統計函數](#Numpy統計函數)"
   ]
  },
  {
   "cell_type": "markdown",
   "metadata": {},
   "source": [
    "**Chapter 2 Introduction to NumPy**\n",
    "* Understanding Data Types in Python\n",
    "* The Basics of NumPy Arrays\n",
    "* Computation on NumPy Arrays: Universal Functions\n",
    "* Aggregations: Min, Max, and Everything in Between\n",
    "* Computation on Arrays: Broadcasting\n",
    "* Comparisons, Masks, and Boolean Logic\n",
    "* Fancy Indexing\n",
    "* Sorting Arrays\n",
    "* Structured Data: NumPy’s Structured Arrays"
   ]
  },
  {
   "cell_type": "markdown",
   "metadata": {},
   "source": [
    "### Numpy 簡介"
   ]
  },
  {
   "cell_type": "markdown",
   "metadata": {},
   "source": [
    "\n",
    "1. NumPy是Python語言的一個擴充程式庫。支援大量的**高維度陣列與矩陣運算**，此外也提供陣列運算的數學函式庫。NumPy為**開放原始碼**並且由許多協作者共同維護開發。\n",
    "\n",
    "2. NumPy引入了多維陣列以及可以直接有效率地操作多維陣列的函式與運算子。因此在NumPy上只要能被表示為針對陣列或矩陣運算的演算法，其執行效率幾乎都可以與編譯過的等效C語言程式碼一樣快。\n",
    "\n",
    "3. NumPy可以結合其它的Python擴充函式庫。例如**SciPy函式庫**提供了許多與MATLAB相似的功能；及**Matplotlib函式庫**，與MATLAB內建繪圖功能類似的函式庫。\n",
    "\n",
    "4. NumPy的核心功能是**ndarray**（即n-dimensional array，多維陣列）資料結構。一個表示多維度、同質並且固定大小的陣列物件。\n"
   ]
  },
  {
   "cell_type": "markdown",
   "metadata": {},
   "source": [
    "---------------------"
   ]
  },
  {
   "cell_type": "markdown",
   "metadata": {},
   "source": [
    "### Python基本資料型別"
   ]
  },
  {
   "cell_type": "markdown",
   "metadata": {},
   "source": [
    "Python可以處理數值與文字資料。Python所能處理的數值資料型別包括「整數」、「浮點數」、「複數」、及「布林數」。不同資料型別佔據記憶體大小決定資料範圍。\n",
    "* 整數(int)，如1, 23, 789\n",
    "* 浮點數(float)，如12.3, 1.23e10\n",
    "* 複數(complex)，如1+2j\n",
    "* 布林數(boolean)，如True或 False"
   ]
  },
  {
   "cell_type": "markdown",
   "metadata": {},
   "source": [
    "#### 整數(Integer)"
   ]
  },
  {
   "cell_type": "markdown",
   "metadata": {},
   "source": [
    "在Python中，只要沒有帶小數點的數值或負數，都視為整數，且整數的大小是沒有限制的，例如"
   ]
  },
  {
   "cell_type": "code",
   "execution_count": 1,
   "metadata": {},
   "outputs": [
    {
     "data": {
      "text/plain": [
       "1000000000000000000000000000000000000000000000000000001"
      ]
     },
     "execution_count": 1,
     "metadata": {},
     "output_type": "execute_result"
    }
   ],
   "source": [
    "1000000000000000000000000000000000000000000000000000000+1"
   ]
  },
  {
   "cell_type": "markdown",
   "metadata": {},
   "source": [
    "#### 浮點數(float)"
   ]
  },
  {
   "cell_type": "markdown",
   "metadata": {},
   "source": [
    "浮點數是帶有小數點的數值，如12.345，0.87654，也可以使用科學符號表示，如1.234e5，0.00345e10。"
   ]
  },
  {
   "cell_type": "code",
   "execution_count": 2,
   "metadata": {},
   "outputs": [
    {
     "name": "stdout",
     "output_type": "stream",
     "text": [
      "1.23 <class 'float'>\n",
      "543.0 <class 'float'>\n"
     ]
    }
   ],
   "source": [
    "print(1.23, type(1.23))\n",
    "print(0.00543e5,  type(1.23))"
   ]
  },
  {
   "cell_type": "markdown",
   "metadata": {},
   "source": [
    "* 內建函數type()可以用來顯示資料的型別\n",
    "* 0.00543e5 = 0.00543 x 10<sup>**5**</sup> = 5.43 x 10<sup>**2**</sup> = 543.0"
   ]
  },
  {
   "cell_type": "markdown",
   "metadata": {},
   "source": [
    "#### 複數(complex)"
   ]
  },
  {
   "cell_type": "markdown",
   "metadata": {},
   "source": [
    "帶有虛數的數，如 1+2j"
   ]
  },
  {
   "cell_type": "markdown",
   "metadata": {},
   "source": [
    "#### 布林值(Boolean value)"
   ]
  },
  {
   "cell_type": "markdown",
   "metadata": {},
   "source": [
    "布林值包含「真」與「假」二個值，真假值是有邏輯判斷式來決定，邏輯式有關於一個事實(Fact)的真假，例如 (5>3) 是一個事實，如果 5>3 為真，則布林值為True，否則布林值為False。"
   ]
  },
  {
   "cell_type": "code",
   "execution_count": 4,
   "metadata": {},
   "outputs": [
    {
     "name": "stdout",
     "output_type": "stream",
     "text": [
      "True <class 'bool'>\n",
      "False <class 'bool'>\n"
     ]
    }
   ],
   "source": [
    "print(5>3, type(5>3)) # 5>3為真\n",
    "print(0==5, type(0==5)) # 0 == 5 為假"
   ]
  },
  {
   "cell_type": "markdown",
   "metadata": {},
   "source": [
    "### Numpy數列"
   ]
  },
  {
   "cell_type": "markdown",
   "metadata": {},
   "source": [
    "#### Pyhton List與numpy array記憶體大小比較"
   ]
  },
  {
   "cell_type": "markdown",
   "metadata": {},
   "source": [
    ">* Python List所占記憶體包含(1)List資訊記憶體、(2)指向元素所需的記憶體、及(3)List元素所需的記憶體\n",
    ">*  numpy array所占記憶體包含(1)numpy array物件所佔記憶體，及(2)numpy array元素所需的記憶體"
   ]
  },
  {
   "cell_type": "markdown",
   "metadata": {},
   "source": [
    "1. **python list 記憶體需求分析**\n",
    "\n",
    "    a. ListList物件及指向元素記憶體需求 (64 + 8 * 元素數量) <br>\n",
    "    b. List元素所需記憶體 (元素型別記憶體需求 * 元素數量)\n",
    "    \n",
    "    List所需的記憶體 = a + b\n"
   ]
  },
  {
   "cell_type": "code",
   "execution_count": 16,
   "metadata": {},
   "outputs": [
    {
     "name": "stdout",
     "output_type": "stream",
     "text": [
      "List物件及指向元素記憶體需求：  88\n",
      "List元素所需記憶體[1, 2,3]：  84\n",
      "List(lst)記憶體總共需求： 172\n",
      "空List所佔記憶體： 64\n"
     ]
    }
   ],
   "source": [
    "from sys import getsizeof\n",
    "lst = [1, 2, 3]\n",
    "size_of_list_object = getsizeof(lst)\n",
    "size_of_list_elements = getsizeof(lst[0])*len(lst)\n",
    "print(\"List物件及指向元素記憶體需求： \", getsizeof(lst))\n",
    "print(\"List元素所需記憶體[1, 2, 3]： \", size_of_list_elements)\n",
    "print(\"List(lst)記憶體總共需求：\", size_of_list_object+size_of_list_elements)\n",
    "print(\"空List所佔記憶體：\", getsizeof([]))\n"
   ]
  },
  {
   "cell_type": "markdown",
   "metadata": {},
   "source": [
    "2. **numpy array 記憶體需求分析**\n",
    "\n",
    "    a. 空numpy array記憶體需求<br>\n",
    "    b. numpy array 元素記憶體需求(元素型別記憶體需求 * 元素數量)\n",
    "    \n",
    "    numpy array 所需的記憶體 = a + b"
   ]
  },
  {
   "cell_type": "code",
   "execution_count": 19,
   "metadata": {},
   "outputs": [
    {
     "name": "stdout",
     "output_type": "stream",
     "text": [
      "空numpy array記憶體需求： 96\n",
      "具3個整數的numpy array記憶體需求：  108\n",
      "每一個元素所需記憶體： 4.0\n"
     ]
    }
   ],
   "source": [
    "from sys import getsizeof\n",
    "import numpy as np\n",
    "a = np.array([1, 3, 4])\n",
    "e = np.array([])\n",
    "print(\"空numpy array記憶體需求：\", getsizeof(e)) #96\n",
    "print(\"具3個整數的numpy array記憶體需求： \", getsizeof(a)) #108\n",
    "print(\"每一個元素所需記憶體：\", (getsizeof(a)-getsizeof(e))/3) #np.int32"
   ]
  },
  {
   "cell_type": "markdown",
   "metadata": {},
   "source": [
    "#### Python List與 numpy array執行速度比較"
   ]
  },
  {
   "cell_type": "code",
   "execution_count": 35,
   "metadata": {},
   "outputs": [],
   "source": [
    "import time\n",
    "size_of_vec = 1000000\n",
    "\n",
    "def pure_python_version():\n",
    "    t1 = time.time()\n",
    "    X = range(size_of_vec)\n",
    "    Y = range(size_of_vec)\n",
    "    Z = [X[i] + Y[i] for i in range(len(X)) ]\n",
    "    return time.time() - t1\n",
    "\n",
    "def numpy_version():\n",
    "    t1 = time.time()\n",
    "    X = np.arange(size_of_vec)\n",
    "    Y = np.arange(size_of_vec)\n",
    "    Z = X + Y\n",
    "    return time.time() - t1"
   ]
  },
  {
   "cell_type": "code",
   "execution_count": 53,
   "metadata": {},
   "outputs": [
    {
     "name": "stdout",
     "output_type": "stream",
     "text": [
      " execution time of pure python  0.3343043 \n",
      "executrion time of numpy array  0.0050046 \n",
      "numpy array 比 python List 快 66.80 倍\n"
     ]
    }
   ],
   "source": [
    "t1 = pure_python_version()\n",
    "t2 = numpy_version()\n",
    "print(\"{0:>30s} {1:10.7f} \".format(\"execution time of pure python\",t1))\n",
    "print(\"{0:>30s} {1:10.7f} \".format(\"executrion time of numpy array\",t2))\n",
    "print(\"numpy array 比 python List 快 {:5.2f} 倍\".format(t1/t2))"
   ]
  },
  {
   "cell_type": "markdown",
   "metadata": {},
   "source": [
    "### 定義陣列"
   ]
  },
  {
   "cell_type": "markdown",
   "metadata": {},
   "source": [
    "numpy 提供一個 **`arange`**方法用來將數值範圍產生等距數列，方法定義如後 **`np.arange([start,] stop[, step], [, dtype=None])`**\n",
    "* a = `np.arange(1, 10)` 結果 a = \\[1 2 3 4 5 6 7 8 9\\]\n",
    "* a = `np.arange(10.4)` 結果 a = \\[0. 1. 2. 3. 4. 5. 6. 7. 8. 9. 10.\\]\n",
    "* a = `np.arange(0.5, 10.4, 0.8)` 結果 a = \\[0.5 1.3 2.1 2.9 3.7 4.5 5.3 6.1 6.9 7.7 8.5 9.3 10.1\\]\n",
    "* a = `np.arange(0.5, 10.4, 0.8, int)` 結果 a = \\[0 1 2 2 3 4 5 6 6 7 8 9 10 11 12\\]"
   ]
  },
  {
   "cell_type": "code",
   "execution_count": 54,
   "metadata": {},
   "outputs": [
    {
     "name": "stdout",
     "output_type": "stream",
     "text": [
      "[1 2 3 4 5 6 7 8 9]\n",
      "[ 0.  1.  2.  3.  4.  5.  6.  7.  8.  9. 10.]\n",
      "[ 0.5  1.3  2.1  2.9  3.7  4.5  5.3  6.1  6.9  7.7  8.5  9.3 10.1]\n",
      "[ 0  1  2  3  4  5  6  7  8  9 10 11 12]\n"
     ]
    }
   ],
   "source": [
    "import numpy as np\n",
    "a = np.arange(1, 10); print(a)\n",
    "a = np.arange(10.4); print(a)\n",
    "a = np.arange(0.5, 10.4, 0.8); print(a)\n",
    "a = np.arange(0.5, 10.4, 0.8, int); print(a)"
   ]
  },
  {
   "cell_type": "markdown",
   "metadata": {},
   "source": [
    "另一個numpy方法`linspce`可以用來將數值範圍分隔成**num**個區間的數列，方法定義如後**`linsapce(start, stop, num=50, endpoint=True, retstep=False)`**，如果**endpoint=True**，**stop端點數值**必須包含於產生的數列。如果num沒有指定，則預設值為**50**。endpoint的預設值為**True**。retstep=**True**則傳回分割值。"
   ]
  },
  {
   "cell_type": "code",
   "execution_count": 64,
   "metadata": {},
   "outputs": [
    {
     "name": "stdout",
     "output_type": "stream",
     "text": [
      "[ 1.    3.25  5.5   7.75 10.  ]\n",
      "[1.  2.8 4.6 6.4 8.2]\n",
      "[ 1.          1.18367347  1.36734694  1.55102041  1.73469388  1.91836735\n",
      "  2.10204082  2.28571429  2.46938776  2.65306122  2.83673469  3.02040816\n",
      "  3.20408163  3.3877551   3.57142857  3.75510204  3.93877551  4.12244898\n",
      "  4.30612245  4.48979592  4.67346939  4.85714286  5.04081633  5.2244898\n",
      "  5.40816327  5.59183673  5.7755102   5.95918367  6.14285714  6.32653061\n",
      "  6.51020408  6.69387755  6.87755102  7.06122449  7.24489796  7.42857143\n",
      "  7.6122449   7.79591837  7.97959184  8.16326531  8.34693878  8.53061224\n",
      "  8.71428571  8.89795918  9.08163265  9.26530612  9.44897959  9.63265306\n",
      "  9.81632653 10.        ]\n"
     ]
    }
   ],
   "source": [
    "a = np.linspace(1, 10, 5)\n",
    "print(a)\n",
    "a = np.linspace(1, 10, 5, endpoint=False)\n",
    "print(a)\n",
    "a = np.linspace(1, 10)\n",
    "print(a)"
   ]
  },
  {
   "cell_type": "code",
   "execution_count": 69,
   "metadata": {},
   "outputs": [
    {
     "name": "stdout",
     "output_type": "stream",
     "text": [
      "0.47368421052631576\n",
      "0.45\n"
     ]
    }
   ],
   "source": [
    "samples, spacing = np.linspace(1, 10, 20, retstep=True)\n",
    "print(spacing)\n",
    "samples, spacing = np.linspace(1, 10, 20, endpoint=False, retstep=True)\n",
    "print(spacing)"
   ]
  },
  {
   "cell_type": "markdown",
   "metadata": {},
   "source": [
    "針對一個純量數值(如123)，有別於是數列，則其維度為0。從向量空間的觀點而言，有一維空間(1-d space)，二維空間(2-d space)，及三維空間(3-d space)，一維空間的維度為1，而純數值的維度為0。numpy的`np.ndim()`用來獲得數列的維度，另numpy array的屬性**`ndim`**也可用於獲得數列的維度。"
   ]
  },
  {
   "cell_type": "code",
   "execution_count": 83,
   "metadata": {},
   "outputs": [
    {
     "name": "stdout",
     "output_type": "stream",
     "text": [
      "x =  42\n",
      "x的型別 =   <class 'numpy.ndarray'>\n",
      "x的維度 =  0\n"
     ]
    }
   ],
   "source": [
    "import numpy as np\n",
    "x = np.array(42)\n",
    "print(\"x = \", x)\n",
    "print(\"x的型別 =  \", type(x)) #注意此處x的型別並非為整數，而是numpy數列\n",
    "print(\"x的維度 = \", np.ndim(x))"
   ]
  },
  {
   "cell_type": "markdown",
   "metadata": {},
   "source": [
    "利用`np.linspace(1, 10)`建立一個數列，`np.ndim()`方法可用來檢查數列的維度。"
   ]
  },
  {
   "cell_type": "code",
   "execution_count": 74,
   "metadata": {},
   "outputs": [
    {
     "name": "stdout",
     "output_type": "stream",
     "text": [
      "a 的維度  1\n"
     ]
    }
   ],
   "source": [
    "a = np.linspace(1, 10)\n",
    "print(\"a 的維度 \", np.ndim(a))"
   ]
  },
  {
   "cell_type": "markdown",
   "metadata": {},
   "source": [
    "numpy提供`np.array()`方法用來將python List轉換為numpy array，如`np.array([1, 2, 3])`將`[1, 2, 3]`轉換為一維數列`[1 2 3]`，`np.array([[1, 0],[0,1]]`將轉換成一個二維陣列，\\begin{bmatrix} 1 & 0 \\\\ 0 & 1 \\end{bmatrix}"
   ]
  },
  {
   "cell_type": "code",
   "execution_count": 79,
   "metadata": {},
   "outputs": [
    {
     "name": "stdout",
     "output_type": "stream",
     "text": [
      "a =  [1 2 3]\n",
      "a的型別為 <class 'numpy.ndarray'>\n",
      "a的維度 =  1\n"
     ]
    }
   ],
   "source": [
    "# one dimensional array\n",
    "a = np.array([1, 2, 3])\n",
    "print(\"a = \", a)\n",
    "print(\"a的型別為\", type(a))\n",
    "print(\"a的維度 = \", np.ndim(a))"
   ]
  },
  {
   "cell_type": "code",
   "execution_count": 81,
   "metadata": {},
   "outputs": [
    {
     "name": "stdout",
     "output_type": "stream",
     "text": [
      "a =  [[1 2 3]\n",
      " [4 5 6]]\n",
      "a的型別為 <class 'numpy.ndarray'>\n",
      "a的維度 =  2\n"
     ]
    }
   ],
   "source": [
    "# two dimensional array\n",
    "a = np.array([[1, 2, 3], [4, 5, 6]])\n",
    "print(\"a = \", a)\n",
    "print(\"a的型別為\", type(a))\n",
    "print(\"a的維度 = \", np.ndim(a))"
   ]
  },
  {
   "cell_type": "code",
   "execution_count": 87,
   "metadata": {},
   "outputs": [
    {
     "name": "stdout",
     "output_type": "stream",
     "text": [
      "a =  [[[111 112 113]\n",
      "  [121 122 123]\n",
      "  [131 132 133]]\n",
      "\n",
      " [[211 212 213]\n",
      "  [221 222 223]\n",
      "  [231 232 233]]\n",
      "\n",
      " [[311 312 313]\n",
      "  [321 322 323]\n",
      "  [331 332 333]]]\n",
      "a的型別為 <class 'numpy.ndarray'>\n",
      "a的維度 =  3\n"
     ]
    }
   ],
   "source": [
    "# three dimensional array\n",
    "a = np.array([ [[111, 112, 113], [121, 122, 123], [131, 132, 133]],\n",
    "              [[211, 212, 213], [221, 222, 223], [231, 232, 233]],\n",
    "               [[311, 312, 313], [321, 322, 323], [331, 332, 333]] ])\n",
    "print(\"a = \", a)\n",
    "print(\"a的型別為\", type(a))\n",
    "print(\"a的維度 = \", np.ndim(a))"
   ]
  },
  {
   "cell_type": "markdown",
   "metadata": {},
   "source": [
    "![](pic/matrix3d.png)"
   ]
  },
  {
   "cell_type": "markdown",
   "metadata": {},
   "source": [
    "#### 改變陣列形狀\n",
    "numpy提供**`np.shape()`**方法及**`.shape`**屬性用於獲得陣列的形狀資訊，如a.shape為(3, 3, 3)，表示a為一個3x3x3的立方矩陣。\n",
    "\n",
    "陣列的方法`.reshape()`可以用來改變陣列的列維度與行維度，以致於改變陣列形狀。"
   ]
  },
  {
   "cell_type": "code",
   "execution_count": 90,
   "metadata": {},
   "outputs": [
    {
     "name": "stdout",
     "output_type": "stream",
     "text": [
      "(3, 3, 3)\n",
      "(3, 3, 3)\n"
     ]
    }
   ],
   "source": [
    "print(np.shape(a))\n",
    "print(a.shape)"
   ]
  },
  {
   "cell_type": "markdown",
   "metadata": {},
   "source": [
    "#### Numpy資料型別"
   ]
  },
  {
   "cell_type": "markdown",
   "metadata": {},
   "source": [
    "numpy的資料型別比python程式語言所定義的資料型別豐富，詳細的numpy的資料型別可以參考SciPy.org中numpy.dtype網頁。numpy的`np.dtype()`函數來定義資料的型別，如定義純量資料型別`np.dtype(np.int16)`，或是可以定義資料表中謀一個欄位的資料型別，如`np.dtype([('f1', np.int16)])`定義資料表f1欄位的資料型別為`int16`。numpy的數值資料型別的範圍如下表\n",
    "\n",
    "| 數值型別 |  墅值範圍   |\n",
    "|:---------------:|:---------------------|\n",
    "| np.int8       |  Byte(-128 to 127) |\n",
    "| np.int16    | Integer(-32768 to 32767) |\n",
    "| np.int32    | Integer (-2147483648 to 2147483647) |\n",
    "| np.int64    | Integer (-9223372036854775808 to 9223372036854775807)|\n"
   ]
  },
  {
   "cell_type": "markdown",
   "metadata": {},
   "source": [
    "numpy的數值資料型別為長度固定，因此當數值超過所能處理的數值範圍時，可能產生**溢位錯誤(overflow errors)**。參考下例，100<sup>8</sup>在`np.int64`中可以處理，但是如果數值型別設定為`np.int32`時可能發生錯誤。"
   ]
  },
  {
   "cell_type": "code",
   "execution_count": 2,
   "metadata": {},
   "outputs": [
    {
     "data": {
      "text/plain": [
       "10000000000000000"
      ]
     },
     "execution_count": 2,
     "metadata": {},
     "output_type": "execute_result"
    }
   ],
   "source": [
    "import numpy as np\n",
    "np.power(100, 8, dtype=np.int64)"
   ]
  },
  {
   "cell_type": "code",
   "execution_count": 4,
   "metadata": {},
   "outputs": [
    {
     "data": {
      "text/plain": [
       "1874919424"
      ]
     },
     "execution_count": 4,
     "metadata": {},
     "output_type": "execute_result"
    }
   ],
   "source": [
    "import numpy as np\n",
    "np.power(100, 8, dtype=np.int32)"
   ]
  },
  {
   "cell_type": "markdown",
   "metadata": {},
   "source": [
    "### 數列資料索引與分割"
   ]
  },
  {
   "cell_type": "markdown",
   "metadata": {},
   "source": [
    "#### 定位資料"
   ]
  },
  {
   "cell_type": "markdown",
   "metadata": {},
   "source": [
    "從一個數列資料中可以根據資料位置(索引、地址)快速存取資料，例如一個數列資料 a = `[1 2 2 4 5 6 9 7 7]`，`a[3]`可以快速找到數列中第4筆資料4。 數列索引的規則與Pyhotn List相同，第一筆資料的索引值為0。"
   ]
  },
  {
   "cell_type": "code",
   "execution_count": 35,
   "metadata": {},
   "outputs": [
    {
     "name": "stdout",
     "output_type": "stream",
     "text": [
      "a數列的第1筆資料為 1\n",
      "a數列的第3筆資料為 2\n",
      "a數列的第5筆資料為 5\n"
     ]
    }
   ],
   "source": [
    "import numpy as np\n",
    "a = np.array([1, 2, 2, 4, 5, 6, 9, 7, 7])\n",
    "print(\"a數列的第1筆資料為\",a[0])\n",
    "print(\"a數列的第3筆資料為\",a[2])\n",
    "print(\"a數列的第5筆資料為\",a[4])"
   ]
  },
  {
   "cell_type": "markdown",
   "metadata": {},
   "source": [
    "對於二維陣列資料的資料索引方式，必須指定「列」與「行」的參考座標，如`m[3][2]`代表m陣列中第4列，第3行的資料值。也可使用`m[3,2]`的索引方式讀取資料。"
   ]
  },
  {
   "cell_type": "code",
   "execution_count": 43,
   "metadata": {},
   "outputs": [
    {
     "name": "stdout",
     "output_type": "stream",
     "text": [
      "陣列a的維度=  (4, 4)\n",
      "13\n",
      "13\n"
     ]
    }
   ],
   "source": [
    "import numpy as np\n",
    "m = np.array([[1, 2, 3, 9],\n",
    "            [4, 5, 6, 8],\n",
    "            [7, 8, 9, 7],\n",
    "             [11, 12, 13, 15]])\n",
    "print(\"陣列a的維度= \", m.shape)\n",
    "print(m[3][2])\n",
    "print(m[3,2])"
   ]
  },
  {
   "cell_type": "markdown",
   "metadata": {},
   "source": [
    "如果索引資料的參考坐標超出範圍將會產生 `Index Error: out of bounds`的錯誤，如m陣列只有4列，`m[4,1]`存取第5列資料，因此發生超出範圍的索引錯誤。"
   ]
  },
  {
   "cell_type": "code",
   "execution_count": 42,
   "metadata": {},
   "outputs": [
    {
     "ename": "IndexError",
     "evalue": "index 4 is out of bounds for axis 0 with size 4",
     "output_type": "error",
     "traceback": [
      "\u001b[1;31m---------------------------------------------------------------------------\u001b[0m",
      "\u001b[1;31mIndexError\u001b[0m                                Traceback (most recent call last)",
      "\u001b[1;32m<ipython-input-42-88caec30360a>\u001b[0m in \u001b[0;36m<module>\u001b[1;34m\u001b[0m\n\u001b[1;32m----> 1\u001b[1;33m \u001b[0mprint\u001b[0m\u001b[1;33m(\u001b[0m\u001b[0mm\u001b[0m\u001b[1;33m[\u001b[0m\u001b[1;36m4\u001b[0m\u001b[1;33m,\u001b[0m\u001b[1;36m1\u001b[0m\u001b[1;33m]\u001b[0m\u001b[1;33m)\u001b[0m\u001b[1;33m\u001b[0m\u001b[1;33m\u001b[0m\u001b[0m\n\u001b[0m",
      "\u001b[1;31mIndexError\u001b[0m: index 4 is out of bounds for axis 0 with size 4"
     ]
    }
   ],
   "source": [
    "print(m[4,1])"
   ]
  },
  {
   "cell_type": "markdown",
   "metadata": {},
   "source": [
    "#### 分割資料"
   ]
  },
  {
   "cell_type": "markdown",
   "metadata": {},
   "source": [
    "Numpy允許存取部分的陣列，如 `a = [0 1 2 3 4 5 6 7 8 9]`，`a[3:6]` 可獲得 `[3 4 5]`的a數列的部份。參考下例中的分割方式及結果。"
   ]
  },
  {
   "cell_type": "code",
   "execution_count": 45,
   "metadata": {},
   "outputs": [
    {
     "name": "stdout",
     "output_type": "stream",
     "text": [
      "[0 1 2 3 4 5 6 7 8 9] (10,)\n",
      "[2 3 4]\n",
      "[0 1 2 3]\n",
      "[6 7 8 9]\n",
      "[0 1 2 3 4 5 6 7 8 9]\n"
     ]
    }
   ],
   "source": [
    "import numpy as np\n",
    "a = np.arange(10)\n",
    "print(a, a.shape)\n",
    "print(a[2:5]) #存取2-4(5-1)的資料\n",
    "print(a[:4])  #存取0-3(4-1)的資料\n",
    "print(a[6:])  #存取6-9(6-9)的資料\n",
    "print(a[:])  #存取所有資料"
   ]
  },
  {
   "cell_type": "markdown",
   "metadata": {},
   "source": [
    "二維陣列資料的分割，二維陣列資料如下\n",
    "\n",
    "\\begin{bmatrix}\n",
    "11&12&13&14&15\\\\\n",
    "21&22&23&24&25\\\\\n",
    "31&32&33&34&35\\\\\n",
    "41&42&43&44&45\\\\\n",
    "51&52&53&54&55\n",
    "\\end{bmatrix}"
   ]
  },
  {
   "cell_type": "code",
   "execution_count": 46,
   "metadata": {},
   "outputs": [],
   "source": [
    "import numpy as np\n",
    "a = np.array([\n",
    "    [11,12,13,14,15],\n",
    "    [21,22,23,24,25],\n",
    "    [31,32,33,34,35],\n",
    "    [41,42,43,44,45],\n",
    "    [51,52,53,54,55]\n",
    "])"
   ]
  },
  {
   "cell_type": "code",
   "execution_count": 47,
   "metadata": {},
   "outputs": [
    {
     "name": "stdout",
     "output_type": "stream",
     "text": [
      "[[13 14 15]\n",
      " [23 24 25]\n",
      " [33 34 35]]\n"
     ]
    }
   ],
   "source": [
    "print(a[:3, 2:])"
   ]
  },
  {
   "cell_type": "code",
   "execution_count": 48,
   "metadata": {},
   "outputs": [
    {
     "name": "stdout",
     "output_type": "stream",
     "text": [
      "[[41 42 43 44 45]\n",
      " [51 52 53 54 55]]\n"
     ]
    }
   ],
   "source": [
    "print(a[3:, :])"
   ]
  },
  {
   "cell_type": "code",
   "execution_count": 49,
   "metadata": {},
   "outputs": [
    {
     "name": "stdout",
     "output_type": "stream",
     "text": [
      "[[15]\n",
      " [25]\n",
      " [35]\n",
      " [45]\n",
      " [55]]\n"
     ]
    }
   ],
   "source": [
    "print(a[:, 4:])"
   ]
  },
  {
   "cell_type": "markdown",
   "metadata": {},
   "source": [
    "先以`np.arange(28)`建立`[0 1 2 3 ... 26 27]`的一維數列，再利用`.reshape(m, n)`重塑mxn的陣列。"
   ]
  },
  {
   "cell_type": "code",
   "execution_count": 53,
   "metadata": {},
   "outputs": [
    {
     "name": "stdout",
     "output_type": "stream",
     "text": [
      "[[ 0  1  2  3  4  5  6  7]\n",
      " [ 8  9 10 11 12 13 14 15]\n",
      " [16 17 18 19 20 21 22 23]\n",
      " [24 25 26 27 28 29 30 31]\n",
      " [32 33 34 35 36 37 38 39]]\n"
     ]
    }
   ],
   "source": [
    "import numpy as np\n",
    "a = np.arange(40).reshape(5,8)\n",
    "print(a)"
   ]
  },
  {
   "cell_type": "code",
   "execution_count": 54,
   "metadata": {},
   "outputs": [
    {
     "name": "stdout",
     "output_type": "stream",
     "text": [
      "[[ 0  3  6]\n",
      " [16 19 22]\n",
      " [32 35 38]]\n"
     ]
    }
   ],
   "source": [
    "print(a[::2, ::3])"
   ]
  },
  {
   "cell_type": "code",
   "execution_count": 55,
   "metadata": {},
   "outputs": [
    {
     "name": "stdout",
     "output_type": "stream",
     "text": [
      "[[ 0  3  6]\n",
      " [ 8 11 14]\n",
      " [16 19 22]\n",
      " [24 27 30]\n",
      " [32 35 38]]\n"
     ]
    }
   ],
   "source": [
    "print(a[::, ::3])"
   ]
  },
  {
   "cell_type": "markdown",
   "metadata": {},
   "source": [
    "#### 陣列參考與拷貝"
   ]
  },
  {
   "cell_type": "markdown",
   "metadata": {},
   "source": [
    "在numpy中 _陣列分割_ 只是建立一個**參考範圍**，稱之為「**view**」，並無影響記憶體的存取，`np.may_share_memory(a, b)`可用來檢查二個陣列是否使用同一塊記憶體。"
   ]
  },
  {
   "cell_type": "code",
   "execution_count": 2,
   "metadata": {},
   "outputs": [
    {
     "name": "stdout",
     "output_type": "stream",
     "text": [
      "[0 1 2 3 4 5 6 7 8 9]\n",
      "[0 2 4 6 8]\n",
      "True\n"
     ]
    }
   ],
   "source": [
    "import numpy as np\n",
    "a = np.arange(10)\n",
    "b = a[::2]\n",
    "print(a)\n",
    "print(b)\n",
    "print(np.may_share_memory(a, b)) #表示a, b數列使用同一記憶體"
   ]
  },
  {
   "cell_type": "markdown",
   "metadata": {},
   "source": [
    "numpy提供陣列拷貝的函數，`np.copy(array)`。`a = np.array([1, 2, 3])`，b = `np.copy(a)`"
   ]
  },
  {
   "cell_type": "code",
   "execution_count": 6,
   "metadata": {},
   "outputs": [
    {
     "name": "stdout",
     "output_type": "stream",
     "text": [
      "False\n",
      "[0 1 2 3 4 5 6 7 8 9]\n",
      "[99  1  2  3  4  5  6  7  8  9]\n"
     ]
    }
   ],
   "source": [
    "import numpy as np\n",
    "a = np.arange(10)\n",
    "b = np.copy(a)\n",
    "print(np.may_share_memory(a, b)) #表示a, b數列不是同一記憶體\n",
    "b[0] = 99\n",
    "print(a)\n",
    "print(b) #b[0]的內容改變時，a陣列內容並未更動"
   ]
  },
  {
   "cell_type": "markdown",
   "metadata": {},
   "source": [
    "### 特殊矩陣\n",
    "\n",
    "* ones(t, dtype)\n",
    "* zeros(t, dtype)\n",
    "* itentity(n, dtype)\n",
    "* eye(n, m, k, dtype)"
   ]
  },
  {
   "cell_type": "code",
   "execution_count": 58,
   "metadata": {},
   "outputs": [
    {
     "name": "stdout",
     "output_type": "stream",
     "text": [
      "[[1. 1.]\n",
      " [1. 1.]\n",
      " [1. 1.]]\n"
     ]
    }
   ],
   "source": [
    "import numpy as np\n",
    "\n",
    "m = np.ones((3,2))\n",
    "print(m)"
   ]
  },
  {
   "cell_type": "code",
   "execution_count": 60,
   "metadata": {},
   "outputs": [
    {
     "name": "stdout",
     "output_type": "stream",
     "text": [
      "[[0. 0. 0.]\n",
      " [0. 0. 0.]\n",
      " [0. 0. 0.]]\n"
     ]
    }
   ],
   "source": [
    "import numpy as np\n",
    "\n",
    "m = np.zeros((3,3))\n",
    "print(m)"
   ]
  },
  {
   "cell_type": "code",
   "execution_count": 61,
   "metadata": {},
   "outputs": [
    {
     "name": "stdout",
     "output_type": "stream",
     "text": [
      "[[1. 0. 0. 0. 0.]\n",
      " [0. 1. 0. 0. 0.]\n",
      " [0. 0. 1. 0. 0.]\n",
      " [0. 0. 0. 1. 0.]\n",
      " [0. 0. 0. 0. 1.]]\n"
     ]
    }
   ],
   "source": [
    "import numpy as np\n",
    "\n",
    "m = np.identity(5)\n",
    "print(m)"
   ]
  },
  {
   "cell_type": "code",
   "execution_count": 64,
   "metadata": {},
   "outputs": [
    {
     "name": "stdout",
     "output_type": "stream",
     "text": [
      "[[0 0 1 0 0]\n",
      " [0 0 0 1 0]\n",
      " [0 0 0 0 1]\n",
      " [0 0 0 0 0]]\n"
     ]
    }
   ],
   "source": [
    "import numpy as np\n",
    "\n",
    "m = np.eye(4, 5, 2, dtype=np.int16)\n",
    "print(m)"
   ]
  },
  {
   "cell_type": "markdown",
   "metadata": {},
   "source": [
    "### Numpy陣列運算"
   ]
  },
  {
   "cell_type": "markdown",
   "metadata": {},
   "source": [
    "#### 純量數值與數列"
   ]
  },
  {
   "cell_type": "markdown",
   "metadata": {},
   "source": [
    "一個純量數值與數列的算術運算(加、減、乘、除)"
   ]
  },
  {
   "cell_type": "code",
   "execution_count": null,
   "metadata": {},
   "outputs": [],
   "source": [
    "import numpy as np\n",
    "a = np.array([1, 2, 3, 4, 5])\n",
    "p = 2.5 + a\n",
    "s = 2.5 - a\n",
    "m = 2.5*a\n",
    "d = 2.5/a\n",
    "print(a)\n",
    "print(p)\n",
    "print(s)\n",
    "print(m)\n",
    "print(d)"
   ]
  },
  {
   "cell_type": "markdown",
   "metadata": {},
   "source": [
    "#### 二數列運算"
   ]
  },
  {
   "cell_type": "markdown",
   "metadata": {},
   "source": [
    "二數列的算術運算是二數列相對應位置的數值運算。相當於 `array(a[i]+b[i], i = 1 to len(a))`"
   ]
  },
  {
   "cell_type": "code",
   "execution_count": 7,
   "metadata": {},
   "outputs": [
    {
     "name": "stdout",
     "output_type": "stream",
     "text": [
      "[1 2 3 4 5]\n",
      "[2 4 6 8 9]\n",
      "[ 3  6  9 12 14]\n",
      "[-1 -2 -3 -4 -4]\n",
      "[ 2  8 18 32 45]\n",
      "[0.5        0.5        0.5        0.5        0.55555556]\n"
     ]
    }
   ],
   "source": [
    "import numpy as np\n",
    "a = np.array([1, 2, 3, 4, 5])\n",
    "b = np.array([2, 4, 6, 8, 9])\n",
    "print(a)\n",
    "print(b)\n",
    "print(a+b)\n",
    "print(a-b)\n",
    "print(a*b)\n",
    "print(a/b)"
   ]
  },
  {
   "cell_type": "markdown",
   "metadata": {},
   "source": [
    "二個矩陣算術運算，如\n",
    "\n",
    "a = \\begin{bmatrix} 1 & 2 \\\\ 3 & 4 \\end{bmatrix}\n",
    "\n",
    "b =  \\begin{bmatrix} 4 & 3 \\\\ 2 & 1 \\end{bmatrix}\n",
    "\n",
    "* a + b = ?\n",
    "* a - b = ?\n",
    "* a * b = ?\n",
    "* a / b = ?"
   ]
  },
  {
   "cell_type": "code",
   "execution_count": 13,
   "metadata": {},
   "outputs": [
    {
     "name": "stdout",
     "output_type": "stream",
     "text": [
      "a= [[1 2]\n",
      " [3 4]]\n",
      "b= [[4 3]\n",
      " [2 1]]\n",
      "[[5 5]\n",
      " [5 5]]\n",
      "[[-3 -1]\n",
      " [ 1  3]]\n",
      "[[4 6]\n",
      " [6 4]]\n",
      "[[0.25       0.66666667]\n",
      " [1.5        4.        ]]\n"
     ]
    }
   ],
   "source": [
    "import numpy as np\n",
    "a = np.array([[1, 2],[3, 4]])\n",
    "b = np.array([[4, 3],[2, 1]])\n",
    "print('a=', a)\n",
    "print('b=', b)\n",
    "print(a + b)\n",
    "print(a - b)\n",
    "print(a * b)\n",
    "print(a / b)"
   ]
  },
  {
   "cell_type": "markdown",
   "metadata": {},
   "source": [
    "#### 矩陣運算"
   ]
  },
  {
   "cell_type": "markdown",
   "metadata": {},
   "source": [
    "* **向量運算**"
   ]
  },
  {
   "cell_type": "markdown",
   "metadata": {},
   "source": [
    "二個項量可以進行向量加法、減法、及利用向量內積求二個向量的夾角，如下圖所示"
   ]
  },
  {
   "cell_type": "markdown",
   "metadata": {},
   "source": [
    "![](pic/vectorpic.png)"
   ]
  },
  {
   "cell_type": "code",
   "execution_count": 17,
   "metadata": {},
   "outputs": [
    {
     "name": "stdout",
     "output_type": "stream",
     "text": [
      "a + b =  [8 3]\n",
      "a - b =  [-2  1]\n"
     ]
    }
   ],
   "source": [
    "import numpy as np\n",
    "a = np.array([3,2])\n",
    "b = np.array([5,1])\n",
    "print(\"a + b = \", a+b)\n",
    "print(\"a - b = \", a-b)"
   ]
  },
  {
   "cell_type": "markdown",
   "metadata": {},
   "source": [
    "numpy提供`np.dot(a, b, out=None)`向量內積函數，a和b是二個向量"
   ]
  },
  {
   "cell_type": "code",
   "execution_count": 24,
   "metadata": {},
   "outputs": [
    {
     "name": "stdout",
     "output_type": "stream",
     "text": [
      "17\n"
     ]
    }
   ],
   "source": [
    "import numpy as np\n",
    "a = np.array([3,2])\n",
    "b = np.array([5,1])\n",
    "d = np.dot(a,b)\n",
    "print(d) #3*5+2*1=17"
   ]
  },
  {
   "cell_type": "markdown",
   "metadata": {},
   "source": [
    "* **計算向量夾角**"
   ]
  },
  {
   "cell_type": "code",
   "execution_count": 31,
   "metadata": {},
   "outputs": [
    {
     "name": "stdout",
     "output_type": "stream",
     "text": [
      "a, b內積=  17\n",
      "a向量長度=  3.605551275463989\n",
      "b向量長度=  5.0990195135927845\n",
      "a,b夾角=  0.3906070436976867\n",
      "a,b夾角=  22.38013505195957\n"
     ]
    }
   ],
   "source": [
    "import numpy as np\n",
    "a = np.array([3,2])\n",
    "b = np.array([5,1])\n",
    "d = np.dot(a,b)\n",
    "print('a, b內積= ',d) #3*5+2*1=17\n",
    "x_modulus = np.sqrt((a*a).sum())\n",
    "y_modulus = np.sqrt((b*b).sum())\n",
    "print('a向量長度= ',x_modulus)\n",
    "print('b向量長度= ',y_modulus)\n",
    "cos_angle = d/x_modulus/y_modulus\n",
    "angle = np.arccos(cos_angle)\n",
    "print('a,b夾角= ',angle)\n",
    "print('a,b夾角= ',angle*360/2/np.pi)"
   ]
  },
  {
   "cell_type": "markdown",
   "metadata": {},
   "source": [
    "* **矩陣相乘**"
   ]
  },
  {
   "cell_type": "markdown",
   "metadata": {},
   "source": [
    "![matrix multiply](./pic/matrixmp.png)"
   ]
  },
  {
   "cell_type": "code",
   "execution_count": 65,
   "metadata": {},
   "outputs": [
    {
     "name": "stdout",
     "output_type": "stream",
     "text": [
      "[[2 3]\n",
      " [3 5]]\n",
      "[[ 1  2]\n",
      " [ 5 -1]]\n",
      "[[17  1]\n",
      " [28  1]]\n"
     ]
    }
   ],
   "source": [
    "x = np.matrix([[2,3],[3,5]])\n",
    "print(x)\n",
    "y = np.matrix([[1,2],[5,-1]])\n",
    "print(y)\n",
    "print(x*y) #[[2*1+3*5, 2*2+3*-1],[3*1+5*5, 3*2+5*-1]]"
   ]
  },
  {
   "cell_type": "markdown",
   "metadata": {},
   "source": [
    "### numpy讀取檔案資料\n",
    "\n",
    "對於大量數值資料輸入，檔案室不錯的選擇。numpy可以經由`np.loadtxt(file, delimiter=\"\", skiprows=n, usecols=[...])`讀區檔案中的數值資料，讀取檔案的格式可以是`.txt`或`.csv`檔案。如果一個檔案的內容如下，檔案名稱為`abc.txt`。\n",
    "\n",
    "11<br>\n",
    "12<br>\n",
    "13<br>\n",
    "14<br>\n",
    ".....<br>\n",
    "18<br>\n",
    "19<br>\n",
    "20"
   ]
  },
  {
   "cell_type": "code",
   "execution_count": 13,
   "metadata": {},
   "outputs": [
    {
     "name": "stdout",
     "output_type": "stream",
     "text": [
      "<class 'numpy.ndarray'>\n",
      "[11. 12. 13. 14. 15. 16. 17. 18. 19. 20.]\n",
      "1\n",
      "(10,)\n"
     ]
    }
   ],
   "source": [
    "import numpy as np\n",
    "narray = np.loadtxt(\"data/abc.txt\")\n",
    "print(type(narray))\n",
    "print(narray)\n",
    "print(narray.ndim)\n",
    "print(narray.shape)"
   ]
  },
  {
   "cell_type": "markdown",
   "metadata": {},
   "source": [
    "對一個`.csv`檔案，可以`np.loadtxt(file, delimiter=\",\")`來讀取檔案中的數值資料。檔案`xyz.csv`的內容如下\n",
    "\n",
    "11, 12, 13, 14, 15, 16, 17, 18, 19, 20<br>\n",
    "21, 22, 23, 24, 25, 26, 27, 28, 29, 30"
   ]
  },
  {
   "cell_type": "code",
   "execution_count": 16,
   "metadata": {},
   "outputs": [
    {
     "name": "stdout",
     "output_type": "stream",
     "text": [
      "<class 'numpy.ndarray'>\n",
      "[[12. 14. 16.]\n",
      " [22. 24. 26.]]\n",
      "2\n",
      "(2, 3)\n"
     ]
    }
   ],
   "source": [
    "import numpy as np\n",
    "narray = np.loadtxt(\"data/xyz.csv\", delimiter=\",\", usecols=[1,3,5])\n",
    "print(type(narray))\n",
    "print(narray)\n",
    "print(narray.ndim)\n",
    "print(narray.shape)"
   ]
  },
  {
   "cell_type": "markdown",
   "metadata": {},
   "source": [
    "如果一個檔案的內容如下，檔案名稱為`xyz1.csv`，可以利用`np.loadtxt(xyz1.csv, delimiter=\",\", skiprows=1)`來讀取檔案中的數值資料。\n",
    "\n",
    "以下為數列<br>\n",
    "11, 12, 13, 14, 15, 16, 17, 18, 19, 20<br>\n",
    "21, 22, 23, 24, 25, 26, 27, 28, 29, 30"
   ]
  },
  {
   "cell_type": "code",
   "execution_count": 28,
   "metadata": {},
   "outputs": [
    {
     "name": "stdout",
     "output_type": "stream",
     "text": [
      "<class 'numpy.ndarray'>\n",
      "[[13. 15. 17. 19.]\n",
      " [23. 25. 27. 29.]]\n",
      "2\n",
      "(2, 4)\n"
     ]
    }
   ],
   "source": [
    "import numpy as np\n",
    "import codecs\n",
    "filecp = codecs.open(\"data/xyz1.csv\", encoding = 'utf-8')\n",
    "narray = np.loadtxt(filecp, delimiter=\",\", skiprows=1, usecols=[2,4,6,8])\n",
    "print(type(narray))\n",
    "print(narray)\n",
    "print(narray.ndim)\n",
    "print(narray.shape)"
   ]
  },
  {
   "cell_type": "markdown",
   "metadata": {},
   "source": [
    "上例讀取檔案中資料時，由於第一行為中文說明，讀取資料時欲跳過該行，因此`skiprows`的參數設定為1，但讀取過程中發現編碼錯誤的訊息，<span style = \"color:red;font-weight:bold;\">UnicodeDecodeError: 'cp950' codec can't decode byte 0xb8 in position 4: illegal multibyte sequence</span>，利用編碼處理的套件**`import codecs`**先執行**`filecp = codecs.open(\"data/xyz1.csv\", encoding = 'utf-8')`**，則可順利讀取資料。`usecols`參數在設定所要讀取的行。"
   ]
  },
  {
   "cell_type": "markdown",
   "metadata": {},
   "source": [
    "### Numpy統計函數\n",
    "\n",
    "numpy提供下列的統計函數\n",
    "\n",
    "\n",
    "| 統計函數         |     函數功能     |\n",
    "|:--------------------:|:---------------------|\n",
    "|np.max()                 |    最大值           |\n",
    "|np.min()                 |    最小值           |\n",
    "|np.median()                 |    中值          |\n",
    "|np.mean()                 |    平均值           |\n",
    "|np.var()                 |    差異數           |\n",
    "|np.std()                 |    標準差           |\n",
    "|np.percentile()                 |        百分位數       |\n",
    "|np.sort()                 |      數值排序       |"
   ]
  },
  {
   "cell_type": "code",
   "execution_count": 66,
   "metadata": {},
   "outputs": [
    {
     "name": "stdout",
     "output_type": "stream",
     "text": [
      "19\n",
      "0\n",
      "9.5\n",
      "9.5\n",
      "33.25\n",
      "5.766281297335398\n",
      "[ 0.475 18.525]\n"
     ]
    }
   ],
   "source": [
    "import numpy as np\n",
    "narray = np.arange(20)\n",
    "print(np.max(narray))\n",
    "print(np.min(narray))\n",
    "print(np.median(narray))\n",
    "print(np.mean(narray))\n",
    "print(np.var(narray))\n",
    "print(np.std(narray))\n",
    "print(np.percentile(narray,[ 2.5, 97.5]))"
   ]
  },
  {
   "cell_type": "code",
   "execution_count": 61,
   "metadata": {},
   "outputs": [
    {
     "name": "stdout",
     "output_type": "stream",
     "text": [
      "[[13. 15. 17. 19.]\n",
      " [23. 25. 27. 29.]]\n"
     ]
    }
   ],
   "source": [
    "r = np.random.permutation(narray)\n",
    "print(r)"
   ]
  },
  {
   "cell_type": "code",
   "execution_count": 63,
   "metadata": {},
   "outputs": [
    {
     "name": "stdout",
     "output_type": "stream",
     "text": [
      "[[23. 25. 27. 29.]\n",
      " [13. 15. 17. 19.]]\n",
      "[[23. 25. 27. 29.]\n",
      " [13. 15. 17. 19.]]\n"
     ]
    }
   ],
   "source": [
    "print(narray)\n",
    "np.random.shuffle(narray)\n",
    "print(narray)"
   ]
  }
 ],
 "metadata": {
  "kernelspec": {
   "display_name": "Python 3",
   "language": "python",
   "name": "python3"
  },
  "language_info": {
   "codemirror_mode": {
    "name": "ipython",
    "version": 3
   },
   "file_extension": ".py",
   "mimetype": "text/x-python",
   "name": "python",
   "nbconvert_exporter": "python",
   "pygments_lexer": "ipython3",
   "version": "3.7.3"
  }
 },
 "nbformat": 4,
 "nbformat_minor": 2
}
