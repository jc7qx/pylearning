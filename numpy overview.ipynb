{
 "cells": [
  {
   "cell_type": "markdown",
   "metadata": {},
   "source": [
    "**Chapter 2 Introduction to NumPy**\n",
    "* Understanding Data Types in Python\n",
    "* The Basics of NumPy Arrays\n",
    "* Computation on NumPy Arrays: Universal Functions\n",
    "* Aggregations: Min, Max, and Everything in Between\n",
    "* Computation on Arrays: Broadcasting\n",
    "* Comparisons, Masks, and Boolean Logic\n",
    "* Fancy Indexing\n",
    "* Sorting Arrays\n",
    "* Structured Data: NumPy’s Structured Arrays\n",
    "\n",
    "**Chapter 3 Data Manipulation with Pandas**\n",
    "* Installing and Using Pandas\n",
    "* Introducing Pandas Objects\n",
    "* Data Indexing and Selection\n",
    "* Operating on Data in Pandas\n",
    "* Handling Missing Data\n",
    "* Hierarchical Indexing\n",
    "* Combining Datasets: Concat and Append\n",
    "* Combining Datasets: Merge and Join\n",
    "* Aggregation and Grouping\n",
    "* Pivot Tables\n",
    "* Vectorized String Operations\n",
    "* Working with Time Series\n",
    "* High-Performance Pandas: eval() and query()\n",
    "* Further Resources"
   ]
  },
  {
   "cell_type": "markdown",
   "metadata": {},
   "source": [
    "### Numpy 簡介"
   ]
  },
  {
   "cell_type": "markdown",
   "metadata": {},
   "source": [
    "1. NumPy是Python語言的一個擴充程式庫。支援大量的**高維度陣列與矩陣運算**，此外也提供陣列運算的數學函式庫。NumPy為**開放原始碼**並且由許多協作者共同維護開發。\n",
    "\n",
    "2. NumPy引入了多維陣列以及可以直接有效率地操作多維陣列的函式與運算子。因此在NumPy上只要能被表示為針對陣列或矩陣運算的演算法，其執行效率幾乎都可以與編譯過的等效C語言程式碼一樣快。\n",
    "\n",
    "3. NumPy可以結合其它的Python擴充函式庫。例如**SciPy函式庫**提供了許多與MATLAB相似的功能；及**Matplotlib函式庫**，與MATLAB內建繪圖功能類似的函式庫。\n",
    "\n",
    "4. NumPy的核心功能是**ndarray**（即n-dimensional array，多維陣列）資料結構。一個表示多維度、同質並且固定大小的陣列物件。"
   ]
  },
  {
   "cell_type": "markdown",
   "metadata": {},
   "source": [
    "### Python的基本資料型別"
   ]
  },
  {
   "cell_type": "markdown",
   "metadata": {},
   "source": [
    "Python可以處理數值與文字資料。Python所能處理的數值資料型別包括「整數」、「浮點數」、「複數」、及「布林數」。不同資料型別佔據記憶體大小決定資料範圍。\n",
    "* 整數(int)，如1, 23, 789\n",
    "* 浮點數(float)，如12.3, 1.23e10\n",
    "* 複數(complex)，如1+2j\n",
    "* 布林數(boolean)，如True或 False"
   ]
  },
  {
   "cell_type": "markdown",
   "metadata": {},
   "source": [
    "#### 整數(Integer)"
   ]
  },
  {
   "cell_type": "markdown",
   "metadata": {},
   "source": [
    "在Python中，只要沒有帶小數點的數值或負數，都視為整數，且整數的大小是沒有限制的，例如"
   ]
  },
  {
   "cell_type": "code",
   "execution_count": 1,
   "metadata": {},
   "outputs": [
    {
     "data": {
      "text/plain": [
       "1000000000000000000000000000000000000000000000000000001"
      ]
     },
     "execution_count": 1,
     "metadata": {},
     "output_type": "execute_result"
    }
   ],
   "source": [
    "1000000000000000000000000000000000000000000000000000000+1"
   ]
  },
  {
   "cell_type": "markdown",
   "metadata": {},
   "source": [
    "#### 浮點數(float)"
   ]
  },
  {
   "cell_type": "markdown",
   "metadata": {},
   "source": [
    "浮點數是帶有小數點的數值，如12.345，0.87654，也可以使用科學符號表示，如1.234e5，0.00345e10。"
   ]
  },
  {
   "cell_type": "code",
   "execution_count": 2,
   "metadata": {},
   "outputs": [
    {
     "name": "stdout",
     "output_type": "stream",
     "text": [
      "1.23 <class 'float'>\n",
      "543.0 <class 'float'>\n"
     ]
    }
   ],
   "source": [
    "print(1.23, type(1.23))\n",
    "print(0.00543e5,  type(1.23))"
   ]
  },
  {
   "cell_type": "markdown",
   "metadata": {},
   "source": [
    "* 內建函數type()可以用來顯示資料的型別\n",
    "* 0.00543e5 = 0.00543 x 10<sup>**5**</sup> = 5.43 x 10<sup>**2**</sup> = 543.0"
   ]
  },
  {
   "cell_type": "markdown",
   "metadata": {},
   "source": [
    "#### 複數(complex)"
   ]
  },
  {
   "cell_type": "markdown",
   "metadata": {},
   "source": [
    "帶有虛數的數，如 1+2j"
   ]
  },
  {
   "cell_type": "markdown",
   "metadata": {},
   "source": [
    "#### 布林值(Boolean value)"
   ]
  },
  {
   "cell_type": "markdown",
   "metadata": {},
   "source": [
    "布林值包含「真」與「假」二個值，真假值是有邏輯判斷式來決定，邏輯式有關於一個事實(Fact)的真假，例如 (5>3) 是一個事實，如果 5>3 為真，則布林值為True，否則布林值為False。"
   ]
  },
  {
   "cell_type": "code",
   "execution_count": 4,
   "metadata": {},
   "outputs": [
    {
     "name": "stdout",
     "output_type": "stream",
     "text": [
      "True <class 'bool'>\n",
      "False <class 'bool'>\n"
     ]
    }
   ],
   "source": [
    "print(5>3, type(5>3)) # 5>3為真\n",
    "print(0==5, type(0==5)) # 0 == 5 為假"
   ]
  },
  {
   "cell_type": "markdown",
   "metadata": {},
   "source": [
    "### Numpy Array"
   ]
  },
  {
   "cell_type": "code",
   "execution_count": null,
   "metadata": {},
   "outputs": [],
   "source": []
  }
 ],
 "metadata": {
  "kernelspec": {
   "display_name": "Python 3",
   "language": "python",
   "name": "python3"
  },
  "language_info": {
   "codemirror_mode": {
    "name": "ipython",
    "version": 3
   },
   "file_extension": ".py",
   "mimetype": "text/x-python",
   "name": "python",
   "nbconvert_exporter": "python",
   "pygments_lexer": "ipython3",
   "version": "3.7.3"
  }
 },
 "nbformat": 4,
 "nbformat_minor": 2
}
