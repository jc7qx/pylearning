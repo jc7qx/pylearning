{
 "cells": [
  {
   "cell_type": "markdown",
   "metadata": {},
   "source": [
    "**Chapter 2 Introduction to NumPy**\n",
    "* Understanding Data Types in Python\n",
    "* The Basics of NumPy Arrays\n",
    "* Computation on NumPy Arrays: Universal Functions\n",
    "* Aggregations: Min, Max, and Everything in Between\n",
    "* Computation on Arrays: Broadcasting\n",
    "* Comparisons, Masks, and Boolean Logic\n",
    "* Fancy Indexing\n",
    "* Sorting Arrays\n",
    "* Structured Data: NumPy’s Structured Arrays\n",
    "\n",
    "**Chapter 3 Data Manipulation with Pandas**\n",
    "* Installing and Using Pandas\n",
    "* Introducing Pandas Objects\n",
    "* Data Indexing and Selection\n",
    "* Operating on Data in Pandas\n",
    "* Handling Missing Data\n",
    "* Hierarchical Indexing\n",
    "* Combining Datasets: Concat and Append\n",
    "* Combining Datasets: Merge and Join\n",
    "* Aggregation and Grouping\n",
    "* Pivot Tables\n",
    "* Vectorized String Operations\n",
    "* Working with Time Series\n",
    "* High-Performance Pandas: eval() and query()\n",
    "* Further Resources"
   ]
  },
  {
   "cell_type": "markdown",
   "metadata": {},
   "source": [
    "### Numpy 簡介"
   ]
  },
  {
   "cell_type": "markdown",
   "metadata": {},
   "source": [
    "1. NumPy是Python語言的一個擴充程式庫。支援大量的**高維度陣列與矩陣運算**，此外也提供陣列運算的數學函式庫。NumPy為**開放原始碼**並且由許多協作者共同維護開發。\n",
    "\n",
    "2. NumPy引入了多維陣列以及可以直接有效率地操作多維陣列的函式與運算子。因此在NumPy上只要能被表示為針對陣列或矩陣運算的演算法，其執行效率幾乎都可以與編譯過的等效C語言程式碼一樣快。\n",
    "\n",
    "3. NumPy可以結合其它的Python擴充函式庫。例如**SciPy函式庫**提供了許多與MATLAB相似的功能；及**Matplotlib函式庫**，與MATLAB內建繪圖功能類似的函式庫。\n",
    "\n",
    "4. NumPy的核心功能是**ndarray**（即n-dimensional array，多維陣列）資料結構。一個表示多維度、同質並且固定大小的陣列物件。"
   ]
  },
  {
   "cell_type": "markdown",
   "metadata": {},
   "source": [
    "### Python的基本資料型別"
   ]
  },
  {
   "cell_type": "markdown",
   "metadata": {},
   "source": [
    "Python可以處理數值與文字資料。Python所能處理的數值資料型別包括「整數」、「浮點數」、「複數」、及「布林數」。不同資料型別佔據記憶體大小決定資料範圍。\n",
    "* 整數(int)，如1, 23, 789\n",
    "* 浮點數(float)，如12.3, 1.23e10\n",
    "* 複數(complex)，如1+2j\n",
    "* 布林數(boolean)，如True或 False"
   ]
  },
  {
   "cell_type": "markdown",
   "metadata": {},
   "source": [
    "#### 整數(Integer)"
   ]
  },
  {
   "cell_type": "markdown",
   "metadata": {},
   "source": [
    "在Python中，只要沒有帶小數點的數值或負數，都視為整數，且整數的大小是沒有限制的，例如"
   ]
  },
  {
   "cell_type": "code",
   "execution_count": 1,
   "metadata": {},
   "outputs": [
    {
     "data": {
      "text/plain": [
       "1000000000000000000000000000000000000000000000000000001"
      ]
     },
     "execution_count": 1,
     "metadata": {},
     "output_type": "execute_result"
    }
   ],
   "source": [
    "1000000000000000000000000000000000000000000000000000000+1"
   ]
  },
  {
   "cell_type": "markdown",
   "metadata": {},
   "source": [
    "#### 浮點數(float)"
   ]
  },
  {
   "cell_type": "markdown",
   "metadata": {},
   "source": [
    "浮點數是帶有小數點的數值，如12.345，0.87654，也可以使用科學符號表示，如1.234e5，0.00345e10。"
   ]
  },
  {
   "cell_type": "code",
   "execution_count": 2,
   "metadata": {},
   "outputs": [
    {
     "name": "stdout",
     "output_type": "stream",
     "text": [
      "1.23 <class 'float'>\n",
      "543.0 <class 'float'>\n"
     ]
    }
   ],
   "source": [
    "print(1.23, type(1.23))\n",
    "print(0.00543e5,  type(1.23))"
   ]
  },
  {
   "cell_type": "markdown",
   "metadata": {},
   "source": [
    "* 內建函數type()可以用來顯示資料的型別\n",
    "* 0.00543e5 = 0.00543 x 10<sup>**5**</sup> = 5.43 x 10<sup>**2**</sup> = 543.0"
   ]
  },
  {
   "cell_type": "markdown",
   "metadata": {},
   "source": [
    "#### 複數(complex)"
   ]
  },
  {
   "cell_type": "markdown",
   "metadata": {},
   "source": [
    "帶有虛數的數，如 1+2j"
   ]
  },
  {
   "cell_type": "markdown",
   "metadata": {},
   "source": [
    "#### 布林值(Boolean value)"
   ]
  },
  {
   "cell_type": "markdown",
   "metadata": {},
   "source": [
    "布林值包含「真」與「假」二個值，真假值是有邏輯判斷式來決定，邏輯式有關於一個事實(Fact)的真假，例如 (5>3) 是一個事實，如果 5>3 為真，則布林值為True，否則布林值為False。"
   ]
  },
  {
   "cell_type": "code",
   "execution_count": 4,
   "metadata": {},
   "outputs": [
    {
     "name": "stdout",
     "output_type": "stream",
     "text": [
      "True <class 'bool'>\n",
      "False <class 'bool'>\n"
     ]
    }
   ],
   "source": [
    "print(5>3, type(5>3)) # 5>3為真\n",
    "print(0==5, type(0==5)) # 0 == 5 為假"
   ]
  },
  {
   "cell_type": "markdown",
   "metadata": {},
   "source": [
    "### Numpy Array"
   ]
  },
  {
   "cell_type": "markdown",
   "metadata": {},
   "source": [
    "#### Pyhton List與numpy array記憶體大小比較"
   ]
  },
  {
   "cell_type": "markdown",
   "metadata": {},
   "source": [
    "> Python List所占記憶體包含(1)List資訊記憶體、(2)指向元素所需的記憶體、及(3)List元素所需的記憶體\n",
    "\n",
    "> | numpy array所占記憶體包含(1)numpy array物件所佔記憶體，及(2)numpy array元素所需的記憶體"
   ]
  },
  {
   "cell_type": "markdown",
   "metadata": {},
   "source": [
    "1. **python list 記憶體需求分析**\n",
    "\n",
    "    a. ListList物件及指向元素記憶體需求 (64 + 8 * 元素數量) <br>\n",
    "    b. List元素所需記憶體 (元素型別記憶體需求 * 元素數量)\n",
    "    \n",
    "    List所需的記憶體 = a + b\n"
   ]
  },
  {
   "cell_type": "code",
   "execution_count": 16,
   "metadata": {},
   "outputs": [
    {
     "name": "stdout",
     "output_type": "stream",
     "text": [
      "List物件及指向元素記憶體需求：  88\n",
      "List元素所需記憶體[1, 2,3]：  84\n",
      "List(lst)記憶體總共需求： 172\n",
      "空List所佔記憶體： 64\n"
     ]
    }
   ],
   "source": [
    "from sys import getsizeof\n",
    "lst = [1, 2, 3]\n",
    "size_of_list_object = getsizeof(lst)\n",
    "size_of_list_elements = getsizeof(lst[0])*len(lst)\n",
    "print(\"List物件及指向元素記憶體需求： \", getsizeof(lst))\n",
    "print(\"List元素所需記憶體[1, 2, 3]： \", size_of_list_elements)\n",
    "print(\"List(lst)記憶體總共需求：\", size_of_list_object+size_of_list_elements)\n",
    "print(\"空List所佔記憶體：\", getsizeof([]))\n"
   ]
  },
  {
   "cell_type": "markdown",
   "metadata": {},
   "source": [
    "2. **numpy array 記憶體需求分析**\n",
    "\n",
    "    a. 空numpy array記憶體需求<br>\n",
    "    b. numpy array 元素記憶體需求(元素型別記憶體需求 * 元素數量)\n",
    "    \n",
    "    numpy array 所需的記憶體 = a + b"
   ]
  },
  {
   "cell_type": "code",
   "execution_count": 19,
   "metadata": {},
   "outputs": [
    {
     "name": "stdout",
     "output_type": "stream",
     "text": [
      "空numpy array記憶體需求： 96\n",
      "具3個整數的numpy array記憶體需求：  108\n",
      "每一個元素所需記憶體： 4.0\n"
     ]
    }
   ],
   "source": [
    "from sys import getsizeof\n",
    "import numpy as np\n",
    "a = np.array([1, 3, 4])\n",
    "e = np.array([])\n",
    "print(\"空numpy array記憶體需求：\", getsizeof(e)) #96\n",
    "print(\"具3個整數的numpy array記憶體需求： \", getsizeof(a)) #108\n",
    "print(\"每一個元素所需記憶體：\", (getsizeof(a)-getsizeof(e))/3) #np.int32"
   ]
  },
  {
   "cell_type": "markdown",
   "metadata": {},
   "source": [
    "#### Python List與 numpy array執行速度比較"
   ]
  },
  {
   "cell_type": "code",
   "execution_count": 35,
   "metadata": {},
   "outputs": [],
   "source": [
    "import time\n",
    "size_of_vec = 1000000\n",
    "\n",
    "def pure_python_version():\n",
    "    t1 = time.time()\n",
    "    X = range(size_of_vec)\n",
    "    Y = range(size_of_vec)\n",
    "    Z = [X[i] + Y[i] for i in range(len(X)) ]\n",
    "    return time.time() - t1\n",
    "\n",
    "def numpy_version():\n",
    "    t1 = time.time()\n",
    "    X = np.arange(size_of_vec)\n",
    "    Y = np.arange(size_of_vec)\n",
    "    Z = X + Y\n",
    "    return time.time() - t1"
   ]
  },
  {
   "cell_type": "code",
   "execution_count": 53,
   "metadata": {},
   "outputs": [
    {
     "name": "stdout",
     "output_type": "stream",
     "text": [
      " execution time of pure python  0.3343043 \n",
      "executrion time of numpy array  0.0050046 \n",
      "numpy array 比 python List 快 66.80 倍\n"
     ]
    }
   ],
   "source": [
    "t1 = pure_python_version()\n",
    "t2 = numpy_version()\n",
    "print(\"{0:>30s} {1:10.7f} \".format(\"execution time of pure python\",t1))\n",
    "print(\"{0:>30s} {1:10.7f} \".format(\"executrion time of numpy array\",t2))\n",
    "print(\"numpy array 比 python List 快 {:5.2f} 倍\".format(t1/t2))"
   ]
  },
  {
   "cell_type": "markdown",
   "metadata": {},
   "source": [
    "### 建立矩陣"
   ]
  },
  {
   "cell_type": "markdown",
   "metadata": {},
   "source": [
    "numpy 提供一個 **`arange`**方法用來將數值範圍產生等距數列，方法定義如後 **`np.arange([start,] stop[, step], [, dtype=None])`**\n",
    "* a = `np.arange(1, 10)` 結果 a = \\[1 2 3 4 5 6 7 8 9\\]\n",
    "* a = `np.arange(10.4)` 結果 a = \\[0. 1. 2. 3. 4. 5. 6. 7. 8. 9. 10.\\]\n",
    "* a = `np.arange(0.5, 10.4, 0.8)` 結果 a = \\[0.5 1.3 2.1 2.9 3.7 4.5 5.3 6.1 6.9 7.7 8.5 9.3 10.1\\]\n",
    "* a = `np.arange(0.5, 10.4, 0.8, int)` 結果 a = \\[0 1 2 2 3 4 5 6 6 7 8 9 10 11 12\\]"
   ]
  },
  {
   "cell_type": "code",
   "execution_count": 54,
   "metadata": {},
   "outputs": [
    {
     "name": "stdout",
     "output_type": "stream",
     "text": [
      "[1 2 3 4 5 6 7 8 9]\n",
      "[ 0.  1.  2.  3.  4.  5.  6.  7.  8.  9. 10.]\n",
      "[ 0.5  1.3  2.1  2.9  3.7  4.5  5.3  6.1  6.9  7.7  8.5  9.3 10.1]\n",
      "[ 0  1  2  3  4  5  6  7  8  9 10 11 12]\n"
     ]
    }
   ],
   "source": [
    "import numpy as np\n",
    "a = np.arange(1, 10); print(a)\n",
    "a = np.arange(10.4); print(a)\n",
    "a = np.arange(0.5, 10.4, 0.8); print(a)\n",
    "a = np.arange(0.5, 10.4, 0.8, int); print(a)"
   ]
  },
  {
   "cell_type": "markdown",
   "metadata": {},
   "source": [
    "另一個numpy方法`linspce`可以用來將數值範圍分隔成**num**個區間的數列，方法定義如後**`linsapce(start, stop, num=50, endpoint=True, retstep=False)`**，如果**endpoint=True**，**stop端點數值**必須包含於產生的數列。如果num沒有指定，則預設值為**50**。endpoint的預設值為**True**。retstep=**True**則傳回分割值。"
   ]
  },
  {
   "cell_type": "code",
   "execution_count": 64,
   "metadata": {},
   "outputs": [
    {
     "name": "stdout",
     "output_type": "stream",
     "text": [
      "[ 1.    3.25  5.5   7.75 10.  ]\n",
      "[1.  2.8 4.6 6.4 8.2]\n",
      "[ 1.          1.18367347  1.36734694  1.55102041  1.73469388  1.91836735\n",
      "  2.10204082  2.28571429  2.46938776  2.65306122  2.83673469  3.02040816\n",
      "  3.20408163  3.3877551   3.57142857  3.75510204  3.93877551  4.12244898\n",
      "  4.30612245  4.48979592  4.67346939  4.85714286  5.04081633  5.2244898\n",
      "  5.40816327  5.59183673  5.7755102   5.95918367  6.14285714  6.32653061\n",
      "  6.51020408  6.69387755  6.87755102  7.06122449  7.24489796  7.42857143\n",
      "  7.6122449   7.79591837  7.97959184  8.16326531  8.34693878  8.53061224\n",
      "  8.71428571  8.89795918  9.08163265  9.26530612  9.44897959  9.63265306\n",
      "  9.81632653 10.        ]\n"
     ]
    }
   ],
   "source": [
    "a = np.linspace(1, 10, 5)\n",
    "print(a)\n",
    "a = np.linspace(1, 10, 5, endpoint=False)\n",
    "print(a)\n",
    "a = np.linspace(1, 10)\n",
    "print(a)"
   ]
  },
  {
   "cell_type": "code",
   "execution_count": 69,
   "metadata": {},
   "outputs": [
    {
     "name": "stdout",
     "output_type": "stream",
     "text": [
      "0.47368421052631576\n",
      "0.45\n"
     ]
    }
   ],
   "source": [
    "samples, spacing = np.linspace(1, 10, 20, retstep=True)\n",
    "print(spacing)\n",
    "samples, spacing = np.linspace(1, 10, 20, endpoint=False, retstep=True)\n",
    "print(spacing)"
   ]
  },
  {
   "cell_type": "markdown",
   "metadata": {},
   "source": [
    "針對一個純量數值(如123)，有別於是數列，則其維度為0。從向量空間的觀點而言，有一維空間(1-d space)，二維空間(2-d space)，及三維空間(3-d space)，一維空間的維度為1，而純數值的維度為0。numpy的`np.ndim()`用來獲得數列的維度，另numpy array的屬性**`ndim`**也可用於獲得數列的維度。"
   ]
  },
  {
   "cell_type": "code",
   "execution_count": 83,
   "metadata": {},
   "outputs": [
    {
     "name": "stdout",
     "output_type": "stream",
     "text": [
      "x =  42\n",
      "x的型別 =   <class 'numpy.ndarray'>\n",
      "x的維度 =  0\n"
     ]
    }
   ],
   "source": [
    "import numpy as np\n",
    "x = np.array(42)\n",
    "print(\"x = \", x)\n",
    "print(\"x的型別 =  \", type(x)) #注意此處x的型別並非為整數，而是numpy數列\n",
    "print(\"x的維度 = \", np.ndim(x))"
   ]
  },
  {
   "cell_type": "markdown",
   "metadata": {},
   "source": [
    "利用`np.linspace(1, 10)`建立一個數列，`np.ndim()`方法可用來檢查數列的維度。"
   ]
  },
  {
   "cell_type": "code",
   "execution_count": 74,
   "metadata": {},
   "outputs": [
    {
     "name": "stdout",
     "output_type": "stream",
     "text": [
      "a 的維度  1\n"
     ]
    }
   ],
   "source": [
    "a = np.linspace(1, 10)\n",
    "print(\"a 的維度 \", np.ndim(a))"
   ]
  },
  {
   "cell_type": "markdown",
   "metadata": {},
   "source": [
    "numpy提供`np.array()`方法用來將python List轉換為numpy array，如`np.array([1, 2, 3])`將`[1, 2, 3]`轉換為一維數列`[1 2 3]`，`np.array([[1, 0],[0,1]]`將轉換成一個二維陣列，\\begin{bmatrix} 1 & 0 \\\\ 0 & 1 \\end{bmatrix}"
   ]
  },
  {
   "cell_type": "code",
   "execution_count": 79,
   "metadata": {},
   "outputs": [
    {
     "name": "stdout",
     "output_type": "stream",
     "text": [
      "a =  [1 2 3]\n",
      "a的型別為 <class 'numpy.ndarray'>\n",
      "a的維度 =  1\n"
     ]
    }
   ],
   "source": [
    "# one dimensional array\n",
    "a = np.array([1, 2, 3])\n",
    "print(\"a = \", a)\n",
    "print(\"a的型別為\", type(a))\n",
    "print(\"a的維度 = \", np.ndim(a))"
   ]
  },
  {
   "cell_type": "code",
   "execution_count": 81,
   "metadata": {},
   "outputs": [
    {
     "name": "stdout",
     "output_type": "stream",
     "text": [
      "a =  [[1 2 3]\n",
      " [4 5 6]]\n",
      "a的型別為 <class 'numpy.ndarray'>\n",
      "a的維度 =  2\n"
     ]
    }
   ],
   "source": [
    "# two dimensional array\n",
    "a = np.array([[1, 2, 3], [4, 5, 6]])\n",
    "print(\"a = \", a)\n",
    "print(\"a的型別為\", type(a))\n",
    "print(\"a的維度 = \", np.ndim(a))"
   ]
  },
  {
   "cell_type": "code",
   "execution_count": 87,
   "metadata": {},
   "outputs": [
    {
     "name": "stdout",
     "output_type": "stream",
     "text": [
      "a =  [[[111 112 113]\n",
      "  [121 122 123]\n",
      "  [131 132 133]]\n",
      "\n",
      " [[211 212 213]\n",
      "  [221 222 223]\n",
      "  [231 232 233]]\n",
      "\n",
      " [[311 312 313]\n",
      "  [321 322 323]\n",
      "  [331 332 333]]]\n",
      "a的型別為 <class 'numpy.ndarray'>\n",
      "a的維度 =  3\n"
     ]
    }
   ],
   "source": [
    "# three dimensional array\n",
    "a = np.array([ [[111, 112, 113], [121, 122, 123], [131, 132, 133]],\n",
    "              [[211, 212, 213], [221, 222, 223], [231, 232, 233]],\n",
    "               [[311, 312, 313], [321, 322, 323], [331, 332, 333]] ])\n",
    "print(\"a = \", a)\n",
    "print(\"a的型別為\", type(a))\n",
    "print(\"a的維度 = \", np.ndim(a))"
   ]
  },
  {
   "cell_type": "markdown",
   "metadata": {},
   "source": [
    "![](pic/matrix3d.png)"
   ]
  },
  {
   "cell_type": "markdown",
   "metadata": {},
   "source": [
    "numpy提供**`np.shape()`**方法及**`.shape`**屬性用於獲得陣列的形狀資訊，如a.shape為(3, 3, 3)，表示a為一個3x3x3的立方矩陣。"
   ]
  },
  {
   "cell_type": "code",
   "execution_count": 90,
   "metadata": {},
   "outputs": [
    {
     "name": "stdout",
     "output_type": "stream",
     "text": [
      "(3, 3, 3)\n",
      "(3, 3, 3)\n"
     ]
    }
   ],
   "source": [
    "print(np.shape(a))\n",
    "print(a.shape)"
   ]
  },
  {
   "cell_type": "code",
   "execution_count": null,
   "metadata": {},
   "outputs": [],
   "source": []
  }
 ],
 "metadata": {
  "kernelspec": {
   "display_name": "Python 3",
   "language": "python",
   "name": "python3"
  },
  "language_info": {
   "codemirror_mode": {
    "name": "ipython",
    "version": 3
   },
   "file_extension": ".py",
   "mimetype": "text/x-python",
   "name": "python",
   "nbconvert_exporter": "python",
   "pygments_lexer": "ipython3",
   "version": "3.7.3"
  }
 },
 "nbformat": 4,
 "nbformat_minor": 2
}
