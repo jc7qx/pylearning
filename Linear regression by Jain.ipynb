{
 "cells": [
  {
   "cell_type": "code",
   "execution_count": 82,
   "metadata": {
    "collapsed": true
   },
   "outputs": [],
   "source": [
    "import numpy as np\n",
    "\n",
    "import pandas as pd\n",
    "\n",
    "from pandas import Series, DataFrame\n",
    "\n",
    "from sklearn.model_selection import train_test_split"
   ]
  },
  {
   "cell_type": "code",
   "execution_count": 83,
   "metadata": {
    "collapsed": true
   },
   "outputs": [],
   "source": [
    "train = pd.read_csv('data/big_Train.csv')\n",
    "\n",
    "test = pd.read_csv('data/big_Test.csv')"
   ]
  },
  {
   "cell_type": "code",
   "execution_count": 160,
   "metadata": {},
   "outputs": [
    {
     "data": {
      "text/html": [
       "<div>\n",
       "<style>\n",
       "    .dataframe thead tr:only-child th {\n",
       "        text-align: right;\n",
       "    }\n",
       "\n",
       "    .dataframe thead th {\n",
       "        text-align: left;\n",
       "    }\n",
       "\n",
       "    .dataframe tbody tr th {\n",
       "        vertical-align: top;\n",
       "    }\n",
       "</style>\n",
       "<table border=\"1\" class=\"dataframe\">\n",
       "  <thead>\n",
       "    <tr style=\"text-align: right;\">\n",
       "      <th></th>\n",
       "      <th>Item_Weight</th>\n",
       "      <th>Item_Visibility</th>\n",
       "      <th>Item_MRP</th>\n",
       "      <th>Outlet_Establishment_Year</th>\n",
       "      <th>Item_Outlet_Sales</th>\n",
       "    </tr>\n",
       "  </thead>\n",
       "  <tbody>\n",
       "    <tr>\n",
       "      <th>0</th>\n",
       "      <td>9.30</td>\n",
       "      <td>0.016047</td>\n",
       "      <td>249.8092</td>\n",
       "      <td>1999</td>\n",
       "      <td>3735.1380</td>\n",
       "    </tr>\n",
       "    <tr>\n",
       "      <th>1</th>\n",
       "      <td>5.92</td>\n",
       "      <td>0.019278</td>\n",
       "      <td>48.2692</td>\n",
       "      <td>2009</td>\n",
       "      <td>443.4228</td>\n",
       "    </tr>\n",
       "    <tr>\n",
       "      <th>2</th>\n",
       "      <td>17.50</td>\n",
       "      <td>0.016760</td>\n",
       "      <td>141.6180</td>\n",
       "      <td>1999</td>\n",
       "      <td>2097.2700</td>\n",
       "    </tr>\n",
       "    <tr>\n",
       "      <th>3</th>\n",
       "      <td>19.20</td>\n",
       "      <td>0.066132</td>\n",
       "      <td>182.0950</td>\n",
       "      <td>1998</td>\n",
       "      <td>732.3800</td>\n",
       "    </tr>\n",
       "    <tr>\n",
       "      <th>4</th>\n",
       "      <td>8.93</td>\n",
       "      <td>0.066132</td>\n",
       "      <td>53.8614</td>\n",
       "      <td>1987</td>\n",
       "      <td>994.7052</td>\n",
       "    </tr>\n",
       "  </tbody>\n",
       "</table>\n",
       "</div>"
      ],
      "text/plain": [
       "   Item_Weight  Item_Visibility  Item_MRP  Outlet_Establishment_Year  \\\n",
       "0         9.30         0.016047  249.8092                       1999   \n",
       "1         5.92         0.019278   48.2692                       2009   \n",
       "2        17.50         0.016760  141.6180                       1999   \n",
       "3        19.20         0.066132  182.0950                       1998   \n",
       "4         8.93         0.066132   53.8614                       1987   \n",
       "\n",
       "   Item_Outlet_Sales  \n",
       "0          3735.1380  \n",
       "1           443.4228  \n",
       "2          2097.2700  \n",
       "3           732.3800  \n",
       "4           994.7052  "
      ]
     },
     "execution_count": 160,
     "metadata": {},
     "output_type": "execute_result"
    }
   ],
   "source": [
    "train.head()"
   ]
  },
  {
   "cell_type": "code",
   "execution_count": 85,
   "metadata": {
    "collapsed": true
   },
   "outputs": [],
   "source": [
    "# importing linear regressionfrom sklearn\n",
    "\n",
    "from sklearn.linear_model import LinearRegression\n",
    "\n",
    "lreg = LinearRegression()"
   ]
  },
  {
   "cell_type": "code",
   "execution_count": 86,
   "metadata": {
    "collapsed": true
   },
   "outputs": [],
   "source": [
    "# splitting into training and cv for cross validation\n",
    "\n",
    "X = train.loc[:,['Outlet_Establishment_Year','Item_MRP']]\n",
    "\n",
    "x_train, x_cv, y_train, y_cv = train_test_split(X,train.Item_Outlet_Sales)"
   ]
  },
  {
   "cell_type": "code",
   "execution_count": 87,
   "metadata": {},
   "outputs": [
    {
     "data": {
      "text/plain": [
       "LinearRegression(copy_X=True, fit_intercept=True, n_jobs=1, normalize=False)"
      ]
     },
     "execution_count": 87,
     "metadata": {},
     "output_type": "execute_result"
    }
   ],
   "source": [
    "# training the model\n",
    "\n",
    "lreg.fit(x_train,y_train)"
   ]
  },
  {
   "cell_type": "code",
   "execution_count": 89,
   "metadata": {
    "collapsed": true
   },
   "outputs": [],
   "source": [
    "# predicting on cv\n",
    "\n",
    "pred = lreg.predict(x_cv)"
   ]
  },
  {
   "cell_type": "code",
   "execution_count": 90,
   "metadata": {
    "collapsed": true
   },
   "outputs": [],
   "source": [
    "# calculating mse\n",
    "\n",
    "mse = np.mean((pred - y_cv)**2)"
   ]
  },
  {
   "cell_type": "code",
   "execution_count": 91,
   "metadata": {},
   "outputs": [
    {
     "data": {
      "text/plain": [
       "1993449.1762073324"
      ]
     },
     "execution_count": 91,
     "metadata": {},
     "output_type": "execute_result"
    }
   ],
   "source": [
    "mse"
   ]
  },
  {
   "cell_type": "code",
   "execution_count": 92,
   "metadata": {
    "collapsed": true
   },
   "outputs": [],
   "source": [
    "# calculating coefficients\n",
    "\n",
    "coeff = DataFrame(x_train.columns)"
   ]
  },
  {
   "cell_type": "code",
   "execution_count": 93,
   "metadata": {
    "collapsed": true
   },
   "outputs": [],
   "source": [
    "coeff['Coefficient Estimate'] = Series(lreg.coef_)"
   ]
  },
  {
   "cell_type": "code",
   "execution_count": 94,
   "metadata": {},
   "outputs": [
    {
     "data": {
      "text/html": [
       "<div>\n",
       "<style>\n",
       "    .dataframe thead tr:only-child th {\n",
       "        text-align: right;\n",
       "    }\n",
       "\n",
       "    .dataframe thead th {\n",
       "        text-align: left;\n",
       "    }\n",
       "\n",
       "    .dataframe tbody tr th {\n",
       "        vertical-align: top;\n",
       "    }\n",
       "</style>\n",
       "<table border=\"1\" class=\"dataframe\">\n",
       "  <thead>\n",
       "    <tr style=\"text-align: right;\">\n",
       "      <th></th>\n",
       "      <th>0</th>\n",
       "      <th>Coefficient Estimate</th>\n",
       "    </tr>\n",
       "  </thead>\n",
       "  <tbody>\n",
       "    <tr>\n",
       "      <th>0</th>\n",
       "      <td>Outlet_Establishment_Year</td>\n",
       "      <td>-7.930234</td>\n",
       "    </tr>\n",
       "    <tr>\n",
       "      <th>1</th>\n",
       "      <td>Item_MRP</td>\n",
       "      <td>15.382548</td>\n",
       "    </tr>\n",
       "  </tbody>\n",
       "</table>\n",
       "</div>"
      ],
      "text/plain": [
       "                           0  Coefficient Estimate\n",
       "0  Outlet_Establishment_Year             -7.930234\n",
       "1                   Item_MRP             15.382548"
      ]
     },
     "execution_count": 94,
     "metadata": {},
     "output_type": "execute_result"
    }
   ],
   "source": [
    "coeff"
   ]
  },
  {
   "cell_type": "code",
   "execution_count": 95,
   "metadata": {
    "collapsed": true
   },
   "outputs": [],
   "source": [
    "# y = -10.663196x1+15.700588x2\n",
    "# x1 = Outlet_Establishment_Year\n",
    "# x2 = Item_MRP"
   ]
  },
  {
   "cell_type": "code",
   "execution_count": 96,
   "metadata": {},
   "outputs": [
    {
     "data": {
      "text/plain": [
       "0.33802572487823218"
      ]
     },
     "execution_count": 96,
     "metadata": {},
     "output_type": "execute_result"
    }
   ],
   "source": [
    "# R-square\n",
    "lreg.score(x_cv, y_cv)"
   ]
  },
  {
   "cell_type": "markdown",
   "metadata": {},
   "source": [
    "## Linear regression with more variables"
   ]
  },
  {
   "cell_type": "code",
   "execution_count": 117,
   "metadata": {
    "collapsed": true
   },
   "outputs": [],
   "source": [
    "X = train.loc[:,['Outlet_Establishment_Year','Item_MRP','Item_Weight']]"
   ]
  },
  {
   "cell_type": "code",
   "execution_count": 118,
   "metadata": {
    "collapsed": true
   },
   "outputs": [],
   "source": [
    "# splitting into training and cv for cross validation\n",
    "\n",
    "x_train, x_cv, y_train, y_cv = train_test_split(X,train.Item_Outlet_Sales)"
   ]
  },
  {
   "cell_type": "code",
   "execution_count": 119,
   "metadata": {},
   "outputs": [
    {
     "data": {
      "text/plain": [
       "LinearRegression(copy_X=True, fit_intercept=True, n_jobs=1, normalize=False)"
      ]
     },
     "execution_count": 119,
     "metadata": {},
     "output_type": "execute_result"
    }
   ],
   "source": [
    "# training the model\n",
    "\n",
    "lreg.fit(x_train,y_train)"
   ]
  },
  {
   "cell_type": "code",
   "execution_count": 120,
   "metadata": {
    "collapsed": true
   },
   "outputs": [],
   "source": [
    "X = train.loc[:,['Outlet_Establishment_Year','Item_MRP','Item_Weight']]\n",
    "# solve nan problems\n",
    "train['Item_Weight'].fillna((train['Item_Weight'].mean()), inplace=True)"
   ]
  },
  {
   "cell_type": "code",
   "execution_count": 121,
   "metadata": {
    "collapsed": true
   },
   "outputs": [],
   "source": [
    "# splitting into training and cv for cross validation\n",
    "x_train, x_cv, y_train, y_cv = train_test_split(X,train.Item_Outlet_Sales)"
   ]
  },
  {
   "cell_type": "code",
   "execution_count": 122,
   "metadata": {},
   "outputs": [
    {
     "data": {
      "text/plain": [
       "LinearRegression(copy_X=True, fit_intercept=True, n_jobs=1, normalize=False)"
      ]
     },
     "execution_count": 122,
     "metadata": {},
     "output_type": "execute_result"
    }
   ],
   "source": [
    "# training the model \n",
    "lreg.fit(x_train, y_train)"
   ]
  },
  {
   "cell_type": "code",
   "execution_count": 123,
   "metadata": {
    "collapsed": true
   },
   "outputs": [],
   "source": [
    "# predicting on cv \n",
    "pred = lreg.predict(x_cv)"
   ]
  },
  {
   "cell_type": "code",
   "execution_count": 124,
   "metadata": {
    "collapsed": true
   },
   "outputs": [],
   "source": [
    "# calculating mse\n",
    "mse = np.mean((pred - y_cv)**2)"
   ]
  },
  {
   "cell_type": "code",
   "execution_count": 125,
   "metadata": {},
   "outputs": [
    {
     "data": {
      "text/plain": [
       "1871778.3400751757"
      ]
     },
     "execution_count": 125,
     "metadata": {},
     "output_type": "execute_result"
    }
   ],
   "source": [
    "mse"
   ]
  },
  {
   "cell_type": "code",
   "execution_count": 126,
   "metadata": {
    "collapsed": true
   },
   "outputs": [],
   "source": [
    "# calculating coefficients\n",
    "\n",
    "coeff = DataFrame(x_train.columns)\n",
    "coeff['Coefficient Estimate'] = Series(lreg.coef_)"
   ]
  },
  {
   "cell_type": "code",
   "execution_count": 127,
   "metadata": {},
   "outputs": [
    {
     "name": "stdout",
     "output_type": "stream",
     "text": [
      "                           0  Coefficient Estimate\n",
      "0  Outlet_Establishment_Year             -9.050710\n",
      "1                   Item_MRP             15.421617\n",
      "2                Item_Weight              0.759244\n"
     ]
    }
   ],
   "source": [
    "print(coeff)"
   ]
  },
  {
   "cell_type": "code",
   "execution_count": 128,
   "metadata": {
    "collapsed": true
   },
   "outputs": [],
   "source": [
    "# y = -11.976692x1 + 15.511983x2 -4.013799x3"
   ]
  },
  {
   "cell_type": "code",
   "execution_count": 129,
   "metadata": {},
   "outputs": [
    {
     "data": {
      "text/plain": [
       "0.34408598523695644"
      ]
     },
     "execution_count": 129,
     "metadata": {},
     "output_type": "execute_result"
    }
   ],
   "source": [
    "# calculating r-square\n",
    "lreg.score(x_cv,y_cv)"
   ]
  },
  {
   "cell_type": "markdown",
   "metadata": {},
   "source": [
    "## Using all the features for prediction"
   ]
  },
  {
   "cell_type": "markdown",
   "metadata": {},
   "source": [
    "### Data pre-processing steps for regression model"
   ]
  },
  {
   "cell_type": "code",
   "execution_count": 156,
   "metadata": {
    "collapsed": true
   },
   "outputs": [],
   "source": [
    "train['Item_Visibility'] = train['Item_Visibility'].replace(0,np.mean(train['Item_Visibility']))"
   ]
  },
  {
   "cell_type": "code",
   "execution_count": 157,
   "metadata": {
    "collapsed": true
   },
   "outputs": [],
   "source": [
    "train['Outlet_Establishment_Year'] = 2013 - train['Outlet_Establishment_Year']"
   ]
  },
  {
   "cell_type": "code",
   "execution_count": 137,
   "metadata": {
    "collapsed": true
   },
   "outputs": [],
   "source": [
    "train['Outlet_Size'].fillna('Small',inplace=True)"
   ]
  },
  {
   "cell_type": "code",
   "execution_count": 140,
   "metadata": {
    "collapsed": true
   },
   "outputs": [],
   "source": [
    "mylist = list(train.select_dtypes(include=['object']).columns)"
   ]
  },
  {
   "cell_type": "code",
   "execution_count": 142,
   "metadata": {
    "collapsed": true
   },
   "outputs": [],
   "source": [
    "dummies = pd.get_dummies(train[mylist], prefix= mylist)"
   ]
  },
  {
   "cell_type": "code",
   "execution_count": 144,
   "metadata": {
    "collapsed": true
   },
   "outputs": [],
   "source": [
    "train.drop(mylist, axis=1, inplace = True)"
   ]
  },
  {
   "cell_type": "code",
   "execution_count": 145,
   "metadata": {
    "collapsed": true
   },
   "outputs": [],
   "source": [
    "X = pd.concat([train,dummies], axis =1 )"
   ]
  },
  {
   "cell_type": "code",
   "execution_count": 147,
   "metadata": {
    "collapsed": true
   },
   "outputs": [],
   "source": [
    "import matplotlib.pyplot as plt\n",
    "%matplotlib inline\n",
    "lreg = LinearRegression()"
   ]
  },
  {
   "cell_type": "code",
   "execution_count": 149,
   "metadata": {
    "collapsed": true
   },
   "outputs": [],
   "source": [
    "X = train.drop('Item_Outlet_Sales',1)"
   ]
  },
  {
   "cell_type": "code",
   "execution_count": 150,
   "metadata": {
    "collapsed": true
   },
   "outputs": [],
   "source": [
    "x_train, x_cv, y_train, y_cv = train_test_split(X,train.Item_Outlet_Sales, test_size =0.3)"
   ]
  },
  {
   "cell_type": "code",
   "execution_count": 151,
   "metadata": {},
   "outputs": [
    {
     "data": {
      "text/plain": [
       "LinearRegression(copy_X=True, fit_intercept=True, n_jobs=1, normalize=False)"
      ]
     },
     "execution_count": 151,
     "metadata": {},
     "output_type": "execute_result"
    }
   ],
   "source": [
    "lreg.fit(x_train,y_train)"
   ]
  },
  {
   "cell_type": "code",
   "execution_count": 152,
   "metadata": {
    "collapsed": true
   },
   "outputs": [],
   "source": [
    "pred_cv = lreg.predict(x_cv)"
   ]
  },
  {
   "cell_type": "code",
   "execution_count": 153,
   "metadata": {
    "collapsed": true
   },
   "outputs": [],
   "source": [
    "mse = np.mean((pred_cv - y_cv)**2)"
   ]
  },
  {
   "cell_type": "code",
   "execution_count": 154,
   "metadata": {},
   "outputs": [
    {
     "data": {
      "text/plain": [
       "1974206.0527863773"
      ]
     },
     "execution_count": 154,
     "metadata": {},
     "output_type": "execute_result"
    }
   ],
   "source": [
    "mse"
   ]
  },
  {
   "cell_type": "code",
   "execution_count": 155,
   "metadata": {},
   "outputs": [
    {
     "data": {
      "text/plain": [
       "0.33035977335984124"
      ]
     },
     "execution_count": 155,
     "metadata": {},
     "output_type": "execute_result"
    }
   ],
   "source": [
    "lreg.score(x_cv,y_cv)"
   ]
  },
  {
   "cell_type": "markdown",
   "metadata": {},
   "source": [
    "## Interpretation of Regression Plots"
   ]
  },
  {
   "cell_type": "code",
   "execution_count": 161,
   "metadata": {},
   "outputs": [
    {
     "data": {
      "text/plain": [
       "<matplotlib.text.Text at 0x1230aeeb8>"
      ]
     },
     "execution_count": 161,
     "metadata": {},
     "output_type": "execute_result"
    },
    {
     "data": {
      "image/png": "[encoded data removed]",
      "text/plain": [
       "<matplotlib.figure.Figure at 0x1236729b0>"
      ]
     },
     "metadata": {},
     "output_type": "display_data"
    }
   ],
   "source": [
    "#residual plot\n",
    "\n",
    "x_plot = plt.scatter(pred_cv, (pred_cv - y_cv), c='b')\n",
    "\n",
    "plt.hlines(y=0, xmin= -1000, xmax=5000)\n",
    "\n",
    "plt.title('Residual plot')"
   ]
  },
  {
   "cell_type": "markdown",
   "metadata": {},
   "source": [
    "The presence of non-constant variance in the error terms results in heteroskedasticity. "
   ]
  },
  {
   "cell_type": "markdown",
   "metadata": {},
   "source": [
    "## Regularization\n",
    "In regularization, what we do is normally we keep the same number of features, but reduce the magnitude of the coefficients j. "
   ]
  },
  {
   "cell_type": "markdown",
   "metadata": {},
   "source": [
    "### the coefficients of feature"
   ]
  },
  {
   "cell_type": "code",
   "execution_count": 162,
   "metadata": {},
   "outputs": [
    {
     "data": {
      "text/plain": [
       "<matplotlib.axes._subplots.AxesSubplot at 0x122f55128>"
      ]
     },
     "execution_count": 162,
     "metadata": {},
     "output_type": "execute_result"
    },
    {
     "data": {
      "image/png": "[encoded data removed]",
      "text/plain": [
       "<matplotlib.figure.Figure at 0x123075dd8>"
      ]
     },
     "metadata": {},
     "output_type": "display_data"
    }
   ],
   "source": [
    "#checking the magnitude of coefficients\n",
    "\n",
    "predictors = x_train.columns\n",
    "\n",
    "coef = Series(lreg.coef_,predictors).sort_values()\n",
    "\n",
    "coef.plot(kind='bar', title='Modal Coefficients')"
   ]
  },
  {
   "cell_type": "code",
   "execution_count": 1,
   "metadata": {
    "collapsed": true
   },
   "outputs": [],
   "source": [
    "import numpy as np\n",
    "import pandas as pd\n",
    "import random\n",
    "import matplotlib.pyplot as plt\n",
    "%matplotlib inline"
   ]
  },
  {
   "cell_type": "code",
   "execution_count": 2,
   "metadata": {
    "collapsed": true
   },
   "outputs": [],
   "source": [
    "from matplotlib.pylab import rcParams\n",
    "rcParams['figure.figsize'] = 12, 10"
   ]
  },
  {
   "cell_type": "code",
   "execution_count": 3,
   "metadata": {},
   "outputs": [
    {
     "data": {
      "text/plain": [
       "[<matplotlib.lines.Line2D at 0x10559ec18>]"
      ]
     },
     "execution_count": 3,
     "metadata": {},
     "output_type": "execute_result"
    },
    {
     "data": {
      "image/png": "[encoded data removed]",
      "text/plain": [
       "<matplotlib.figure.Figure at 0x10ffc1a90>"
      ]
     },
     "metadata": {},
     "output_type": "display_data"
    }
   ],
   "source": [
    "x = np.array([i*np.pi/180 for i in range(60,300,4)])\n",
    "np.random.seed(10)\n",
    "y = np.sin(x) + np.random.normal(0,0.15,len(x))\n",
    "data = pd.DataFrame(np.column_stack([x,y]),columns=['x','y'])\n",
    "plt.plot(data['x'],data['y'],'.')"
   ]
  },
  {
   "cell_type": "code",
   "execution_count": 5,
   "metadata": {},
   "outputs": [
    {
     "data": {
      "text/html": [
       "<div>\n",
       "<style>\n",
       "    .dataframe thead tr:only-child th {\n",
       "        text-align: right;\n",
       "    }\n",
       "\n",
       "    .dataframe thead th {\n",
       "        text-align: left;\n",
       "    }\n",
       "\n",
       "    .dataframe tbody tr th {\n",
       "        vertical-align: top;\n",
       "    }\n",
       "</style>\n",
       "<table border=\"1\" class=\"dataframe\">\n",
       "  <thead>\n",
       "    <tr style=\"text-align: right;\">\n",
       "      <th></th>\n",
       "      <th>x</th>\n",
       "      <th>y</th>\n",
       "      <th>x_2</th>\n",
       "      <th>x_3</th>\n",
       "      <th>x_4</th>\n",
       "      <th>x_5</th>\n",
       "      <th>x_6</th>\n",
       "      <th>x_7</th>\n",
       "      <th>x_8</th>\n",
       "      <th>x_9</th>\n",
       "      <th>x_10</th>\n",
       "      <th>x_11</th>\n",
       "      <th>x_12</th>\n",
       "      <th>x_13</th>\n",
       "      <th>x_14</th>\n",
       "      <th>x_15</th>\n",
       "    </tr>\n",
       "  </thead>\n",
       "  <tbody>\n",
       "    <tr>\n",
       "      <th>0</th>\n",
       "      <td>1.047198</td>\n",
       "      <td>1.065763</td>\n",
       "      <td>1.096623</td>\n",
       "      <td>1.148381</td>\n",
       "      <td>1.202581</td>\n",
       "      <td>1.259340</td>\n",
       "      <td>1.318778</td>\n",
       "      <td>1.381021</td>\n",
       "      <td>1.446202</td>\n",
       "      <td>1.514459</td>\n",
       "      <td>1.585938</td>\n",
       "      <td>1.660790</td>\n",
       "      <td>1.739176</td>\n",
       "      <td>1.821260</td>\n",
       "      <td>1.907219</td>\n",
       "      <td>1.997235</td>\n",
       "    </tr>\n",
       "    <tr>\n",
       "      <th>1</th>\n",
       "      <td>1.117011</td>\n",
       "      <td>1.006086</td>\n",
       "      <td>1.247713</td>\n",
       "      <td>1.393709</td>\n",
       "      <td>1.556788</td>\n",
       "      <td>1.738948</td>\n",
       "      <td>1.942424</td>\n",
       "      <td>2.169709</td>\n",
       "      <td>2.423588</td>\n",
       "      <td>2.707173</td>\n",
       "      <td>3.023942</td>\n",
       "      <td>3.377775</td>\n",
       "      <td>3.773011</td>\n",
       "      <td>4.214494</td>\n",
       "      <td>4.707635</td>\n",
       "      <td>5.258479</td>\n",
       "    </tr>\n",
       "    <tr>\n",
       "      <th>2</th>\n",
       "      <td>1.186824</td>\n",
       "      <td>0.695374</td>\n",
       "      <td>1.408551</td>\n",
       "      <td>1.671702</td>\n",
       "      <td>1.984016</td>\n",
       "      <td>2.354677</td>\n",
       "      <td>2.794587</td>\n",
       "      <td>3.316683</td>\n",
       "      <td>3.936319</td>\n",
       "      <td>4.671717</td>\n",
       "      <td>5.544505</td>\n",
       "      <td>6.580351</td>\n",
       "      <td>7.809718</td>\n",
       "      <td>9.268760</td>\n",
       "      <td>11.000386</td>\n",
       "      <td>13.055521</td>\n",
       "    </tr>\n",
       "    <tr>\n",
       "      <th>3</th>\n",
       "      <td>1.256637</td>\n",
       "      <td>0.949799</td>\n",
       "      <td>1.579137</td>\n",
       "      <td>1.984402</td>\n",
       "      <td>2.493673</td>\n",
       "      <td>3.133642</td>\n",
       "      <td>3.937850</td>\n",
       "      <td>4.948448</td>\n",
       "      <td>6.218404</td>\n",
       "      <td>7.814277</td>\n",
       "      <td>9.819710</td>\n",
       "      <td>12.339811</td>\n",
       "      <td>15.506664</td>\n",
       "      <td>19.486248</td>\n",
       "      <td>24.487142</td>\n",
       "      <td>30.771450</td>\n",
       "    </tr>\n",
       "    <tr>\n",
       "      <th>4</th>\n",
       "      <td>1.326450</td>\n",
       "      <td>1.063496</td>\n",
       "      <td>1.759470</td>\n",
       "      <td>2.333850</td>\n",
       "      <td>3.095735</td>\n",
       "      <td>4.106339</td>\n",
       "      <td>5.446854</td>\n",
       "      <td>7.224981</td>\n",
       "      <td>9.583578</td>\n",
       "      <td>12.712139</td>\n",
       "      <td>16.862020</td>\n",
       "      <td>22.366630</td>\n",
       "      <td>29.668222</td>\n",
       "      <td>39.353420</td>\n",
       "      <td>52.200353</td>\n",
       "      <td>69.241170</td>\n",
       "    </tr>\n",
       "  </tbody>\n",
       "</table>\n",
       "</div>"
      ],
      "text/plain": [
       "          x         y       x_2       x_3       x_4       x_5       x_6  \\\n",
       "0  1.047198  1.065763  1.096623  1.148381  1.202581  1.259340  1.318778   \n",
       "1  1.117011  1.006086  1.247713  1.393709  1.556788  1.738948  1.942424   \n",
       "2  1.186824  0.695374  1.408551  1.671702  1.984016  2.354677  2.794587   \n",
       "3  1.256637  0.949799  1.579137  1.984402  2.493673  3.133642  3.937850   \n",
       "4  1.326450  1.063496  1.759470  2.333850  3.095735  4.106339  5.446854   \n",
       "\n",
       "        x_7       x_8        x_9       x_10       x_11       x_12       x_13  \\\n",
       "0  1.381021  1.446202   1.514459   1.585938   1.660790   1.739176   1.821260   \n",
       "1  2.169709  2.423588   2.707173   3.023942   3.377775   3.773011   4.214494   \n",
       "2  3.316683  3.936319   4.671717   5.544505   6.580351   7.809718   9.268760   \n",
       "3  4.948448  6.218404   7.814277   9.819710  12.339811  15.506664  19.486248   \n",
       "4  7.224981  9.583578  12.712139  16.862020  22.366630  29.668222  39.353420   \n",
       "\n",
       "        x_14       x_15  \n",
       "0   1.907219   1.997235  \n",
       "1   4.707635   5.258479  \n",
       "2  11.000386  13.055521  \n",
       "3  24.487142  30.771450  \n",
       "4  52.200353  69.241170  "
      ]
     },
     "execution_count": 5,
     "metadata": {},
     "output_type": "execute_result"
    }
   ],
   "source": [
    "for i in range(2,16):  #power of 1 is already there\n",
    "    colname = 'x_%d'%i      #new var will be x_power\n",
    "    data[colname] = data['x']**i\n",
    "data.head()"
   ]
  },
  {
   "cell_type": "code",
   "execution_count": 6,
   "metadata": {
    "collapsed": true
   },
   "outputs": [],
   "source": [
    "#Import Linear Regression model from scikit-learn.\n",
    "from sklearn.linear_model import LinearRegression\n",
    "def linear_regression(data, power, models_to_plot):\n",
    "    #initialize predictors:\n",
    "    predictors=['x']\n",
    "    if power>=2:\n",
    "        predictors.extend(['x_%d'%i for i in range(2,power+1)])\n",
    "    \n",
    "    #Fit the model\n",
    "    linreg = LinearRegression(normalize=True)\n",
    "    linreg.fit(data[predictors],data['y'])\n",
    "    y_pred = linreg.predict(data[predictors])\n",
    "    \n",
    "    #Check if a plot is to be made for the entered power\n",
    "    if power in models_to_plot:\n",
    "        plt.subplot(models_to_plot[power])\n",
    "        plt.tight_layout()\n",
    "        plt.plot(data['x'],y_pred)\n",
    "        plt.plot(data['x'],data['y'],'.')\n",
    "        plt.title('Plot for power: %d'%power)\n",
    "    \n",
    "    #Return the result in pre-defined format\n",
    "    rss = sum((y_pred-data['y'])**2)\n",
    "    ret = [rss]\n",
    "    ret.extend([linreg.intercept_])\n",
    "    ret.extend(linreg.coef_)\n",
    "    return ret"
   ]
  },
  {
   "cell_type": "code",
   "execution_count": 7,
   "metadata": {
    "collapsed": true
   },
   "outputs": [],
   "source": [
    "#Initialize a dataframe to store the results:\n",
    "col = ['rss','intercept'] + ['coef_x_%d'%i for i in range(1,16)]\n",
    "ind = ['model_pow_%d'%i for i in range(1,16)]\n",
    "coef_matrix_simple = pd.DataFrame(index=ind, columns=col)\n"
   ]
  },
  {
   "cell_type": "code",
   "execution_count": 8,
   "metadata": {
    "collapsed": true
   },
   "outputs": [],
   "source": [
    "#Define the powers for which a plot is required:\n",
    "models_to_plot = {1:231,3:232,6:233,9:234,12:235,15:236}"
   ]
  },
  {
   "cell_type": "code",
   "execution_count": 9,
   "metadata": {},
   "outputs": [
    {
     "data": {
      "image/png": "[encoded data removed]",
      "text/plain": [
       "<matplotlib.figure.Figure at 0x10c748f28>"
      ]
     },
     "metadata": {},
     "output_type": "display_data"
    }
   ],
   "source": [
    "#Iterate through all powers and assimilate results\n",
    "for i in range(1,16):\n",
    "    coef_matrix_simple.iloc[i-1,0:i+2] = linear_regression(data, power=i, models_to_plot=models_to_plot)"
   ]
  },
  {
   "cell_type": "code",
   "execution_count": 10,
   "metadata": {},
   "outputs": [
    {
     "data": {
      "text/html": [
       "<div>\n",
       "<style>\n",
       "    .dataframe thead tr:only-child th {\n",
       "        text-align: right;\n",
       "    }\n",
       "\n",
       "    .dataframe thead th {\n",
       "        text-align: left;\n",
       "    }\n",
       "\n",
       "    .dataframe tbody tr th {\n",
       "        vertical-align: top;\n",
       "    }\n",
       "</style>\n",
       "<table border=\"1\" class=\"dataframe\">\n",
       "  <thead>\n",
       "    <tr style=\"text-align: right;\">\n",
       "      <th></th>\n",
       "      <th>rss</th>\n",
       "      <th>intercept</th>\n",
       "      <th>coef_x_1</th>\n",
       "      <th>coef_x_2</th>\n",
       "      <th>coef_x_3</th>\n",
       "      <th>coef_x_4</th>\n",
       "      <th>coef_x_5</th>\n",
       "      <th>coef_x_6</th>\n",
       "      <th>coef_x_7</th>\n",
       "      <th>coef_x_8</th>\n",
       "      <th>coef_x_9</th>\n",
       "      <th>coef_x_10</th>\n",
       "      <th>coef_x_11</th>\n",
       "      <th>coef_x_12</th>\n",
       "      <th>coef_x_13</th>\n",
       "      <th>coef_x_14</th>\n",
       "      <th>coef_x_15</th>\n",
       "    </tr>\n",
       "  </thead>\n",
       "  <tbody>\n",
       "    <tr>\n",
       "      <th>model_pow_1</th>\n",
       "      <td>3.3</td>\n",
       "      <td>2</td>\n",
       "      <td>-0.62</td>\n",
       "      <td>NaN</td>\n",
       "      <td>NaN</td>\n",
       "      <td>NaN</td>\n",
       "      <td>NaN</td>\n",
       "      <td>NaN</td>\n",
       "      <td>NaN</td>\n",
       "      <td>NaN</td>\n",
       "      <td>NaN</td>\n",
       "      <td>NaN</td>\n",
       "      <td>NaN</td>\n",
       "      <td>NaN</td>\n",
       "      <td>NaN</td>\n",
       "      <td>NaN</td>\n",
       "      <td>NaN</td>\n",
       "    </tr>\n",
       "    <tr>\n",
       "      <th>model_pow_2</th>\n",
       "      <td>3.3</td>\n",
       "      <td>1.9</td>\n",
       "      <td>-0.58</td>\n",
       "      <td>-0.006</td>\n",
       "      <td>NaN</td>\n",
       "      <td>NaN</td>\n",
       "      <td>NaN</td>\n",
       "      <td>NaN</td>\n",
       "      <td>NaN</td>\n",
       "      <td>NaN</td>\n",
       "      <td>NaN</td>\n",
       "      <td>NaN</td>\n",
       "      <td>NaN</td>\n",
       "      <td>NaN</td>\n",
       "      <td>NaN</td>\n",
       "      <td>NaN</td>\n",
       "      <td>NaN</td>\n",
       "    </tr>\n",
       "    <tr>\n",
       "      <th>model_pow_3</th>\n",
       "      <td>1.1</td>\n",
       "      <td>-1.1</td>\n",
       "      <td>3</td>\n",
       "      <td>-1.3</td>\n",
       "      <td>0.14</td>\n",
       "      <td>NaN</td>\n",
       "      <td>NaN</td>\n",
       "      <td>NaN</td>\n",
       "      <td>NaN</td>\n",
       "      <td>NaN</td>\n",
       "      <td>NaN</td>\n",
       "      <td>NaN</td>\n",
       "      <td>NaN</td>\n",
       "      <td>NaN</td>\n",
       "      <td>NaN</td>\n",
       "      <td>NaN</td>\n",
       "      <td>NaN</td>\n",
       "    </tr>\n",
       "    <tr>\n",
       "      <th>model_pow_4</th>\n",
       "      <td>1.1</td>\n",
       "      <td>-0.27</td>\n",
       "      <td>1.7</td>\n",
       "      <td>-0.53</td>\n",
       "      <td>-0.036</td>\n",
       "      <td>0.014</td>\n",
       "      <td>NaN</td>\n",
       "      <td>NaN</td>\n",
       "      <td>NaN</td>\n",
       "      <td>NaN</td>\n",
       "      <td>NaN</td>\n",
       "      <td>NaN</td>\n",
       "      <td>NaN</td>\n",
       "      <td>NaN</td>\n",
       "      <td>NaN</td>\n",
       "      <td>NaN</td>\n",
       "      <td>NaN</td>\n",
       "    </tr>\n",
       "    <tr>\n",
       "      <th>model_pow_5</th>\n",
       "      <td>1</td>\n",
       "      <td>3</td>\n",
       "      <td>-5.1</td>\n",
       "      <td>4.7</td>\n",
       "      <td>-1.9</td>\n",
       "      <td>0.33</td>\n",
       "      <td>-0.021</td>\n",
       "      <td>NaN</td>\n",
       "      <td>NaN</td>\n",
       "      <td>NaN</td>\n",
       "      <td>NaN</td>\n",
       "      <td>NaN</td>\n",
       "      <td>NaN</td>\n",
       "      <td>NaN</td>\n",
       "      <td>NaN</td>\n",
       "      <td>NaN</td>\n",
       "      <td>NaN</td>\n",
       "    </tr>\n",
       "    <tr>\n",
       "      <th>model_pow_6</th>\n",
       "      <td>0.99</td>\n",
       "      <td>-2.8</td>\n",
       "      <td>9.5</td>\n",
       "      <td>-9.7</td>\n",
       "      <td>5.2</td>\n",
       "      <td>-1.6</td>\n",
       "      <td>0.23</td>\n",
       "      <td>-0.014</td>\n",
       "      <td>NaN</td>\n",
       "      <td>NaN</td>\n",
       "      <td>NaN</td>\n",
       "      <td>NaN</td>\n",
       "      <td>NaN</td>\n",
       "      <td>NaN</td>\n",
       "      <td>NaN</td>\n",
       "      <td>NaN</td>\n",
       "      <td>NaN</td>\n",
       "    </tr>\n",
       "    <tr>\n",
       "      <th>model_pow_7</th>\n",
       "      <td>0.93</td>\n",
       "      <td>19</td>\n",
       "      <td>-56</td>\n",
       "      <td>69</td>\n",
       "      <td>-45</td>\n",
       "      <td>17</td>\n",
       "      <td>-3.5</td>\n",
       "      <td>0.4</td>\n",
       "      <td>-0.019</td>\n",
       "      <td>NaN</td>\n",
       "      <td>NaN</td>\n",
       "      <td>NaN</td>\n",
       "      <td>NaN</td>\n",
       "      <td>NaN</td>\n",
       "      <td>NaN</td>\n",
       "      <td>NaN</td>\n",
       "      <td>NaN</td>\n",
       "    </tr>\n",
       "    <tr>\n",
       "      <th>model_pow_8</th>\n",
       "      <td>0.92</td>\n",
       "      <td>43</td>\n",
       "      <td>-1.4e+02</td>\n",
       "      <td>1.8e+02</td>\n",
       "      <td>-1.3e+02</td>\n",
       "      <td>58</td>\n",
       "      <td>-15</td>\n",
       "      <td>2.4</td>\n",
       "      <td>-0.21</td>\n",
       "      <td>0.0077</td>\n",
       "      <td>NaN</td>\n",
       "      <td>NaN</td>\n",
       "      <td>NaN</td>\n",
       "      <td>NaN</td>\n",
       "      <td>NaN</td>\n",
       "      <td>NaN</td>\n",
       "      <td>NaN</td>\n",
       "    </tr>\n",
       "    <tr>\n",
       "      <th>model_pow_9</th>\n",
       "      <td>0.87</td>\n",
       "      <td>1.7e+02</td>\n",
       "      <td>-6.1e+02</td>\n",
       "      <td>9.6e+02</td>\n",
       "      <td>-8.5e+02</td>\n",
       "      <td>4.6e+02</td>\n",
       "      <td>-1.6e+02</td>\n",
       "      <td>37</td>\n",
       "      <td>-5.2</td>\n",
       "      <td>0.42</td>\n",
       "      <td>-0.015</td>\n",
       "      <td>NaN</td>\n",
       "      <td>NaN</td>\n",
       "      <td>NaN</td>\n",
       "      <td>NaN</td>\n",
       "      <td>NaN</td>\n",
       "      <td>NaN</td>\n",
       "    </tr>\n",
       "    <tr>\n",
       "      <th>model_pow_10</th>\n",
       "      <td>0.87</td>\n",
       "      <td>1.4e+02</td>\n",
       "      <td>-4.9e+02</td>\n",
       "      <td>7.3e+02</td>\n",
       "      <td>-6e+02</td>\n",
       "      <td>2.9e+02</td>\n",
       "      <td>-87</td>\n",
       "      <td>15</td>\n",
       "      <td>-0.81</td>\n",
       "      <td>-0.14</td>\n",
       "      <td>0.026</td>\n",
       "      <td>-0.0013</td>\n",
       "      <td>NaN</td>\n",
       "      <td>NaN</td>\n",
       "      <td>NaN</td>\n",
       "      <td>NaN</td>\n",
       "      <td>NaN</td>\n",
       "    </tr>\n",
       "    <tr>\n",
       "      <th>model_pow_11</th>\n",
       "      <td>0.87</td>\n",
       "      <td>-75</td>\n",
       "      <td>5.1e+02</td>\n",
       "      <td>-1.3e+03</td>\n",
       "      <td>1.9e+03</td>\n",
       "      <td>-1.6e+03</td>\n",
       "      <td>9.1e+02</td>\n",
       "      <td>-3.5e+02</td>\n",
       "      <td>91</td>\n",
       "      <td>-16</td>\n",
       "      <td>1.8</td>\n",
       "      <td>-0.12</td>\n",
       "      <td>0.0034</td>\n",
       "      <td>NaN</td>\n",
       "      <td>NaN</td>\n",
       "      <td>NaN</td>\n",
       "      <td>NaN</td>\n",
       "    </tr>\n",
       "    <tr>\n",
       "      <th>model_pow_12</th>\n",
       "      <td>0.87</td>\n",
       "      <td>-3.4e+02</td>\n",
       "      <td>1.9e+03</td>\n",
       "      <td>-4.4e+03</td>\n",
       "      <td>6e+03</td>\n",
       "      <td>-5.2e+03</td>\n",
       "      <td>3.1e+03</td>\n",
       "      <td>-1.3e+03</td>\n",
       "      <td>3.8e+02</td>\n",
       "      <td>-80</td>\n",
       "      <td>12</td>\n",
       "      <td>-1.1</td>\n",
       "      <td>0.062</td>\n",
       "      <td>-0.0016</td>\n",
       "      <td>NaN</td>\n",
       "      <td>NaN</td>\n",
       "      <td>NaN</td>\n",
       "    </tr>\n",
       "    <tr>\n",
       "      <th>model_pow_13</th>\n",
       "      <td>0.86</td>\n",
       "      <td>3.2e+03</td>\n",
       "      <td>-1.8e+04</td>\n",
       "      <td>4.5e+04</td>\n",
       "      <td>-6.7e+04</td>\n",
       "      <td>6.6e+04</td>\n",
       "      <td>-4.6e+04</td>\n",
       "      <td>2.3e+04</td>\n",
       "      <td>-8.5e+03</td>\n",
       "      <td>2.3e+03</td>\n",
       "      <td>-4.5e+02</td>\n",
       "      <td>62</td>\n",
       "      <td>-5.7</td>\n",
       "      <td>0.31</td>\n",
       "      <td>-0.0078</td>\n",
       "      <td>NaN</td>\n",
       "      <td>NaN</td>\n",
       "    </tr>\n",
       "    <tr>\n",
       "      <th>model_pow_14</th>\n",
       "      <td>0.79</td>\n",
       "      <td>2.4e+04</td>\n",
       "      <td>-1.4e+05</td>\n",
       "      <td>3.8e+05</td>\n",
       "      <td>-6.1e+05</td>\n",
       "      <td>6.6e+05</td>\n",
       "      <td>-5e+05</td>\n",
       "      <td>2.8e+05</td>\n",
       "      <td>-1.2e+05</td>\n",
       "      <td>3.7e+04</td>\n",
       "      <td>-8.5e+03</td>\n",
       "      <td>1.5e+03</td>\n",
       "      <td>-1.8e+02</td>\n",
       "      <td>15</td>\n",
       "      <td>-0.73</td>\n",
       "      <td>0.017</td>\n",
       "      <td>NaN</td>\n",
       "    </tr>\n",
       "    <tr>\n",
       "      <th>model_pow_15</th>\n",
       "      <td>0.7</td>\n",
       "      <td>-3.6e+04</td>\n",
       "      <td>2.4e+05</td>\n",
       "      <td>-7.5e+05</td>\n",
       "      <td>1.4e+06</td>\n",
       "      <td>-1.7e+06</td>\n",
       "      <td>1.5e+06</td>\n",
       "      <td>-1e+06</td>\n",
       "      <td>5e+05</td>\n",
       "      <td>-1.9e+05</td>\n",
       "      <td>5.4e+04</td>\n",
       "      <td>-1.2e+04</td>\n",
       "      <td>1.9e+03</td>\n",
       "      <td>-2.2e+02</td>\n",
       "      <td>17</td>\n",
       "      <td>-0.81</td>\n",
       "      <td>0.018</td>\n",
       "    </tr>\n",
       "  </tbody>\n",
       "</table>\n",
       "</div>"
      ],
      "text/plain": [
       "              rss intercept coef_x_1 coef_x_2 coef_x_3 coef_x_4 coef_x_5  \\\n",
       "model_pow_1   3.3         2    -0.62      NaN      NaN      NaN      NaN   \n",
       "model_pow_2   3.3       1.9    -0.58   -0.006      NaN      NaN      NaN   \n",
       "model_pow_3   1.1      -1.1        3     -1.3     0.14      NaN      NaN   \n",
       "model_pow_4   1.1     -0.27      1.7    -0.53   -0.036    0.014      NaN   \n",
       "model_pow_5     1         3     -5.1      4.7     -1.9     0.33   -0.021   \n",
       "model_pow_6  0.99      -2.8      9.5     -9.7      5.2     -1.6     0.23   \n",
       "model_pow_7  0.93        19      -56       69      -45       17     -3.5   \n",
       "model_pow_8  0.92        43 -1.4e+02  1.8e+02 -1.3e+02       58      -15   \n",
       "model_pow_9  0.87   1.7e+02 -6.1e+02  9.6e+02 -8.5e+02  4.6e+02 -1.6e+02   \n",
       "model_pow_10 0.87   1.4e+02 -4.9e+02  7.3e+02   -6e+02  2.9e+02      -87   \n",
       "model_pow_11 0.87       -75  5.1e+02 -1.3e+03  1.9e+03 -1.6e+03  9.1e+02   \n",
       "model_pow_12 0.87  -3.4e+02  1.9e+03 -4.4e+03    6e+03 -5.2e+03  3.1e+03   \n",
       "model_pow_13 0.86   3.2e+03 -1.8e+04  4.5e+04 -6.7e+04  6.6e+04 -4.6e+04   \n",
       "model_pow_14 0.79   2.4e+04 -1.4e+05  3.8e+05 -6.1e+05  6.6e+05   -5e+05   \n",
       "model_pow_15  0.7  -3.6e+04  2.4e+05 -7.5e+05  1.4e+06 -1.7e+06  1.5e+06   \n",
       "\n",
       "             coef_x_6 coef_x_7 coef_x_8 coef_x_9 coef_x_10 coef_x_11  \\\n",
       "model_pow_1       NaN      NaN      NaN      NaN       NaN       NaN   \n",
       "model_pow_2       NaN      NaN      NaN      NaN       NaN       NaN   \n",
       "model_pow_3       NaN      NaN      NaN      NaN       NaN       NaN   \n",
       "model_pow_4       NaN      NaN      NaN      NaN       NaN       NaN   \n",
       "model_pow_5       NaN      NaN      NaN      NaN       NaN       NaN   \n",
       "model_pow_6    -0.014      NaN      NaN      NaN       NaN       NaN   \n",
       "model_pow_7       0.4   -0.019      NaN      NaN       NaN       NaN   \n",
       "model_pow_8       2.4    -0.21   0.0077      NaN       NaN       NaN   \n",
       "model_pow_9        37     -5.2     0.42   -0.015       NaN       NaN   \n",
       "model_pow_10       15    -0.81    -0.14    0.026   -0.0013       NaN   \n",
       "model_pow_11 -3.5e+02       91      -16      1.8     -0.12    0.0034   \n",
       "model_pow_12 -1.3e+03  3.8e+02      -80       12      -1.1     0.062   \n",
       "model_pow_13  2.3e+04 -8.5e+03  2.3e+03 -4.5e+02        62      -5.7   \n",
       "model_pow_14  2.8e+05 -1.2e+05  3.7e+04 -8.5e+03   1.5e+03  -1.8e+02   \n",
       "model_pow_15   -1e+06    5e+05 -1.9e+05  5.4e+04  -1.2e+04   1.9e+03   \n",
       "\n",
       "             coef_x_12 coef_x_13 coef_x_14 coef_x_15  \n",
       "model_pow_1        NaN       NaN       NaN       NaN  \n",
       "model_pow_2        NaN       NaN       NaN       NaN  \n",
       "model_pow_3        NaN       NaN       NaN       NaN  \n",
       "model_pow_4        NaN       NaN       NaN       NaN  \n",
       "model_pow_5        NaN       NaN       NaN       NaN  \n",
       "model_pow_6        NaN       NaN       NaN       NaN  \n",
       "model_pow_7        NaN       NaN       NaN       NaN  \n",
       "model_pow_8        NaN       NaN       NaN       NaN  \n",
       "model_pow_9        NaN       NaN       NaN       NaN  \n",
       "model_pow_10       NaN       NaN       NaN       NaN  \n",
       "model_pow_11       NaN       NaN       NaN       NaN  \n",
       "model_pow_12   -0.0016       NaN       NaN       NaN  \n",
       "model_pow_13      0.31   -0.0078       NaN       NaN  \n",
       "model_pow_14        15     -0.73     0.017       NaN  \n",
       "model_pow_15  -2.2e+02        17     -0.81     0.018  "
      ]
     },
     "execution_count": 10,
     "metadata": {},
     "output_type": "execute_result"
    }
   ],
   "source": [
    "#Set the display format to be scientific for ease of analysis\n",
    "pd.options.display.float_format = '{:,.2g}'.format\n",
    "coef_matrix_simple\n"
   ]
  },
  {
   "cell_type": "markdown",
   "metadata": {},
   "source": [
    "## Ridge Regression"
   ]
  },
  {
   "cell_type": "markdown",
   "metadata": {},
   "source": [
    "### L2 regularization\n",
    "objective = RSS + alpha * (sum of square of coefficients)\n",
    "* alpha = 0 : simple linear regression\n",
    "* alpha = infinte : coefficients = 0\n",
    "* 0 < alpha < infinte : "
   ]
  },
  {
   "cell_type": "code",
   "execution_count": 11,
   "metadata": {
    "collapsed": true
   },
   "outputs": [],
   "source": [
    "from sklearn.linear_model import Ridge\n",
    "def ridge_regression(data, predictors, alpha, models_to_plot={}):\n",
    "    #Fit the model\n",
    "    ridgereg = Ridge(alpha=alpha,normalize=True)\n",
    "    ridgereg.fit(data[predictors],data['y'])\n",
    "    y_pred = ridgereg.predict(data[predictors])\n",
    "    \n",
    "    #Check if a plot is to be made for the entered alpha\n",
    "    if alpha in models_to_plot:\n",
    "        plt.subplot(models_to_plot[alpha])\n",
    "        plt.tight_layout()\n",
    "        plt.plot(data['x'],y_pred)\n",
    "        plt.plot(data['x'],data['y'],'.')\n",
    "        plt.title('Plot for alpha: %.3g'%alpha)\n",
    "    \n",
    "    #Return the result in pre-defined format\n",
    "    rss = sum((y_pred-data['y'])**2)\n",
    "    ret = [rss]\n",
    "    ret.extend([ridgereg.intercept_])\n",
    "    ret.extend(ridgereg.coef_)\n",
    "    return ret"
   ]
  },
  {
   "cell_type": "code",
   "execution_count": 12,
   "metadata": {},
   "outputs": [
    {
     "name": "stderr",
     "output_type": "stream",
     "text": [
      "/Users/CSIEK503/Applications/anaconda/lib/python3.6/site-packages/scipy/linalg/basic.py:223: RuntimeWarning: scipy.linalg.solve\n",
      "Ill-conditioned matrix detected. Result is not guaranteed to be accurate.\n",
      "Reciprocal condition number: 4.2645998407412105e-17\n",
      "  ' condition number: {}'.format(rcond), RuntimeWarning)\n"
     ]
    },
    {
     "data": {
      "image/png": "[encoded data removed]",
      "text/plain": [
       "<matplotlib.figure.Figure at 0x1133a85c0>"
      ]
     },
     "metadata": {},
     "output_type": "display_data"
    }
   ],
   "source": [
    "#Initialize predictors to be set of 15 powers of x\n",
    "predictors=['x']\n",
    "predictors.extend(['x_%d'%i for i in range(2,16)])\n",
    "\n",
    "#Set the different values of alpha to be tested\n",
    "alpha_ridge = [1e-15, 1e-10, 1e-8, 1e-4, 1e-3,1e-2, 1, 5, 10, 20]\n",
    "\n",
    "#Initialize the dataframe for storing coefficients.\n",
    "col = ['rss','intercept'] + ['coef_x_%d'%i for i in range(1,16)]\n",
    "ind = ['alpha_%.2g'%alpha_ridge[i] for i in range(0,10)]\n",
    "coef_matrix_ridge = pd.DataFrame(index=ind, columns=col)\n",
    "\n",
    "models_to_plot = {1e-15:231, 1e-10:232, 1e-4:233, 1e-3:234, 1e-2:235, 5:236}\n",
    "for i in range(10):\n",
    "    coef_matrix_ridge.iloc[i,] = ridge_regression(data, predictors, alpha_ridge[i], models_to_plot)"
   ]
  },
  {
   "cell_type": "code",
   "execution_count": 13,
   "metadata": {},
   "outputs": [
    {
     "data": {
      "text/html": [
       "<div>\n",
       "<style>\n",
       "    .dataframe thead tr:only-child th {\n",
       "        text-align: right;\n",
       "    }\n",
       "\n",
       "    .dataframe thead th {\n",
       "        text-align: left;\n",
       "    }\n",
       "\n",
       "    .dataframe tbody tr th {\n",
       "        vertical-align: top;\n",
       "    }\n",
       "</style>\n",
       "<table border=\"1\" class=\"dataframe\">\n",
       "  <thead>\n",
       "    <tr style=\"text-align: right;\">\n",
       "      <th></th>\n",
       "      <th>rss</th>\n",
       "      <th>intercept</th>\n",
       "      <th>coef_x_1</th>\n",
       "      <th>coef_x_2</th>\n",
       "      <th>coef_x_3</th>\n",
       "      <th>coef_x_4</th>\n",
       "      <th>coef_x_5</th>\n",
       "      <th>coef_x_6</th>\n",
       "      <th>coef_x_7</th>\n",
       "      <th>coef_x_8</th>\n",
       "      <th>coef_x_9</th>\n",
       "      <th>coef_x_10</th>\n",
       "      <th>coef_x_11</th>\n",
       "      <th>coef_x_12</th>\n",
       "      <th>coef_x_13</th>\n",
       "      <th>coef_x_14</th>\n",
       "      <th>coef_x_15</th>\n",
       "    </tr>\n",
       "  </thead>\n",
       "  <tbody>\n",
       "    <tr>\n",
       "      <th>alpha_1e-15</th>\n",
       "      <td>0.87</td>\n",
       "      <td>94</td>\n",
       "      <td>-3e+02</td>\n",
       "      <td>3.8e+02</td>\n",
       "      <td>-2.3e+02</td>\n",
       "      <td>64</td>\n",
       "      <td>1.1</td>\n",
       "      <td>-4.6</td>\n",
       "      <td>0.51</td>\n",
       "      <td>0.18</td>\n",
       "      <td>-0.029</td>\n",
       "      <td>-0.0054</td>\n",
       "      <td>0.00087</td>\n",
       "      <td>0.00022</td>\n",
       "      <td>-5.6e-05</td>\n",
       "      <td>3.9e-06</td>\n",
       "      <td>-6.7e-08</td>\n",
       "    </tr>\n",
       "    <tr>\n",
       "      <th>alpha_1e-10</th>\n",
       "      <td>0.92</td>\n",
       "      <td>11</td>\n",
       "      <td>-29</td>\n",
       "      <td>31</td>\n",
       "      <td>-15</td>\n",
       "      <td>2.9</td>\n",
       "      <td>0.17</td>\n",
       "      <td>-0.091</td>\n",
       "      <td>-0.011</td>\n",
       "      <td>0.002</td>\n",
       "      <td>0.00064</td>\n",
       "      <td>2.4e-05</td>\n",
       "      <td>-2e-05</td>\n",
       "      <td>-4.2e-06</td>\n",
       "      <td>2.2e-07</td>\n",
       "      <td>2.3e-07</td>\n",
       "      <td>-2.3e-08</td>\n",
       "    </tr>\n",
       "    <tr>\n",
       "      <th>alpha_1e-08</th>\n",
       "      <td>0.95</td>\n",
       "      <td>1.3</td>\n",
       "      <td>-1.5</td>\n",
       "      <td>1.7</td>\n",
       "      <td>-0.68</td>\n",
       "      <td>0.039</td>\n",
       "      <td>0.016</td>\n",
       "      <td>0.00016</td>\n",
       "      <td>-0.00036</td>\n",
       "      <td>-5.4e-05</td>\n",
       "      <td>-2.9e-07</td>\n",
       "      <td>1.1e-06</td>\n",
       "      <td>1.9e-07</td>\n",
       "      <td>2e-08</td>\n",
       "      <td>3.9e-09</td>\n",
       "      <td>8.2e-10</td>\n",
       "      <td>-4.6e-10</td>\n",
       "    </tr>\n",
       "    <tr>\n",
       "      <th>alpha_0.0001</th>\n",
       "      <td>0.96</td>\n",
       "      <td>0.56</td>\n",
       "      <td>0.55</td>\n",
       "      <td>-0.13</td>\n",
       "      <td>-0.026</td>\n",
       "      <td>-0.0028</td>\n",
       "      <td>-0.00011</td>\n",
       "      <td>4.1e-05</td>\n",
       "      <td>1.5e-05</td>\n",
       "      <td>3.7e-06</td>\n",
       "      <td>7.4e-07</td>\n",
       "      <td>1.3e-07</td>\n",
       "      <td>1.9e-08</td>\n",
       "      <td>1.9e-09</td>\n",
       "      <td>-1.3e-10</td>\n",
       "      <td>-1.5e-10</td>\n",
       "      <td>-6.2e-11</td>\n",
       "    </tr>\n",
       "    <tr>\n",
       "      <th>alpha_0.001</th>\n",
       "      <td>1</td>\n",
       "      <td>0.82</td>\n",
       "      <td>0.31</td>\n",
       "      <td>-0.087</td>\n",
       "      <td>-0.02</td>\n",
       "      <td>-0.0028</td>\n",
       "      <td>-0.00022</td>\n",
       "      <td>1.8e-05</td>\n",
       "      <td>1.2e-05</td>\n",
       "      <td>3.4e-06</td>\n",
       "      <td>7.3e-07</td>\n",
       "      <td>1.3e-07</td>\n",
       "      <td>1.9e-08</td>\n",
       "      <td>1.7e-09</td>\n",
       "      <td>-1.5e-10</td>\n",
       "      <td>-1.4e-10</td>\n",
       "      <td>-5.2e-11</td>\n",
       "    </tr>\n",
       "    <tr>\n",
       "      <th>alpha_0.01</th>\n",
       "      <td>1.4</td>\n",
       "      <td>1.3</td>\n",
       "      <td>-0.088</td>\n",
       "      <td>-0.052</td>\n",
       "      <td>-0.01</td>\n",
       "      <td>-0.0014</td>\n",
       "      <td>-0.00013</td>\n",
       "      <td>7.2e-07</td>\n",
       "      <td>4.1e-06</td>\n",
       "      <td>1.3e-06</td>\n",
       "      <td>3e-07</td>\n",
       "      <td>5.6e-08</td>\n",
       "      <td>9e-09</td>\n",
       "      <td>1.1e-09</td>\n",
       "      <td>4.3e-11</td>\n",
       "      <td>-3.1e-11</td>\n",
       "      <td>-1.5e-11</td>\n",
       "    </tr>\n",
       "    <tr>\n",
       "      <th>alpha_1</th>\n",
       "      <td>5.6</td>\n",
       "      <td>0.97</td>\n",
       "      <td>-0.14</td>\n",
       "      <td>-0.019</td>\n",
       "      <td>-0.003</td>\n",
       "      <td>-0.00047</td>\n",
       "      <td>-7e-05</td>\n",
       "      <td>-9.9e-06</td>\n",
       "      <td>-1.3e-06</td>\n",
       "      <td>-1.4e-07</td>\n",
       "      <td>-9.3e-09</td>\n",
       "      <td>1.3e-09</td>\n",
       "      <td>7.8e-10</td>\n",
       "      <td>2.4e-10</td>\n",
       "      <td>6.2e-11</td>\n",
       "      <td>1.4e-11</td>\n",
       "      <td>3.2e-12</td>\n",
       "    </tr>\n",
       "    <tr>\n",
       "      <th>alpha_5</th>\n",
       "      <td>14</td>\n",
       "      <td>0.55</td>\n",
       "      <td>-0.059</td>\n",
       "      <td>-0.0085</td>\n",
       "      <td>-0.0014</td>\n",
       "      <td>-0.00024</td>\n",
       "      <td>-4.1e-05</td>\n",
       "      <td>-6.9e-06</td>\n",
       "      <td>-1.1e-06</td>\n",
       "      <td>-1.9e-07</td>\n",
       "      <td>-3.1e-08</td>\n",
       "      <td>-5.1e-09</td>\n",
       "      <td>-8.2e-10</td>\n",
       "      <td>-1.3e-10</td>\n",
       "      <td>-2e-11</td>\n",
       "      <td>-3e-12</td>\n",
       "      <td>-4.2e-13</td>\n",
       "    </tr>\n",
       "    <tr>\n",
       "      <th>alpha_10</th>\n",
       "      <td>18</td>\n",
       "      <td>0.4</td>\n",
       "      <td>-0.037</td>\n",
       "      <td>-0.0055</td>\n",
       "      <td>-0.00095</td>\n",
       "      <td>-0.00017</td>\n",
       "      <td>-3e-05</td>\n",
       "      <td>-5.2e-06</td>\n",
       "      <td>-9.2e-07</td>\n",
       "      <td>-1.6e-07</td>\n",
       "      <td>-2.9e-08</td>\n",
       "      <td>-5.1e-09</td>\n",
       "      <td>-9.1e-10</td>\n",
       "      <td>-1.6e-10</td>\n",
       "      <td>-2.9e-11</td>\n",
       "      <td>-5.1e-12</td>\n",
       "      <td>-9.1e-13</td>\n",
       "    </tr>\n",
       "    <tr>\n",
       "      <th>alpha_20</th>\n",
       "      <td>23</td>\n",
       "      <td>0.28</td>\n",
       "      <td>-0.022</td>\n",
       "      <td>-0.0034</td>\n",
       "      <td>-0.0006</td>\n",
       "      <td>-0.00011</td>\n",
       "      <td>-2e-05</td>\n",
       "      <td>-3.6e-06</td>\n",
       "      <td>-6.6e-07</td>\n",
       "      <td>-1.2e-07</td>\n",
       "      <td>-2.2e-08</td>\n",
       "      <td>-4e-09</td>\n",
       "      <td>-7.5e-10</td>\n",
       "      <td>-1.4e-10</td>\n",
       "      <td>-2.5e-11</td>\n",
       "      <td>-4.7e-12</td>\n",
       "      <td>-8.7e-13</td>\n",
       "    </tr>\n",
       "  </tbody>\n",
       "</table>\n",
       "</div>"
      ],
      "text/plain": [
       "              rss intercept coef_x_1 coef_x_2 coef_x_3 coef_x_4 coef_x_5  \\\n",
       "alpha_1e-15  0.87        94   -3e+02  3.8e+02 -2.3e+02       64      1.1   \n",
       "alpha_1e-10  0.92        11      -29       31      -15      2.9     0.17   \n",
       "alpha_1e-08  0.95       1.3     -1.5      1.7    -0.68    0.039    0.016   \n",
       "alpha_0.0001 0.96      0.56     0.55    -0.13   -0.026  -0.0028 -0.00011   \n",
       "alpha_0.001     1      0.82     0.31   -0.087    -0.02  -0.0028 -0.00022   \n",
       "alpha_0.01    1.4       1.3   -0.088   -0.052    -0.01  -0.0014 -0.00013   \n",
       "alpha_1       5.6      0.97    -0.14   -0.019   -0.003 -0.00047   -7e-05   \n",
       "alpha_5        14      0.55   -0.059  -0.0085  -0.0014 -0.00024 -4.1e-05   \n",
       "alpha_10       18       0.4   -0.037  -0.0055 -0.00095 -0.00017   -3e-05   \n",
       "alpha_20       23      0.28   -0.022  -0.0034  -0.0006 -0.00011   -2e-05   \n",
       "\n",
       "             coef_x_6 coef_x_7 coef_x_8 coef_x_9 coef_x_10 coef_x_11  \\\n",
       "alpha_1e-15      -4.6     0.51     0.18   -0.029   -0.0054   0.00087   \n",
       "alpha_1e-10    -0.091   -0.011    0.002  0.00064   2.4e-05    -2e-05   \n",
       "alpha_1e-08   0.00016 -0.00036 -5.4e-05 -2.9e-07   1.1e-06   1.9e-07   \n",
       "alpha_0.0001  4.1e-05  1.5e-05  3.7e-06  7.4e-07   1.3e-07   1.9e-08   \n",
       "alpha_0.001   1.8e-05  1.2e-05  3.4e-06  7.3e-07   1.3e-07   1.9e-08   \n",
       "alpha_0.01    7.2e-07  4.1e-06  1.3e-06    3e-07   5.6e-08     9e-09   \n",
       "alpha_1      -9.9e-06 -1.3e-06 -1.4e-07 -9.3e-09   1.3e-09   7.8e-10   \n",
       "alpha_5      -6.9e-06 -1.1e-06 -1.9e-07 -3.1e-08  -5.1e-09  -8.2e-10   \n",
       "alpha_10     -5.2e-06 -9.2e-07 -1.6e-07 -2.9e-08  -5.1e-09  -9.1e-10   \n",
       "alpha_20     -3.6e-06 -6.6e-07 -1.2e-07 -2.2e-08    -4e-09  -7.5e-10   \n",
       "\n",
       "             coef_x_12 coef_x_13 coef_x_14 coef_x_15  \n",
       "alpha_1e-15    0.00022  -5.6e-05   3.9e-06  -6.7e-08  \n",
       "alpha_1e-10   -4.2e-06   2.2e-07   2.3e-07  -2.3e-08  \n",
       "alpha_1e-08      2e-08   3.9e-09   8.2e-10  -4.6e-10  \n",
       "alpha_0.0001   1.9e-09  -1.3e-10  -1.5e-10  -6.2e-11  \n",
       "alpha_0.001    1.7e-09  -1.5e-10  -1.4e-10  -5.2e-11  \n",
       "alpha_0.01     1.1e-09   4.3e-11  -3.1e-11  -1.5e-11  \n",
       "alpha_1        2.4e-10   6.2e-11   1.4e-11   3.2e-12  \n",
       "alpha_5       -1.3e-10    -2e-11    -3e-12  -4.2e-13  \n",
       "alpha_10      -1.6e-10  -2.9e-11  -5.1e-12  -9.1e-13  \n",
       "alpha_20      -1.4e-10  -2.5e-11  -4.7e-12  -8.7e-13  "
      ]
     },
     "execution_count": 13,
     "metadata": {},
     "output_type": "execute_result"
    }
   ],
   "source": [
    "#Set the display format to be scientific for ease of analysis\n",
    "pd.options.display.float_format = '{:,.2g}'.format\n",
    "coef_matrix_ridge"
   ]
  },
  {
   "cell_type": "code",
   "execution_count": 27,
   "metadata": {},
   "outputs": [
    {
     "data": {
      "text/plain": [
       "alpha_1e-15     0\n",
       "alpha_1e-10     0\n",
       "alpha_1e-08     0\n",
       "alpha_0.0001    0\n",
       "alpha_0.001     0\n",
       "alpha_0.01      0\n",
       "alpha_1         0\n",
       "alpha_5         0\n",
       "alpha_10        0\n",
       "alpha_20        0\n",
       "dtype: int64"
      ]
     },
     "execution_count": 27,
     "metadata": {},
     "output_type": "execute_result"
    }
   ],
   "source": [
    "coef_matrix_ridge.apply(lambda x: sum(x.values==0),axis=1)"
   ]
  },
  {
   "cell_type": "markdown",
   "metadata": {},
   "source": [
    "## Lasso Regression"
   ]
  },
  {
   "cell_type": "code",
   "execution_count": null,
   "metadata": {
    "collapsed": true
   },
   "outputs": [],
   "source": []
  }
 ],
 "metadata": {
  "kernelspec": {
   "display_name": "Python 3",
   "language": "python",
   "name": "python3"
  },
  "language_info": {
   "codemirror_mode": {
    "name": "ipython",
    "version": 3
   },
   "file_extension": ".py",
   "mimetype": "text/x-python",
   "name": "python",
   "nbconvert_exporter": "python",
   "pygments_lexer": "ipython3",
   "version": "3.6.1"
  }
 },
 "nbformat": 4,
 "nbformat_minor": 2
}
