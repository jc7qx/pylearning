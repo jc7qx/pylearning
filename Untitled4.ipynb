{
 "cells": [
  {
   "cell_type": "code",
   "execution_count": 1,
   "metadata": {},
   "outputs": [
    {
     "data": {
      "text/plain": [
       "'3.1.1'"
      ]
     },
     "execution_count": 1,
     "metadata": {},
     "output_type": "execute_result"
    }
   ],
   "source": [
    "import plotly\n",
    "plotly.__version__"
   ]
  },
  {
   "cell_type": "code",
   "execution_count": 2,
   "metadata": {},
   "outputs": [
    {
     "data": {
      "text/plain": [
       "'file:///Users/CSIEK503/pylearning/temp-plot.html'"
      ]
     },
     "execution_count": 2,
     "metadata": {},
     "output_type": "execute_result"
    }
   ],
   "source": [
    "import plotly\n",
    "import plotly.graph_objs as go\n",
    "\n",
    "plotly.offline.plot({\n",
    "    \"data\": [go.Scatter(x=[1, 2, 3, 4], y=[4, 3, 2, 1])],\n",
    "    \"layout\": go.Layout(title=\"hello world\")\n",
    "}, auto_open=True)"
   ]
  },
  {
   "cell_type": "code",
   "execution_count": 3,
   "metadata": {},
   "outputs": [
    {
     "name": "stdout",
     "output_type": "stream",
     "text": [
      "Help on function plot in module plotly.offline.offline:\n",
      "\n",
      "plot(figure_or_data, show_link=True, link_text='Export to plot.ly', validate=True, output_type='file', include_plotlyjs=True, filename='temp-plot.html', auto_open=True, image=None, image_filename='plot_image', image_width=800, image_height=600, config=None)\n",
      "    Create a plotly graph locally as an HTML document or string.\n",
      "    \n",
      "    Example:\n",
      "    ```\n",
      "    from plotly.offline import plot\n",
      "    import plotly.graph_objs as go\n",
      "    \n",
      "    plot([go.Scatter(x=[1, 2, 3], y=[3, 2, 6])], filename='my-graph.html')\n",
      "    # We can also download an image of the plot by setting the image parameter\n",
      "    # to the image format we want\n",
      "    plot([go.Scatter(x=[1, 2, 3], y=[3, 2, 6])], filename='my-graph.html'\n",
      "         image='jpeg')\n",
      "    ```\n",
      "    More examples below.\n",
      "    \n",
      "    figure_or_data -- a plotly.graph_objs.Figure or plotly.graph_objs.Data or\n",
      "                      dict or list that describes a Plotly graph.\n",
      "                      See https://plot.ly/python/ for examples of\n",
      "                      graph descriptions.\n",
      "    \n",
      "    Keyword arguments:\n",
      "    show_link (default=True) -- display a link in the bottom-right corner of\n",
      "        of the chart that will export the chart to Plotly Cloud or\n",
      "        Plotly Enterprise\n",
      "    link_text (default='Export to plot.ly') -- the text of export link\n",
      "    validate (default=True) -- validate that all of the keys in the figure\n",
      "        are valid? omit if your version of plotly.js has become outdated\n",
      "        with your version of graph_reference.json or if you need to include\n",
      "        extra, unnecessary keys in your figure.\n",
      "    output_type ('file' | 'div' - default 'file') -- if 'file', then\n",
      "        the graph is saved as a standalone HTML file and `plot`\n",
      "        returns None.\n",
      "        If 'div', then `plot` returns a string that just contains the\n",
      "        HTML <div> that contains the graph and the script to generate the\n",
      "        graph.\n",
      "        Use 'file' if you want to save and view a single graph at a time\n",
      "        in a standalone HTML file.\n",
      "        Use 'div' if you are embedding these graphs in an HTML file with\n",
      "        other graphs or HTML markup, like a HTML report or an website.\n",
      "    include_plotlyjs (default=True) -- If True, include the plotly.js\n",
      "        source code in the output file or string.\n",
      "        Set as False if your HTML file already contains a copy of the plotly.js\n",
      "        library.\n",
      "    filename (default='temp-plot.html') -- The local filename to save the\n",
      "        outputted chart to. If the filename already exists, it will be\n",
      "        overwritten. This argument only applies if `output_type` is 'file'.\n",
      "    auto_open (default=True) -- If True, open the saved file in a\n",
      "        web browser after saving.\n",
      "        This argument only applies if `output_type` is 'file'.\n",
      "    image (default=None |'png' |'jpeg' |'svg' |'webp') -- This parameter sets\n",
      "        the format of the image to be downloaded, if we choose to download an\n",
      "        image. This parameter has a default value of None indicating that no\n",
      "        image should be downloaded. Please note: for higher resolution images\n",
      "        and more export options, consider making requests to our image servers.\n",
      "        Type: `help(py.image)` for more details.\n",
      "    image_filename (default='plot_image') -- Sets the name of the file your\n",
      "        image will be saved to. The extension should not be included.\n",
      "    image_height (default=600) -- Specifies the height of the image in `px`.\n",
      "    image_width (default=800) -- Specifies the width of the image in `px`.\n",
      "    config (default=None) -- Plot view options dictionary. Keyword arguments\n",
      "        `show_link` and `link_text` set the associated options in this\n",
      "        dictionary if it doesn't contain them already.\n",
      "\n"
     ]
    }
   ],
   "source": [
    "import plotly\n",
    "help(plotly.offline.plot)"
   ]
  },
  {
   "cell_type": "code",
   "execution_count": 4,
   "metadata": {},
   "outputs": [
    {
     "data": {
      "text/html": [
       "<script>requirejs.config({paths: { 'plotly': ['https://cdn.plot.ly/plotly-latest.min']},});if(!window.Plotly) {{require(['plotly'],function(plotly) {window.Plotly=plotly;});}}</script>"
      ],
      "text/vnd.plotly.v1+html": [
       "<script>requirejs.config({paths: { 'plotly': ['https://cdn.plot.ly/plotly-latest.min']},});if(!window.Plotly) {{require(['plotly'],function(plotly) {window.Plotly=plotly;});}}</script>"
      ]
     },
     "metadata": {},
     "output_type": "display_data"
    },
    {
     "data": {
      "application/vnd.plotly.v1+json": {
       "data": [
        {
         "type": "scatter",
         "uid": "f8dd229a-a6e0-11e8-ac40-9801a78c20cf",
         "x": [
          1,
          2,
          3,
          4
         ],
         "y": [
          4,
          3,
          2,
          1
         ]
        }
       ],
       "layout": {
        "title": "hello world"
       }
      },
      "text/html": [
       "<div id=\"dacf6323-7dc9-4b18-8772-44d94f010a02\" style=\"height: 525px; width: 100%;\" class=\"plotly-graph-div\"></div><script type=\"text/javascript\">require([\"plotly\"], function(Plotly) { window.PLOTLYENV=window.PLOTLYENV || {};window.PLOTLYENV.BASE_URL=\"https://plot.ly\";Plotly.newPlot(\"dacf6323-7dc9-4b18-8772-44d94f010a02\", [{\"x\": [1, 2, 3, 4], \"y\": [4, 3, 2, 1], \"type\": \"scatter\", \"uid\": \"f8e0f97e-a6e0-11e8-8812-9801a78c20cf\"}], {\"title\": \"hello world\"}, {\"showLink\": true, \"linkText\": \"Export to plot.ly\"})});</script>"
      ],
      "text/vnd.plotly.v1+html": [
       "<div id=\"dacf6323-7dc9-4b18-8772-44d94f010a02\" style=\"height: 525px; width: 100%;\" class=\"plotly-graph-div\"></div><script type=\"text/javascript\">require([\"plotly\"], function(Plotly) { window.PLOTLYENV=window.PLOTLYENV || {};window.PLOTLYENV.BASE_URL=\"https://plot.ly\";Plotly.newPlot(\"dacf6323-7dc9-4b18-8772-44d94f010a02\", [{\"x\": [1, 2, 3, 4], \"y\": [4, 3, 2, 1], \"type\": \"scatter\", \"uid\": \"f8e0f97e-a6e0-11e8-8812-9801a78c20cf\"}], {\"title\": \"hello world\"}, {\"showLink\": true, \"linkText\": \"Export to plot.ly\"})});</script>"
      ]
     },
     "metadata": {},
     "output_type": "display_data"
    }
   ],
   "source": [
    "import plotly\n",
    "import plotly.graph_objs as go\n",
    "\n",
    "plotly.offline.init_notebook_mode(connected=True)\n",
    "\n",
    "plotly.offline.iplot({\n",
    "    \"data\": [go.Scatter(x=[1, 2, 3, 4], y=[4, 3, 2, 1])],\n",
    "    \"layout\": go.Layout(title=\"hello world\")\n",
    "})"
   ]
  },
  {
   "cell_type": "code",
   "execution_count": null,
   "metadata": {
    "collapsed": true
   },
   "outputs": [],
   "source": []
  }
 ],
 "metadata": {
  "kernelspec": {
   "display_name": "Python 3",
   "language": "python",
   "name": "python3"
  },
  "language_info": {
   "codemirror_mode": {
    "name": "ipython",
    "version": 3
   },
   "file_extension": ".py",
   "mimetype": "text/x-python",
   "name": "python",
   "nbconvert_exporter": "python",
   "pygments_lexer": "ipython3",
   "version": "3.7.3"
  }
 },
 "nbformat": 4,
 "nbformat_minor": 2
}
