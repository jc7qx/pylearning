{
 "cells": [
  {
   "cell_type": "markdown",
   "metadata": {},
   "source": [
    "# Python物件導向"
   ]
  },
  {
   "cell_type": "markdown",
   "metadata": {},
   "source": [
    "## 1.物件導向程式設計"
   ]
  },
  {
   "cell_type": "markdown",
   "metadata": {},
   "source": [
    "不同於程序式程式設計(Procedure Programming)，物件導向程式設計是將「資料」(data)及「方法」(method)包裝在一個可執行的程式元件(稱之物件，object)，每一個物件都有其「屬性」(attribute)及「操作方法」(method)。物件的屬性及操作方法被定義於「類別」(class)中，物件根據類別所產生，故類別又有稱為物件的藍圖。在物件導向程式，類別是組成程式的基本單元。\n",
    "\n",
    "物件導向程式設計有三個重要的特性，即「封裝」(encapsulation)、「繼承」(inheritance)、「多型」(polymorphism)。\n",
    "* 封裝：將資料及方法包裝在一個可執行的程式元件(物件)中，經由介面可以操控物件，通常不允許外界直接存取物件資料，必須經由特殊設計的操作方法來存取資料。\n",
    "* 繼承：藉由繼承機制可以再利用已開發的程式或延伸其功能，被繼承的類別稱為父類別，衍生的類別稱為子類別。\n",
    "* 多型：包括函數「多載」(overloading)及在子類別「改寫」(overriding)父類別的方法。"
   ]
  },
  {
   "cell_type": "markdown",
   "metadata": {},
   "source": [
    "## 2.物件與類別"
   ]
  },
  {
   "cell_type": "markdown",
   "metadata": {},
   "source": [
    "物件導向程式設計中，類別用來定義物件的屬性及操作方法，物件是根據類別所產生(initiate)。以下是用Python定義類別的一個範例。\n",
    "```python\n",
    "class Dog:\n",
    "    def __init__(self, name, color, weight):\n",
    "        self.name = name\n",
    "        self.color = color\n",
    "        self.weight = weight\n",
    "        \n",
    "    def bark():\n",
    "        print(\"won won !!!\")\n",
    "```\n",
    "- Python使用「**class**」為定義類別的關鍵字，Dog是類別名稱，Dog後面要接冒號「**:**」。\n",
    "- **\\__init__**是建構子函數(**constructor**)用於建立物件時初始化工作，設定物件變數初值。**name**、**color**、**weight**是物件變數。\n",
    "- **bark()**是操作方法。"
   ]
  },
  {
   "cell_type": "markdown",
   "metadata": {},
   "source": [
    "## 3.物件使用"
   ]
  },
  {
   "cell_type": "code",
   "execution_count": 3,
   "metadata": {},
   "outputs": [
    {
     "name": "stdout",
     "output_type": "stream",
     "text": [
      "bong brown 10\n",
      "won won won!!!\n"
     ]
    }
   ],
   "source": [
    "# define Dog class\n",
    "class Dog:\n",
    "    def __init__(self, name, color, weight):\n",
    "        self.name = name\n",
    "        self.color = color\n",
    "        self.weight = weight\n",
    "        \n",
    "    def bark(self):\n",
    "        print(\"won won won!!!\")\n",
    "\n",
    "# initiate object\n",
    "bongy = Dog(\"bong\", \"brown\", 10)\n",
    "\n",
    "# access object's attribute\n",
    "print(bongy.name, bongy.color, bongy.weight)\n",
    "\n",
    "# call for object's method\n",
    "bongy.bark()\n"
   ]
  },
  {
   "cell_type": "markdown",
   "metadata": {},
   "source": [
    "## 類別設計案例"
   ]
  },
  {
   "cell_type": "markdown",
   "metadata": {},
   "source": [
    "### A.設計一個地址(address)類別"
   ]
  },
  {
   "cell_type": "code",
   "execution_count": 8,
   "metadata": {
    "collapsed": true
   },
   "outputs": [],
   "source": [
    "class Address:\n",
    "    def __init__(self, line1, line2, city, con, zipzone):\n",
    "        self.line1 = line1\n",
    "        self.line2 = line2\n",
    "        self.city = city\n",
    "        self.country = con\n",
    "        self.zipzone = zipzone"
   ]
  },
  {
   "cell_type": "markdown",
   "metadata": {},
   "source": [
    "* Address是一個類別\n",
    "* line1, line2, city, state, zip是Address的屬性，屬於公開的物件變數"
   ]
  },
  {
   "cell_type": "markdown",
   "metadata": {},
   "source": [
    "### 使用物件"
   ]
  },
  {
   "cell_type": "code",
   "execution_count": 10,
   "metadata": {},
   "outputs": [
    {
     "name": "stdout",
     "output_type": "stream",
     "text": [
      "研究院路245號  台北市 ROC 22903\n"
     ]
    }
   ],
   "source": [
    "a1 = Address(\"研究院路245號\",\"\", \"台北市\", \"ROC\", \"22903\")\n",
    "print(a1.line1, a1.line2, a1.city, a1.country, a1.zipzone)"
   ]
  },
  {
   "cell_type": "markdown",
   "metadata": {},
   "source": [
    "### 新增一個方法，列印地址"
   ]
  },
  {
   "cell_type": "code",
   "execution_count": null,
   "metadata": {
    "collapsed": true
   },
   "outputs": [],
   "source": [
    "class Address:\n",
    "    def __init__(self, line1, line2, city, con, zipzone):\n",
    "        self.line1 = line1\n",
    "        self.line2 = line2\n",
    "        self.city = city\n",
    "        self.country = con\n",
    "        self.zipzone = zipzone\n",
    "    \n",
    "    #在此新增一個列印函數(showInfo())\n",
    "    "
   ]
  },
  {
   "cell_type": "code",
   "execution_count": null,
   "metadata": {
    "collapsed": true
   },
   "outputs": [],
   "source": [
    "#測試結果\n",
    "a1 = Address(\"愛國東路100號\",\"中正區\",\"台北市\",\"ROC\", \"12345\")\n",
    "a1.showInfo()"
   ]
  },
  {
   "cell_type": "markdown",
   "metadata": {},
   "source": [
    "### B.設計一個圓類別"
   ]
  },
  {
   "cell_type": "code",
   "execution_count": 11,
   "metadata": {
    "collapsed": true
   },
   "outputs": [],
   "source": [
    "import math\n",
    "class Circle:\n",
    "    def __init__(self, x, y, r):\n",
    "        self.centx = x\n",
    "        self.centy = y\n",
    "        self.radius = r\n",
    "        \n",
    "    def area(self):\n",
    "        return math.pi*(self.radius**2)"
   ]
  },
  {
   "cell_type": "markdown",
   "metadata": {},
   "source": [
    "### 建立一個圓"
   ]
  },
  {
   "cell_type": "code",
   "execution_count": 12,
   "metadata": {},
   "outputs": [
    {
     "name": "stdout",
     "output_type": "stream",
     "text": [
      "圓的面積 = 2827.43\n"
     ]
    }
   ],
   "source": [
    "c1 = Circle(100, 100, 30)\n",
    "print(\"圓的面積 = %.2f\" % c1.area())"
   ]
  },
  {
   "cell_type": "markdown",
   "metadata": {},
   "source": [
    "### 新增一個方法，判斷兩個圓是否相交？"
   ]
  },
  {
   "cell_type": "code",
   "execution_count": null,
   "metadata": {
    "collapsed": true
   },
   "outputs": [],
   "source": [
    "import math\n",
    "class Circle:\n",
    "    def __init__(self, x, y, r):\n",
    "        self.centx = x\n",
    "        self.centy = y\n",
    "        self.radius = r\n",
    "        \n",
    "    def area(self):\n",
    "        return math.pi*(self.radius**2)\n",
    "    \n",
    "    #在此新增二圓是否相交函數\n",
    "    "
   ]
  },
  {
   "cell_type": "code",
   "execution_count": null,
   "metadata": {
    "collapsed": true
   },
   "outputs": [],
   "source": [
    "#測試結果\n"
   ]
  },
  {
   "cell_type": "markdown",
   "metadata": {},
   "source": [
    "## 4.類別封裝"
   ]
  },
  {
   "cell_type": "code",
   "execution_count": null,
   "metadata": {
    "collapsed": true
   },
   "outputs": [],
   "source": [
    "在類別中，不論屬性或方法之前加二條底線，可防止外部類別存取屬性資料或操作方法。"
   ]
  },
  {
   "cell_type": "code",
   "execution_count": 13,
   "metadata": {},
   "outputs": [
    {
     "name": "stdout",
     "output_type": "stream",
     "text": [
      "3\n",
      "0\n",
      "99\n"
     ]
    },
    {
     "ename": "AttributeError",
     "evalue": "type object 'Counter' has no attribute '__ncounts'",
     "output_type": "error",
     "traceback": [
      "\u001b[0;31m---------------------------------------------------------------------------\u001b[0m",
      "\u001b[0;31mAttributeError\u001b[0m                            Traceback (most recent call last)",
      "\u001b[0;32m<ipython-input-13-7bcd0c5be019>\u001b[0m in \u001b[0;36m<module>\u001b[0;34m()\u001b[0m\n\u001b[1;32m     26\u001b[0m     \u001b[0;31m#print(t3.__b)\u001b[0m\u001b[0;34m\u001b[0m\u001b[0;34m\u001b[0m\u001b[0m\n\u001b[1;32m     27\u001b[0m     \u001b[0mt3\u001b[0m\u001b[0;34m.\u001b[0m\u001b[0mshow_b\u001b[0m\u001b[0;34m(\u001b[0m\u001b[0;34m)\u001b[0m\u001b[0;34m\u001b[0m\u001b[0m\n\u001b[0;32m---> 28\u001b[0;31m     \u001b[0mprint\u001b[0m\u001b[0;34m(\u001b[0m\u001b[0mCounter\u001b[0m\u001b[0;34m.\u001b[0m\u001b[0m__ncounts\u001b[0m\u001b[0;34m)\u001b[0m\u001b[0;34m\u001b[0m\u001b[0m\n\u001b[0m\u001b[1;32m     29\u001b[0m \u001b[0;34m\u001b[0m\u001b[0m\n",
      "\u001b[0;31mAttributeError\u001b[0m: type object 'Counter' has no attribute '__ncounts'"
     ]
    }
   ],
   "source": [
    "class Counter():\n",
    "    __ncounts = 0 #class variable\n",
    "    \n",
    "    def __init__(self):  #Constructor\n",
    "        Counter.update()\n",
    "        self.a = 0       #instance variable\n",
    "        self.__b = 99    #instance variable\n",
    "    \n",
    "    @classmethod\n",
    "    def update(self):\n",
    "        self.__ncounts +=  1\n",
    "\n",
    "    @classmethod\n",
    "    def showObjcount(self):\n",
    "        print(self.__ncounts)\n",
    "        \n",
    "    #def show_b(self):\n",
    "    #   print(self.__b)\n",
    "    \n",
    "if __name__ == \"__main__\":\n",
    "    t1 = Counter()\n",
    "    t2 = Counter()\n",
    "    t3 = Counter()\n",
    "    Counter.showObjcount()\n",
    "    print(t3.a)\n",
    "    print(t3.__b)\n",
    "    #t3.show_b()\n",
    "    print(Counter.__ncounts)\n",
    "\n"
   ]
  },
  {
   "cell_type": "markdown",
   "metadata": {},
   "source": [
    "## 5.類別繼承"
   ]
  },
  {
   "cell_type": "markdown",
   "metadata": {},
   "source": [
    "### 繼承關係\n",
    "\n",
    "```python \n",
    "class B:\n",
    "    pass\n",
    "    \n",
    "class A(B): \n",
    "    pass\n",
    "``` \n",
    "A稱為子類別，B稱為父類別，父類別又稱為基礎類別。子類別是父類別的衍生(derived)，子類別繼承父類別的屬性，包括屬性及方法。子類別與父類別間的關係為「Is-A」。\n",
    "\n",
    "### 組成關係\n",
    "```python\n",
    "class D:\n",
    "    pass\n",
    "\n",
    "class A:\n",
    "    C = D\n",
    "```\n",
    "C是D類別的一個參考(reference)，A與D之間存在一種「Has-A」的關係，即A產生的物件可由D產生的物件「組成」。"
   ]
  },
  {
   "cell_type": "markdown",
   "metadata": {},
   "source": [
    "### Dog範例"
   ]
  },
  {
   "cell_type": "code",
   "execution_count": 36,
   "metadata": {},
   "outputs": [
    {
     "name": "stdout",
     "output_type": "stream",
     "text": [
      "Animal created\n",
      "Dog created\n",
      "Dog\n",
      "Eating\n",
      "Woof!\n"
     ]
    }
   ],
   "source": [
    "class Animal:\n",
    "\n",
    "    def __init__(self):\n",
    "        print(\"Animal created\")\n",
    "\n",
    "    def whoAmI(self):\n",
    "        print(\"Animal\")\n",
    "\n",
    "    def eat(self):\n",
    "        print(\"Eating\")\n",
    "\n",
    "\n",
    "class Dog(Animal):\n",
    "\n",
    "    def __init__(self):\n",
    "        super().__init__() #呼叫父類別的建構子函式\n",
    "        \n",
    "        print(\"Dog created\")\n",
    "\n",
    "    def whoAmI(self):\n",
    "        print(\"Dog\")\n",
    "\n",
    "    def bark(self):\n",
    "        print(\"Woof!\")\n",
    "\n",
    "d = Dog()\n",
    "d.whoAmI()\n",
    "d.eat()\n",
    "d.bark()"
   ]
  },
  {
   "cell_type": "markdown",
   "metadata": {},
   "source": [
    "### 汽車範例\n",
    "![](./pic/cars.png)"
   ]
  },
  {
   "cell_type": "code",
   "execution_count": 2,
   "metadata": {},
   "outputs": [
    {
     "name": "stdout",
     "output_type": "stream",
     "text": [
      "Starting engine Engine for car Car... Wroom, wroom!\n",
      "Starting engine V8Engine for car RaceCar... Wroom, wroom!\n",
      "Starting engine ElecEngine for car CityCar... Wroom, wroom!\n",
      "Starting engine V8Engine for car F1Car... Wroom, wroom!\n"
     ]
    }
   ],
   "source": [
    "class Engine(): #定義引擎類別\n",
    "    def start(self):\n",
    "        pass\n",
    "    def stop(self):\n",
    "        pass\n",
    "    \n",
    "class ElecEngine(Engine):#定義電動引擎 IS-A Engine\n",
    "    pass\n",
    "class V8Engine(Engine): #定義V8引擎 IS-A Engine\n",
    "    pass\n",
    "\n",
    "class Car(): #定義汽車類別\n",
    "    engine_cls = Engine\n",
    "    def __init__(self):\n",
    "        self.engine = self.engine_cls() # Has-A Engine\n",
    "    def start(self):\n",
    "        print(\n",
    "            \"Starting engine {0} for car {1}... Wroom, wroom!\"\n",
    "            .format(\n",
    "                self.engine.__class__.__name__,\n",
    "                self.__class__.__name__\n",
    "            )\n",
    "        )\n",
    "        self.engine.start()\n",
    "    def stop(self):\n",
    "        self.engine.stop()\n",
    "\n",
    "class RaceCar(Car): #IS-A Car\n",
    "    engine_cls = V8Engine\n",
    "    \n",
    "class CityCar(Car): #Is-A Car\n",
    "    engine_cls = ElecEngine \n",
    "    \n",
    "class F1Car(RaceCar): #Is-A RaceCar and also Is-A Car\n",
    "    engine_cls = V8Engine\n",
    "    \n",
    "car = Car()\n",
    "racecar = RaceCar()\n",
    "citycar = CityCar()\n",
    "f1car = F1Car()\n",
    "cars = [car, racecar, citycar, f1car]\n",
    "for car in cars:\n",
    "    car.start()"
   ]
  },
  {
   "cell_type": "code",
   "execution_count": 4,
   "metadata": {},
   "outputs": [
    {
     "name": "stdout",
     "output_type": "stream",
     "text": [
      "car is a Car\n",
      "car is not a RaceCar\n",
      "car is not a F1Car\n",
      "racecar is a Car\n",
      "racecar is a RaceCar\n",
      "racecar is not a F1Car\n",
      "f1car is a Car\n",
      "f1car is a RaceCar\n",
      "f1car is a F1Car\n"
     ]
    }
   ],
   "source": [
    "car = Car()\n",
    "racecar = RaceCar()\n",
    "f1car = F1Car()\n",
    "cars = [(car, 'car'), (racecar, 'racecar'), (f1car, 'f1car')]\n",
    "car_class = [Car, RaceCar, F1Car]\n",
    "for car, car_name in cars:\n",
    "    for class_ in car_class:\n",
    "        belongs = isinstance(car, class_) #判別car是否是class的一個物件\n",
    "        msg = 'is a' if belongs else 'is not a'\n",
    "        print(car_name, msg, class_.__name__)"
   ]
  },
  {
   "cell_type": "code",
   "execution_count": 6,
   "metadata": {},
   "outputs": [
    {
     "name": "stdout",
     "output_type": "stream",
     "text": [
      "Car is a subclass of Car\n",
      "Car is not a subclass of RaceCar\n",
      "Car is not a subclass of F1Car\n",
      "RaceCar is a subclass of Car\n",
      "RaceCar is a subclass of RaceCar\n",
      "RaceCar is not a subclass of F1Car\n",
      "F1Car is a subclass of Car\n",
      "F1Car is a subclass of RaceCar\n",
      "F1Car is a subclass of F1Car\n"
     ]
    }
   ],
   "source": [
    "for class1 in car_class:\n",
    "    for class2 in car_class:\n",
    "        is_subclass = issubclass(class1, class2)\n",
    "        msg = '{0} a subclass of'.format(\n",
    "            'is' if is_subclass else 'is not'\n",
    "        )\n",
    "        print(class1.__name__, msg, class2.__name__)"
   ]
  },
  {
   "cell_type": "markdown",
   "metadata": {},
   "source": [
    "## 6.類別多型"
   ]
  },
  {
   "cell_type": "code",
   "execution_count": null,
   "metadata": {
    "collapsed": true
   },
   "outputs": [],
   "source": []
  }
 ],
 "metadata": {
  "kernelspec": {
   "display_name": "Python 3",
   "language": "python",
   "name": "python3"
  },
  "language_info": {
   "codemirror_mode": {
    "name": "ipython",
    "version": 3
   },
   "file_extension": ".py",
   "mimetype": "text/x-python",
   "name": "python",
   "nbconvert_exporter": "python",
   "pygments_lexer": "ipython3",
   "version": "3.6.2"
  }
 },
 "nbformat": 4,
 "nbformat_minor": 2
}
