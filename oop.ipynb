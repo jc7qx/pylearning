{
 "cells": [
  {
   "cell_type": "markdown",
   "metadata": {},
   "source": [
    "# Python物件導向"
   ]
  },
  {
   "cell_type": "markdown",
   "metadata": {},
   "source": [
    "## 1.物件導向程式設計"
   ]
  },
  {
   "attachments": {},
   "cell_type": "markdown",
   "metadata": {},
   "source": [
    "不同於程序式程式設計(Procedure Programming)，物件導向程式設計是將「資料」(data)及「方法」(method)包裝在一個可執行的程式元件(稱之物件，object)，每一個物件都有其「屬性」(attribute)及「操作方法」(method)。物件的屬性及操作方法被定義於「類別」(class)中，物件根據類別所產生，故類別又有稱為物件的藍圖。在物件導向程式，類別是組成程式的基本單元。\n",
    "\n",
    "物件導向程式設計有三個重要的特性，即「封裝」(encapsulation)、「繼承」(inheritance)、「多型」(polymorphism)。\n",
    "* 封裝：將資料及方法包裝在一個可執行的程式元件(物件)中，經由介面可以操控物件，通常不允許外界直接存取物件資料，必須經由特殊設計的操作方法來存取資料。\n",
    "* 繼承：藉由繼承機制可以再利用已開發的程式或延伸其功能，被繼承的類別稱為父類別，衍生的類別稱為子類別。\n",
    "* 多型：包括函數「多載」(overloading)及在子類別「改寫」(overriding)父類別的方法。"
   ]
  },
  {
   "cell_type": "markdown",
   "metadata": {},
   "source": [
    "## 2.物件與類別"
   ]
  },
  {
   "cell_type": "markdown",
   "metadata": {},
   "source": [
    "物件導向程式設計中，類別用來定義物件的屬性及操作方法，物件是根據類別所產生(initiate)。以下是用Python定義類別的一個範例。\n",
    "```python\n",
    "class Dog:\n",
    "    def __init__(self, name, color, weight):\n",
    "        self.name = name\n",
    "        self.color = color\n",
    "        self.weight = weight\n",
    "        \n",
    "    def bark():\n",
    "        print(\"won won !!!\")\n",
    "```\n",
    "- Python使用「**class**」為定義類別的關鍵字，Dog是類別名稱，Dog後面要接冒號「**:**」。\n",
    "- **\\__init__**是建構子函數(**constructor**)用於建立物件時初始化工作，設定物件變數初值。**name**、**color**、**weight**是物件變數。\n",
    "- **bark()**是操作方法。"
   ]
  },
  {
   "cell_type": "markdown",
   "metadata": {},
   "source": [
    "## 3.物件使用"
   ]
  },
  {
   "cell_type": "code",
   "execution_count": 3,
   "metadata": {},
   "outputs": [
    {
     "name": "stdout",
     "output_type": "stream",
     "text": [
      "bong brown 10\n",
      "won won won!!!\n"
     ]
    }
   ],
   "source": [
    "# define Dog class\n",
    "class Dog:\n",
    "    def __init__(self, name, color, weight):\n",
    "        self.name = name\n",
    "        self.color = color\n",
    "        self.weight = weight\n",
    "        \n",
    "    def bark(self):\n",
    "        print(\"won won won!!!\")\n",
    "\n",
    "# initiate object\n",
    "bongy = Dog(\"bong\", \"brown\", 10)\n",
    "\n",
    "# access object's attribute\n",
    "print(bongy.name, bongy.color, bongy.weight)\n",
    "\n",
    "# call for object's method\n",
    "bongy.bark()\n"
   ]
  },
  {
   "cell_type": "markdown",
   "metadata": {},
   "source": [
    "## 類別設計案例"
   ]
  },
  {
   "cell_type": "markdown",
   "metadata": {},
   "source": [
    "### A.設計一個地址(address)類別"
   ]
  },
  {
   "cell_type": "code",
   "execution_count": 8,
   "metadata": {},
   "outputs": [],
   "source": [
    "class Address:\n",
    "    def __init__(self, line1, line2, city, con, zipzone):\n",
    "        self.line1 = line1\n",
    "        self.line2 = line2\n",
    "        self.city = city\n",
    "        self.country = con\n",
    "        self.zipzone = zipzone"
   ]
  },
  {
   "cell_type": "markdown",
   "metadata": {},
   "source": [
    "* Address是一個類別\n",
    "* line1, line2, city, state, zip是Address的屬性，屬於公開的物件變數"
   ]
  },
  {
   "cell_type": "markdown",
   "metadata": {},
   "source": [
    "### 使用物件"
   ]
  },
  {
   "cell_type": "code",
   "execution_count": 10,
   "metadata": {},
   "outputs": [
    {
     "name": "stdout",
     "output_type": "stream",
     "text": [
      "研究院路245號  台北市 ROC 22903\n"
     ]
    }
   ],
   "source": [
    "a1 = Address(\"研究院路245號\",\"\", \"台北市\", \"ROC\", \"22903\")\n",
    "print(a1.line1, a1.line2, a1.city, a1.country, a1.zipzone)"
   ]
  },
  {
   "cell_type": "markdown",
   "metadata": {},
   "source": [
    "### 新增一個方法，列印地址"
   ]
  },
  {
   "cell_type": "code",
   "execution_count": null,
   "metadata": {
    "collapsed": true
   },
   "outputs": [],
   "source": [
    "class Address:\n",
    "    def __init__(self, line1, line2, city, con, zipzone):\n",
    "        self.line1 = line1\n",
    "        self.line2 = line2\n",
    "        self.city = city\n",
    "        self.country = con\n",
    "        self.zipzone = zipzone\n",
    "    \n",
    "    #在此新增一個列印函數(showInfo())\n",
    "    "
   ]
  },
  {
   "cell_type": "code",
   "execution_count": null,
   "metadata": {
    "collapsed": true
   },
   "outputs": [],
   "source": [
    "#測試結果\n",
    "a1 = Address(\"愛國東路100號\",\"中正區\",\"台北市\",\"ROC\", \"12345\")\n",
    "a1.showInfo()"
   ]
  },
  {
   "cell_type": "markdown",
   "metadata": {},
   "source": [
    "### B.設計一個圓類別"
   ]
  },
  {
   "cell_type": "code",
   "execution_count": 11,
   "metadata": {
    "collapsed": true
   },
   "outputs": [],
   "source": [
    "import math\n",
    "class Circle:\n",
    "    def __init__(self, x, y, r):\n",
    "        self.centx = x\n",
    "        self.centy = y\n",
    "        self.radius = r\n",
    "        \n",
    "    def area(self):\n",
    "        return math.pi*(self.radius**2)"
   ]
  },
  {
   "cell_type": "markdown",
   "metadata": {},
   "source": [
    "### 建立一個圓"
   ]
  },
  {
   "cell_type": "code",
   "execution_count": 12,
   "metadata": {},
   "outputs": [
    {
     "name": "stdout",
     "output_type": "stream",
     "text": [
      "圓的面積 = 2827.43\n"
     ]
    }
   ],
   "source": [
    "c1 = Circle(100, 100, 30)\n",
    "print(\"圓的面積 = %.2f\" % c1.area())"
   ]
  },
  {
   "cell_type": "markdown",
   "metadata": {},
   "source": [
    "### 新增一個方法，判斷兩個圓是否相交？"
   ]
  },
  {
   "cell_type": "code",
   "execution_count": null,
   "metadata": {
    "collapsed": true
   },
   "outputs": [],
   "source": [
    "import math\n",
    "class Circle:\n",
    "    def __init__(self, x, y, r):\n",
    "        self.centx = x\n",
    "        self.centy = y\n",
    "        self.radius = r\n",
    "        \n",
    "    def area(self):\n",
    "        return math.pi*(self.radius**2)\n",
    "    \n",
    "    #在此新增二圓是否相交函數\n",
    "    "
   ]
  },
  {
   "cell_type": "code",
   "execution_count": null,
   "metadata": {
    "collapsed": true
   },
   "outputs": [],
   "source": [
    "#測試結果\n"
   ]
  },
  {
   "cell_type": "markdown",
   "metadata": {},
   "source": [
    "## 4.類別封裝"
   ]
  },
  {
   "cell_type": "markdown",
   "metadata": {},
   "source": [
    "## 5.類別繼承"
   ]
  },
  {
   "cell_type": "markdown",
   "metadata": {},
   "source": [
    "## 6.類別多型"
   ]
  },
  {
   "cell_type": "code",
   "execution_count": null,
   "metadata": {
    "collapsed": true
   },
   "outputs": [],
   "source": []
  }
 ],
 "metadata": {
  "kernelspec": {
   "display_name": "Python 3",
   "language": "python",
   "name": "python3"
  },
  "language_info": {
   "codemirror_mode": {
    "name": "ipython",
    "version": 3
   },
   "file_extension": ".py",
   "mimetype": "text/x-python",
   "name": "python",
   "nbconvert_exporter": "python",
   "pygments_lexer": "ipython3",
   "version": "3.6.1"
  }
 },
 "nbformat": 4,
 "nbformat_minor": 2
}
