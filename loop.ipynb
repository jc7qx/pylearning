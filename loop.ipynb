{
 "cells": [
  {
   "cell_type": "markdown",
   "metadata": {},
   "source": [
    "## 迴圈\n",
    "迴圈是程式設計的基本結構之一，迴圈內的程式碼會重複執行。執行的條件可能是「一定次數」或某一「條件成立」。 Python 提供兩種迴圈的結構\n",
    "\n",
    "- for 迴圈\n",
    "- while 迴圈\n",
    "\n",
    "其中 for 迴圈可視為一種「計數」迴圈， while 迴圈視為一種「條件迴圈」。"
   ]
  },
  {
   "attachments": {},
   "cell_type": "markdown",
   "metadata": {},
   "source": [
    "### for  迴圈\n",
    "\n",
    "```python\n",
    "for i in [sequence]:\n",
    "    code block\n",
    "```\n",
    "- 「i」 是有序資料容器中的每一資料項，有序資料容器可視為一種資料結構，如 list(序列)，或可由 range() 函數所產生的有序數列。\n",
    "- 序列(Sequence)一「有次序」資料的資料容器，例如，一個字串(string)：\"hello kiki\"，一個序列(list)：[1, 2, 3, 4, 5]，或一個雜亂型別的序列資料容器：[“Love”, 123, 3.14, True]，每一筆資料在序列(Sequence)中都有一個位置指標，表示該資料在序列中的位置，而range()函數可以產生一組「整數」序列。\n",
    "- 注意 [sequence] 後面的冒號(：)，迴圈內的程式碼須要內縮"
   ]
  },
  {
   "attachments": {},
   "cell_type": "markdown",
   "metadata": {},
   "source": [
    "### range( ) 函數\n",
    "\n",
    "range()產生一組有次序的整數序列，如下例\n",
    "\n",
    "- range(10) -> [0, 1, 2, 3, 4, 5, 6, 7, 8, 9]\n",
    "- range(1, 10, 3) -> [1, 4, 7]\n",
    "- range(5, 0, -1) -> [5, 4, 3, 2, 1]\n"
   ]
  },
  {
   "cell_type": "markdown",
   "metadata": {},
   "source": [
    "下列 Python 及 Java 的 for loop 用法產生相同結果，因此可以了解`range()`的用法"
   ]
  },
  {
   "cell_type": "code",
   "execution_count": 2,
   "metadata": {},
   "outputs": [
    {
     "name": "stdout",
     "output_type": "stream",
     "text": [
      "0  1  2  3  4  5  6  7  8  9  \n"
     ]
    }
   ],
   "source": [
    "for x in range(10):\n",
    "    print(x, \" \", end=\"\")\n",
    "print()"
   ]
  },
  {
   "cell_type": "markdown",
   "metadata": {},
   "source": [
    "```java\n",
    "for (int i=0; i<10; i++){\n",
    "    System.out.print(i+\" \");\n",
    "}\n",
    "System.out.println();\n",
    "```"
   ]
  },
  {
   "cell_type": "code",
   "execution_count": 7,
   "metadata": {},
   "outputs": [
    {
     "name": "stdout",
     "output_type": "stream",
     "text": [
      "1+2+3+..+100 = 5050\n",
      "average = 50.5\n"
     ]
    }
   ],
   "source": [
    "# 範例：計算1到100的累加和及平均值\n",
    "n = 100\n",
    "box = 0\n",
    "for i in range(1,n+1): #why n+1?\n",
    "    box = box + i\n",
    "print(\"1+2+3+..+100 = {}\\naverage = {}\".format(box, box/n))"
   ]
  },
  {
   "cell_type": "markdown",
   "metadata": {
    "collapsed": true
   },
   "source": [
    "### 練習：寫一個 python 程式，累加1到1000中，能被 3 且不能被 5 整除的數的總和。 "
   ]
  },
  {
   "attachments": {},
   "cell_type": "markdown",
   "metadata": {
    "collapsed": true,
    "slideshow": {
     "slide_type": "-"
    }
   },
   "source": [
    "### while 迴圈\n",
    "\n",
    "``` python\n",
    "while (condition):\n",
    "    code block\n",
    "    update status\n",
    "```\n",
    "\n",
    "- 執行 while 迴圈內的程式，必須先通過 condition 測試，每一次執行程式前，須先檢查條件判斷式(condition)，若測試結果為False，則不會執行迴圈內的程式，若測試結果為True，則執行迴圈內的程式。\n",
    "- 注意「條件式」後面的冒號(：)，迴圈內的程式碼須要內縮"
   ]
  },
  {
   "cell_type": "code",
   "execution_count": 3,
   "metadata": {},
   "outputs": [
    {
     "name": "stdout",
     "output_type": "stream",
     "text": [
      "1+2+3+..+100 = 4950\n",
      "average = 49.5\n"
     ]
    }
   ],
   "source": [
    "# 範例：計算1到100的累加和及平均值\n",
    "n = 100\n",
    "i = 0\n",
    "box = 0\n",
    "while i<n:\n",
    "    box = box + i\n",
    "    i = i+1\n",
    "print(\"1+2+3+..+100 = {}\\naverage = {}\".format(box, box/n))"
   ]
  },
  {
   "attachments": {},
   "cell_type": "markdown",
   "metadata": {},
   "source": [
    "### continue 及 break\n",
    "\n",
    "- Continue 指令可以避開程式執行的步驟，直接跳到迴圈下一回合\n",
    "- break 指令可以強制中斷迴圈(while 或 for)的執行"
   ]
  },
  {
   "cell_type": "code",
   "execution_count": 6,
   "metadata": {},
   "outputs": [
    {
     "name": "stdout",
     "output_type": "stream",
     "text": [
      "97  is prime.\n"
     ]
    }
   ],
   "source": [
    "# 範例：判斷某一數 n 是否為「質數」？質數定義除了 「1」 及「本身」沒有其他因數。\n",
    "n = 97\n",
    "is_prime = True\n",
    "\n",
    "for i in range(2,n//2+1):\n",
    "    if (n%i==0):\n",
    "        is_prime = False\n",
    "if (is_prime):\n",
    "    print(n, \" is prime.\")\n",
    "else:\n",
    "    print(n, \" is not prime.\")"
   ]
  },
  {
   "attachments": {},
   "cell_type": "markdown",
   "metadata": {},
   "source": [
    "### 作業：請寫一個python程式找出99至9999間的質數!"
   ]
  },
  {
   "cell_type": "code",
   "execution_count": null,
   "metadata": {
    "collapsed": true
   },
   "outputs": [],
   "source": []
  }
 ],
 "metadata": {
  "kernelspec": {
   "display_name": "Python 3",
   "language": "python",
   "name": "python3"
  },
  "language_info": {
   "codemirror_mode": {
    "name": "ipython",
    "version": 3
   },
   "file_extension": ".py",
   "mimetype": "text/x-python",
   "name": "python",
   "nbconvert_exporter": "python",
   "pygments_lexer": "ipython3",
   "version": "3.6.1"
  }
 },
 "nbformat": 4,
 "nbformat_minor": 2
}
