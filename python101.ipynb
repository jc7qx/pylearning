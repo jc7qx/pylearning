{
 "cells": [
  {
   "cell_type": "markdown",
   "metadata": {
    "slideshow": {
     "slide_type": "slide"
    }
   },
   "source": [
    "<center> <H1> Python 101 課程</H1> </center>"
   ]
  },
  {
   "cell_type": "markdown",
   "metadata": {
    "slideshow": {
     "slide_type": "slide"
    }
   },
   "source": [
    "### 1.Python程式語言"
   ]
  },
  {
   "cell_type": "markdown",
   "metadata": {
    "slideshow": {
     "slide_type": "subslide"
    }
   },
   "source": [
    "Python是一種**通用型高階程式語言**(General Purpose High Level Programming Language)，由[Guido van Rossum](https://zh.wikipedia.org/zh-tw/%E5%90%89%E5%A4%9A%C2%B7%E8%8C%83%E7%BD%97%E8%8B%8F%E5%A7%86)開發，於1991年釋出第一版。Python是一種**直譯語言**，Python的設計哲學強調程式碼的可讀性和簡潔的語法（尤其是使用**空格縮排**來區分程式區塊，而不像C語言使用大括號）。不管是小型還是大型程式，該語言都試圖讓程式的結構清晰明瞭。Python擁有**動態型別**系統和**垃圾回收**功能，能夠自動管理記憶體使用，並且支援多種**撰寫典範**，包括物件導向、命令式、函數式和程序式編程。擁有一個巨大而廣泛的標準程式庫。"
   ]
  },
  {
   "cell_type": "markdown",
   "metadata": {},
   "source": [
    "Python直譯器(Interpreter)幾乎可以在所有的作業系統中執行。Python的正式直譯器CPython是用C語言編寫、是一個自由軟體，由[Python軟體基金會](http://python.org)管理。目前，Python可分為2.x及3.x版本，Python 2.0於2000年10月16日發布，Python 3.0於2008年12月3日發布，此版不完全相容之前2.x的Python原始碼。不過，很多新特性後來也被移植到舊的Python 2.6/2.7版本。"
   ]
  },
  {
   "cell_type": "markdown",
   "metadata": {
    "slideshow": {
     "slide_type": "subslide"
    }
   },
   "source": [
    "Python是一個完全**物件導向**的程式語言。函式、模組、數字、字串都是物件。並且完全支援繼承、重載、衍生、多重繼承，有益於程式碼的重複使用。Python支援重載運算符，因此Python也支援泛型設計。Python本身被設計為可擴充的。並非所有的特性和功能都整合到語言核心。Python提供了豐富的API和工具，以便程式設計師能夠輕鬆地使用C、C++、Cython來編寫擴充模組。Python編譯器本身也可以被整合到其它需要指令碼語言的程式內。因此，有很多人把Python作為一種「**膠水語言**」。"
   ]
  },
  {
   "cell_type": "markdown",
   "metadata": {},
   "source": [
    "2004年，Python已在Google公司內部使用，Google召募許多Python高手。Google公司內部儘量使用Python，在不得已時改用C++；亦即在控制硬體的場合使用C++，在快速開發時候使用Python。"
   ]
  },
  {
   "cell_type": "markdown",
   "metadata": {
    "slideshow": {
     "slide_type": "subslide"
    }
   },
   "source": [
    "Python的設計哲學是「優雅」、「明確」、「簡單」。Python開發者的哲學是「**用一種方法，最好是只有一種方法來做一件事**」，也因此它和擁有明顯個人風格的其他語言很不一樣。在設計Python語言時，如果面臨多種選擇，Python開發者一般會拒絕花俏的語法，而選擇明確沒有或者很少有歧義的語法。這些準則被稱為「[Python格言](http://wiki.python.org.tw/The%20Zen%20Of%20Python)」。"
   ]
  },
  {
   "cell_type": "markdown",
   "metadata": {},
   "source": [
    "Python開發人員盡量避開不成熟或者不重要的最佳化。一些針對非重要部位的加快運行速度的補丁(patch)通常不會被合併到Python內。再加上因為Python屬於**動態型別語言**\n",
    "\n",
    ">**動態型別語言**：是在執行期間檢查資料的型別，<strike>不得不保持描述變數值的實際類型標記，程式在每次操作變數時，需要執行資料依賴分支</strike>。\n",
    "\n",
    ">**靜態型別語言**：相對於動態型別語言，在宣告變數時指定資料型別和表示方法，\n",
    "\n",
    "根據這一原理導致Python相對於C、Visual Basic等靜態型別語言來說執行速度較慢。不過，但是根據二八定律，大多數程式對速度要求不高。在某些對運行速度要求很高的情況，Python設計師傾向於使用JIT(Just In Time)技術，或者用使用C/C++語言改寫這部分程式，目前可用的JIT技術是PyPy。"
   ]
  },
  {
   "cell_type": "markdown",
   "metadata": {},
   "source": [
    "### Python程式庫"
   ]
  },
  {
   "cell_type": "markdown",
   "metadata": {},
   "source": [
    "Python擁有一個強大的標準程式庫(Standard Technical Library)。Python語言的核心功能包含數字、字串、列表(陣列)、字典、檔案等常見類型和函式，而由Python標準程式庫提供了系統管理、網路通訊、文字處理、資料庫介面、圖形系統、XML處理等額外的功能。\n",
    "\n",
    "Python標準庫的主要功能有：\n",
    "\n",
    "* 文字處理，包含文字格式化、正規表示式符合、文字差異計算與合併、Unicode支援，二進位資料處理等功能\n",
    "* 檔案處理，包含檔案操作、建立臨時檔案、檔案壓縮與歸檔、操作設定檔等功能\n",
    "* 作業系統功能，包含執行緒與行程支援、IO復用、日期與時間處理、呼叫系統函式、記錄檔（logging）等功能\n",
    "* 網路通訊，包含網路通訊端，SSL加密通訊、異步網路通訊等功能\n",
    "* 網路協定，支援HTTP，FTP，SMTP，POP，IMAP，NNTP，XMLRPC等多種網路協定，並提供了編寫網路伺服器的框架\n",
    "* W3C格式支援，包含HTML，SGML，XML的處理。\n",
    "* 其它功能，包括國際化支援、數學運算、HASH、Tkinter等\n",
    "\n",
    "Python社群提供了大量的第三方模組，使用方式與標準庫類似。它們的功能覆蓋科學計算、Web開發、資料庫介面、圖形系統多個領域。第三方模組可以使用Python或者C語言編寫。"
   ]
  },
  {
   "cell_type": "markdown",
   "metadata": {},
   "source": [
    "### Python應用領域"
   ]
  },
  {
   "cell_type": "markdown",
   "metadata": {},
   "source": [
    "python的應用領域非常廣泛，根據[TIOBE的評估](https://www.tiobe.com/tiobe-index/)，Python是目前軟體開發人員相當喜愛的程式語言之一，2018年九月份排名第三。相關的應用領域包括\n",
    "\n",
    "* Python經常被用於網頁開發。比如，通過mod_wsgi模組，Apache可以運行用Python編寫的Web程式。Python定義了WSGI標準應用介面來協調Http伺服器與基於Python的Web程式之間的溝通。一些Web框架，如Django、Pyramid、TurboGears、Tornado、web2py、Zope、Flask等，可以讓程式設計師輕鬆地開發和管理複雜的Web程式。\n",
    "* Python對於各種網路協定的支援很完善，因此經常被用於編寫伺服器軟體、網路爬蟲。第三方函式庫Twisted支援非同步線上編寫程式和多數標準的網路協定（包含用戶端和伺服器），並且提供了多種工具，被廣泛用於編寫高效能的伺服器軟體。\n",
    "* Python本身包含的Tkinter庫能夠支援簡單的GUI開發。但是越來越多的Python程式設計師選擇wxPython或者PyQt等GUI套件來開發跨平台的桌面軟體。使用它們開發的桌面軟體執行速度快，與用戶的桌面環境相契合。通過PyInstaller還能將程式釋出為獨立的安裝程式包。\n",
    "* 許多作業系統裡，Python是標準的系統元件。大多數Linux發行版和Mac OS X都整合了Python，可以在終端機下直接執行Python。有一些Linux發行版的安裝器使用Python語言編寫。Python標準庫包含了多個調用作業系統功能的函式庫。pywin32這個第三方軟體包能夠存取Windows的COM服務及其它Windows API。使用IronPython能夠直接調用.Net Framework。\n",
    "* NumPy、SciPy、Matplotlib可以讓Python程式設計師編寫科學計算程式。近年來在大數據資料分析上，Python有著重要的應用！和R語言不同，Python本身就是一門工程性語言，資料科學家用Python實現的演算法，對於大數據初創公司節省成本是非常有幫助的。也因為資料科學家對Python和R的熱愛，Spark對這兩種語言提供了非常好的支援。Python在網路爬蟲、雲端基礎設施、DevOps與數據處理等領域都是炙手可熱的語言，只要學會Python，就可以實現一個完整的BigData處理平臺。\n",
    "* 在遊戲開發領域，可以利用Pygame遊戲開發程式庫撰寫遊戲。Pygame是建立在SDL程式庫上，可以建立遊戲及多媒體的Python應用程式。\n",
    "* Python可以用來開發手機應用程式，Python-for-Android是一個python程式庫用來開發Android應用程式。Kivy是開源Python函式庫，用於開發行動應用程式和其它採用自然使用者介面的多點觸控應用軟體。它可以在Android，iOS，Linux，OS X和Windows執行。採用MIT授權條款，Kivy是自由並且開源的軟體。Kivy的主要架構由Kivy組織開發，並有Python用於Android，Kivy iOS，和其它許多函式庫被使用在所有平台。Kivy也支援由Bountysource贊助的樹莓派。此外，qpython是一個較新的專案，它是一個在Android上運行的Python程式引擎，可以讓你在Android平台上執行Python程式碼。"
   ]
  },
  {
   "cell_type": "markdown",
   "metadata": {},
   "source": [
    "### Python直譯器安裝與操作"
   ]
  },
  {
   "cell_type": "markdown",
   "metadata": {},
   "source": [
    "Python是一個開源軟體(Open Source Software)，可以免費下載使用。目前是由[Python軟體基金會](http://python.org)管理，可以上該基金會網站下載適合的版本來使用。最新有兩種版本可供下載；3.7.0及2.7.15。課程中主要使用3.6版本，且在微軟作業系統下執行，因此可以到[官方網頁下載專區](https://www.python.org/downloads/windows/) 下載適用於微軟作業系統(Windows)下執行的Python程式直譯器使用。"
   ]
  },
  {
   "cell_type": "markdown",
   "metadata": {},
   "source": [
    "安裝完軟體後，在Windows作業系統的程式集會新增一個Python3.6的執行標籤，按下後會打開顯示4個執行選項\n",
    "\n",
    "    IDLE(Python 3.6 64-bit\n",
    "    Python 3.6(64-bi)命令列視窗\n",
    "    Pyhton 3.6 Manuals (64-bit)\n",
    "    Python 3.6 Manuals Docs (64-bit)\n",
    "\n",
    "選擇IDLE進入Python的直譯式程式(命令列)執行模式，如下圖"
   ]
  },
  {
   "cell_type": "markdown",
   "metadata": {},
   "source": [
    "![python exec](pic/pyexec.png)"
   ]
  },
  {
   "cell_type": "markdown",
   "metadata": {},
   "source": [
    "在直譯式程式(命令列)執行模式下，一次輸入一行Python指令，一次執行一行指令。直譯式的執行方式可以使我對程式的執行較為請楚，但對於很大的程式碼的執行就不太方便。因此，提供另一種「批次」執行方式，可以一次執行多行指令，可以將這些指令寫到一個文件檔中，然後呼叫直譯器一次執行。在直譯器的左上角有一個檔案(File)標籤，按下後選擇新增檔案(New File)，就會進入一個程式編輯的模式。\n",
    "\n",
    "> 注意Python的程式檔的**副檔名**必須是**.py**。\n",
    "\n",
    "編輯完程式後，按下F5快速鍵可以執行程式，但執行前會要求先儲存檔案。編輯視窗下方會出現一個輸出視窗顯示執行結果，如果程式沒有語法上的錯誤，將會產生一個執行結果，否則會有程式錯誤訊息顯示。"
   ]
  },
  {
   "cell_type": "markdown",
   "metadata": {
    "collapsed": true
   },
   "source": [
    "除了使用Pyhton官方提供直譯器工具來執行與編寫程式外，也可以使用一般的程式編輯器來編寫程式及執行程式。常用的Python專業編輯器有[Pycharm](https://www.jetbrains.com/pycharm/)，PyCharm是一個用於編寫程成的整合開發環境（IDE），主要用於Python語言開發，由捷克公司JetBrains開發，提供代碼分析、圖形化調試器，整合測試器、整合版本控制系統，並支持使用Django進行網頁開發。PyCharm是一個跨平台開發環境，擁有Microsoft Windows、macOS和Linux版本。社區版在Apache許可證下發布，另外還有專業版在專用許可證下發布，其擁有許多額外功能。Vistual Studio已經可以支援Python程式的開發與執行。還有一些編輯器如[Atom](https://atom.io/)、[Notepad++](https://notepad-plus-plus.org/zh/)...等工具也可以和Python編程與執行整合。"
   ]
  },
  {
   "cell_type": "markdown",
   "metadata": {},
   "source": [
    "值得一提的是Anaconda，Anaconda 是一種Python語言的免費增值開源發行版，用於進行大規模數據處理、預測分析，和科學計算，致力於簡化套件的管理和部署。Anaconda使用軟體套管理系統Conda進行套件管理。"
   ]
  },
  {
   "cell_type": "markdown",
   "metadata": {},
   "source": [
    "本課程中，我們將使用Notepad++及Anaconda下的Jupyter Notebook。本文件即是利用Jupyter Notebook產生。"
   ]
  },
  {
   "cell_type": "markdown",
   "metadata": {},
   "source": [
    "### 基本語法規則"
   ]
  },
  {
   "cell_type": "markdown",
   "metadata": {},
   "source": [
    "* Python程式檔案的副檔名為.py。"
   ]
  },
  {
   "cell_type": "markdown",
   "metadata": {},
   "source": [
    "* Python程式中的註解文字，以#符號為前置符號。"
   ]
  },
  {
   "cell_type": "code",
   "execution_count": 1,
   "metadata": {},
   "outputs": [
    {
     "name": "stdout",
     "output_type": "stream",
     "text": [
      "註解行不會顯示於程式執行結果\n"
     ]
    }
   ],
   "source": [
    "# 此行為註解行，不會被執行\n",
    "print(\"註解行不會顯示於程式執行結果\")"
   ]
  },
  {
   "cell_type": "markdown",
   "metadata": {},
   "source": [
    "* Python是一種動態型別程式語言，變數不需要事先宣告定義，以實際值的資料型別來定義變數資料型別。"
   ]
  },
  {
   "cell_type": "code",
   "execution_count": 74,
   "metadata": {
    "scrolled": true
   },
   "outputs": [
    {
     "ename": "TypeError",
     "evalue": "'int' object is not callable",
     "output_type": "error",
     "traceback": [
      "\u001b[0;31m---------------------------------------------------------------------------\u001b[0m",
      "\u001b[0;31mTypeError\u001b[0m                                 Traceback (most recent call last)",
      "\u001b[0;32m<ipython-input-74-2a6865d81a9d>\u001b[0m in \u001b[0;36m<module>\u001b[0;34m()\u001b[0m\n\u001b[1;32m      1\u001b[0m \u001b[0ma\u001b[0m \u001b[0;34m=\u001b[0m \u001b[0;36m10\u001b[0m\u001b[0;34m\u001b[0m\u001b[0m\n\u001b[0;32m----> 2\u001b[0;31m \u001b[0mprint\u001b[0m\u001b[0;34m(\u001b[0m\u001b[0mtype\u001b[0m\u001b[0;34m(\u001b[0m\u001b[0ma\u001b[0m\u001b[0;34m)\u001b[0m\u001b[0;34m)\u001b[0m\u001b[0;34m\u001b[0m\u001b[0m\n\u001b[0m\u001b[1;32m      3\u001b[0m \u001b[0ma\u001b[0m \u001b[0;34m=\u001b[0m \u001b[0;36m12.3\u001b[0m\u001b[0;34m\u001b[0m\u001b[0m\n\u001b[1;32m      4\u001b[0m \u001b[0mprint\u001b[0m\u001b[0;34m(\u001b[0m\u001b[0mtype\u001b[0m\u001b[0;34m(\u001b[0m\u001b[0ma\u001b[0m\u001b[0;34m)\u001b[0m\u001b[0;34m)\u001b[0m\u001b[0;34m\u001b[0m\u001b[0m\n\u001b[1;32m      5\u001b[0m \u001b[0ma\u001b[0m \u001b[0;34m=\u001b[0m \u001b[0;34m\"I love you all\"\u001b[0m\u001b[0;34m\u001b[0m\u001b[0m\n",
      "\u001b[0;31mTypeError\u001b[0m: 'int' object is not callable"
     ]
    }
   ],
   "source": [
    "a = 10\n",
    "print(type(a))\n",
    "a = 12.3\n",
    "print(type(a))\n",
    "a = \"I love you all\"\n",
    "print(type(a))"
   ]
  },
  {
   "cell_type": "markdown",
   "metadata": {},
   "source": [
    "* Python程式語言利用**縮排**表示程式區塊的開始和結束（Off-side規則），而非使用大括號。根據PEP 8的規定，必須使用4個空格來表示每級縮排。使用Tab字元和其它數目的空格。以下的例子中，print()是屬於**if**結構下的區塊，因此使用內縮來定義。"
   ]
  },
  {
   "cell_type": "code",
   "execution_count": null,
   "metadata": {
    "collapsed": true,
    "scrolled": true
   },
   "outputs": [],
   "source": [
    "a = 19\n",
    "if a < 20:\n",
    "    print(\"不可以買酒\")\n",
    "else:\n",
    "    print(\"可以買酒\")"
   ]
  },
  {
   "cell_type": "markdown",
   "metadata": {},
   "source": [
    "### 第一隻Python程式"
   ]
  },
  {
   "cell_type": "markdown",
   "metadata": {},
   "source": [
    "列印出Helloworld字串通常用來測試程式語言的第一個程式，讓我們來比較一下Python和C語言的helloworld程式。"
   ]
  },
  {
   "cell_type": "markdown",
   "metadata": {},
   "source": [
    "**Python version:**"
   ]
  },
  {
   "cell_type": "markdown",
   "metadata": {
    "collapsed": true
   },
   "source": [
    "```python\n",
    "print(\"Hello World!!!\")\n",
    "```"
   ]
  },
  {
   "cell_type": "markdown",
   "metadata": {},
   "source": [
    "**C version:**"
   ]
  },
  {
   "cell_type": "markdown",
   "metadata": {},
   "source": [
    "```C\n",
    "include <stdiio.h>\n",
    "include <stdlib.h>\n",
    "int main(void){\n",
    "    println(\"Hello World!!!\");\n",
    "    return 1;\n",
    "}\n",
    "```"
   ]
  },
  {
   "cell_type": "markdown",
   "metadata": {},
   "source": [
    "### 2. 資料基本型別與變數"
   ]
  },
  {
   "cell_type": "markdown",
   "metadata": {},
   "source": [
    "資料處理是電腦的核心功能，大部分的應用程式處理數值與文字資料。Python的文字資料又可區分為字元與字串二類，字元可以單引號來定義，例如**'H'**，另一類為字串，可以雙引號來定義，例如**\"Hello world\"**。以上`'H'`被稱為字元常數和`\"Hello world\"`被稱為字串常數。通常，一個字元佔1個byte記憶體大小，｀“Hello world\"`佔11個byte。"
   ]
  },
  {
   "cell_type": "markdown",
   "metadata": {},
   "source": [
    "Python所能處理的數值資料型別包括「整數」、「浮點數」、「複數」、及「布林數」。不同資料型別佔據記憶體大小決定資料範圍。\n",
    "\n",
    "* 整數，如1, 23, 789\n",
    "* 浮點數，如12.3, 1.23e10 \n",
    "* 複數，如1+2j\n",
    "* 布林數，如True或 False\n"
   ]
  },
  {
   "cell_type": "markdown",
   "metadata": {},
   "source": [
    "### type 函數"
   ]
  },
  {
   "cell_type": "markdown",
   "metadata": {},
   "source": [
    "Python的內建函數`type()`可以用來顯示資料的類別。"
   ]
  },
  {
   "cell_type": "code",
   "execution_count": null,
   "metadata": {
    "collapsed": true,
    "scrolled": true
   },
   "outputs": [],
   "source": [
    "print(100,type(100))\n",
    "print(12.3, type(12.3))\n",
    "print(\"Helloworld\", type(\"Hello world\"))\n",
    "print(1+2j, type(1+2j))\n",
    "print(5>3, type(5>3))"
   ]
  },
  {
   "cell_type": "markdown",
   "metadata": {},
   "source": [
    "### 整數(Integer)"
   ]
  },
  {
   "cell_type": "markdown",
   "metadata": {},
   "source": [
    "在Python中，只要沒有帶小數點的數值或複數，都視為整數，且整數的大小是沒有限制的，不像其他的程式語言，如[Java](https://cs.fit.edu/~ryan/java/language/java-data.html)、[C](https://msdn.microsoft.com/en-us/library/cc953fe1.aspx) ...。"
   ]
  },
  {
   "cell_type": "code",
   "execution_count": null,
   "metadata": {
    "collapsed": true,
    "scrolled": true
   },
   "outputs": [],
   "source": [
    "print(10000000000000000000000000000000000000000000001 + 1)"
   ]
  },
  {
   "cell_type": "markdown",
   "metadata": {},
   "source": [
    "不同進位的整數表示方式，如`0b010`表示二進位數，`0o12`表示八進位數，`0x25`表示16進位數。"
   ]
  },
  {
   "cell_type": "code",
   "execution_count": null,
   "metadata": {
    "collapsed": true,
    "scrolled": true
   },
   "outputs": [],
   "source": [
    "print('0b010',' = ', 0b010, type(0b010))\n",
    "print('0o12', ' = ', 0o12, type(0o12))\n",
    "print('0x25', ' = ', 0x25, type(0x25))"
   ]
  },
  {
   "cell_type": "markdown",
   "metadata": {},
   "source": [
    "### 浮點數(float)"
   ]
  },
  {
   "cell_type": "markdown",
   "metadata": {},
   "source": [
    "浮點數是帶有小數點的數值，如12.345，0.87654，此外也可以使用科學符號的表示法，如1.234e5，0.00345e10。"
   ]
  },
  {
   "cell_type": "code",
   "execution_count": null,
   "metadata": {
    "collapsed": true,
    "scrolled": true
   },
   "outputs": [],
   "source": [
    "print(12.3, type(12.3))\n",
    "print(1., type(1.), '[', 1, type(1), ']')\n",
    "print(.456, type(.456))\n",
    "print(.00357e5, type(.00357e5))"
   ]
  },
  {
   "cell_type": "markdown",
   "metadata": {},
   "source": [
    "一般而言，浮點數在電腦內部表示方法，是遵循IEEE 754的規定以64位元來計算，因此浮點數最大值為 1.8 x 10<sup>308</sup>，如果一個數的數值大於 1.8 x 10<sup>308</sup> 將被視為**無窮大數(inf)**。最接近0的數為 5.0 x 10<sup>-324</sup>，小於5.0 x 10<sup>-324</sup>被視為**0(zero)**。"
   ]
  },
  {
   "cell_type": "code",
   "execution_count": null,
   "metadata": {
    "collapsed": true,
    "scrolled": true
   },
   "outputs": [],
   "source": [
    "print(1.79e308)\n",
    "print(1.8e308)\n",
    "print(5.0e-324)\n",
    "print(1.e-325)"
   ]
  },
  {
   "cell_type": "markdown",
   "metadata": {},
   "source": [
    "### 文字資料"
   ]
  },
  {
   "cell_type": "markdown",
   "metadata": {},
   "source": [
    "在Python中文字資料使用英文**單/雙引號**來定義字元或字串，如`'I'`， `\"I am a student\"`，`' 我是中華科大電子系學生'`。"
   ]
  },
  {
   "cell_type": "code",
   "execution_count": null,
   "metadata": {
    "collapsed": true,
    "scrolled": true
   },
   "outputs": [],
   "source": [
    "print('I')\n",
    "print('I am a student.')\n",
    "print(\"我是中華科大電子系學生\")"
   ]
  },
  {
   "cell_type": "markdown",
   "metadata": {},
   "source": [
    "如果你定義的字串` 'I am cust's student' `，將會出現語法錯誤(invalid syntax)喔！找出錯誤了沒？"
   ]
  },
  {
   "cell_type": "code",
   "execution_count": null,
   "metadata": {
    "collapsed": true,
    "scrolled": true
   },
   "outputs": [],
   "source": [
    "print('I am cust's student')"
   ]
  },
  {
   "cell_type": "markdown",
   "metadata": {},
   "source": [
    "是的，要注意單/雙引號的位置，可以如此修正，` \" I am cust ' s student \"`。"
   ]
  },
  {
   "cell_type": "code",
   "execution_count": null,
   "metadata": {
    "collapsed": true,
    "scrolled": true
   },
   "outputs": [],
   "source": [
    "print(\"I am cust's student\")"
   ]
  },
  {
   "cell_type": "markdown",
   "metadata": {},
   "source": [
    "上述問題還有另外一種解決方法，稱為「跳脫字元」，可以在「'」的前面增加一個「\\」斜線符號，所以`' I am cust\\'s student.'`"
   ]
  },
  {
   "cell_type": "code",
   "execution_count": null,
   "metadata": {
    "collapsed": true,
    "scrolled": true
   },
   "outputs": [],
   "source": [
    "print(' I am cust\\'s student.')"
   ]
  },
  {
   "cell_type": "markdown",
   "metadata": {},
   "source": [
    "「\\」斜線符號可以使一些原有定義好的字元功能停止，如「\\newline」使斷行功能停止。如下例我想印出「I am a student,of Electronic Departmentat CUST in Taiwan.」"
   ]
  },
  {
   "cell_type": "code",
   "execution_count": null,
   "metadata": {
    "collapsed": true,
    "scrolled": true
   },
   "outputs": [],
   "source": [
    "print(\"I am a student, "
   ]
  },
  {
   "cell_type": "code",
   "execution_count": null,
   "metadata": {
    "collapsed": true,
    "scrolled": true
   },
   "outputs": [],
   "source": [
    "print(\"I am a student,\\\n",
    "of cust\\'s Electronic Department\\\n",
    " in Taiwan.\")"
   ]
  },
  {
   "cell_type": "markdown",
   "metadata": {},
   "source": [
    "常用的跳脫字元功能，如下表"
   ]
  },
  {
   "cell_type": "markdown",
   "metadata": {},
   "source": [
    "跳脫字元 | 功能 \n",
    "-------------|------------------------------\n",
    "\\a            | 產生BB聲 \n",
    "\\b            | 字元游標位置回前一格\n",
    "\\n            | 斷行字元\n",
    "\\t             | tab 跳格\n",
    "\n"
   ]
  },
  {
   "cell_type": "code",
   "execution_count": null,
   "metadata": {
    "collapsed": true,
    "scrolled": true
   },
   "outputs": [],
   "source": [
    "print(\"I am a student, \\nat cust, in Taiwan\")"
   ]
  },
  {
   "cell_type": "code",
   "execution_count": null,
   "metadata": {
    "collapsed": true,
    "scrolled": true
   },
   "outputs": [],
   "source": [
    "print(\"姓名\\t學號\\t電話\")"
   ]
  },
  {
   "cell_type": "markdown",
   "metadata": {},
   "source": [
    "### 多行字串表示"
   ]
  },
  {
   "cell_type": "markdown",
   "metadata": {},
   "source": [
    "如果我們想要印出顯示李白五言絕句，該如何做？\n",
    "\n",
    ">窗前明月光，<br>\n",
    ">疑是地上霜，<br>\n",
    ">舉頭望明月，<br>\n",
    ">低頭思故鄉。<br>"
   ]
  },
  {
   "cell_type": "code",
   "execution_count": null,
   "metadata": {
    "collapsed": true,
    "scrolled": true
   },
   "outputs": [],
   "source": [
    "print(\"\"\"\n",
    "窗前明月光，\n",
    "疑是地上霜，\n",
    "舉頭望明月，\n",
    "低頭思故鄉。\n",
    "\"\"\")"
   ]
  },
  {
   "cell_type": "markdown",
   "metadata": {},
   "source": [
    "### 布林值(Boolean value)"
   ]
  },
  {
   "cell_type": "markdown",
   "metadata": {},
   "source": [
    "布林值包含「真」與「假」二個值，真假值是有邏輯判斷式來決定，邏輯式有關於一個事實(Fact)的真假，例如 (5>3) 是一個事實，如果 5>3 為真，則布林值為True，否則布林值為False。在Python中，True表示「真」，False表示「假」。"
   ]
  },
  {
   "cell_type": "code",
   "execution_count": null,
   "metadata": {
    "collapsed": true,
    "scrolled": true
   },
   "outputs": [],
   "source": [
    "print(5>3)\n",
    "print(5<3)"
   ]
  },
  {
   "cell_type": "markdown",
   "metadata": {},
   "source": [
    "True和False的資料型別為布林。"
   ]
  },
  {
   "cell_type": "code",
   "execution_count": null,
   "metadata": {
    "collapsed": true,
    "scrolled": true
   },
   "outputs": [],
   "source": [
    "print(type(True)) #True, False是布林資料型別\n",
    "print(type(False))"
   ]
  },
  {
   "cell_type": "markdown",
   "metadata": {},
   "source": [
    "### print 輸出函式"
   ]
  },
  {
   "cell_type": "markdown",
   "metadata": {},
   "source": [
    "print函式提供我們將程式執行結果輸出到螢幕，是一個I/O函式。print函式的定義如下：\n",
    "`print(value1, ..., sep=' ', end='\\n', file=sys.stdout, flush=False)`\n",
    "  * **value1**：表示要輸出的內容，可以輸出多個內容，中間以「，」隔開。\n",
    "  * **sep** : ' ':表示輸出多個內容之間的分隔符號，預設值為空格。\n",
    "  * **end** : '\\n': 表示輸出的結尾符號，預設為「斷行」(newline)。\n",
    "  * **file** : sys.stout: 表示輸出的檔案目的地，sys.stdout代表輸出至標準螢幕。"
   ]
  },
  {
   "cell_type": "code",
   "execution_count": null,
   "metadata": {
    "collapsed": true,
    "scrolled": true
   },
   "outputs": [],
   "source": [
    "print(\"我今年\",18, \"歲\")"
   ]
  },
  {
   "cell_type": "code",
   "execution_count": null,
   "metadata": {
    "collapsed": true,
    "scrolled": true
   },
   "outputs": [],
   "source": [
    "print(\"我今年\",18, \"歲\", sep = \"/\")"
   ]
  },
  {
   "cell_type": "code",
   "execution_count": null,
   "metadata": {
    "collapsed": true,
    "scrolled": true
   },
   "outputs": [],
   "source": [
    "print(\"我今年\",18, \"歲，\", end=\" \")\n",
    "print(\"我是大學新生。\")"
   ]
  },
  {
   "cell_type": "code",
   "execution_count": null,
   "metadata": {
    "collapsed": true,
    "scrolled": true
   },
   "outputs": [],
   "source": [
    "print(1, 2.3, 4.56e2, sep=\"//\")"
   ]
  },
  {
   "cell_type": "markdown",
   "metadata": {},
   "source": [
    "### 格式化列印串"
   ]
  },
  {
   "cell_type": "markdown",
   "metadata": {},
   "source": [
    "**舊格式**"
   ]
  },
  {
   "cell_type": "code",
   "execution_count": null,
   "metadata": {
    "collapsed": true
   },
   "outputs": [],
   "source": [
    "sprint = \"姓名：%10s，年齡：%3d歲，體重：%7.2f公斤\" % (\"王大明\", 20, 73.45)"
   ]
  },
  {
   "cell_type": "code",
   "execution_count": null,
   "metadata": {
    "collapsed": true,
    "scrolled": true
   },
   "outputs": [],
   "source": [
    "print(sprint)"
   ]
  },
  {
   "cell_type": "markdown",
   "metadata": {},
   "source": [
    "**新格式**"
   ]
  },
  {
   "cell_type": "code",
   "execution_count": null,
   "metadata": {
    "collapsed": true
   },
   "outputs": [],
   "source": [
    "sprint = \"姓名：{0:^10s}， 年齡：{1:3d}歲， 體重：{2:7.2f}公斤\".\\\n",
    "    format(\"王大明\", 20, 73.45)"
   ]
  },
  {
   "cell_type": "code",
   "execution_count": null,
   "metadata": {
    "collapsed": true,
    "scrolled": true
   },
   "outputs": [],
   "source": [
    "print(sprint)"
   ]
  },
  {
   "cell_type": "markdown",
   "metadata": {},
   "source": [
    "**格式符號表**"
   ]
  },
  {
   "cell_type": "markdown",
   "metadata": {},
   "source": [
    "符號  | 意義\n",
    ":----: |:----------------------\n",
    "%%     | 在字串 中顯示%\n",
    "%d     | 以10 進位整數方式輸出\n",
    "%f     | 將浮點 數以10進位方式輸出\n",
    "%e, %E |將浮點 數以10進位方式輸出，並使用科學記號\n",
    "%o     |以8進 位整數方式輸出\n",
    "%x, %X |將整 數以16進位方式輸出\n",
    "%s     |使用str()將字串輸出\n",
    "%r     |使用repr()輸 出字串"
   ]
  },
  {
   "cell_type": "code",
   "execution_count": null,
   "metadata": {
    "collapsed": true
   },
   "outputs": [],
   "source": [
    "print(\" %f\\n %.2f\\n %.5f\\n %7.2f\\n %10.5f\\n\" % \\\n",
    "      (3.14159,3.14159,3.14159,3.14159,3.14159))"
   ]
  },
  {
   "cell_type": "markdown",
   "metadata": {},
   "source": [
    "### 列印格式修飾子"
   ]
  },
  {
   "cell_type": "markdown",
   "metadata": {},
   "source": [
    "  修飾子 | 意義\n",
    ":------:|:-------\n",
    "%**m.n**f   | 浮點數顯示長度m位，其中含小數點及小數點後n位\n",
    "%**n**d    | 整數顯示長度n位\n",
    "**0**      | 以0補空位\n",
    "**+**       | 正負號顯示"
   ]
  },
  {
   "cell_type": "code",
   "execution_count": null,
   "metadata": {
    "collapsed": true
   },
   "outputs": [],
   "source": [
    "s = \"{:10d}(靠右對齊，預設)\\n{:^10d}(置中對齊)\\n{:>10d}(靠右對齊)\\n{:<10d}(靠左對齊)\"\\\n",
    ".format(12345, 12345, 12345, 12345)\n",
    "print(s)"
   ]
  },
  {
   "cell_type": "code",
   "execution_count": null,
   "metadata": {
    "collapsed": true
   },
   "outputs": [],
   "source": [
    "s = \"{:+010d}\".format(1234)\n",
    "print(s)"
   ]
  },
  {
   "cell_type": "markdown",
   "metadata": {
    "collapsed": true
   },
   "source": [
    "### 3.變數與運算式"
   ]
  },
  {
   "cell_type": "markdown",
   "metadata": {},
   "source": [
    "### 變數定義"
   ]
  },
  {
   "cell_type": "markdown",
   "metadata": {},
   "source": [
    "程式設計時，變數可代表資料，變數會佔據一塊記憶體，資料儲存在記憶體中。例如，`A = 5`，A 是變數，5 是儲存在 A 的記憶體中的資料，`A=5`可以解讀為將5**指定**給 A，A變數的內容為5。"
   ]
  },
  {
   "cell_type": "code",
   "execution_count": null,
   "metadata": {
    "collapsed": true
   },
   "outputs": [],
   "source": [
    "m = \"Jeremy is one of best NBA players\"\n",
    "n = 100\n",
    "f = 3.14159"
   ]
  },
  {
   "cell_type": "markdown",
   "metadata": {
    "collapsed": true
   },
   "source": [
    "Python程式語言的變數不需要事先宣告，因為python屬於**動態型別**，當指定變數內容時，變數的資料型別將隨之改變，這點不同於Java或C/C++程式語言(必須先經過<u>資料型別宣告</u>)，但變數命名須符合規定。不同的資料型別所佔的記憶體大小也不同。"
   ]
  },
  {
   "cell_type": "code",
   "execution_count": null,
   "metadata": {
    "collapsed": true
   },
   "outputs": [],
   "source": [
    "import sys\n",
    "a = \"Hello\"\n",
    "print(a, type(a), sys.getsizeof(a))\n",
    "a = 123\n",
    "print(a, type(a), sys.getsizeof(a))\n",
    "a = 3.14\n",
    "print(a, type(a), sys.getsizeof(a))\n",
    "a = True\n",
    "print(a, type(a), sys.getsizeof(a))"
   ]
  },
  {
   "cell_type": "markdown",
   "metadata": {},
   "source": [
    "> **sys.getsizeof( )**是一個系統函式，在sys模組之下，可以顯示資料的記憶體大小"
   ]
  },
  {
   "cell_type": "markdown",
   "metadata": {},
   "source": [
    "### 變數命名規則"
   ]
  },
  {
   "cell_type": "markdown",
   "metadata": {},
   "source": [
    "- 變數名稱以英文命名\n",
    "- 名稱大小寫不同時，是為不同變數\n",
    "- 變數名稱可以是英文字元、數字、底線符號\n",
    "- 變數名稱的長度不限，但應以有意義者為佳\n",
    "- 變數的地一個字元不可為數字\n",
    "- 變數名稱中不可有特殊符號，!@#$%^&*\n",
    "- 變數名稱不可是python保留字\n",
    "\n",
    "> Python程式語言的保留字，請參考[這裡](https://www.programiz.com/python-programming/keyword-list)"
   ]
  },
  {
   "cell_type": "code",
   "execution_count": null,
   "metadata": {
    "collapsed": true
   },
   "outputs": [],
   "source": [
    "abc = 123\n",
    "Abc = 456\n",
    "print(abc, Abc)"
   ]
  },
  {
   "cell_type": "code",
   "execution_count": null,
   "metadata": {
    "collapsed": true
   },
   "outputs": [],
   "source": [
    "_abc = 123"
   ]
  },
  {
   "cell_type": "code",
   "execution_count": null,
   "metadata": {
    "collapsed": true
   },
   "outputs": [],
   "source": [
    "_abc_ = 123"
   ]
  },
  {
   "cell_type": "code",
   "execution_count": null,
   "metadata": {
    "collapsed": true
   },
   "outputs": [],
   "source": [
    "ab_c = 123"
   ]
  },
  {
   "cell_type": "code",
   "execution_count": null,
   "metadata": {
    "collapsed": true
   },
   "outputs": [],
   "source": [
    "theNumberOfClassAtEEdeptinCust = 36"
   ]
  },
  {
   "cell_type": "code",
   "execution_count": null,
   "metadata": {
    "collapsed": true
   },
   "outputs": [],
   "source": [
    "a1b2c3 = 123"
   ]
  },
  {
   "cell_type": "code",
   "execution_count": null,
   "metadata": {
    "collapsed": true
   },
   "outputs": [],
   "source": [
    "1abc = 123 #語法錯誤，第一個字元不可為數字"
   ]
  },
  {
   "cell_type": "code",
   "execution_count": null,
   "metadata": {
    "collapsed": true
   },
   "outputs": [],
   "source": [
    "a@bc = 123 #語法錯誤，名稱中不可含有特殊符號"
   ]
  },
  {
   "cell_type": "code",
   "execution_count": null,
   "metadata": {
    "collapsed": true
   },
   "outputs": [],
   "source": [
    "ab-c = 123 #語法錯誤，名稱中不可含有特殊符號"
   ]
  },
  {
   "cell_type": "code",
   "execution_count": null,
   "metadata": {
    "collapsed": true
   },
   "outputs": [],
   "source": [
    "while = 123"
   ]
  },
  {
   "cell_type": "code",
   "execution_count": null,
   "metadata": {
    "collapsed": true
   },
   "outputs": [],
   "source": [
    "for = 456"
   ]
  },
  {
   "cell_type": "markdown",
   "metadata": {},
   "source": [
    "### 運算式"
   ]
  },
  {
   "cell_type": "markdown",
   "metadata": {},
   "source": [
    "運算式是由運算子與運算元組成，`5+3`的算式中，`5`和`3`是運算元，`+`是運算子。資料的基本運算符號，稱之為運算子(operator)，數值運算子包括：\n",
    "\n",
    "運算子|意義    | 範例\n",
    ":---:|:-------|:------:\n",
    "+    |  加法   | 5+3\n",
    "-    |  減法   | 5-3\n",
    "*    |  乘法   | 5*3\n",
    "/    |  除法   | 5/3\n",
    "//   |  求商   | 5//3\n",
    "%    |  取餘數 | 5%3\n",
    "**   |  乘方   | 5**3\n"
   ]
  },
  {
   "cell_type": "markdown",
   "metadata": {},
   "source": [
    "運算過程中的資料，稱之為運算元(operand)，運算元可以是常數、變數、函式。"
   ]
  },
  {
   "cell_type": "markdown",
   "metadata": {},
   "source": [
    "> 請將上表中的運算式輸入到Python命令列模式計算結果？"
   ]
  },
  {
   "cell_type": "markdown",
   "metadata": {},
   "source": [
    "### 課堂練習，請你再python命令列執行模式中，輸入以下數學式\n",
    "1. 2*3/1/3+1\n",
    "2. 2*3/(1/3)+1\n",
    "3. 2*3/1/(3+1)\n",
    "\n",
    "請輸出計算結果？"
   ]
  },
  {
   "cell_type": "markdown",
   "metadata": {},
   "source": [
    "$2*\\frac{3}{\\frac{1}{3}}+1$"
   ]
  },
  {
   "cell_type": "markdown",
   "metadata": {},
   "source": [
    "### 課堂練習：一元二次方程式求解"
   ]
  },
  {
   "cell_type": "markdown",
   "metadata": {},
   "source": [
    "### 資料型別轉換(Data Type Conversion)"
   ]
  },
  {
   "cell_type": "markdown",
   "metadata": {},
   "source": [
    "每一筆資料都有資料型別，以至於編譯器或直譯器知道如何處理資料，資料型別定義資料的運用，以及資料儲存的結構。"
   ]
  },
  {
   "cell_type": "markdown",
   "metadata": {},
   "source": [
    "### 自然與強制資料型別轉換\n",
    "Pyhton中資料型別的轉換有二種方式，一種是要求直譯器強制地執行資料型別轉換，另一為直譯器自動地轉換資料型別。第一種方式稱為強制轉換，第二種方式稱為自然轉換。"
   ]
  },
  {
   "cell_type": "markdown",
   "metadata": {},
   "source": [
    "#### 自然資料型別轉換\n",
    "在程式執行時，直譯器會根據資料型別自動轉換。如下例"
   ]
  },
  {
   "cell_type": "code",
   "execution_count": 1,
   "metadata": {},
   "outputs": [
    {
     "name": "stdout",
     "output_type": "stream",
     "text": [
      "3.0 <class 'float'>\n"
     ]
    }
   ],
   "source": [
    "a = 1\n",
    "b = 2.0\n",
    "c = a+b\n",
    "print(c, type(c))"
   ]
  },
  {
   "cell_type": "markdown",
   "metadata": {},
   "source": [
    "上例中，a 為整數，b 為浮點數，c 為 a, b二數之和，整數加浮點數的結果，python自動將其轉換為浮點數。\n",
    "\n",
    ">**為何不是轉換為整數呢？**\n",
    "\n",
    "這牽涉程式語言的設計概念，是一種直譯器防衛機制，將資料型別轉換為較高的型別以防止資料損失精確度。"
   ]
  },
  {
   "cell_type": "markdown",
   "metadata": {},
   "source": [
    "#### 強制資料型別轉換"
   ]
  },
  {
   "cell_type": "markdown",
   "metadata": {},
   "source": [
    "強制資料型別轉換又可稱為「Type casting」，當程式中明確地需要何種資料型別時，可以利用資料型別轉換函數對資料或運算式進行轉換。通常以下列形式\n",
    "\n",
    "> (資料型別) (資料運算)\n",
    "\n",
    "當然，如前述強制轉換時可能損失資料精確度。"
   ]
  },
  {
   "cell_type": "markdown",
   "metadata": {
    "collapsed": true
   },
   "source": [
    "#### 整數轉浮點數"
   ]
  },
  {
   "cell_type": "code",
   "execution_count": 2,
   "metadata": {},
   "outputs": [
    {
     "name": "stdout",
     "output_type": "stream",
     "text": [
      "3 <class 'int'>\n",
      "3.0 <class 'float'>\n"
     ]
    }
   ],
   "source": [
    "a = 1\n",
    "b = 2\n",
    "c = float(a+b)\n",
    "print(a+b, type(a+b))\n",
    "print(c, type(c))"
   ]
  },
  {
   "cell_type": "markdown",
   "metadata": {
    "collapsed": true
   },
   "source": [
    "浮點數轉整數"
   ]
  },
  {
   "cell_type": "code",
   "execution_count": 4,
   "metadata": {},
   "outputs": [
    {
     "name": "stdout",
     "output_type": "stream",
     "text": [
      "1.575757575757576 <class 'float'>\n",
      "1 <class 'int'>\n"
     ]
    }
   ],
   "source": [
    "a = 5.2\n",
    "b = 3.3\n",
    "c = int(a/b)\n",
    "print(a/b, type(a+b))\n",
    "print(c, type(c))"
   ]
  },
  {
   "cell_type": "markdown",
   "metadata": {
    "collapsed": true
   },
   "source": [
    "### 課堂練習\n",
    "a = 3 <br>\n",
    "b = 2 <br>\n",
    "c = 3/2 ? <br>\n",
    "如何將c轉換為整數？ <br>"
   ]
  },
  {
   "cell_type": "markdown",
   "metadata": {
    "collapsed": true
   },
   "source": [
    "#### 字串轉換函數"
   ]
  },
  {
   "cell_type": "code",
   "execution_count": 18,
   "metadata": {},
   "outputs": [
    {
     "ename": "TypeError",
     "evalue": "must be str, not float",
     "output_type": "error",
     "traceback": [
      "\u001b[0;31m---------------------------------------------------------------------------\u001b[0m",
      "\u001b[0;31mTypeError\u001b[0m                                 Traceback (most recent call last)",
      "\u001b[0;32m<ipython-input-18-84eb68cd7d11>\u001b[0m in \u001b[0;36m<module>\u001b[0;34m()\u001b[0m\n\u001b[1;32m      2\u001b[0m \u001b[0megg\u001b[0m \u001b[0;34m=\u001b[0m \u001b[0;36m8\u001b[0m\u001b[0;34m\u001b[0m\u001b[0m\n\u001b[1;32m      3\u001b[0m \u001b[0mtotal\u001b[0m \u001b[0;34m=\u001b[0m \u001b[0;36m45\u001b[0m \u001b[0;34m+\u001b[0m \u001b[0;36m8\u001b[0m\u001b[0;34m\u001b[0m\u001b[0m\n\u001b[0;32m----> 4\u001b[0;31m \u001b[0mprint\u001b[0m\u001b[0;34m(\u001b[0m\u001b[0;34m\"蘋果+雞蛋=\"\u001b[0m\u001b[0;34m+\u001b[0m \u001b[0;36m3.3\u001b[0m \u001b[0;34m+\u001b[0m \u001b[0;34m\"元\"\u001b[0m\u001b[0;34m)\u001b[0m\u001b[0;34m\u001b[0m\u001b[0m\n\u001b[0m",
      "\u001b[0;31mTypeError\u001b[0m: must be str, not float"
     ]
    }
   ],
   "source": [
    "apple = 45\n",
    "egg = 8\n",
    "total = 45 + 8\n",
    "print(\"蘋果+雞蛋=\"+ total + \"元\")"
   ]
  },
  {
   "cell_type": "code",
   "execution_count": 17,
   "metadata": {},
   "outputs": [
    {
     "name": "stdout",
     "output_type": "stream",
     "text": [
      "蘋果+雞蛋=53元\n"
     ]
    }
   ],
   "source": [
    "apple = 45\n",
    "egg = 8\n",
    "total = 45 + 8\n",
    "print(\"蘋果+雞蛋=\"+ str(total)+ \"元\")"
   ]
  },
  {
   "cell_type": "markdown",
   "metadata": {},
   "source": [
    "> 字串與數值資料結合會發生型別轉換錯誤，因此必須將total先轉換成字串(str(total))，再與`\"蘋果+雞蛋=\"+str(total)+\"元“`結合一起。"
   ]
  },
  {
   "cell_type": "code",
   "execution_count": 20,
   "metadata": {},
   "outputs": [
    {
     "name": "stdout",
     "output_type": "stream",
     "text": [
      "1 2 3\n",
      "6\n",
      "123\n"
     ]
    }
   ],
   "source": [
    "a = 1; b = 2; c = 3\n",
    "print(a, b, c)              #三個整數\n",
    "print(a+b+c)                #三個整數和\n",
    "print(str(a)+str(b)+str(c)) #三個字串連結"
   ]
  },
  {
   "cell_type": "markdown",
   "metadata": {},
   "source": [
    "#### 字串轉整數"
   ]
  },
  {
   "cell_type": "code",
   "execution_count": 21,
   "metadata": {},
   "outputs": [
    {
     "name": "stdout",
     "output_type": "stream",
     "text": [
      "9\n"
     ]
    },
    {
     "ename": "ValueError",
     "evalue": "invalid literal for int() with base 10: 'nine'",
     "output_type": "error",
     "traceback": [
      "\u001b[0;31m---------------------------------------------------------------------------\u001b[0m",
      "\u001b[0;31mValueError\u001b[0m                                Traceback (most recent call last)",
      "\u001b[0;32m<ipython-input-21-f317196acbf4>\u001b[0m in \u001b[0;36m<module>\u001b[0;34m()\u001b[0m\n\u001b[1;32m      2\u001b[0m \u001b[0mprint\u001b[0m\u001b[0;34m(\u001b[0m\u001b[0mint\u001b[0m\u001b[0;34m(\u001b[0m\u001b[0ma\u001b[0m\u001b[0;34m)\u001b[0m\u001b[0;34m)\u001b[0m\u001b[0;34m\u001b[0m\u001b[0m\n\u001b[1;32m      3\u001b[0m \u001b[0mb\u001b[0m \u001b[0;34m=\u001b[0m \u001b[0;34m\"nine\"\u001b[0m\u001b[0;34m\u001b[0m\u001b[0m\n\u001b[0;32m----> 4\u001b[0;31m \u001b[0mprint\u001b[0m\u001b[0;34m(\u001b[0m\u001b[0mint\u001b[0m\u001b[0;34m(\u001b[0m\u001b[0mb\u001b[0m\u001b[0;34m)\u001b[0m\u001b[0;34m)\u001b[0m\u001b[0;34m\u001b[0m\u001b[0m\n\u001b[0m",
      "\u001b[0;31mValueError\u001b[0m: invalid literal for int() with base 10: 'nine'"
     ]
    }
   ],
   "source": [
    "a = '9'\n",
    "print(int(a))\n",
    "b = \"nine\"\n",
    "print(int(b))"
   ]
  },
  {
   "cell_type": "markdown",
   "metadata": {},
   "source": [
    "#### 二進位、八進位、16進位數轉換"
   ]
  },
  {
   "cell_type": "markdown",
   "metadata": {},
   "source": [
    "> 二進位數 = 1001111 <br>\n",
    "> 十進位數 = (1*(2^6)) + (0*(2^5)) + (0*(2^4)) + (1*(2^3)) + (1*(2^2)) + (1*(2^1)) + (1*(2^0)) = 79"
   ]
  },
  {
   "cell_type": "code",
   "execution_count": 28,
   "metadata": {},
   "outputs": [
    {
     "name": "stdout",
     "output_type": "stream",
     "text": [
      "<class 'str'>\n",
      "0b1001111\n"
     ]
    }
   ],
   "source": [
    "a = 79\n",
    "bin_a = bin(79) #二進位\n",
    "print(bin_a)"
   ]
  },
  {
   "cell_type": "code",
   "execution_count": 29,
   "metadata": {},
   "outputs": [
    {
     "name": "stdout",
     "output_type": "stream",
     "text": [
      "79\n"
     ]
    }
   ],
   "source": [
    "b = int('0b1001111', 2)\n",
    "print(b)"
   ]
  },
  {
   "cell_type": "code",
   "execution_count": 30,
   "metadata": {},
   "outputs": [
    {
     "name": "stdout",
     "output_type": "stream",
     "text": [
      "0o117\n"
     ]
    }
   ],
   "source": [
    "a = 79\n",
    "oct_a = oct(a) #八進位\n",
    "print(oct_a)"
   ]
  },
  {
   "cell_type": "code",
   "execution_count": 32,
   "metadata": {},
   "outputs": [
    {
     "name": "stdout",
     "output_type": "stream",
     "text": [
      "79\n"
     ]
    }
   ],
   "source": [
    "b = int('0o117',8)\n",
    "print(b)"
   ]
  },
  {
   "cell_type": "code",
   "execution_count": 33,
   "metadata": {},
   "outputs": [
    {
     "name": "stdout",
     "output_type": "stream",
     "text": [
      "0x4f\n"
     ]
    }
   ],
   "source": [
    "a = 79\n",
    "hex_a = hex(a) #16進位\n",
    "print(hex_a)"
   ]
  },
  {
   "cell_type": "code",
   "execution_count": 34,
   "metadata": {},
   "outputs": [
    {
     "name": "stdout",
     "output_type": "stream",
     "text": [
      "79\n"
     ]
    }
   ],
   "source": [
    "b = int('0x4f', 16)\n",
    "print(b)"
   ]
  },
  {
   "cell_type": "code",
   "execution_count": null,
   "metadata": {},
   "outputs": [],
   "source": []
  }
 ],
 "metadata": {
  "kernelspec": {
   "display_name": "Python 3",
   "language": "python",
   "name": "python3"
  },
  "language_info": {
   "codemirror_mode": {
    "name": "ipython",
    "version": 3
   },
   "file_extension": ".py",
   "mimetype": "text/x-python",
   "name": "python",
   "nbconvert_exporter": "python",
   "pygments_lexer": "ipython3",
   "version": "3.6.5"
  }
 },
 "nbformat": 4,
 "nbformat_minor": 2
}
